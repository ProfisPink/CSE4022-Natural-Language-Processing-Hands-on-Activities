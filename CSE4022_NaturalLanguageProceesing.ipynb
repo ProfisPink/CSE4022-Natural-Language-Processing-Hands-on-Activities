{
  "nbformat": 4,
  "nbformat_minor": 0,
  "metadata": {
    "colab": {
      "name": "CSE4022-NaturalLanguageProceesing.ipynb",
      "provenance": []
    },
    "kernelspec": {
      "name": "python3",
      "display_name": "Python 3"
    }
  },
  "cells": [
    {
      "cell_type": "markdown",
      "metadata": {
        "id": "3s2SRUBetsTf"
      },
      "source": [
        ""
      ]
    },
    {
      "cell_type": "markdown",
      "metadata": {
        "id": "eHyZX5doCBeS"
      },
      "source": [
        ""
      ]
    },
    {
      "cell_type": "markdown",
      "metadata": {
        "id": "H9oW7LUp831a"
      },
      "source": [
        "# Task 1- Lexicons \n",
        "# Stop Words:"
      ]
    },
    {
      "cell_type": "markdown",
      "metadata": {
        "id": "JiABsBYptvcq"
      },
      "source": [
        "Inaugural Speech of Presidents"
      ]
    },
    {
      "cell_type": "code",
      "metadata": {
        "id": "phO7KILVtzJh",
        "outputId": "963d4497-fcc4-443a-c25a-b51ba6a9b225",
        "colab": {
          "base_uri": "https://localhost:8080/",
          "height": 1000
        }
      },
      "source": [
        "import nltk\n",
        "nltk.download('book')\n",
        "#or\n",
        "nltk.download('tests')\n",
        "#or\n",
        "nltk.download('all-corpora')# not recommended as it download huge amount of data."
      ],
      "execution_count": null,
      "outputs": [
        {
          "output_type": "stream",
          "text": [
            "[nltk_data] Downloading collection 'book'\n",
            "[nltk_data]    | \n",
            "[nltk_data]    | Downloading package abc to /root/nltk_data...\n",
            "[nltk_data]    |   Unzipping corpora/abc.zip.\n",
            "[nltk_data]    | Downloading package brown to /root/nltk_data...\n",
            "[nltk_data]    |   Unzipping corpora/brown.zip.\n",
            "[nltk_data]    | Downloading package chat80 to /root/nltk_data...\n",
            "[nltk_data]    |   Unzipping corpora/chat80.zip.\n",
            "[nltk_data]    | Downloading package cmudict to /root/nltk_data...\n",
            "[nltk_data]    |   Unzipping corpora/cmudict.zip.\n",
            "[nltk_data]    | Downloading package conll2000 to /root/nltk_data...\n",
            "[nltk_data]    |   Unzipping corpora/conll2000.zip.\n",
            "[nltk_data]    | Downloading package conll2002 to /root/nltk_data...\n",
            "[nltk_data]    |   Unzipping corpora/conll2002.zip.\n",
            "[nltk_data]    | Downloading package dependency_treebank to\n",
            "[nltk_data]    |     /root/nltk_data...\n",
            "[nltk_data]    |   Unzipping corpora/dependency_treebank.zip.\n",
            "[nltk_data]    | Downloading package genesis to /root/nltk_data...\n",
            "[nltk_data]    |   Unzipping corpora/genesis.zip.\n",
            "[nltk_data]    | Downloading package gutenberg to /root/nltk_data...\n",
            "[nltk_data]    |   Unzipping corpora/gutenberg.zip.\n",
            "[nltk_data]    | Downloading package ieer to /root/nltk_data...\n",
            "[nltk_data]    |   Unzipping corpora/ieer.zip.\n",
            "[nltk_data]    | Downloading package inaugural to /root/nltk_data...\n",
            "[nltk_data]    |   Unzipping corpora/inaugural.zip.\n",
            "[nltk_data]    | Downloading package movie_reviews to\n",
            "[nltk_data]    |     /root/nltk_data...\n",
            "[nltk_data]    |   Unzipping corpora/movie_reviews.zip.\n",
            "[nltk_data]    | Downloading package nps_chat to /root/nltk_data...\n",
            "[nltk_data]    |   Unzipping corpora/nps_chat.zip.\n",
            "[nltk_data]    | Downloading package names to /root/nltk_data...\n",
            "[nltk_data]    |   Unzipping corpora/names.zip.\n",
            "[nltk_data]    | Downloading package ppattach to /root/nltk_data...\n",
            "[nltk_data]    |   Unzipping corpora/ppattach.zip.\n",
            "[nltk_data]    | Downloading package reuters to /root/nltk_data...\n",
            "[nltk_data]    | Downloading package senseval to /root/nltk_data...\n",
            "[nltk_data]    |   Unzipping corpora/senseval.zip.\n",
            "[nltk_data]    | Downloading package state_union to /root/nltk_data...\n",
            "[nltk_data]    |   Unzipping corpora/state_union.zip.\n",
            "[nltk_data]    | Downloading package stopwords to /root/nltk_data...\n",
            "[nltk_data]    |   Unzipping corpora/stopwords.zip.\n",
            "[nltk_data]    | Downloading package swadesh to /root/nltk_data...\n",
            "[nltk_data]    |   Unzipping corpora/swadesh.zip.\n",
            "[nltk_data]    | Downloading package timit to /root/nltk_data...\n",
            "[nltk_data]    |   Unzipping corpora/timit.zip.\n",
            "[nltk_data]    | Downloading package treebank to /root/nltk_data...\n",
            "[nltk_data]    |   Unzipping corpora/treebank.zip.\n",
            "[nltk_data]    | Downloading package toolbox to /root/nltk_data...\n",
            "[nltk_data]    |   Unzipping corpora/toolbox.zip.\n",
            "[nltk_data]    | Downloading package udhr to /root/nltk_data...\n",
            "[nltk_data]    |   Unzipping corpora/udhr.zip.\n",
            "[nltk_data]    | Downloading package udhr2 to /root/nltk_data...\n",
            "[nltk_data]    |   Unzipping corpora/udhr2.zip.\n",
            "[nltk_data]    | Downloading package unicode_samples to\n",
            "[nltk_data]    |     /root/nltk_data...\n",
            "[nltk_data]    |   Unzipping corpora/unicode_samples.zip.\n",
            "[nltk_data]    | Downloading package webtext to /root/nltk_data...\n",
            "[nltk_data]    |   Unzipping corpora/webtext.zip.\n",
            "[nltk_data]    | Downloading package wordnet to /root/nltk_data...\n",
            "[nltk_data]    |   Unzipping corpora/wordnet.zip.\n",
            "[nltk_data]    | Downloading package wordnet_ic to /root/nltk_data...\n",
            "[nltk_data]    |   Unzipping corpora/wordnet_ic.zip.\n",
            "[nltk_data]    | Downloading package words to /root/nltk_data...\n",
            "[nltk_data]    |   Unzipping corpora/words.zip.\n",
            "[nltk_data]    | Downloading package maxent_treebank_pos_tagger to\n",
            "[nltk_data]    |     /root/nltk_data...\n",
            "[nltk_data]    |   Unzipping taggers/maxent_treebank_pos_tagger.zip.\n",
            "[nltk_data]    | Downloading package maxent_ne_chunker to\n",
            "[nltk_data]    |     /root/nltk_data...\n",
            "[nltk_data]    |   Unzipping chunkers/maxent_ne_chunker.zip.\n",
            "[nltk_data]    | Downloading package universal_tagset to\n",
            "[nltk_data]    |     /root/nltk_data...\n",
            "[nltk_data]    |   Unzipping taggers/universal_tagset.zip.\n",
            "[nltk_data]    | Downloading package punkt to /root/nltk_data...\n",
            "[nltk_data]    |   Unzipping tokenizers/punkt.zip.\n",
            "[nltk_data]    | Downloading package book_grammars to\n",
            "[nltk_data]    |     /root/nltk_data...\n",
            "[nltk_data]    |   Unzipping grammars/book_grammars.zip.\n",
            "[nltk_data]    | Downloading package city_database to\n",
            "[nltk_data]    |     /root/nltk_data...\n",
            "[nltk_data]    |   Unzipping corpora/city_database.zip.\n",
            "[nltk_data]    | Downloading package tagsets to /root/nltk_data...\n",
            "[nltk_data]    |   Unzipping help/tagsets.zip.\n",
            "[nltk_data]    | Downloading package panlex_swadesh to\n",
            "[nltk_data]    |     /root/nltk_data...\n",
            "[nltk_data]    | Downloading package averaged_perceptron_tagger to\n",
            "[nltk_data]    |     /root/nltk_data...\n",
            "[nltk_data]    |   Unzipping taggers/averaged_perceptron_tagger.zip.\n",
            "[nltk_data]    | \n",
            "[nltk_data]  Done downloading collection book\n",
            "[nltk_data] Downloading collection 'tests'\n",
            "[nltk_data]    | \n",
            "[nltk_data]    | Downloading package averaged_perceptron_tagger to\n",
            "[nltk_data]    |     /root/nltk_data...\n",
            "[nltk_data]    |   Package averaged_perceptron_tagger is already up-\n",
            "[nltk_data]    |       to-date!\n",
            "[nltk_data]    | Downloading package porter_test to /root/nltk_data...\n",
            "[nltk_data]    |   Unzipping stemmers/porter_test.zip.\n",
            "[nltk_data]    | Downloading package twitter_samples to\n",
            "[nltk_data]    |     /root/nltk_data...\n",
            "[nltk_data]    |   Unzipping corpora/twitter_samples.zip.\n",
            "[nltk_data]    | Downloading package wmt15_eval to /root/nltk_data...\n",
            "[nltk_data]    |   Unzipping models/wmt15_eval.zip.\n",
            "[nltk_data]    | Downloading package subjectivity to\n",
            "[nltk_data]    |     /root/nltk_data...\n",
            "[nltk_data]    |   Unzipping corpora/subjectivity.zip.\n",
            "[nltk_data]    | Downloading package framenet_v17 to\n",
            "[nltk_data]    |     /root/nltk_data...\n",
            "[nltk_data]    |   Unzipping corpora/framenet_v17.zip.\n",
            "[nltk_data]    | Downloading package product_reviews_1 to\n",
            "[nltk_data]    |     /root/nltk_data...\n",
            "[nltk_data]    |   Unzipping corpora/product_reviews_1.zip.\n",
            "[nltk_data]    | Downloading package product_reviews_2 to\n",
            "[nltk_data]    |     /root/nltk_data...\n",
            "[nltk_data]    |   Unzipping corpora/product_reviews_2.zip.\n",
            "[nltk_data]    | Downloading package vader_lexicon to\n",
            "[nltk_data]    |     /root/nltk_data...\n",
            "[nltk_data]    | Downloading package crubadan to /root/nltk_data...\n",
            "[nltk_data]    |   Unzipping corpora/crubadan.zip.\n",
            "[nltk_data]    | Downloading package mte_teip5 to /root/nltk_data...\n",
            "[nltk_data]    |   Unzipping corpora/mte_teip5.zip.\n",
            "[nltk_data]    | Downloading package sentence_polarity to\n",
            "[nltk_data]    |     /root/nltk_data...\n",
            "[nltk_data]    |   Unzipping corpora/sentence_polarity.zip.\n",
            "[nltk_data]    | Downloading package universal_treebanks_v20 to\n",
            "[nltk_data]    |     /root/nltk_data...\n",
            "[nltk_data]    | Downloading package panlex_swadesh to\n",
            "[nltk_data]    |     /root/nltk_data...\n",
            "[nltk_data]    |   Package panlex_swadesh is already up-to-date!\n",
            "[nltk_data]    | Downloading package nonbreaking_prefixes to\n",
            "[nltk_data]    |     /root/nltk_data...\n",
            "[nltk_data]    |   Unzipping corpora/nonbreaking_prefixes.zip.\n",
            "[nltk_data]    | Downloading package perluniprops to\n",
            "[nltk_data]    |     /root/nltk_data...\n",
            "[nltk_data]    |   Unzipping misc/perluniprops.zip.\n",
            "[nltk_data]    | Downloading package pros_cons to /root/nltk_data...\n",
            "[nltk_data]    |   Unzipping corpora/pros_cons.zip.\n",
            "[nltk_data]    | Downloading package opinion_lexicon to\n",
            "[nltk_data]    |     /root/nltk_data...\n",
            "[nltk_data]    |   Unzipping corpora/opinion_lexicon.zip.\n",
            "[nltk_data]    | Downloading package comparative_sentences to\n",
            "[nltk_data]    |     /root/nltk_data...\n",
            "[nltk_data]    |   Unzipping corpora/comparative_sentences.zip.\n",
            "[nltk_data]    | \n",
            "[nltk_data]  Done downloading collection tests\n",
            "[nltk_data] Downloading collection 'all-corpora'\n",
            "[nltk_data]    | \n",
            "[nltk_data]    | Downloading package abc to /root/nltk_data...\n",
            "[nltk_data]    |   Package abc is already up-to-date!\n",
            "[nltk_data]    | Downloading package alpino to /root/nltk_data...\n",
            "[nltk_data]    |   Unzipping corpora/alpino.zip.\n",
            "[nltk_data]    | Downloading package biocreative_ppi to\n",
            "[nltk_data]    |     /root/nltk_data...\n",
            "[nltk_data]    |   Unzipping corpora/biocreative_ppi.zip.\n",
            "[nltk_data]    | Downloading package brown to /root/nltk_data...\n",
            "[nltk_data]    |   Package brown is already up-to-date!\n",
            "[nltk_data]    | Downloading package brown_tei to /root/nltk_data...\n",
            "[nltk_data]    |   Unzipping corpora/brown_tei.zip.\n",
            "[nltk_data]    | Downloading package cess_cat to /root/nltk_data...\n",
            "[nltk_data]    |   Unzipping corpora/cess_cat.zip.\n",
            "[nltk_data]    | Downloading package cess_esp to /root/nltk_data...\n",
            "[nltk_data]    |   Unzipping corpora/cess_esp.zip.\n",
            "[nltk_data]    | Downloading package chat80 to /root/nltk_data...\n",
            "[nltk_data]    |   Package chat80 is already up-to-date!\n",
            "[nltk_data]    | Downloading package city_database to\n",
            "[nltk_data]    |     /root/nltk_data...\n",
            "[nltk_data]    |   Package city_database is already up-to-date!\n",
            "[nltk_data]    | Downloading package cmudict to /root/nltk_data...\n",
            "[nltk_data]    |   Package cmudict is already up-to-date!\n",
            "[nltk_data]    | Downloading package comtrans to /root/nltk_data...\n",
            "[nltk_data]    | Downloading package conll2000 to /root/nltk_data...\n",
            "[nltk_data]    |   Package conll2000 is already up-to-date!\n",
            "[nltk_data]    | Downloading package conll2002 to /root/nltk_data...\n",
            "[nltk_data]    |   Package conll2002 is already up-to-date!\n",
            "[nltk_data]    | Downloading package conll2007 to /root/nltk_data...\n",
            "[nltk_data]    | Downloading package crubadan to /root/nltk_data...\n",
            "[nltk_data]    |   Package crubadan is already up-to-date!\n",
            "[nltk_data]    | Downloading package dependency_treebank to\n",
            "[nltk_data]    |     /root/nltk_data...\n",
            "[nltk_data]    |   Package dependency_treebank is already up-to-date!\n",
            "[nltk_data]    | Downloading package dolch to /root/nltk_data...\n",
            "[nltk_data]    |   Unzipping corpora/dolch.zip.\n",
            "[nltk_data]    | Downloading package floresta to /root/nltk_data...\n",
            "[nltk_data]    |   Unzipping corpora/floresta.zip.\n",
            "[nltk_data]    | Downloading package framenet_v15 to\n",
            "[nltk_data]    |     /root/nltk_data...\n",
            "[nltk_data]    |   Unzipping corpora/framenet_v15.zip.\n",
            "[nltk_data]    | Downloading package framenet_v17 to\n",
            "[nltk_data]    |     /root/nltk_data...\n",
            "[nltk_data]    |   Package framenet_v17 is already up-to-date!\n",
            "[nltk_data]    | Downloading package gazetteers to /root/nltk_data...\n",
            "[nltk_data]    |   Unzipping corpora/gazetteers.zip.\n",
            "[nltk_data]    | Downloading package genesis to /root/nltk_data...\n",
            "[nltk_data]    |   Package genesis is already up-to-date!\n",
            "[nltk_data]    | Downloading package gutenberg to /root/nltk_data...\n",
            "[nltk_data]    |   Package gutenberg is already up-to-date!\n",
            "[nltk_data]    | Downloading package ieer to /root/nltk_data...\n",
            "[nltk_data]    |   Package ieer is already up-to-date!\n",
            "[nltk_data]    | Downloading package inaugural to /root/nltk_data...\n",
            "[nltk_data]    |   Package inaugural is already up-to-date!\n",
            "[nltk_data]    | Downloading package indian to /root/nltk_data...\n",
            "[nltk_data]    |   Unzipping corpora/indian.zip.\n",
            "[nltk_data]    | Downloading package jeita to /root/nltk_data...\n",
            "[nltk_data]    | Downloading package kimmo to /root/nltk_data...\n",
            "[nltk_data]    |   Unzipping corpora/kimmo.zip.\n",
            "[nltk_data]    | Downloading package knbc to /root/nltk_data...\n",
            "[nltk_data]    | Downloading package lin_thesaurus to\n",
            "[nltk_data]    |     /root/nltk_data...\n",
            "[nltk_data]    |   Unzipping corpora/lin_thesaurus.zip.\n",
            "[nltk_data]    | Downloading package mac_morpho to /root/nltk_data...\n",
            "[nltk_data]    |   Unzipping corpora/mac_morpho.zip.\n",
            "[nltk_data]    | Downloading package machado to /root/nltk_data...\n",
            "[nltk_data]    | Downloading package masc_tagged to /root/nltk_data...\n",
            "[nltk_data]    | Downloading package movie_reviews to\n",
            "[nltk_data]    |     /root/nltk_data...\n",
            "[nltk_data]    |   Package movie_reviews is already up-to-date!\n",
            "[nltk_data]    | Downloading package names to /root/nltk_data...\n",
            "[nltk_data]    |   Package names is already up-to-date!\n",
            "[nltk_data]    | Downloading package nombank.1.0 to /root/nltk_data...\n",
            "[nltk_data]    | Downloading package nps_chat to /root/nltk_data...\n",
            "[nltk_data]    |   Package nps_chat is already up-to-date!\n",
            "[nltk_data]    | Downloading package omw to /root/nltk_data...\n",
            "[nltk_data]    |   Unzipping corpora/omw.zip.\n",
            "[nltk_data]    | Downloading package paradigms to /root/nltk_data...\n",
            "[nltk_data]    |   Unzipping corpora/paradigms.zip.\n",
            "[nltk_data]    | Downloading package pil to /root/nltk_data...\n",
            "[nltk_data]    |   Unzipping corpora/pil.zip.\n",
            "[nltk_data]    | Downloading package pl196x to /root/nltk_data...\n",
            "[nltk_data]    |   Unzipping corpora/pl196x.zip.\n",
            "[nltk_data]    | Downloading package ppattach to /root/nltk_data...\n",
            "[nltk_data]    |   Package ppattach is already up-to-date!\n",
            "[nltk_data]    | Downloading package problem_reports to\n",
            "[nltk_data]    |     /root/nltk_data...\n",
            "[nltk_data]    |   Unzipping corpora/problem_reports.zip.\n",
            "[nltk_data]    | Downloading package propbank to /root/nltk_data...\n",
            "[nltk_data]    | Downloading package ptb to /root/nltk_data...\n",
            "[nltk_data]    |   Unzipping corpora/ptb.zip.\n",
            "[nltk_data]    | Downloading package qc to /root/nltk_data...\n",
            "[nltk_data]    |   Unzipping corpora/qc.zip.\n",
            "[nltk_data]    | Downloading package reuters to /root/nltk_data...\n",
            "[nltk_data]    |   Package reuters is already up-to-date!\n",
            "[nltk_data]    | Downloading package rte to /root/nltk_data...\n",
            "[nltk_data]    |   Unzipping corpora/rte.zip.\n",
            "[nltk_data]    | Downloading package semcor to /root/nltk_data...\n",
            "[nltk_data]    | Downloading package senseval to /root/nltk_data...\n",
            "[nltk_data]    |   Package senseval is already up-to-date!\n",
            "[nltk_data]    | Downloading package sentiwordnet to\n",
            "[nltk_data]    |     /root/nltk_data...\n",
            "[nltk_data]    |   Unzipping corpora/sentiwordnet.zip.\n",
            "[nltk_data]    | Downloading package shakespeare to /root/nltk_data...\n",
            "[nltk_data]    |   Unzipping corpora/shakespeare.zip.\n",
            "[nltk_data]    | Downloading package sinica_treebank to\n",
            "[nltk_data]    |     /root/nltk_data...\n",
            "[nltk_data]    |   Unzipping corpora/sinica_treebank.zip.\n",
            "[nltk_data]    | Downloading package state_union to /root/nltk_data...\n",
            "[nltk_data]    |   Package state_union is already up-to-date!\n",
            "[nltk_data]    | Downloading package stopwords to /root/nltk_data...\n",
            "[nltk_data]    |   Package stopwords is already up-to-date!\n",
            "[nltk_data]    | Downloading package swadesh to /root/nltk_data...\n",
            "[nltk_data]    |   Package swadesh is already up-to-date!\n",
            "[nltk_data]    | Downloading package switchboard to /root/nltk_data...\n",
            "[nltk_data]    |   Unzipping corpora/switchboard.zip.\n",
            "[nltk_data]    | Downloading package timit to /root/nltk_data...\n",
            "[nltk_data]    |   Package timit is already up-to-date!\n",
            "[nltk_data]    | Downloading package toolbox to /root/nltk_data...\n",
            "[nltk_data]    |   Package toolbox is already up-to-date!\n",
            "[nltk_data]    | Downloading package treebank to /root/nltk_data...\n",
            "[nltk_data]    |   Package treebank is already up-to-date!\n",
            "[nltk_data]    | Downloading package udhr to /root/nltk_data...\n",
            "[nltk_data]    |   Package udhr is already up-to-date!\n",
            "[nltk_data]    | Downloading package udhr2 to /root/nltk_data...\n",
            "[nltk_data]    |   Package udhr2 is already up-to-date!\n",
            "[nltk_data]    | Downloading package unicode_samples to\n",
            "[nltk_data]    |     /root/nltk_data...\n",
            "[nltk_data]    |   Package unicode_samples is already up-to-date!\n",
            "[nltk_data]    | Downloading package universal_treebanks_v20 to\n",
            "[nltk_data]    |     /root/nltk_data...\n",
            "[nltk_data]    |   Package universal_treebanks_v20 is already up-to-\n",
            "[nltk_data]    |       date!\n",
            "[nltk_data]    | Downloading package verbnet to /root/nltk_data...\n",
            "[nltk_data]    |   Unzipping corpora/verbnet.zip.\n",
            "[nltk_data]    | Downloading package verbnet3 to /root/nltk_data...\n",
            "[nltk_data]    |   Unzipping corpora/verbnet3.zip.\n",
            "[nltk_data]    | Downloading package webtext to /root/nltk_data...\n",
            "[nltk_data]    |   Package webtext is already up-to-date!\n",
            "[nltk_data]    | Downloading package wordnet to /root/nltk_data...\n",
            "[nltk_data]    |   Package wordnet is already up-to-date!\n",
            "[nltk_data]    | Downloading package wordnet_ic to /root/nltk_data...\n",
            "[nltk_data]    |   Package wordnet_ic is already up-to-date!\n",
            "[nltk_data]    | Downloading package words to /root/nltk_data...\n",
            "[nltk_data]    |   Package words is already up-to-date!\n",
            "[nltk_data]    | Downloading package ycoe to /root/nltk_data...\n",
            "[nltk_data]    |   Unzipping corpora/ycoe.zip.\n",
            "[nltk_data]    | Downloading package panlex_swadesh to\n",
            "[nltk_data]    |     /root/nltk_data...\n",
            "[nltk_data]    |   Package panlex_swadesh is already up-to-date!\n",
            "[nltk_data]    | Downloading package mte_teip5 to /root/nltk_data...\n",
            "[nltk_data]    |   Package mte_teip5 is already up-to-date!\n",
            "[nltk_data]    | Downloading package nonbreaking_prefixes to\n",
            "[nltk_data]    |     /root/nltk_data...\n",
            "[nltk_data]    |   Package nonbreaking_prefixes is already up-to-date!\n",
            "[nltk_data]    | \n",
            "[nltk_data]  Done downloading collection all-corpora\n"
          ],
          "name": "stdout"
        },
        {
          "output_type": "execute_result",
          "data": {
            "text/plain": [
              "True"
            ]
          },
          "metadata": {
            "tags": []
          },
          "execution_count": 3
        }
      ]
    },
    {
      "cell_type": "code",
      "metadata": {
        "id": "rI-R_54kvlLk",
        "outputId": "582ee260-a820-40ac-e98a-ad36d72f8ebc",
        "colab": {
          "base_uri": "https://localhost:8080/",
          "height": 1000
        }
      },
      "source": [
        "\n",
        "import nltk\n",
        "nltk.download('all')"
      ],
      "execution_count": null,
      "outputs": [
        {
          "output_type": "stream",
          "text": [
            "[nltk_data] Downloading collection 'all'\n",
            "[nltk_data]    | \n",
            "[nltk_data]    | Downloading package abc to /root/nltk_data...\n",
            "[nltk_data]    |   Package abc is already up-to-date!\n",
            "[nltk_data]    | Downloading package alpino to /root/nltk_data...\n",
            "[nltk_data]    |   Package alpino is already up-to-date!\n",
            "[nltk_data]    | Downloading package biocreative_ppi to\n",
            "[nltk_data]    |     /root/nltk_data...\n",
            "[nltk_data]    |   Package biocreative_ppi is already up-to-date!\n",
            "[nltk_data]    | Downloading package brown to /root/nltk_data...\n",
            "[nltk_data]    |   Package brown is already up-to-date!\n",
            "[nltk_data]    | Downloading package brown_tei to /root/nltk_data...\n",
            "[nltk_data]    |   Package brown_tei is already up-to-date!\n",
            "[nltk_data]    | Downloading package cess_cat to /root/nltk_data...\n",
            "[nltk_data]    |   Package cess_cat is already up-to-date!\n",
            "[nltk_data]    | Downloading package cess_esp to /root/nltk_data...\n",
            "[nltk_data]    |   Package cess_esp is already up-to-date!\n",
            "[nltk_data]    | Downloading package chat80 to /root/nltk_data...\n",
            "[nltk_data]    |   Package chat80 is already up-to-date!\n",
            "[nltk_data]    | Downloading package city_database to\n",
            "[nltk_data]    |     /root/nltk_data...\n",
            "[nltk_data]    |   Package city_database is already up-to-date!\n",
            "[nltk_data]    | Downloading package cmudict to /root/nltk_data...\n",
            "[nltk_data]    |   Package cmudict is already up-to-date!\n",
            "[nltk_data]    | Downloading package comparative_sentences to\n",
            "[nltk_data]    |     /root/nltk_data...\n",
            "[nltk_data]    |   Package comparative_sentences is already up-to-\n",
            "[nltk_data]    |       date!\n",
            "[nltk_data]    | Downloading package comtrans to /root/nltk_data...\n",
            "[nltk_data]    |   Package comtrans is already up-to-date!\n",
            "[nltk_data]    | Downloading package conll2000 to /root/nltk_data...\n",
            "[nltk_data]    |   Package conll2000 is already up-to-date!\n",
            "[nltk_data]    | Downloading package conll2002 to /root/nltk_data...\n",
            "[nltk_data]    |   Package conll2002 is already up-to-date!\n",
            "[nltk_data]    | Downloading package conll2007 to /root/nltk_data...\n",
            "[nltk_data]    |   Package conll2007 is already up-to-date!\n",
            "[nltk_data]    | Downloading package crubadan to /root/nltk_data...\n",
            "[nltk_data]    |   Package crubadan is already up-to-date!\n",
            "[nltk_data]    | Downloading package dependency_treebank to\n",
            "[nltk_data]    |     /root/nltk_data...\n",
            "[nltk_data]    |   Package dependency_treebank is already up-to-date!\n",
            "[nltk_data]    | Downloading package dolch to /root/nltk_data...\n",
            "[nltk_data]    |   Package dolch is already up-to-date!\n",
            "[nltk_data]    | Downloading package europarl_raw to\n",
            "[nltk_data]    |     /root/nltk_data...\n",
            "[nltk_data]    |   Unzipping corpora/europarl_raw.zip.\n",
            "[nltk_data]    | Downloading package floresta to /root/nltk_data...\n",
            "[nltk_data]    |   Package floresta is already up-to-date!\n",
            "[nltk_data]    | Downloading package framenet_v15 to\n",
            "[nltk_data]    |     /root/nltk_data...\n",
            "[nltk_data]    |   Package framenet_v15 is already up-to-date!\n",
            "[nltk_data]    | Downloading package framenet_v17 to\n",
            "[nltk_data]    |     /root/nltk_data...\n",
            "[nltk_data]    |   Package framenet_v17 is already up-to-date!\n",
            "[nltk_data]    | Downloading package gazetteers to /root/nltk_data...\n",
            "[nltk_data]    |   Package gazetteers is already up-to-date!\n",
            "[nltk_data]    | Downloading package genesis to /root/nltk_data...\n",
            "[nltk_data]    |   Package genesis is already up-to-date!\n",
            "[nltk_data]    | Downloading package gutenberg to /root/nltk_data...\n",
            "[nltk_data]    |   Package gutenberg is already up-to-date!\n",
            "[nltk_data]    | Downloading package ieer to /root/nltk_data...\n",
            "[nltk_data]    |   Package ieer is already up-to-date!\n",
            "[nltk_data]    | Downloading package inaugural to /root/nltk_data...\n",
            "[nltk_data]    |   Package inaugural is already up-to-date!\n",
            "[nltk_data]    | Downloading package indian to /root/nltk_data...\n",
            "[nltk_data]    |   Package indian is already up-to-date!\n",
            "[nltk_data]    | Downloading package jeita to /root/nltk_data...\n",
            "[nltk_data]    |   Package jeita is already up-to-date!\n",
            "[nltk_data]    | Downloading package kimmo to /root/nltk_data...\n",
            "[nltk_data]    |   Package kimmo is already up-to-date!\n",
            "[nltk_data]    | Downloading package knbc to /root/nltk_data...\n",
            "[nltk_data]    |   Package knbc is already up-to-date!\n",
            "[nltk_data]    | Downloading package lin_thesaurus to\n",
            "[nltk_data]    |     /root/nltk_data...\n",
            "[nltk_data]    |   Package lin_thesaurus is already up-to-date!\n",
            "[nltk_data]    | Downloading package mac_morpho to /root/nltk_data...\n",
            "[nltk_data]    |   Package mac_morpho is already up-to-date!\n",
            "[nltk_data]    | Downloading package machado to /root/nltk_data...\n",
            "[nltk_data]    |   Package machado is already up-to-date!\n",
            "[nltk_data]    | Downloading package masc_tagged to /root/nltk_data...\n",
            "[nltk_data]    |   Package masc_tagged is already up-to-date!\n",
            "[nltk_data]    | Downloading package moses_sample to\n",
            "[nltk_data]    |     /root/nltk_data...\n",
            "[nltk_data]    |   Unzipping models/moses_sample.zip.\n",
            "[nltk_data]    | Downloading package movie_reviews to\n",
            "[nltk_data]    |     /root/nltk_data...\n",
            "[nltk_data]    |   Package movie_reviews is already up-to-date!\n",
            "[nltk_data]    | Downloading package names to /root/nltk_data...\n",
            "[nltk_data]    |   Package names is already up-to-date!\n",
            "[nltk_data]    | Downloading package nombank.1.0 to /root/nltk_data...\n",
            "[nltk_data]    |   Package nombank.1.0 is already up-to-date!\n",
            "[nltk_data]    | Downloading package nps_chat to /root/nltk_data...\n",
            "[nltk_data]    |   Package nps_chat is already up-to-date!\n",
            "[nltk_data]    | Downloading package omw to /root/nltk_data...\n",
            "[nltk_data]    |   Package omw is already up-to-date!\n",
            "[nltk_data]    | Downloading package opinion_lexicon to\n",
            "[nltk_data]    |     /root/nltk_data...\n",
            "[nltk_data]    |   Package opinion_lexicon is already up-to-date!\n",
            "[nltk_data]    | Downloading package paradigms to /root/nltk_data...\n",
            "[nltk_data]    |   Package paradigms is already up-to-date!\n",
            "[nltk_data]    | Downloading package pil to /root/nltk_data...\n",
            "[nltk_data]    |   Package pil is already up-to-date!\n",
            "[nltk_data]    | Downloading package pl196x to /root/nltk_data...\n",
            "[nltk_data]    |   Package pl196x is already up-to-date!\n",
            "[nltk_data]    | Downloading package ppattach to /root/nltk_data...\n",
            "[nltk_data]    |   Package ppattach is already up-to-date!\n",
            "[nltk_data]    | Downloading package problem_reports to\n",
            "[nltk_data]    |     /root/nltk_data...\n",
            "[nltk_data]    |   Package problem_reports is already up-to-date!\n",
            "[nltk_data]    | Downloading package propbank to /root/nltk_data...\n",
            "[nltk_data]    |   Package propbank is already up-to-date!\n",
            "[nltk_data]    | Downloading package ptb to /root/nltk_data...\n",
            "[nltk_data]    |   Package ptb is already up-to-date!\n",
            "[nltk_data]    | Downloading package product_reviews_1 to\n",
            "[nltk_data]    |     /root/nltk_data...\n",
            "[nltk_data]    |   Package product_reviews_1 is already up-to-date!\n",
            "[nltk_data]    | Downloading package product_reviews_2 to\n",
            "[nltk_data]    |     /root/nltk_data...\n",
            "[nltk_data]    |   Package product_reviews_2 is already up-to-date!\n",
            "[nltk_data]    | Downloading package pros_cons to /root/nltk_data...\n",
            "[nltk_data]    |   Package pros_cons is already up-to-date!\n",
            "[nltk_data]    | Downloading package qc to /root/nltk_data...\n",
            "[nltk_data]    |   Package qc is already up-to-date!\n",
            "[nltk_data]    | Downloading package reuters to /root/nltk_data...\n",
            "[nltk_data]    |   Package reuters is already up-to-date!\n",
            "[nltk_data]    | Downloading package rte to /root/nltk_data...\n",
            "[nltk_data]    |   Package rte is already up-to-date!\n",
            "[nltk_data]    | Downloading package semcor to /root/nltk_data...\n",
            "[nltk_data]    |   Package semcor is already up-to-date!\n",
            "[nltk_data]    | Downloading package senseval to /root/nltk_data...\n",
            "[nltk_data]    |   Package senseval is already up-to-date!\n",
            "[nltk_data]    | Downloading package sentiwordnet to\n",
            "[nltk_data]    |     /root/nltk_data...\n",
            "[nltk_data]    |   Package sentiwordnet is already up-to-date!\n",
            "[nltk_data]    | Downloading package sentence_polarity to\n",
            "[nltk_data]    |     /root/nltk_data...\n",
            "[nltk_data]    |   Package sentence_polarity is already up-to-date!\n",
            "[nltk_data]    | Downloading package shakespeare to /root/nltk_data...\n",
            "[nltk_data]    |   Package shakespeare is already up-to-date!\n",
            "[nltk_data]    | Downloading package sinica_treebank to\n",
            "[nltk_data]    |     /root/nltk_data...\n",
            "[nltk_data]    |   Package sinica_treebank is already up-to-date!\n",
            "[nltk_data]    | Downloading package smultron to /root/nltk_data...\n",
            "[nltk_data]    |   Unzipping corpora/smultron.zip.\n",
            "[nltk_data]    | Downloading package state_union to /root/nltk_data...\n",
            "[nltk_data]    |   Package state_union is already up-to-date!\n",
            "[nltk_data]    | Downloading package stopwords to /root/nltk_data...\n",
            "[nltk_data]    |   Package stopwords is already up-to-date!\n",
            "[nltk_data]    | Downloading package subjectivity to\n",
            "[nltk_data]    |     /root/nltk_data...\n",
            "[nltk_data]    |   Package subjectivity is already up-to-date!\n",
            "[nltk_data]    | Downloading package swadesh to /root/nltk_data...\n",
            "[nltk_data]    |   Package swadesh is already up-to-date!\n",
            "[nltk_data]    | Downloading package switchboard to /root/nltk_data...\n",
            "[nltk_data]    |   Package switchboard is already up-to-date!\n",
            "[nltk_data]    | Downloading package timit to /root/nltk_data...\n",
            "[nltk_data]    |   Package timit is already up-to-date!\n",
            "[nltk_data]    | Downloading package toolbox to /root/nltk_data...\n",
            "[nltk_data]    |   Package toolbox is already up-to-date!\n",
            "[nltk_data]    | Downloading package treebank to /root/nltk_data...\n",
            "[nltk_data]    |   Package treebank is already up-to-date!\n",
            "[nltk_data]    | Downloading package twitter_samples to\n",
            "[nltk_data]    |     /root/nltk_data...\n",
            "[nltk_data]    |   Package twitter_samples is already up-to-date!\n",
            "[nltk_data]    | Downloading package udhr to /root/nltk_data...\n",
            "[nltk_data]    |   Package udhr is already up-to-date!\n",
            "[nltk_data]    | Downloading package udhr2 to /root/nltk_data...\n",
            "[nltk_data]    |   Package udhr2 is already up-to-date!\n",
            "[nltk_data]    | Downloading package unicode_samples to\n",
            "[nltk_data]    |     /root/nltk_data...\n",
            "[nltk_data]    |   Package unicode_samples is already up-to-date!\n",
            "[nltk_data]    | Downloading package universal_treebanks_v20 to\n",
            "[nltk_data]    |     /root/nltk_data...\n",
            "[nltk_data]    |   Package universal_treebanks_v20 is already up-to-\n",
            "[nltk_data]    |       date!\n",
            "[nltk_data]    | Downloading package verbnet to /root/nltk_data...\n",
            "[nltk_data]    |   Package verbnet is already up-to-date!\n",
            "[nltk_data]    | Downloading package verbnet3 to /root/nltk_data...\n",
            "[nltk_data]    |   Package verbnet3 is already up-to-date!\n",
            "[nltk_data]    | Downloading package webtext to /root/nltk_data...\n",
            "[nltk_data]    |   Package webtext is already up-to-date!\n",
            "[nltk_data]    | Downloading package wordnet to /root/nltk_data...\n",
            "[nltk_data]    |   Package wordnet is already up-to-date!\n",
            "[nltk_data]    | Downloading package wordnet_ic to /root/nltk_data...\n",
            "[nltk_data]    |   Package wordnet_ic is already up-to-date!\n",
            "[nltk_data]    | Downloading package words to /root/nltk_data...\n",
            "[nltk_data]    |   Package words is already up-to-date!\n",
            "[nltk_data]    | Downloading package ycoe to /root/nltk_data...\n",
            "[nltk_data]    |   Package ycoe is already up-to-date!\n",
            "[nltk_data]    | Downloading package rslp to /root/nltk_data...\n",
            "[nltk_data]    |   Unzipping stemmers/rslp.zip.\n",
            "[nltk_data]    | Downloading package maxent_treebank_pos_tagger to\n",
            "[nltk_data]    |     /root/nltk_data...\n",
            "[nltk_data]    |   Package maxent_treebank_pos_tagger is already up-\n",
            "[nltk_data]    |       to-date!\n",
            "[nltk_data]    | Downloading package universal_tagset to\n",
            "[nltk_data]    |     /root/nltk_data...\n",
            "[nltk_data]    |   Package universal_tagset is already up-to-date!\n",
            "[nltk_data]    | Downloading package maxent_ne_chunker to\n",
            "[nltk_data]    |     /root/nltk_data...\n",
            "[nltk_data]    |   Package maxent_ne_chunker is already up-to-date!\n",
            "[nltk_data]    | Downloading package punkt to /root/nltk_data...\n",
            "[nltk_data]    |   Package punkt is already up-to-date!\n",
            "[nltk_data]    | Downloading package book_grammars to\n",
            "[nltk_data]    |     /root/nltk_data...\n",
            "[nltk_data]    |   Package book_grammars is already up-to-date!\n",
            "[nltk_data]    | Downloading package sample_grammars to\n",
            "[nltk_data]    |     /root/nltk_data...\n",
            "[nltk_data]    |   Unzipping grammars/sample_grammars.zip.\n",
            "[nltk_data]    | Downloading package spanish_grammars to\n",
            "[nltk_data]    |     /root/nltk_data...\n",
            "[nltk_data]    |   Unzipping grammars/spanish_grammars.zip.\n",
            "[nltk_data]    | Downloading package basque_grammars to\n",
            "[nltk_data]    |     /root/nltk_data...\n",
            "[nltk_data]    |   Unzipping grammars/basque_grammars.zip.\n",
            "[nltk_data]    | Downloading package large_grammars to\n",
            "[nltk_data]    |     /root/nltk_data...\n",
            "[nltk_data]    |   Unzipping grammars/large_grammars.zip.\n",
            "[nltk_data]    | Downloading package tagsets to /root/nltk_data...\n",
            "[nltk_data]    |   Package tagsets is already up-to-date!\n",
            "[nltk_data]    | Downloading package snowball_data to\n",
            "[nltk_data]    |     /root/nltk_data...\n",
            "[nltk_data]    | Downloading package bllip_wsj_no_aux to\n",
            "[nltk_data]    |     /root/nltk_data...\n",
            "[nltk_data]    |   Unzipping models/bllip_wsj_no_aux.zip.\n",
            "[nltk_data]    | Downloading package word2vec_sample to\n",
            "[nltk_data]    |     /root/nltk_data...\n",
            "[nltk_data]    |   Unzipping models/word2vec_sample.zip.\n",
            "[nltk_data]    | Downloading package panlex_swadesh to\n",
            "[nltk_data]    |     /root/nltk_data...\n",
            "[nltk_data]    |   Package panlex_swadesh is already up-to-date!\n",
            "[nltk_data]    | Downloading package mte_teip5 to /root/nltk_data...\n",
            "[nltk_data]    |   Package mte_teip5 is already up-to-date!\n",
            "[nltk_data]    | Downloading package averaged_perceptron_tagger to\n",
            "[nltk_data]    |     /root/nltk_data...\n",
            "[nltk_data]    |   Package averaged_perceptron_tagger is already up-\n",
            "[nltk_data]    |       to-date!\n",
            "[nltk_data]    | Downloading package averaged_perceptron_tagger_ru to\n",
            "[nltk_data]    |     /root/nltk_data...\n",
            "[nltk_data]    |   Unzipping\n",
            "[nltk_data]    |       taggers/averaged_perceptron_tagger_ru.zip.\n",
            "[nltk_data]    | Downloading package perluniprops to\n",
            "[nltk_data]    |     /root/nltk_data...\n",
            "[nltk_data]    |   Package perluniprops is already up-to-date!\n",
            "[nltk_data]    | Downloading package nonbreaking_prefixes to\n",
            "[nltk_data]    |     /root/nltk_data...\n",
            "[nltk_data]    |   Package nonbreaking_prefixes is already up-to-date!\n",
            "[nltk_data]    | Downloading package vader_lexicon to\n",
            "[nltk_data]    |     /root/nltk_data...\n",
            "[nltk_data]    |   Package vader_lexicon is already up-to-date!\n",
            "[nltk_data]    | Downloading package porter_test to /root/nltk_data...\n",
            "[nltk_data]    |   Package porter_test is already up-to-date!\n",
            "[nltk_data]    | Downloading package wmt15_eval to /root/nltk_data...\n",
            "[nltk_data]    |   Package wmt15_eval is already up-to-date!\n",
            "[nltk_data]    | Downloading package mwa_ppdb to /root/nltk_data...\n",
            "[nltk_data]    |   Unzipping misc/mwa_ppdb.zip.\n",
            "[nltk_data]    | \n",
            "[nltk_data]  Done downloading collection all\n"
          ],
          "name": "stdout"
        },
        {
          "output_type": "execute_result",
          "data": {
            "text/plain": [
              "True"
            ]
          },
          "metadata": {
            "tags": []
          },
          "execution_count": 11
        }
      ]
    },
    {
      "cell_type": "code",
      "metadata": {
        "id": "4wHFin14wbUj",
        "outputId": "3fd207a0-0424-4b15-d083-94bd383d23fb",
        "colab": {
          "base_uri": "https://localhost:8080/",
          "height": 281
        }
      },
      "source": [
        "from nltk.corpus import brown\n",
        "brown.categories()"
      ],
      "execution_count": null,
      "outputs": [
        {
          "output_type": "execute_result",
          "data": {
            "text/plain": [
              "['adventure',\n",
              " 'belles_lettres',\n",
              " 'editorial',\n",
              " 'fiction',\n",
              " 'government',\n",
              " 'hobbies',\n",
              " 'humor',\n",
              " 'learned',\n",
              " 'lore',\n",
              " 'mystery',\n",
              " 'news',\n",
              " 'religion',\n",
              " 'reviews',\n",
              " 'romance',\n",
              " 'science_fiction']"
            ]
          },
          "metadata": {
            "tags": []
          },
          "execution_count": 13
        }
      ]
    },
    {
      "cell_type": "code",
      "metadata": {
        "id": "v6zF9jpiwgZ1",
        "outputId": "0d64aa7b-1328-43f7-cc86-61295874dcc4",
        "colab": {
          "base_uri": "https://localhost:8080/",
          "height": 1000
        }
      },
      "source": [
        " from nltk.corpus import inaugural\n",
        " inaugural.fileids()"
      ],
      "execution_count": null,
      "outputs": [
        {
          "output_type": "execute_result",
          "data": {
            "text/plain": [
              "['1789-Washington.txt',\n",
              " '1793-Washington.txt',\n",
              " '1797-Adams.txt',\n",
              " '1801-Jefferson.txt',\n",
              " '1805-Jefferson.txt',\n",
              " '1809-Madison.txt',\n",
              " '1813-Madison.txt',\n",
              " '1817-Monroe.txt',\n",
              " '1821-Monroe.txt',\n",
              " '1825-Adams.txt',\n",
              " '1829-Jackson.txt',\n",
              " '1833-Jackson.txt',\n",
              " '1837-VanBuren.txt',\n",
              " '1841-Harrison.txt',\n",
              " '1845-Polk.txt',\n",
              " '1849-Taylor.txt',\n",
              " '1853-Pierce.txt',\n",
              " '1857-Buchanan.txt',\n",
              " '1861-Lincoln.txt',\n",
              " '1865-Lincoln.txt',\n",
              " '1869-Grant.txt',\n",
              " '1873-Grant.txt',\n",
              " '1877-Hayes.txt',\n",
              " '1881-Garfield.txt',\n",
              " '1885-Cleveland.txt',\n",
              " '1889-Harrison.txt',\n",
              " '1893-Cleveland.txt',\n",
              " '1897-McKinley.txt',\n",
              " '1901-McKinley.txt',\n",
              " '1905-Roosevelt.txt',\n",
              " '1909-Taft.txt',\n",
              " '1913-Wilson.txt',\n",
              " '1917-Wilson.txt',\n",
              " '1921-Harding.txt',\n",
              " '1925-Coolidge.txt',\n",
              " '1929-Hoover.txt',\n",
              " '1933-Roosevelt.txt',\n",
              " '1937-Roosevelt.txt',\n",
              " '1941-Roosevelt.txt',\n",
              " '1945-Roosevelt.txt',\n",
              " '1949-Truman.txt',\n",
              " '1953-Eisenhower.txt',\n",
              " '1957-Eisenhower.txt',\n",
              " '1961-Kennedy.txt',\n",
              " '1965-Johnson.txt',\n",
              " '1969-Nixon.txt',\n",
              " '1973-Nixon.txt',\n",
              " '1977-Carter.txt',\n",
              " '1981-Reagan.txt',\n",
              " '1985-Reagan.txt',\n",
              " '1989-Bush.txt',\n",
              " '1993-Clinton.txt',\n",
              " '1997-Clinton.txt',\n",
              " '2001-Bush.txt',\n",
              " '2005-Bush.txt',\n",
              " '2009-Obama.txt',\n",
              " '2013-Obama.txt',\n",
              " '2017-Trump.txt']"
            ]
          },
          "metadata": {
            "tags": []
          },
          "execution_count": 14
        }
      ]
    },
    {
      "cell_type": "code",
      "metadata": {
        "id": "pnpv7Dkxzl3d",
        "outputId": "c5127910-bd13-4e39-b3ab-6b29bfafa0ac",
        "colab": {
          "base_uri": "https://localhost:8080/",
          "height": 897
        }
      },
      "source": [
        "inaugural.words(fileids='2005-Bush.txt')[:50] fdist = nltk.FreqDist(words)"
      ],
      "execution_count": null,
      "outputs": [
        {
          "output_type": "execute_result",
          "data": {
            "text/plain": [
              "['Vice',\n",
              " 'President',\n",
              " 'Cheney',\n",
              " ',',\n",
              " 'Mr',\n",
              " '.',\n",
              " 'Chief',\n",
              " 'Justice',\n",
              " ',',\n",
              " 'President',\n",
              " 'Carter',\n",
              " ',',\n",
              " 'President',\n",
              " 'Bush',\n",
              " ',',\n",
              " 'President',\n",
              " 'Clinton',\n",
              " ',',\n",
              " 'members',\n",
              " 'of',\n",
              " 'the',\n",
              " 'United',\n",
              " 'States',\n",
              " 'Congress',\n",
              " ',',\n",
              " 'reverend',\n",
              " 'clergy',\n",
              " ',',\n",
              " 'distinguished',\n",
              " 'guests',\n",
              " ',',\n",
              " 'fellow',\n",
              " 'citizens',\n",
              " ':',\n",
              " 'On',\n",
              " 'this',\n",
              " 'day',\n",
              " ',',\n",
              " 'prescribed',\n",
              " 'by',\n",
              " 'law',\n",
              " 'and',\n",
              " 'marked',\n",
              " 'by',\n",
              " 'ceremony',\n",
              " ',',\n",
              " 'we',\n",
              " 'celebrate',\n",
              " 'the',\n",
              " 'durable']"
            ]
          },
          "metadata": {
            "tags": []
          },
          "execution_count": 15
        }
      ]
    },
    {
      "cell_type": "code",
      "metadata": {
        "id": "jjnfJRsG9tU7",
        "outputId": "22a2098a-b8d7-43a3-926f-0ffa63e9cfe4",
        "colab": {
          "base_uri": "https://localhost:8080/",
          "height": 1000
        }
      },
      "source": [
        "import nltk\n",
        "nltk.download('stopwords')\n",
        "from nltk.corpus import stopwords\n",
        "stopwords.words('english')"
      ],
      "execution_count": null,
      "outputs": [
        {
          "output_type": "stream",
          "text": [
            "[nltk_data] Downloading package stopwords to /root/nltk_data...\n",
            "[nltk_data]   Unzipping corpora/stopwords.zip.\n"
          ],
          "name": "stdout"
        },
        {
          "output_type": "execute_result",
          "data": {
            "text/plain": [
              "['i',\n",
              " 'me',\n",
              " 'my',\n",
              " 'myself',\n",
              " 'we',\n",
              " 'our',\n",
              " 'ours',\n",
              " 'ourselves',\n",
              " 'you',\n",
              " \"you're\",\n",
              " \"you've\",\n",
              " \"you'll\",\n",
              " \"you'd\",\n",
              " 'your',\n",
              " 'yours',\n",
              " 'yourself',\n",
              " 'yourselves',\n",
              " 'he',\n",
              " 'him',\n",
              " 'his',\n",
              " 'himself',\n",
              " 'she',\n",
              " \"she's\",\n",
              " 'her',\n",
              " 'hers',\n",
              " 'herself',\n",
              " 'it',\n",
              " \"it's\",\n",
              " 'its',\n",
              " 'itself',\n",
              " 'they',\n",
              " 'them',\n",
              " 'their',\n",
              " 'theirs',\n",
              " 'themselves',\n",
              " 'what',\n",
              " 'which',\n",
              " 'who',\n",
              " 'whom',\n",
              " 'this',\n",
              " 'that',\n",
              " \"that'll\",\n",
              " 'these',\n",
              " 'those',\n",
              " 'am',\n",
              " 'is',\n",
              " 'are',\n",
              " 'was',\n",
              " 'were',\n",
              " 'be',\n",
              " 'been',\n",
              " 'being',\n",
              " 'have',\n",
              " 'has',\n",
              " 'had',\n",
              " 'having',\n",
              " 'do',\n",
              " 'does',\n",
              " 'did',\n",
              " 'doing',\n",
              " 'a',\n",
              " 'an',\n",
              " 'the',\n",
              " 'and',\n",
              " 'but',\n",
              " 'if',\n",
              " 'or',\n",
              " 'because',\n",
              " 'as',\n",
              " 'until',\n",
              " 'while',\n",
              " 'of',\n",
              " 'at',\n",
              " 'by',\n",
              " 'for',\n",
              " 'with',\n",
              " 'about',\n",
              " 'against',\n",
              " 'between',\n",
              " 'into',\n",
              " 'through',\n",
              " 'during',\n",
              " 'before',\n",
              " 'after',\n",
              " 'above',\n",
              " 'below',\n",
              " 'to',\n",
              " 'from',\n",
              " 'up',\n",
              " 'down',\n",
              " 'in',\n",
              " 'out',\n",
              " 'on',\n",
              " 'off',\n",
              " 'over',\n",
              " 'under',\n",
              " 'again',\n",
              " 'further',\n",
              " 'then',\n",
              " 'once',\n",
              " 'here',\n",
              " 'there',\n",
              " 'when',\n",
              " 'where',\n",
              " 'why',\n",
              " 'how',\n",
              " 'all',\n",
              " 'any',\n",
              " 'both',\n",
              " 'each',\n",
              " 'few',\n",
              " 'more',\n",
              " 'most',\n",
              " 'other',\n",
              " 'some',\n",
              " 'such',\n",
              " 'no',\n",
              " 'nor',\n",
              " 'not',\n",
              " 'only',\n",
              " 'own',\n",
              " 'same',\n",
              " 'so',\n",
              " 'than',\n",
              " 'too',\n",
              " 'very',\n",
              " 's',\n",
              " 't',\n",
              " 'can',\n",
              " 'will',\n",
              " 'just',\n",
              " 'don',\n",
              " \"don't\",\n",
              " 'should',\n",
              " \"should've\",\n",
              " 'now',\n",
              " 'd',\n",
              " 'll',\n",
              " 'm',\n",
              " 'o',\n",
              " 're',\n",
              " 've',\n",
              " 'y',\n",
              " 'ain',\n",
              " 'aren',\n",
              " \"aren't\",\n",
              " 'couldn',\n",
              " \"couldn't\",\n",
              " 'didn',\n",
              " \"didn't\",\n",
              " 'doesn',\n",
              " \"doesn't\",\n",
              " 'hadn',\n",
              " \"hadn't\",\n",
              " 'hasn',\n",
              " \"hasn't\",\n",
              " 'haven',\n",
              " \"haven't\",\n",
              " 'isn',\n",
              " \"isn't\",\n",
              " 'ma',\n",
              " 'mightn',\n",
              " \"mightn't\",\n",
              " 'mustn',\n",
              " \"mustn't\",\n",
              " 'needn',\n",
              " \"needn't\",\n",
              " 'shan',\n",
              " \"shan't\",\n",
              " 'shouldn',\n",
              " \"shouldn't\",\n",
              " 'wasn',\n",
              " \"wasn't\",\n",
              " 'weren',\n",
              " \"weren't\",\n",
              " 'won',\n",
              " \"won't\",\n",
              " 'wouldn',\n",
              " \"wouldn't\"]"
            ]
          },
          "metadata": {
            "tags": []
          },
          "execution_count": 10
        }
      ]
    },
    {
      "cell_type": "markdown",
      "metadata": {
        "id": "zpZmuvMw-Xbo"
      },
      "source": [
        "#3 Wordnet"
      ]
    },
    {
      "cell_type": "code",
      "metadata": {
        "id": "X86W6LzR-aQk",
        "outputId": "3bcb0262-f8a5-485d-a81d-92008a0d169d",
        "colab": {
          "base_uri": "https://localhost:8080/",
          "height": 70
        }
      },
      "source": [
        "import nltk\n",
        "nltk.download('wordnet')\n",
        "from nltk.corpus import wordnet as wn \n",
        "wn.synsets('motorcar')"
      ],
      "execution_count": null,
      "outputs": [
        {
          "output_type": "stream",
          "text": [
            "[nltk_data] Downloading package wordnet to /root/nltk_data...\n",
            "[nltk_data]   Unzipping corpora/wordnet.zip.\n"
          ],
          "name": "stdout"
        },
        {
          "output_type": "execute_result",
          "data": {
            "text/plain": [
              "[Synset('car.n.01')]"
            ]
          },
          "metadata": {
            "tags": []
          },
          "execution_count": 12
        }
      ]
    },
    {
      "cell_type": "code",
      "metadata": {
        "id": "Wrw-WDe8-idu",
        "outputId": "290a37cb-1bf4-4c3b-f3d6-ec7637b823b8",
        "colab": {
          "base_uri": "https://localhost:8080/",
          "height": 34
        }
      },
      "source": [
        "wn.synset('car.n.01').lemma_names()"
      ],
      "execution_count": null,
      "outputs": [
        {
          "output_type": "execute_result",
          "data": {
            "text/plain": [
              "['car', 'auto', 'automobile', 'machine', 'motorcar']"
            ]
          },
          "metadata": {
            "tags": []
          },
          "execution_count": 13
        }
      ]
    },
    {
      "cell_type": "code",
      "metadata": {
        "id": "miViymCg-yjf",
        "outputId": "c482b86e-2fb6-46bd-8a26-80eb54b2a2f6",
        "colab": {
          "base_uri": "https://localhost:8080/",
          "height": 34
        }
      },
      "source": [
        "from nltk.corpus import wordnet as wn\n",
        "wn.synsets('food')"
      ],
      "execution_count": null,
      "outputs": [
        {
          "output_type": "execute_result",
          "data": {
            "text/plain": [
              "[Synset('food.n.01'), Synset('food.n.02'), Synset('food.n.03')]"
            ]
          },
          "metadata": {
            "tags": []
          },
          "execution_count": 14
        }
      ]
    },
    {
      "cell_type": "code",
      "metadata": {
        "id": "PAHfXs2R_Ayv",
        "outputId": "d9af47db-4aca-451b-d5e0-5ce12f91c667",
        "colab": {
          "base_uri": "https://localhost:8080/",
          "height": 34
        }
      },
      "source": [
        "wn.synset('food.n.01').lemma_names()"
      ],
      "execution_count": null,
      "outputs": [
        {
          "output_type": "execute_result",
          "data": {
            "text/plain": [
              "['food', 'nutrient']"
            ]
          },
          "metadata": {
            "tags": []
          },
          "execution_count": 15
        }
      ]
    },
    {
      "cell_type": "markdown",
      "metadata": {
        "id": "tPdsLlau_2px"
      },
      "source": [
        "#Task 2 Stemming:\n"
      ]
    },
    {
      "cell_type": "code",
      "metadata": {
        "id": "rCG3RZxe_6S8",
        "outputId": "dd765c0a-a9a1-4717-a942-2932a1cc005e",
        "colab": {
          "base_uri": "https://localhost:8080/",
          "height": 35
        }
      },
      "source": [
        "import nltk \n",
        "from nltk.stem import PorterStemmer\n",
        "stemmerporter= PorterStemmer()\n",
        "stemmerporter.stem('laziness')"
      ],
      "execution_count": null,
      "outputs": [
        {
          "output_type": "execute_result",
          "data": {
            "application/vnd.google.colaboratory.intrinsic+json": {
              "type": "string"
            },
            "text/plain": [
              "'lazi'"
            ]
          },
          "metadata": {
            "tags": []
          },
          "execution_count": 16
        }
      ]
    },
    {
      "cell_type": "code",
      "metadata": {
        "id": "0HdXUT1cAJph"
      },
      "source": [
        ""
      ],
      "execution_count": null,
      "outputs": []
    },
    {
      "cell_type": "markdown",
      "metadata": {
        "id": "4WgLX-1WALXS"
      },
      "source": [
        "#Task 3 Lancaster Stemmer"
      ]
    },
    {
      "cell_type": "code",
      "metadata": {
        "id": "1C0tQVLFAPq0",
        "outputId": "9ae1ca8b-03a6-43ad-92f2-64034d0b600a",
        "colab": {
          "base_uri": "https://localhost:8080/",
          "height": 35
        }
      },
      "source": [
        "import nltk \n",
        "from nltk.stem import LancasterStemmer\n",
        "stemmerLan=LancasterStemmer()\n",
        "stemmerLan.stem('laziness')"
      ],
      "execution_count": null,
      "outputs": [
        {
          "output_type": "execute_result",
          "data": {
            "application/vnd.google.colaboratory.intrinsic+json": {
              "type": "string"
            },
            "text/plain": [
              "'lazy'"
            ]
          },
          "metadata": {
            "tags": []
          },
          "execution_count": 17
        }
      ]
    },
    {
      "cell_type": "markdown",
      "metadata": {
        "id": "Mba5mJs-Ac9H"
      },
      "source": [
        "#Reexp"
      ]
    },
    {
      "cell_type": "code",
      "metadata": {
        "id": "9mpV4OQ7AfMQ",
        "outputId": "d73dff45-4bb8-4eb6-9590-65e6ffd9a505",
        "colab": {
          "base_uri": "https://localhost:8080/",
          "height": 35
        }
      },
      "source": [
        "import nltk \n",
        "from nltk.stem import RegexpStemmer \n",
        "stemmerregexp=RegexpStemmer('ing')\n",
        "stemmerregexp.stem('gaming')"
      ],
      "execution_count": null,
      "outputs": [
        {
          "output_type": "execute_result",
          "data": {
            "application/vnd.google.colaboratory.intrinsic+json": {
              "type": "string"
            },
            "text/plain": [
              "'gam'"
            ]
          },
          "metadata": {
            "tags": []
          },
          "execution_count": 18
        }
      ]
    },
    {
      "cell_type": "code",
      "metadata": {
        "id": "YKssNDRhA0ax",
        "outputId": "7c4243cf-20ca-4077-f991-e16b763b0e6a",
        "colab": {
          "base_uri": "https://localhost:8080/",
          "height": 35
        }
      },
      "source": [
        "import nltk\n",
        "from nltk.stem import SnowballStemmer\n",
        "SnowballStemmer.languages\n",
        "frenchstemmer=SnowballStemmer('french')\n",
        "frenchstemmer.stem('manges')"
      ],
      "execution_count": null,
      "outputs": [
        {
          "output_type": "execute_result",
          "data": {
            "application/vnd.google.colaboratory.intrinsic+json": {
              "type": "string"
            },
            "text/plain": [
              "'mang'"
            ]
          },
          "metadata": {
            "tags": []
          },
          "execution_count": 20
        }
      ]
    },
    {
      "cell_type": "code",
      "metadata": {
        "id": "7amHBsLRCCGL",
        "outputId": "84839684-6127-46a6-c09e-b16dd8b76de9",
        "colab": {
          "base_uri": "https://localhost:8080/",
          "height": 34
        }
      },
      "source": [
        "from nltk.stem import PorterStemmer\n",
        "stemmer= PorterStemmer()\n",
        "example= \"I am playing my favorite game\"\n",
        "example= [stemmer.stem(token) for token in example.split(\" \")] \n",
        "print(\" \".join(example))"
      ],
      "execution_count": null,
      "outputs": [
        {
          "output_type": "stream",
          "text": [
            "I am play my favorit game\n"
          ],
          "name": "stdout"
        }
      ]
    },
    {
      "cell_type": "markdown",
      "metadata": {
        "id": "ZiEP3r_cCEcy"
      },
      "source": [
        "Task 5: Chinese Segmentation using JIEBA\n"
      ]
    },
    {
      "cell_type": "code",
      "metadata": {
        "id": "KO9-HplkCLyk",
        "outputId": "4729b578-e0ee-4f3c-be1b-ee65ec8946c0",
        "colab": {
          "base_uri": "https://localhost:8080/",
          "height": 105
        }
      },
      "source": [
        "import jieba \n",
        "seg=jieba.cut('这是2020年，我们处于锁定状态',cut_all= True)\n",
        "print(\"\".join(seg))"
      ],
      "execution_count": null,
      "outputs": [
        {
          "output_type": "stream",
          "text": [
            "Building prefix dict from the default dictionary ...\n",
            "Dumping model to file cache /tmp/jieba.cache\n",
            "Loading model cost 0.936 seconds.\n",
            "Prefix dict has been built successfully.\n"
          ],
          "name": "stderr"
        },
        {
          "output_type": "stream",
          "text": [
            "这是2020年，我们处于锁定状态\n"
          ],
          "name": "stdout"
        }
      ]
    },
    {
      "cell_type": "markdown",
      "metadata": {
        "id": "QWO2G9YkDyPi"
      },
      "source": [
        "#Task 1: Basic Text Processsing Pipelining."
      ]
    },
    {
      "cell_type": "code",
      "metadata": {
        "id": "CSRa9bhND3hc",
        "outputId": "b31f12cd-1784-4e25-a376-3a9c6bbd2620",
        "colab": {
          "base_uri": "https://localhost:8080/",
          "height": 1000
        }
      },
      "source": [
        "import nltk \n",
        "nltk.download('punkt')\n",
        "nltk.download('averaged_perceptron_tagger')\n",
        "texts= \"\"\"Special Agent Jason Hudson was a C.I.A. agent responsible for handling Alex Mason, mainly during 1968. \n",
        "He was the deuteragonist of Call of Duty: Black Ops\n",
        "and a supporting character in the 1980s missions of Call of Duty: Black Ops II.\"\"\"\n",
        "\n",
        "for text in texts:\n",
        "  sentences= nltk.sent_tokenize(texts)\n",
        "  print('sentences')\n",
        "  for sentence in sentences:\n",
        "    words= nltk.word_tokenize(sentence)\n",
        "    tagged=nltk.pos_tag(words)\n",
        "    print(tagged)"
      ],
      "execution_count": null,
      "outputs": [
        {
          "output_type": "stream",
          "text": [
            "[nltk_data] Downloading package punkt to /root/nltk_data...\n",
            "[nltk_data]   Package punkt is already up-to-date!\n",
            "[nltk_data] Downloading package averaged_perceptron_tagger to\n",
            "[nltk_data]     /root/nltk_data...\n",
            "[nltk_data]   Unzipping taggers/averaged_perceptron_tagger.zip.\n",
            "sentences\n",
            "[('Special', 'JJ'), ('Agent', 'NNP'), ('Jason', 'NNP'), ('Hudson', 'NNP'), ('was', 'VBD'), ('a', 'DT'), ('C.I.A', 'NNP'), ('.', '.')]\n",
            "[('agent', 'NN'), ('responsible', 'JJ'), ('for', 'IN'), ('handling', 'VBG'), ('Alex', 'NNP'), ('Mason', 'NNP'), (',', ','), ('mainly', 'RB'), ('during', 'IN'), ('1968', 'CD'), ('.', '.')]\n",
            "[('He', 'PRP'), ('was', 'VBD'), ('the', 'DT'), ('deuteragonist', 'NN'), ('of', 'IN'), ('Call', 'NNP'), ('of', 'IN'), ('Duty', 'NN'), (':', ':'), ('Black', 'NNP'), ('Ops', 'NNP'), ('and', 'CC'), ('a', 'DT'), ('supporting', 'VBG'), ('character', 'NN'), ('in', 'IN'), ('the', 'DT'), ('1980s', 'CD'), ('missions', 'NNS'), ('of', 'IN'), ('Call', 'NNP'), ('of', 'IN'), ('Duty', 'NN'), (':', ':'), ('Black', 'NNP'), ('Ops', 'NNP'), ('II', 'NNP'), ('.', '.')]\n",
            "sentences\n",
            "[('Special', 'JJ'), ('Agent', 'NNP'), ('Jason', 'NNP'), ('Hudson', 'NNP'), ('was', 'VBD'), ('a', 'DT'), ('C.I.A', 'NNP'), ('.', '.')]\n",
            "[('agent', 'NN'), ('responsible', 'JJ'), ('for', 'IN'), ('handling', 'VBG'), ('Alex', 'NNP'), ('Mason', 'NNP'), (',', ','), ('mainly', 'RB'), ('during', 'IN'), ('1968', 'CD'), ('.', '.')]\n",
            "[('He', 'PRP'), ('was', 'VBD'), ('the', 'DT'), ('deuteragonist', 'NN'), ('of', 'IN'), ('Call', 'NNP'), ('of', 'IN'), ('Duty', 'NN'), (':', ':'), ('Black', 'NNP'), ('Ops', 'NNP'), ('and', 'CC'), ('a', 'DT'), ('supporting', 'VBG'), ('character', 'NN'), ('in', 'IN'), ('the', 'DT'), ('1980s', 'CD'), ('missions', 'NNS'), ('of', 'IN'), ('Call', 'NNP'), ('of', 'IN'), ('Duty', 'NN'), (':', ':'), ('Black', 'NNP'), ('Ops', 'NNP'), ('II', 'NNP'), ('.', '.')]\n",
            "sentences\n",
            "[('Special', 'JJ'), ('Agent', 'NNP'), ('Jason', 'NNP'), ('Hudson', 'NNP'), ('was', 'VBD'), ('a', 'DT'), ('C.I.A', 'NNP'), ('.', '.')]\n",
            "[('agent', 'NN'), ('responsible', 'JJ'), ('for', 'IN'), ('handling', 'VBG'), ('Alex', 'NNP'), ('Mason', 'NNP'), (',', ','), ('mainly', 'RB'), ('during', 'IN'), ('1968', 'CD'), ('.', '.')]\n",
            "[('He', 'PRP'), ('was', 'VBD'), ('the', 'DT'), ('deuteragonist', 'NN'), ('of', 'IN'), ('Call', 'NNP'), ('of', 'IN'), ('Duty', 'NN'), (':', ':'), ('Black', 'NNP'), ('Ops', 'NNP'), ('and', 'CC'), ('a', 'DT'), ('supporting', 'VBG'), ('character', 'NN'), ('in', 'IN'), ('the', 'DT'), ('1980s', 'CD'), ('missions', 'NNS'), ('of', 'IN'), ('Call', 'NNP'), ('of', 'IN'), ('Duty', 'NN'), (':', ':'), ('Black', 'NNP'), ('Ops', 'NNP'), ('II', 'NNP'), ('.', '.')]\n",
            "sentences\n",
            "[('Special', 'JJ'), ('Agent', 'NNP'), ('Jason', 'NNP'), ('Hudson', 'NNP'), ('was', 'VBD'), ('a', 'DT'), ('C.I.A', 'NNP'), ('.', '.')]\n",
            "[('agent', 'NN'), ('responsible', 'JJ'), ('for', 'IN'), ('handling', 'VBG'), ('Alex', 'NNP'), ('Mason', 'NNP'), (',', ','), ('mainly', 'RB'), ('during', 'IN'), ('1968', 'CD'), ('.', '.')]\n",
            "[('He', 'PRP'), ('was', 'VBD'), ('the', 'DT'), ('deuteragonist', 'NN'), ('of', 'IN'), ('Call', 'NNP'), ('of', 'IN'), ('Duty', 'NN'), (':', ':'), ('Black', 'NNP'), ('Ops', 'NNP'), ('and', 'CC'), ('a', 'DT'), ('supporting', 'VBG'), ('character', 'NN'), ('in', 'IN'), ('the', 'DT'), ('1980s', 'CD'), ('missions', 'NNS'), ('of', 'IN'), ('Call', 'NNP'), ('of', 'IN'), ('Duty', 'NN'), (':', ':'), ('Black', 'NNP'), ('Ops', 'NNP'), ('II', 'NNP'), ('.', '.')]\n",
            "sentences\n",
            "[('Special', 'JJ'), ('Agent', 'NNP'), ('Jason', 'NNP'), ('Hudson', 'NNP'), ('was', 'VBD'), ('a', 'DT'), ('C.I.A', 'NNP'), ('.', '.')]\n",
            "[('agent', 'NN'), ('responsible', 'JJ'), ('for', 'IN'), ('handling', 'VBG'), ('Alex', 'NNP'), ('Mason', 'NNP'), (',', ','), ('mainly', 'RB'), ('during', 'IN'), ('1968', 'CD'), ('.', '.')]\n",
            "[('He', 'PRP'), ('was', 'VBD'), ('the', 'DT'), ('deuteragonist', 'NN'), ('of', 'IN'), ('Call', 'NNP'), ('of', 'IN'), ('Duty', 'NN'), (':', ':'), ('Black', 'NNP'), ('Ops', 'NNP'), ('and', 'CC'), ('a', 'DT'), ('supporting', 'VBG'), ('character', 'NN'), ('in', 'IN'), ('the', 'DT'), ('1980s', 'CD'), ('missions', 'NNS'), ('of', 'IN'), ('Call', 'NNP'), ('of', 'IN'), ('Duty', 'NN'), (':', ':'), ('Black', 'NNP'), ('Ops', 'NNP'), ('II', 'NNP'), ('.', '.')]\n",
            "sentences\n",
            "[('Special', 'JJ'), ('Agent', 'NNP'), ('Jason', 'NNP'), ('Hudson', 'NNP'), ('was', 'VBD'), ('a', 'DT'), ('C.I.A', 'NNP'), ('.', '.')]\n",
            "[('agent', 'NN'), ('responsible', 'JJ'), ('for', 'IN'), ('handling', 'VBG'), ('Alex', 'NNP'), ('Mason', 'NNP'), (',', ','), ('mainly', 'RB'), ('during', 'IN'), ('1968', 'CD'), ('.', '.')]\n",
            "[('He', 'PRP'), ('was', 'VBD'), ('the', 'DT'), ('deuteragonist', 'NN'), ('of', 'IN'), ('Call', 'NNP'), ('of', 'IN'), ('Duty', 'NN'), (':', ':'), ('Black', 'NNP'), ('Ops', 'NNP'), ('and', 'CC'), ('a', 'DT'), ('supporting', 'VBG'), ('character', 'NN'), ('in', 'IN'), ('the', 'DT'), ('1980s', 'CD'), ('missions', 'NNS'), ('of', 'IN'), ('Call', 'NNP'), ('of', 'IN'), ('Duty', 'NN'), (':', ':'), ('Black', 'NNP'), ('Ops', 'NNP'), ('II', 'NNP'), ('.', '.')]\n",
            "sentences\n",
            "[('Special', 'JJ'), ('Agent', 'NNP'), ('Jason', 'NNP'), ('Hudson', 'NNP'), ('was', 'VBD'), ('a', 'DT'), ('C.I.A', 'NNP'), ('.', '.')]\n",
            "[('agent', 'NN'), ('responsible', 'JJ'), ('for', 'IN'), ('handling', 'VBG'), ('Alex', 'NNP'), ('Mason', 'NNP'), (',', ','), ('mainly', 'RB'), ('during', 'IN'), ('1968', 'CD'), ('.', '.')]\n",
            "[('He', 'PRP'), ('was', 'VBD'), ('the', 'DT'), ('deuteragonist', 'NN'), ('of', 'IN'), ('Call', 'NNP'), ('of', 'IN'), ('Duty', 'NN'), (':', ':'), ('Black', 'NNP'), ('Ops', 'NNP'), ('and', 'CC'), ('a', 'DT'), ('supporting', 'VBG'), ('character', 'NN'), ('in', 'IN'), ('the', 'DT'), ('1980s', 'CD'), ('missions', 'NNS'), ('of', 'IN'), ('Call', 'NNP'), ('of', 'IN'), ('Duty', 'NN'), (':', ':'), ('Black', 'NNP'), ('Ops', 'NNP'), ('II', 'NNP'), ('.', '.')]\n",
            "sentences\n",
            "[('Special', 'JJ'), ('Agent', 'NNP'), ('Jason', 'NNP'), ('Hudson', 'NNP'), ('was', 'VBD'), ('a', 'DT'), ('C.I.A', 'NNP'), ('.', '.')]\n",
            "[('agent', 'NN'), ('responsible', 'JJ'), ('for', 'IN'), ('handling', 'VBG'), ('Alex', 'NNP'), ('Mason', 'NNP'), (',', ','), ('mainly', 'RB'), ('during', 'IN'), ('1968', 'CD'), ('.', '.')]\n",
            "[('He', 'PRP'), ('was', 'VBD'), ('the', 'DT'), ('deuteragonist', 'NN'), ('of', 'IN'), ('Call', 'NNP'), ('of', 'IN'), ('Duty', 'NN'), (':', ':'), ('Black', 'NNP'), ('Ops', 'NNP'), ('and', 'CC'), ('a', 'DT'), ('supporting', 'VBG'), ('character', 'NN'), ('in', 'IN'), ('the', 'DT'), ('1980s', 'CD'), ('missions', 'NNS'), ('of', 'IN'), ('Call', 'NNP'), ('of', 'IN'), ('Duty', 'NN'), (':', ':'), ('Black', 'NNP'), ('Ops', 'NNP'), ('II', 'NNP'), ('.', '.')]\n",
            "sentences\n",
            "[('Special', 'JJ'), ('Agent', 'NNP'), ('Jason', 'NNP'), ('Hudson', 'NNP'), ('was', 'VBD'), ('a', 'DT'), ('C.I.A', 'NNP'), ('.', '.')]\n",
            "[('agent', 'NN'), ('responsible', 'JJ'), ('for', 'IN'), ('handling', 'VBG'), ('Alex', 'NNP'), ('Mason', 'NNP'), (',', ','), ('mainly', 'RB'), ('during', 'IN'), ('1968', 'CD'), ('.', '.')]\n",
            "[('He', 'PRP'), ('was', 'VBD'), ('the', 'DT'), ('deuteragonist', 'NN'), ('of', 'IN'), ('Call', 'NNP'), ('of', 'IN'), ('Duty', 'NN'), (':', ':'), ('Black', 'NNP'), ('Ops', 'NNP'), ('and', 'CC'), ('a', 'DT'), ('supporting', 'VBG'), ('character', 'NN'), ('in', 'IN'), ('the', 'DT'), ('1980s', 'CD'), ('missions', 'NNS'), ('of', 'IN'), ('Call', 'NNP'), ('of', 'IN'), ('Duty', 'NN'), (':', ':'), ('Black', 'NNP'), ('Ops', 'NNP'), ('II', 'NNP'), ('.', '.')]\n",
            "sentences\n",
            "[('Special', 'JJ'), ('Agent', 'NNP'), ('Jason', 'NNP'), ('Hudson', 'NNP'), ('was', 'VBD'), ('a', 'DT'), ('C.I.A', 'NNP'), ('.', '.')]\n",
            "[('agent', 'NN'), ('responsible', 'JJ'), ('for', 'IN'), ('handling', 'VBG'), ('Alex', 'NNP'), ('Mason', 'NNP'), (',', ','), ('mainly', 'RB'), ('during', 'IN'), ('1968', 'CD'), ('.', '.')]\n",
            "[('He', 'PRP'), ('was', 'VBD'), ('the', 'DT'), ('deuteragonist', 'NN'), ('of', 'IN'), ('Call', 'NNP'), ('of', 'IN'), ('Duty', 'NN'), (':', ':'), ('Black', 'NNP'), ('Ops', 'NNP'), ('and', 'CC'), ('a', 'DT'), ('supporting', 'VBG'), ('character', 'NN'), ('in', 'IN'), ('the', 'DT'), ('1980s', 'CD'), ('missions', 'NNS'), ('of', 'IN'), ('Call', 'NNP'), ('of', 'IN'), ('Duty', 'NN'), (':', ':'), ('Black', 'NNP'), ('Ops', 'NNP'), ('II', 'NNP'), ('.', '.')]\n",
            "sentences\n",
            "[('Special', 'JJ'), ('Agent', 'NNP'), ('Jason', 'NNP'), ('Hudson', 'NNP'), ('was', 'VBD'), ('a', 'DT'), ('C.I.A', 'NNP'), ('.', '.')]\n",
            "[('agent', 'NN'), ('responsible', 'JJ'), ('for', 'IN'), ('handling', 'VBG'), ('Alex', 'NNP'), ('Mason', 'NNP'), (',', ','), ('mainly', 'RB'), ('during', 'IN'), ('1968', 'CD'), ('.', '.')]\n",
            "[('He', 'PRP'), ('was', 'VBD'), ('the', 'DT'), ('deuteragonist', 'NN'), ('of', 'IN'), ('Call', 'NNP'), ('of', 'IN'), ('Duty', 'NN'), (':', ':'), ('Black', 'NNP'), ('Ops', 'NNP'), ('and', 'CC'), ('a', 'DT'), ('supporting', 'VBG'), ('character', 'NN'), ('in', 'IN'), ('the', 'DT'), ('1980s', 'CD'), ('missions', 'NNS'), ('of', 'IN'), ('Call', 'NNP'), ('of', 'IN'), ('Duty', 'NN'), (':', ':'), ('Black', 'NNP'), ('Ops', 'NNP'), ('II', 'NNP'), ('.', '.')]\n",
            "sentences\n",
            "[('Special', 'JJ'), ('Agent', 'NNP'), ('Jason', 'NNP'), ('Hudson', 'NNP'), ('was', 'VBD'), ('a', 'DT'), ('C.I.A', 'NNP'), ('.', '.')]\n",
            "[('agent', 'NN'), ('responsible', 'JJ'), ('for', 'IN'), ('handling', 'VBG'), ('Alex', 'NNP'), ('Mason', 'NNP'), (',', ','), ('mainly', 'RB'), ('during', 'IN'), ('1968', 'CD'), ('.', '.')]\n",
            "[('He', 'PRP'), ('was', 'VBD'), ('the', 'DT'), ('deuteragonist', 'NN'), ('of', 'IN'), ('Call', 'NNP'), ('of', 'IN'), ('Duty', 'NN'), (':', ':'), ('Black', 'NNP'), ('Ops', 'NNP'), ('and', 'CC'), ('a', 'DT'), ('supporting', 'VBG'), ('character', 'NN'), ('in', 'IN'), ('the', 'DT'), ('1980s', 'CD'), ('missions', 'NNS'), ('of', 'IN'), ('Call', 'NNP'), ('of', 'IN'), ('Duty', 'NN'), (':', ':'), ('Black', 'NNP'), ('Ops', 'NNP'), ('II', 'NNP'), ('.', '.')]\n",
            "sentences\n",
            "[('Special', 'JJ'), ('Agent', 'NNP'), ('Jason', 'NNP'), ('Hudson', 'NNP'), ('was', 'VBD'), ('a', 'DT'), ('C.I.A', 'NNP'), ('.', '.')]\n",
            "[('agent', 'NN'), ('responsible', 'JJ'), ('for', 'IN'), ('handling', 'VBG'), ('Alex', 'NNP'), ('Mason', 'NNP'), (',', ','), ('mainly', 'RB'), ('during', 'IN'), ('1968', 'CD'), ('.', '.')]\n",
            "[('He', 'PRP'), ('was', 'VBD'), ('the', 'DT'), ('deuteragonist', 'NN'), ('of', 'IN'), ('Call', 'NNP'), ('of', 'IN'), ('Duty', 'NN'), (':', ':'), ('Black', 'NNP'), ('Ops', 'NNP'), ('and', 'CC'), ('a', 'DT'), ('supporting', 'VBG'), ('character', 'NN'), ('in', 'IN'), ('the', 'DT'), ('1980s', 'CD'), ('missions', 'NNS'), ('of', 'IN'), ('Call', 'NNP'), ('of', 'IN'), ('Duty', 'NN'), (':', ':'), ('Black', 'NNP'), ('Ops', 'NNP'), ('II', 'NNP'), ('.', '.')]\n",
            "sentences\n",
            "[('Special', 'JJ'), ('Agent', 'NNP'), ('Jason', 'NNP'), ('Hudson', 'NNP'), ('was', 'VBD'), ('a', 'DT'), ('C.I.A', 'NNP'), ('.', '.')]\n",
            "[('agent', 'NN'), ('responsible', 'JJ'), ('for', 'IN'), ('handling', 'VBG'), ('Alex', 'NNP'), ('Mason', 'NNP'), (',', ','), ('mainly', 'RB'), ('during', 'IN'), ('1968', 'CD'), ('.', '.')]\n",
            "[('He', 'PRP'), ('was', 'VBD'), ('the', 'DT'), ('deuteragonist', 'NN'), ('of', 'IN'), ('Call', 'NNP'), ('of', 'IN'), ('Duty', 'NN'), (':', ':'), ('Black', 'NNP'), ('Ops', 'NNP'), ('and', 'CC'), ('a', 'DT'), ('supporting', 'VBG'), ('character', 'NN'), ('in', 'IN'), ('the', 'DT'), ('1980s', 'CD'), ('missions', 'NNS'), ('of', 'IN'), ('Call', 'NNP'), ('of', 'IN'), ('Duty', 'NN'), (':', ':'), ('Black', 'NNP'), ('Ops', 'NNP'), ('II', 'NNP'), ('.', '.')]\n",
            "sentences\n",
            "[('Special', 'JJ'), ('Agent', 'NNP'), ('Jason', 'NNP'), ('Hudson', 'NNP'), ('was', 'VBD'), ('a', 'DT'), ('C.I.A', 'NNP'), ('.', '.')]\n",
            "[('agent', 'NN'), ('responsible', 'JJ'), ('for', 'IN'), ('handling', 'VBG'), ('Alex', 'NNP'), ('Mason', 'NNP'), (',', ','), ('mainly', 'RB'), ('during', 'IN'), ('1968', 'CD'), ('.', '.')]\n",
            "[('He', 'PRP'), ('was', 'VBD'), ('the', 'DT'), ('deuteragonist', 'NN'), ('of', 'IN'), ('Call', 'NNP'), ('of', 'IN'), ('Duty', 'NN'), (':', ':'), ('Black', 'NNP'), ('Ops', 'NNP'), ('and', 'CC'), ('a', 'DT'), ('supporting', 'VBG'), ('character', 'NN'), ('in', 'IN'), ('the', 'DT'), ('1980s', 'CD'), ('missions', 'NNS'), ('of', 'IN'), ('Call', 'NNP'), ('of', 'IN'), ('Duty', 'NN'), (':', ':'), ('Black', 'NNP'), ('Ops', 'NNP'), ('II', 'NNP'), ('.', '.')]\n",
            "sentences\n",
            "[('Special', 'JJ'), ('Agent', 'NNP'), ('Jason', 'NNP'), ('Hudson', 'NNP'), ('was', 'VBD'), ('a', 'DT'), ('C.I.A', 'NNP'), ('.', '.')]\n",
            "[('agent', 'NN'), ('responsible', 'JJ'), ('for', 'IN'), ('handling', 'VBG'), ('Alex', 'NNP'), ('Mason', 'NNP'), (',', ','), ('mainly', 'RB'), ('during', 'IN'), ('1968', 'CD'), ('.', '.')]\n",
            "[('He', 'PRP'), ('was', 'VBD'), ('the', 'DT'), ('deuteragonist', 'NN'), ('of', 'IN'), ('Call', 'NNP'), ('of', 'IN'), ('Duty', 'NN'), (':', ':'), ('Black', 'NNP'), ('Ops', 'NNP'), ('and', 'CC'), ('a', 'DT'), ('supporting', 'VBG'), ('character', 'NN'), ('in', 'IN'), ('the', 'DT'), ('1980s', 'CD'), ('missions', 'NNS'), ('of', 'IN'), ('Call', 'NNP'), ('of', 'IN'), ('Duty', 'NN'), (':', ':'), ('Black', 'NNP'), ('Ops', 'NNP'), ('II', 'NNP'), ('.', '.')]\n",
            "sentences\n",
            "[('Special', 'JJ'), ('Agent', 'NNP'), ('Jason', 'NNP'), ('Hudson', 'NNP'), ('was', 'VBD'), ('a', 'DT'), ('C.I.A', 'NNP'), ('.', '.')]\n",
            "[('agent', 'NN'), ('responsible', 'JJ'), ('for', 'IN'), ('handling', 'VBG'), ('Alex', 'NNP'), ('Mason', 'NNP'), (',', ','), ('mainly', 'RB'), ('during', 'IN'), ('1968', 'CD'), ('.', '.')]\n",
            "[('He', 'PRP'), ('was', 'VBD'), ('the', 'DT'), ('deuteragonist', 'NN'), ('of', 'IN'), ('Call', 'NNP'), ('of', 'IN'), ('Duty', 'NN'), (':', ':'), ('Black', 'NNP'), ('Ops', 'NNP'), ('and', 'CC'), ('a', 'DT'), ('supporting', 'VBG'), ('character', 'NN'), ('in', 'IN'), ('the', 'DT'), ('1980s', 'CD'), ('missions', 'NNS'), ('of', 'IN'), ('Call', 'NNP'), ('of', 'IN'), ('Duty', 'NN'), (':', ':'), ('Black', 'NNP'), ('Ops', 'NNP'), ('II', 'NNP'), ('.', '.')]\n",
            "sentences\n",
            "[('Special', 'JJ'), ('Agent', 'NNP'), ('Jason', 'NNP'), ('Hudson', 'NNP'), ('was', 'VBD'), ('a', 'DT'), ('C.I.A', 'NNP'), ('.', '.')]\n",
            "[('agent', 'NN'), ('responsible', 'JJ'), ('for', 'IN'), ('handling', 'VBG'), ('Alex', 'NNP'), ('Mason', 'NNP'), (',', ','), ('mainly', 'RB'), ('during', 'IN'), ('1968', 'CD'), ('.', '.')]\n",
            "[('He', 'PRP'), ('was', 'VBD'), ('the', 'DT'), ('deuteragonist', 'NN'), ('of', 'IN'), ('Call', 'NNP'), ('of', 'IN'), ('Duty', 'NN'), (':', ':'), ('Black', 'NNP'), ('Ops', 'NNP'), ('and', 'CC'), ('a', 'DT'), ('supporting', 'VBG'), ('character', 'NN'), ('in', 'IN'), ('the', 'DT'), ('1980s', 'CD'), ('missions', 'NNS'), ('of', 'IN'), ('Call', 'NNP'), ('of', 'IN'), ('Duty', 'NN'), (':', ':'), ('Black', 'NNP'), ('Ops', 'NNP'), ('II', 'NNP'), ('.', '.')]\n",
            "sentences\n",
            "[('Special', 'JJ'), ('Agent', 'NNP'), ('Jason', 'NNP'), ('Hudson', 'NNP'), ('was', 'VBD'), ('a', 'DT'), ('C.I.A', 'NNP'), ('.', '.')]\n",
            "[('agent', 'NN'), ('responsible', 'JJ'), ('for', 'IN'), ('handling', 'VBG'), ('Alex', 'NNP'), ('Mason', 'NNP'), (',', ','), ('mainly', 'RB'), ('during', 'IN'), ('1968', 'CD'), ('.', '.')]\n",
            "[('He', 'PRP'), ('was', 'VBD'), ('the', 'DT'), ('deuteragonist', 'NN'), ('of', 'IN'), ('Call', 'NNP'), ('of', 'IN'), ('Duty', 'NN'), (':', ':'), ('Black', 'NNP'), ('Ops', 'NNP'), ('and', 'CC'), ('a', 'DT'), ('supporting', 'VBG'), ('character', 'NN'), ('in', 'IN'), ('the', 'DT'), ('1980s', 'CD'), ('missions', 'NNS'), ('of', 'IN'), ('Call', 'NNP'), ('of', 'IN'), ('Duty', 'NN'), (':', ':'), ('Black', 'NNP'), ('Ops', 'NNP'), ('II', 'NNP'), ('.', '.')]\n",
            "sentences\n",
            "[('Special', 'JJ'), ('Agent', 'NNP'), ('Jason', 'NNP'), ('Hudson', 'NNP'), ('was', 'VBD'), ('a', 'DT'), ('C.I.A', 'NNP'), ('.', '.')]\n",
            "[('agent', 'NN'), ('responsible', 'JJ'), ('for', 'IN'), ('handling', 'VBG'), ('Alex', 'NNP'), ('Mason', 'NNP'), (',', ','), ('mainly', 'RB'), ('during', 'IN'), ('1968', 'CD'), ('.', '.')]\n",
            "[('He', 'PRP'), ('was', 'VBD'), ('the', 'DT'), ('deuteragonist', 'NN'), ('of', 'IN'), ('Call', 'NNP'), ('of', 'IN'), ('Duty', 'NN'), (':', ':'), ('Black', 'NNP'), ('Ops', 'NNP'), ('and', 'CC'), ('a', 'DT'), ('supporting', 'VBG'), ('character', 'NN'), ('in', 'IN'), ('the', 'DT'), ('1980s', 'CD'), ('missions', 'NNS'), ('of', 'IN'), ('Call', 'NNP'), ('of', 'IN'), ('Duty', 'NN'), (':', ':'), ('Black', 'NNP'), ('Ops', 'NNP'), ('II', 'NNP'), ('.', '.')]\n",
            "sentences\n",
            "[('Special', 'JJ'), ('Agent', 'NNP'), ('Jason', 'NNP'), ('Hudson', 'NNP'), ('was', 'VBD'), ('a', 'DT'), ('C.I.A', 'NNP'), ('.', '.')]\n",
            "[('agent', 'NN'), ('responsible', 'JJ'), ('for', 'IN'), ('handling', 'VBG'), ('Alex', 'NNP'), ('Mason', 'NNP'), (',', ','), ('mainly', 'RB'), ('during', 'IN'), ('1968', 'CD'), ('.', '.')]\n",
            "[('He', 'PRP'), ('was', 'VBD'), ('the', 'DT'), ('deuteragonist', 'NN'), ('of', 'IN'), ('Call', 'NNP'), ('of', 'IN'), ('Duty', 'NN'), (':', ':'), ('Black', 'NNP'), ('Ops', 'NNP'), ('and', 'CC'), ('a', 'DT'), ('supporting', 'VBG'), ('character', 'NN'), ('in', 'IN'), ('the', 'DT'), ('1980s', 'CD'), ('missions', 'NNS'), ('of', 'IN'), ('Call', 'NNP'), ('of', 'IN'), ('Duty', 'NN'), (':', ':'), ('Black', 'NNP'), ('Ops', 'NNP'), ('II', 'NNP'), ('.', '.')]\n",
            "sentences\n",
            "[('Special', 'JJ'), ('Agent', 'NNP'), ('Jason', 'NNP'), ('Hudson', 'NNP'), ('was', 'VBD'), ('a', 'DT'), ('C.I.A', 'NNP'), ('.', '.')]\n",
            "[('agent', 'NN'), ('responsible', 'JJ'), ('for', 'IN'), ('handling', 'VBG'), ('Alex', 'NNP'), ('Mason', 'NNP'), (',', ','), ('mainly', 'RB'), ('during', 'IN'), ('1968', 'CD'), ('.', '.')]\n",
            "[('He', 'PRP'), ('was', 'VBD'), ('the', 'DT'), ('deuteragonist', 'NN'), ('of', 'IN'), ('Call', 'NNP'), ('of', 'IN'), ('Duty', 'NN'), (':', ':'), ('Black', 'NNP'), ('Ops', 'NNP'), ('and', 'CC'), ('a', 'DT'), ('supporting', 'VBG'), ('character', 'NN'), ('in', 'IN'), ('the', 'DT'), ('1980s', 'CD'), ('missions', 'NNS'), ('of', 'IN'), ('Call', 'NNP'), ('of', 'IN'), ('Duty', 'NN'), (':', ':'), ('Black', 'NNP'), ('Ops', 'NNP'), ('II', 'NNP'), ('.', '.')]\n",
            "sentences\n",
            "[('Special', 'JJ'), ('Agent', 'NNP'), ('Jason', 'NNP'), ('Hudson', 'NNP'), ('was', 'VBD'), ('a', 'DT'), ('C.I.A', 'NNP'), ('.', '.')]\n",
            "[('agent', 'NN'), ('responsible', 'JJ'), ('for', 'IN'), ('handling', 'VBG'), ('Alex', 'NNP'), ('Mason', 'NNP'), (',', ','), ('mainly', 'RB'), ('during', 'IN'), ('1968', 'CD'), ('.', '.')]\n",
            "[('He', 'PRP'), ('was', 'VBD'), ('the', 'DT'), ('deuteragonist', 'NN'), ('of', 'IN'), ('Call', 'NNP'), ('of', 'IN'), ('Duty', 'NN'), (':', ':'), ('Black', 'NNP'), ('Ops', 'NNP'), ('and', 'CC'), ('a', 'DT'), ('supporting', 'VBG'), ('character', 'NN'), ('in', 'IN'), ('the', 'DT'), ('1980s', 'CD'), ('missions', 'NNS'), ('of', 'IN'), ('Call', 'NNP'), ('of', 'IN'), ('Duty', 'NN'), (':', ':'), ('Black', 'NNP'), ('Ops', 'NNP'), ('II', 'NNP'), ('.', '.')]\n",
            "sentences\n",
            "[('Special', 'JJ'), ('Agent', 'NNP'), ('Jason', 'NNP'), ('Hudson', 'NNP'), ('was', 'VBD'), ('a', 'DT'), ('C.I.A', 'NNP'), ('.', '.')]\n",
            "[('agent', 'NN'), ('responsible', 'JJ'), ('for', 'IN'), ('handling', 'VBG'), ('Alex', 'NNP'), ('Mason', 'NNP'), (',', ','), ('mainly', 'RB'), ('during', 'IN'), ('1968', 'CD'), ('.', '.')]\n",
            "[('He', 'PRP'), ('was', 'VBD'), ('the', 'DT'), ('deuteragonist', 'NN'), ('of', 'IN'), ('Call', 'NNP'), ('of', 'IN'), ('Duty', 'NN'), (':', ':'), ('Black', 'NNP'), ('Ops', 'NNP'), ('and', 'CC'), ('a', 'DT'), ('supporting', 'VBG'), ('character', 'NN'), ('in', 'IN'), ('the', 'DT'), ('1980s', 'CD'), ('missions', 'NNS'), ('of', 'IN'), ('Call', 'NNP'), ('of', 'IN'), ('Duty', 'NN'), (':', ':'), ('Black', 'NNP'), ('Ops', 'NNP'), ('II', 'NNP'), ('.', '.')]\n",
            "sentences\n",
            "[('Special', 'JJ'), ('Agent', 'NNP'), ('Jason', 'NNP'), ('Hudson', 'NNP'), ('was', 'VBD'), ('a', 'DT'), ('C.I.A', 'NNP'), ('.', '.')]\n",
            "[('agent', 'NN'), ('responsible', 'JJ'), ('for', 'IN'), ('handling', 'VBG'), ('Alex', 'NNP'), ('Mason', 'NNP'), (',', ','), ('mainly', 'RB'), ('during', 'IN'), ('1968', 'CD'), ('.', '.')]\n",
            "[('He', 'PRP'), ('was', 'VBD'), ('the', 'DT'), ('deuteragonist', 'NN'), ('of', 'IN'), ('Call', 'NNP'), ('of', 'IN'), ('Duty', 'NN'), (':', ':'), ('Black', 'NNP'), ('Ops', 'NNP'), ('and', 'CC'), ('a', 'DT'), ('supporting', 'VBG'), ('character', 'NN'), ('in', 'IN'), ('the', 'DT'), ('1980s', 'CD'), ('missions', 'NNS'), ('of', 'IN'), ('Call', 'NNP'), ('of', 'IN'), ('Duty', 'NN'), (':', ':'), ('Black', 'NNP'), ('Ops', 'NNP'), ('II', 'NNP'), ('.', '.')]\n",
            "sentences\n",
            "[('Special', 'JJ'), ('Agent', 'NNP'), ('Jason', 'NNP'), ('Hudson', 'NNP'), ('was', 'VBD'), ('a', 'DT'), ('C.I.A', 'NNP'), ('.', '.')]\n",
            "[('agent', 'NN'), ('responsible', 'JJ'), ('for', 'IN'), ('handling', 'VBG'), ('Alex', 'NNP'), ('Mason', 'NNP'), (',', ','), ('mainly', 'RB'), ('during', 'IN'), ('1968', 'CD'), ('.', '.')]\n",
            "[('He', 'PRP'), ('was', 'VBD'), ('the', 'DT'), ('deuteragonist', 'NN'), ('of', 'IN'), ('Call', 'NNP'), ('of', 'IN'), ('Duty', 'NN'), (':', ':'), ('Black', 'NNP'), ('Ops', 'NNP'), ('and', 'CC'), ('a', 'DT'), ('supporting', 'VBG'), ('character', 'NN'), ('in', 'IN'), ('the', 'DT'), ('1980s', 'CD'), ('missions', 'NNS'), ('of', 'IN'), ('Call', 'NNP'), ('of', 'IN'), ('Duty', 'NN'), (':', ':'), ('Black', 'NNP'), ('Ops', 'NNP'), ('II', 'NNP'), ('.', '.')]\n",
            "sentences\n",
            "[('Special', 'JJ'), ('Agent', 'NNP'), ('Jason', 'NNP'), ('Hudson', 'NNP'), ('was', 'VBD'), ('a', 'DT'), ('C.I.A', 'NNP'), ('.', '.')]\n",
            "[('agent', 'NN'), ('responsible', 'JJ'), ('for', 'IN'), ('handling', 'VBG'), ('Alex', 'NNP'), ('Mason', 'NNP'), (',', ','), ('mainly', 'RB'), ('during', 'IN'), ('1968', 'CD'), ('.', '.')]\n",
            "[('He', 'PRP'), ('was', 'VBD'), ('the', 'DT'), ('deuteragonist', 'NN'), ('of', 'IN'), ('Call', 'NNP'), ('of', 'IN'), ('Duty', 'NN'), (':', ':'), ('Black', 'NNP'), ('Ops', 'NNP'), ('and', 'CC'), ('a', 'DT'), ('supporting', 'VBG'), ('character', 'NN'), ('in', 'IN'), ('the', 'DT'), ('1980s', 'CD'), ('missions', 'NNS'), ('of', 'IN'), ('Call', 'NNP'), ('of', 'IN'), ('Duty', 'NN'), (':', ':'), ('Black', 'NNP'), ('Ops', 'NNP'), ('II', 'NNP'), ('.', '.')]\n",
            "sentences\n",
            "[('Special', 'JJ'), ('Agent', 'NNP'), ('Jason', 'NNP'), ('Hudson', 'NNP'), ('was', 'VBD'), ('a', 'DT'), ('C.I.A', 'NNP'), ('.', '.')]\n",
            "[('agent', 'NN'), ('responsible', 'JJ'), ('for', 'IN'), ('handling', 'VBG'), ('Alex', 'NNP'), ('Mason', 'NNP'), (',', ','), ('mainly', 'RB'), ('during', 'IN'), ('1968', 'CD'), ('.', '.')]\n",
            "[('He', 'PRP'), ('was', 'VBD'), ('the', 'DT'), ('deuteragonist', 'NN'), ('of', 'IN'), ('Call', 'NNP'), ('of', 'IN'), ('Duty', 'NN'), (':', ':'), ('Black', 'NNP'), ('Ops', 'NNP'), ('and', 'CC'), ('a', 'DT'), ('supporting', 'VBG'), ('character', 'NN'), ('in', 'IN'), ('the', 'DT'), ('1980s', 'CD'), ('missions', 'NNS'), ('of', 'IN'), ('Call', 'NNP'), ('of', 'IN'), ('Duty', 'NN'), (':', ':'), ('Black', 'NNP'), ('Ops', 'NNP'), ('II', 'NNP'), ('.', '.')]\n",
            "sentences\n",
            "[('Special', 'JJ'), ('Agent', 'NNP'), ('Jason', 'NNP'), ('Hudson', 'NNP'), ('was', 'VBD'), ('a', 'DT'), ('C.I.A', 'NNP'), ('.', '.')]\n",
            "[('agent', 'NN'), ('responsible', 'JJ'), ('for', 'IN'), ('handling', 'VBG'), ('Alex', 'NNP'), ('Mason', 'NNP'), (',', ','), ('mainly', 'RB'), ('during', 'IN'), ('1968', 'CD'), ('.', '.')]\n",
            "[('He', 'PRP'), ('was', 'VBD'), ('the', 'DT'), ('deuteragonist', 'NN'), ('of', 'IN'), ('Call', 'NNP'), ('of', 'IN'), ('Duty', 'NN'), (':', ':'), ('Black', 'NNP'), ('Ops', 'NNP'), ('and', 'CC'), ('a', 'DT'), ('supporting', 'VBG'), ('character', 'NN'), ('in', 'IN'), ('the', 'DT'), ('1980s', 'CD'), ('missions', 'NNS'), ('of', 'IN'), ('Call', 'NNP'), ('of', 'IN'), ('Duty', 'NN'), (':', ':'), ('Black', 'NNP'), ('Ops', 'NNP'), ('II', 'NNP'), ('.', '.')]\n",
            "sentences\n",
            "[('Special', 'JJ'), ('Agent', 'NNP'), ('Jason', 'NNP'), ('Hudson', 'NNP'), ('was', 'VBD'), ('a', 'DT'), ('C.I.A', 'NNP'), ('.', '.')]\n",
            "[('agent', 'NN'), ('responsible', 'JJ'), ('for', 'IN'), ('handling', 'VBG'), ('Alex', 'NNP'), ('Mason', 'NNP'), (',', ','), ('mainly', 'RB'), ('during', 'IN'), ('1968', 'CD'), ('.', '.')]\n",
            "[('He', 'PRP'), ('was', 'VBD'), ('the', 'DT'), ('deuteragonist', 'NN'), ('of', 'IN'), ('Call', 'NNP'), ('of', 'IN'), ('Duty', 'NN'), (':', ':'), ('Black', 'NNP'), ('Ops', 'NNP'), ('and', 'CC'), ('a', 'DT'), ('supporting', 'VBG'), ('character', 'NN'), ('in', 'IN'), ('the', 'DT'), ('1980s', 'CD'), ('missions', 'NNS'), ('of', 'IN'), ('Call', 'NNP'), ('of', 'IN'), ('Duty', 'NN'), (':', ':'), ('Black', 'NNP'), ('Ops', 'NNP'), ('II', 'NNP'), ('.', '.')]\n",
            "sentences\n",
            "[('Special', 'JJ'), ('Agent', 'NNP'), ('Jason', 'NNP'), ('Hudson', 'NNP'), ('was', 'VBD'), ('a', 'DT'), ('C.I.A', 'NNP'), ('.', '.')]\n",
            "[('agent', 'NN'), ('responsible', 'JJ'), ('for', 'IN'), ('handling', 'VBG'), ('Alex', 'NNP'), ('Mason', 'NNP'), (',', ','), ('mainly', 'RB'), ('during', 'IN'), ('1968', 'CD'), ('.', '.')]\n",
            "[('He', 'PRP'), ('was', 'VBD'), ('the', 'DT'), ('deuteragonist', 'NN'), ('of', 'IN'), ('Call', 'NNP'), ('of', 'IN'), ('Duty', 'NN'), (':', ':'), ('Black', 'NNP'), ('Ops', 'NNP'), ('and', 'CC'), ('a', 'DT'), ('supporting', 'VBG'), ('character', 'NN'), ('in', 'IN'), ('the', 'DT'), ('1980s', 'CD'), ('missions', 'NNS'), ('of', 'IN'), ('Call', 'NNP'), ('of', 'IN'), ('Duty', 'NN'), (':', ':'), ('Black', 'NNP'), ('Ops', 'NNP'), ('II', 'NNP'), ('.', '.')]\n",
            "sentences\n",
            "[('Special', 'JJ'), ('Agent', 'NNP'), ('Jason', 'NNP'), ('Hudson', 'NNP'), ('was', 'VBD'), ('a', 'DT'), ('C.I.A', 'NNP'), ('.', '.')]\n",
            "[('agent', 'NN'), ('responsible', 'JJ'), ('for', 'IN'), ('handling', 'VBG'), ('Alex', 'NNP'), ('Mason', 'NNP'), (',', ','), ('mainly', 'RB'), ('during', 'IN'), ('1968', 'CD'), ('.', '.')]\n",
            "[('He', 'PRP'), ('was', 'VBD'), ('the', 'DT'), ('deuteragonist', 'NN'), ('of', 'IN'), ('Call', 'NNP'), ('of', 'IN'), ('Duty', 'NN'), (':', ':'), ('Black', 'NNP'), ('Ops', 'NNP'), ('and', 'CC'), ('a', 'DT'), ('supporting', 'VBG'), ('character', 'NN'), ('in', 'IN'), ('the', 'DT'), ('1980s', 'CD'), ('missions', 'NNS'), ('of', 'IN'), ('Call', 'NNP'), ('of', 'IN'), ('Duty', 'NN'), (':', ':'), ('Black', 'NNP'), ('Ops', 'NNP'), ('II', 'NNP'), ('.', '.')]\n",
            "sentences\n",
            "[('Special', 'JJ'), ('Agent', 'NNP'), ('Jason', 'NNP'), ('Hudson', 'NNP'), ('was', 'VBD'), ('a', 'DT'), ('C.I.A', 'NNP'), ('.', '.')]\n",
            "[('agent', 'NN'), ('responsible', 'JJ'), ('for', 'IN'), ('handling', 'VBG'), ('Alex', 'NNP'), ('Mason', 'NNP'), (',', ','), ('mainly', 'RB'), ('during', 'IN'), ('1968', 'CD'), ('.', '.')]\n",
            "[('He', 'PRP'), ('was', 'VBD'), ('the', 'DT'), ('deuteragonist', 'NN'), ('of', 'IN'), ('Call', 'NNP'), ('of', 'IN'), ('Duty', 'NN'), (':', ':'), ('Black', 'NNP'), ('Ops', 'NNP'), ('and', 'CC'), ('a', 'DT'), ('supporting', 'VBG'), ('character', 'NN'), ('in', 'IN'), ('the', 'DT'), ('1980s', 'CD'), ('missions', 'NNS'), ('of', 'IN'), ('Call', 'NNP'), ('of', 'IN'), ('Duty', 'NN'), (':', ':'), ('Black', 'NNP'), ('Ops', 'NNP'), ('II', 'NNP'), ('.', '.')]\n",
            "sentences\n",
            "[('Special', 'JJ'), ('Agent', 'NNP'), ('Jason', 'NNP'), ('Hudson', 'NNP'), ('was', 'VBD'), ('a', 'DT'), ('C.I.A', 'NNP'), ('.', '.')]\n",
            "[('agent', 'NN'), ('responsible', 'JJ'), ('for', 'IN'), ('handling', 'VBG'), ('Alex', 'NNP'), ('Mason', 'NNP'), (',', ','), ('mainly', 'RB'), ('during', 'IN'), ('1968', 'CD'), ('.', '.')]\n",
            "[('He', 'PRP'), ('was', 'VBD'), ('the', 'DT'), ('deuteragonist', 'NN'), ('of', 'IN'), ('Call', 'NNP'), ('of', 'IN'), ('Duty', 'NN'), (':', ':'), ('Black', 'NNP'), ('Ops', 'NNP'), ('and', 'CC'), ('a', 'DT'), ('supporting', 'VBG'), ('character', 'NN'), ('in', 'IN'), ('the', 'DT'), ('1980s', 'CD'), ('missions', 'NNS'), ('of', 'IN'), ('Call', 'NNP'), ('of', 'IN'), ('Duty', 'NN'), (':', ':'), ('Black', 'NNP'), ('Ops', 'NNP'), ('II', 'NNP'), ('.', '.')]\n",
            "sentences\n",
            "[('Special', 'JJ'), ('Agent', 'NNP'), ('Jason', 'NNP'), ('Hudson', 'NNP'), ('was', 'VBD'), ('a', 'DT'), ('C.I.A', 'NNP'), ('.', '.')]\n",
            "[('agent', 'NN'), ('responsible', 'JJ'), ('for', 'IN'), ('handling', 'VBG'), ('Alex', 'NNP'), ('Mason', 'NNP'), (',', ','), ('mainly', 'RB'), ('during', 'IN'), ('1968', 'CD'), ('.', '.')]\n",
            "[('He', 'PRP'), ('was', 'VBD'), ('the', 'DT'), ('deuteragonist', 'NN'), ('of', 'IN'), ('Call', 'NNP'), ('of', 'IN'), ('Duty', 'NN'), (':', ':'), ('Black', 'NNP'), ('Ops', 'NNP'), ('and', 'CC'), ('a', 'DT'), ('supporting', 'VBG'), ('character', 'NN'), ('in', 'IN'), ('the', 'DT'), ('1980s', 'CD'), ('missions', 'NNS'), ('of', 'IN'), ('Call', 'NNP'), ('of', 'IN'), ('Duty', 'NN'), (':', ':'), ('Black', 'NNP'), ('Ops', 'NNP'), ('II', 'NNP'), ('.', '.')]\n",
            "sentences\n",
            "[('Special', 'JJ'), ('Agent', 'NNP'), ('Jason', 'NNP'), ('Hudson', 'NNP'), ('was', 'VBD'), ('a', 'DT'), ('C.I.A', 'NNP'), ('.', '.')]\n",
            "[('agent', 'NN'), ('responsible', 'JJ'), ('for', 'IN'), ('handling', 'VBG'), ('Alex', 'NNP'), ('Mason', 'NNP'), (',', ','), ('mainly', 'RB'), ('during', 'IN'), ('1968', 'CD'), ('.', '.')]\n",
            "[('He', 'PRP'), ('was', 'VBD'), ('the', 'DT'), ('deuteragonist', 'NN'), ('of', 'IN'), ('Call', 'NNP'), ('of', 'IN'), ('Duty', 'NN'), (':', ':'), ('Black', 'NNP'), ('Ops', 'NNP'), ('and', 'CC'), ('a', 'DT'), ('supporting', 'VBG'), ('character', 'NN'), ('in', 'IN'), ('the', 'DT'), ('1980s', 'CD'), ('missions', 'NNS'), ('of', 'IN'), ('Call', 'NNP'), ('of', 'IN'), ('Duty', 'NN'), (':', ':'), ('Black', 'NNP'), ('Ops', 'NNP'), ('II', 'NNP'), ('.', '.')]\n",
            "sentences\n",
            "[('Special', 'JJ'), ('Agent', 'NNP'), ('Jason', 'NNP'), ('Hudson', 'NNP'), ('was', 'VBD'), ('a', 'DT'), ('C.I.A', 'NNP'), ('.', '.')]\n",
            "[('agent', 'NN'), ('responsible', 'JJ'), ('for', 'IN'), ('handling', 'VBG'), ('Alex', 'NNP'), ('Mason', 'NNP'), (',', ','), ('mainly', 'RB'), ('during', 'IN'), ('1968', 'CD'), ('.', '.')]\n",
            "[('He', 'PRP'), ('was', 'VBD'), ('the', 'DT'), ('deuteragonist', 'NN'), ('of', 'IN'), ('Call', 'NNP'), ('of', 'IN'), ('Duty', 'NN'), (':', ':'), ('Black', 'NNP'), ('Ops', 'NNP'), ('and', 'CC'), ('a', 'DT'), ('supporting', 'VBG'), ('character', 'NN'), ('in', 'IN'), ('the', 'DT'), ('1980s', 'CD'), ('missions', 'NNS'), ('of', 'IN'), ('Call', 'NNP'), ('of', 'IN'), ('Duty', 'NN'), (':', ':'), ('Black', 'NNP'), ('Ops', 'NNP'), ('II', 'NNP'), ('.', '.')]\n",
            "sentences\n",
            "[('Special', 'JJ'), ('Agent', 'NNP'), ('Jason', 'NNP'), ('Hudson', 'NNP'), ('was', 'VBD'), ('a', 'DT'), ('C.I.A', 'NNP'), ('.', '.')]\n",
            "[('agent', 'NN'), ('responsible', 'JJ'), ('for', 'IN'), ('handling', 'VBG'), ('Alex', 'NNP'), ('Mason', 'NNP'), (',', ','), ('mainly', 'RB'), ('during', 'IN'), ('1968', 'CD'), ('.', '.')]\n",
            "[('He', 'PRP'), ('was', 'VBD'), ('the', 'DT'), ('deuteragonist', 'NN'), ('of', 'IN'), ('Call', 'NNP'), ('of', 'IN'), ('Duty', 'NN'), (':', ':'), ('Black', 'NNP'), ('Ops', 'NNP'), ('and', 'CC'), ('a', 'DT'), ('supporting', 'VBG'), ('character', 'NN'), ('in', 'IN'), ('the', 'DT'), ('1980s', 'CD'), ('missions', 'NNS'), ('of', 'IN'), ('Call', 'NNP'), ('of', 'IN'), ('Duty', 'NN'), (':', ':'), ('Black', 'NNP'), ('Ops', 'NNP'), ('II', 'NNP'), ('.', '.')]\n",
            "sentences\n",
            "[('Special', 'JJ'), ('Agent', 'NNP'), ('Jason', 'NNP'), ('Hudson', 'NNP'), ('was', 'VBD'), ('a', 'DT'), ('C.I.A', 'NNP'), ('.', '.')]\n",
            "[('agent', 'NN'), ('responsible', 'JJ'), ('for', 'IN'), ('handling', 'VBG'), ('Alex', 'NNP'), ('Mason', 'NNP'), (',', ','), ('mainly', 'RB'), ('during', 'IN'), ('1968', 'CD'), ('.', '.')]\n",
            "[('He', 'PRP'), ('was', 'VBD'), ('the', 'DT'), ('deuteragonist', 'NN'), ('of', 'IN'), ('Call', 'NNP'), ('of', 'IN'), ('Duty', 'NN'), (':', ':'), ('Black', 'NNP'), ('Ops', 'NNP'), ('and', 'CC'), ('a', 'DT'), ('supporting', 'VBG'), ('character', 'NN'), ('in', 'IN'), ('the', 'DT'), ('1980s', 'CD'), ('missions', 'NNS'), ('of', 'IN'), ('Call', 'NNP'), ('of', 'IN'), ('Duty', 'NN'), (':', ':'), ('Black', 'NNP'), ('Ops', 'NNP'), ('II', 'NNP'), ('.', '.')]\n",
            "sentences\n",
            "[('Special', 'JJ'), ('Agent', 'NNP'), ('Jason', 'NNP'), ('Hudson', 'NNP'), ('was', 'VBD'), ('a', 'DT'), ('C.I.A', 'NNP'), ('.', '.')]\n",
            "[('agent', 'NN'), ('responsible', 'JJ'), ('for', 'IN'), ('handling', 'VBG'), ('Alex', 'NNP'), ('Mason', 'NNP'), (',', ','), ('mainly', 'RB'), ('during', 'IN'), ('1968', 'CD'), ('.', '.')]\n",
            "[('He', 'PRP'), ('was', 'VBD'), ('the', 'DT'), ('deuteragonist', 'NN'), ('of', 'IN'), ('Call', 'NNP'), ('of', 'IN'), ('Duty', 'NN'), (':', ':'), ('Black', 'NNP'), ('Ops', 'NNP'), ('and', 'CC'), ('a', 'DT'), ('supporting', 'VBG'), ('character', 'NN'), ('in', 'IN'), ('the', 'DT'), ('1980s', 'CD'), ('missions', 'NNS'), ('of', 'IN'), ('Call', 'NNP'), ('of', 'IN'), ('Duty', 'NN'), (':', ':'), ('Black', 'NNP'), ('Ops', 'NNP'), ('II', 'NNP'), ('.', '.')]\n",
            "sentences\n",
            "[('Special', 'JJ'), ('Agent', 'NNP'), ('Jason', 'NNP'), ('Hudson', 'NNP'), ('was', 'VBD'), ('a', 'DT'), ('C.I.A', 'NNP'), ('.', '.')]\n",
            "[('agent', 'NN'), ('responsible', 'JJ'), ('for', 'IN'), ('handling', 'VBG'), ('Alex', 'NNP'), ('Mason', 'NNP'), (',', ','), ('mainly', 'RB'), ('during', 'IN'), ('1968', 'CD'), ('.', '.')]\n",
            "[('He', 'PRP'), ('was', 'VBD'), ('the', 'DT'), ('deuteragonist', 'NN'), ('of', 'IN'), ('Call', 'NNP'), ('of', 'IN'), ('Duty', 'NN'), (':', ':'), ('Black', 'NNP'), ('Ops', 'NNP'), ('and', 'CC'), ('a', 'DT'), ('supporting', 'VBG'), ('character', 'NN'), ('in', 'IN'), ('the', 'DT'), ('1980s', 'CD'), ('missions', 'NNS'), ('of', 'IN'), ('Call', 'NNP'), ('of', 'IN'), ('Duty', 'NN'), (':', ':'), ('Black', 'NNP'), ('Ops', 'NNP'), ('II', 'NNP'), ('.', '.')]\n",
            "sentences\n",
            "[('Special', 'JJ'), ('Agent', 'NNP'), ('Jason', 'NNP'), ('Hudson', 'NNP'), ('was', 'VBD'), ('a', 'DT'), ('C.I.A', 'NNP'), ('.', '.')]\n",
            "[('agent', 'NN'), ('responsible', 'JJ'), ('for', 'IN'), ('handling', 'VBG'), ('Alex', 'NNP'), ('Mason', 'NNP'), (',', ','), ('mainly', 'RB'), ('during', 'IN'), ('1968', 'CD'), ('.', '.')]\n",
            "[('He', 'PRP'), ('was', 'VBD'), ('the', 'DT'), ('deuteragonist', 'NN'), ('of', 'IN'), ('Call', 'NNP'), ('of', 'IN'), ('Duty', 'NN'), (':', ':'), ('Black', 'NNP'), ('Ops', 'NNP'), ('and', 'CC'), ('a', 'DT'), ('supporting', 'VBG'), ('character', 'NN'), ('in', 'IN'), ('the', 'DT'), ('1980s', 'CD'), ('missions', 'NNS'), ('of', 'IN'), ('Call', 'NNP'), ('of', 'IN'), ('Duty', 'NN'), (':', ':'), ('Black', 'NNP'), ('Ops', 'NNP'), ('II', 'NNP'), ('.', '.')]\n",
            "sentences\n",
            "[('Special', 'JJ'), ('Agent', 'NNP'), ('Jason', 'NNP'), ('Hudson', 'NNP'), ('was', 'VBD'), ('a', 'DT'), ('C.I.A', 'NNP'), ('.', '.')]\n",
            "[('agent', 'NN'), ('responsible', 'JJ'), ('for', 'IN'), ('handling', 'VBG'), ('Alex', 'NNP'), ('Mason', 'NNP'), (',', ','), ('mainly', 'RB'), ('during', 'IN'), ('1968', 'CD'), ('.', '.')]\n",
            "[('He', 'PRP'), ('was', 'VBD'), ('the', 'DT'), ('deuteragonist', 'NN'), ('of', 'IN'), ('Call', 'NNP'), ('of', 'IN'), ('Duty', 'NN'), (':', ':'), ('Black', 'NNP'), ('Ops', 'NNP'), ('and', 'CC'), ('a', 'DT'), ('supporting', 'VBG'), ('character', 'NN'), ('in', 'IN'), ('the', 'DT'), ('1980s', 'CD'), ('missions', 'NNS'), ('of', 'IN'), ('Call', 'NNP'), ('of', 'IN'), ('Duty', 'NN'), (':', ':'), ('Black', 'NNP'), ('Ops', 'NNP'), ('II', 'NNP'), ('.', '.')]\n",
            "sentences\n",
            "[('Special', 'JJ'), ('Agent', 'NNP'), ('Jason', 'NNP'), ('Hudson', 'NNP'), ('was', 'VBD'), ('a', 'DT'), ('C.I.A', 'NNP'), ('.', '.')]\n",
            "[('agent', 'NN'), ('responsible', 'JJ'), ('for', 'IN'), ('handling', 'VBG'), ('Alex', 'NNP'), ('Mason', 'NNP'), (',', ','), ('mainly', 'RB'), ('during', 'IN'), ('1968', 'CD'), ('.', '.')]\n",
            "[('He', 'PRP'), ('was', 'VBD'), ('the', 'DT'), ('deuteragonist', 'NN'), ('of', 'IN'), ('Call', 'NNP'), ('of', 'IN'), ('Duty', 'NN'), (':', ':'), ('Black', 'NNP'), ('Ops', 'NNP'), ('and', 'CC'), ('a', 'DT'), ('supporting', 'VBG'), ('character', 'NN'), ('in', 'IN'), ('the', 'DT'), ('1980s', 'CD'), ('missions', 'NNS'), ('of', 'IN'), ('Call', 'NNP'), ('of', 'IN'), ('Duty', 'NN'), (':', ':'), ('Black', 'NNP'), ('Ops', 'NNP'), ('II', 'NNP'), ('.', '.')]\n",
            "sentences\n",
            "[('Special', 'JJ'), ('Agent', 'NNP'), ('Jason', 'NNP'), ('Hudson', 'NNP'), ('was', 'VBD'), ('a', 'DT'), ('C.I.A', 'NNP'), ('.', '.')]\n",
            "[('agent', 'NN'), ('responsible', 'JJ'), ('for', 'IN'), ('handling', 'VBG'), ('Alex', 'NNP'), ('Mason', 'NNP'), (',', ','), ('mainly', 'RB'), ('during', 'IN'), ('1968', 'CD'), ('.', '.')]\n",
            "[('He', 'PRP'), ('was', 'VBD'), ('the', 'DT'), ('deuteragonist', 'NN'), ('of', 'IN'), ('Call', 'NNP'), ('of', 'IN'), ('Duty', 'NN'), (':', ':'), ('Black', 'NNP'), ('Ops', 'NNP'), ('and', 'CC'), ('a', 'DT'), ('supporting', 'VBG'), ('character', 'NN'), ('in', 'IN'), ('the', 'DT'), ('1980s', 'CD'), ('missions', 'NNS'), ('of', 'IN'), ('Call', 'NNP'), ('of', 'IN'), ('Duty', 'NN'), (':', ':'), ('Black', 'NNP'), ('Ops', 'NNP'), ('II', 'NNP'), ('.', '.')]\n",
            "sentences\n",
            "[('Special', 'JJ'), ('Agent', 'NNP'), ('Jason', 'NNP'), ('Hudson', 'NNP'), ('was', 'VBD'), ('a', 'DT'), ('C.I.A', 'NNP'), ('.', '.')]\n",
            "[('agent', 'NN'), ('responsible', 'JJ'), ('for', 'IN'), ('handling', 'VBG'), ('Alex', 'NNP'), ('Mason', 'NNP'), (',', ','), ('mainly', 'RB'), ('during', 'IN'), ('1968', 'CD'), ('.', '.')]\n",
            "[('He', 'PRP'), ('was', 'VBD'), ('the', 'DT'), ('deuteragonist', 'NN'), ('of', 'IN'), ('Call', 'NNP'), ('of', 'IN'), ('Duty', 'NN'), (':', ':'), ('Black', 'NNP'), ('Ops', 'NNP'), ('and', 'CC'), ('a', 'DT'), ('supporting', 'VBG'), ('character', 'NN'), ('in', 'IN'), ('the', 'DT'), ('1980s', 'CD'), ('missions', 'NNS'), ('of', 'IN'), ('Call', 'NNP'), ('of', 'IN'), ('Duty', 'NN'), (':', ':'), ('Black', 'NNP'), ('Ops', 'NNP'), ('II', 'NNP'), ('.', '.')]\n",
            "sentences\n",
            "[('Special', 'JJ'), ('Agent', 'NNP'), ('Jason', 'NNP'), ('Hudson', 'NNP'), ('was', 'VBD'), ('a', 'DT'), ('C.I.A', 'NNP'), ('.', '.')]\n",
            "[('agent', 'NN'), ('responsible', 'JJ'), ('for', 'IN'), ('handling', 'VBG'), ('Alex', 'NNP'), ('Mason', 'NNP'), (',', ','), ('mainly', 'RB'), ('during', 'IN'), ('1968', 'CD'), ('.', '.')]\n",
            "[('He', 'PRP'), ('was', 'VBD'), ('the', 'DT'), ('deuteragonist', 'NN'), ('of', 'IN'), ('Call', 'NNP'), ('of', 'IN'), ('Duty', 'NN'), (':', ':'), ('Black', 'NNP'), ('Ops', 'NNP'), ('and', 'CC'), ('a', 'DT'), ('supporting', 'VBG'), ('character', 'NN'), ('in', 'IN'), ('the', 'DT'), ('1980s', 'CD'), ('missions', 'NNS'), ('of', 'IN'), ('Call', 'NNP'), ('of', 'IN'), ('Duty', 'NN'), (':', ':'), ('Black', 'NNP'), ('Ops', 'NNP'), ('II', 'NNP'), ('.', '.')]\n",
            "sentences\n",
            "[('Special', 'JJ'), ('Agent', 'NNP'), ('Jason', 'NNP'), ('Hudson', 'NNP'), ('was', 'VBD'), ('a', 'DT'), ('C.I.A', 'NNP'), ('.', '.')]\n",
            "[('agent', 'NN'), ('responsible', 'JJ'), ('for', 'IN'), ('handling', 'VBG'), ('Alex', 'NNP'), ('Mason', 'NNP'), (',', ','), ('mainly', 'RB'), ('during', 'IN'), ('1968', 'CD'), ('.', '.')]\n",
            "[('He', 'PRP'), ('was', 'VBD'), ('the', 'DT'), ('deuteragonist', 'NN'), ('of', 'IN'), ('Call', 'NNP'), ('of', 'IN'), ('Duty', 'NN'), (':', ':'), ('Black', 'NNP'), ('Ops', 'NNP'), ('and', 'CC'), ('a', 'DT'), ('supporting', 'VBG'), ('character', 'NN'), ('in', 'IN'), ('the', 'DT'), ('1980s', 'CD'), ('missions', 'NNS'), ('of', 'IN'), ('Call', 'NNP'), ('of', 'IN'), ('Duty', 'NN'), (':', ':'), ('Black', 'NNP'), ('Ops', 'NNP'), ('II', 'NNP'), ('.', '.')]\n",
            "sentences\n",
            "[('Special', 'JJ'), ('Agent', 'NNP'), ('Jason', 'NNP'), ('Hudson', 'NNP'), ('was', 'VBD'), ('a', 'DT'), ('C.I.A', 'NNP'), ('.', '.')]\n",
            "[('agent', 'NN'), ('responsible', 'JJ'), ('for', 'IN'), ('handling', 'VBG'), ('Alex', 'NNP'), ('Mason', 'NNP'), (',', ','), ('mainly', 'RB'), ('during', 'IN'), ('1968', 'CD'), ('.', '.')]\n",
            "[('He', 'PRP'), ('was', 'VBD'), ('the', 'DT'), ('deuteragonist', 'NN'), ('of', 'IN'), ('Call', 'NNP'), ('of', 'IN'), ('Duty', 'NN'), (':', ':'), ('Black', 'NNP'), ('Ops', 'NNP'), ('and', 'CC'), ('a', 'DT'), ('supporting', 'VBG'), ('character', 'NN'), ('in', 'IN'), ('the', 'DT'), ('1980s', 'CD'), ('missions', 'NNS'), ('of', 'IN'), ('Call', 'NNP'), ('of', 'IN'), ('Duty', 'NN'), (':', ':'), ('Black', 'NNP'), ('Ops', 'NNP'), ('II', 'NNP'), ('.', '.')]\n",
            "sentences\n",
            "[('Special', 'JJ'), ('Agent', 'NNP'), ('Jason', 'NNP'), ('Hudson', 'NNP'), ('was', 'VBD'), ('a', 'DT'), ('C.I.A', 'NNP'), ('.', '.')]\n",
            "[('agent', 'NN'), ('responsible', 'JJ'), ('for', 'IN'), ('handling', 'VBG'), ('Alex', 'NNP'), ('Mason', 'NNP'), (',', ','), ('mainly', 'RB'), ('during', 'IN'), ('1968', 'CD'), ('.', '.')]\n",
            "[('He', 'PRP'), ('was', 'VBD'), ('the', 'DT'), ('deuteragonist', 'NN'), ('of', 'IN'), ('Call', 'NNP'), ('of', 'IN'), ('Duty', 'NN'), (':', ':'), ('Black', 'NNP'), ('Ops', 'NNP'), ('and', 'CC'), ('a', 'DT'), ('supporting', 'VBG'), ('character', 'NN'), ('in', 'IN'), ('the', 'DT'), ('1980s', 'CD'), ('missions', 'NNS'), ('of', 'IN'), ('Call', 'NNP'), ('of', 'IN'), ('Duty', 'NN'), (':', ':'), ('Black', 'NNP'), ('Ops', 'NNP'), ('II', 'NNP'), ('.', '.')]\n",
            "sentences\n",
            "[('Special', 'JJ'), ('Agent', 'NNP'), ('Jason', 'NNP'), ('Hudson', 'NNP'), ('was', 'VBD'), ('a', 'DT'), ('C.I.A', 'NNP'), ('.', '.')]\n",
            "[('agent', 'NN'), ('responsible', 'JJ'), ('for', 'IN'), ('handling', 'VBG'), ('Alex', 'NNP'), ('Mason', 'NNP'), (',', ','), ('mainly', 'RB'), ('during', 'IN'), ('1968', 'CD'), ('.', '.')]\n",
            "[('He', 'PRP'), ('was', 'VBD'), ('the', 'DT'), ('deuteragonist', 'NN'), ('of', 'IN'), ('Call', 'NNP'), ('of', 'IN'), ('Duty', 'NN'), (':', ':'), ('Black', 'NNP'), ('Ops', 'NNP'), ('and', 'CC'), ('a', 'DT'), ('supporting', 'VBG'), ('character', 'NN'), ('in', 'IN'), ('the', 'DT'), ('1980s', 'CD'), ('missions', 'NNS'), ('of', 'IN'), ('Call', 'NNP'), ('of', 'IN'), ('Duty', 'NN'), (':', ':'), ('Black', 'NNP'), ('Ops', 'NNP'), ('II', 'NNP'), ('.', '.')]\n",
            "sentences\n",
            "[('Special', 'JJ'), ('Agent', 'NNP'), ('Jason', 'NNP'), ('Hudson', 'NNP'), ('was', 'VBD'), ('a', 'DT'), ('C.I.A', 'NNP'), ('.', '.')]\n",
            "[('agent', 'NN'), ('responsible', 'JJ'), ('for', 'IN'), ('handling', 'VBG'), ('Alex', 'NNP'), ('Mason', 'NNP'), (',', ','), ('mainly', 'RB'), ('during', 'IN'), ('1968', 'CD'), ('.', '.')]\n",
            "[('He', 'PRP'), ('was', 'VBD'), ('the', 'DT'), ('deuteragonist', 'NN'), ('of', 'IN'), ('Call', 'NNP'), ('of', 'IN'), ('Duty', 'NN'), (':', ':'), ('Black', 'NNP'), ('Ops', 'NNP'), ('and', 'CC'), ('a', 'DT'), ('supporting', 'VBG'), ('character', 'NN'), ('in', 'IN'), ('the', 'DT'), ('1980s', 'CD'), ('missions', 'NNS'), ('of', 'IN'), ('Call', 'NNP'), ('of', 'IN'), ('Duty', 'NN'), (':', ':'), ('Black', 'NNP'), ('Ops', 'NNP'), ('II', 'NNP'), ('.', '.')]\n",
            "sentences\n",
            "[('Special', 'JJ'), ('Agent', 'NNP'), ('Jason', 'NNP'), ('Hudson', 'NNP'), ('was', 'VBD'), ('a', 'DT'), ('C.I.A', 'NNP'), ('.', '.')]\n",
            "[('agent', 'NN'), ('responsible', 'JJ'), ('for', 'IN'), ('handling', 'VBG'), ('Alex', 'NNP'), ('Mason', 'NNP'), (',', ','), ('mainly', 'RB'), ('during', 'IN'), ('1968', 'CD'), ('.', '.')]\n",
            "[('He', 'PRP'), ('was', 'VBD'), ('the', 'DT'), ('deuteragonist', 'NN'), ('of', 'IN'), ('Call', 'NNP'), ('of', 'IN'), ('Duty', 'NN'), (':', ':'), ('Black', 'NNP'), ('Ops', 'NNP'), ('and', 'CC'), ('a', 'DT'), ('supporting', 'VBG'), ('character', 'NN'), ('in', 'IN'), ('the', 'DT'), ('1980s', 'CD'), ('missions', 'NNS'), ('of', 'IN'), ('Call', 'NNP'), ('of', 'IN'), ('Duty', 'NN'), (':', ':'), ('Black', 'NNP'), ('Ops', 'NNP'), ('II', 'NNP'), ('.', '.')]\n",
            "sentences\n",
            "[('Special', 'JJ'), ('Agent', 'NNP'), ('Jason', 'NNP'), ('Hudson', 'NNP'), ('was', 'VBD'), ('a', 'DT'), ('C.I.A', 'NNP'), ('.', '.')]\n",
            "[('agent', 'NN'), ('responsible', 'JJ'), ('for', 'IN'), ('handling', 'VBG'), ('Alex', 'NNP'), ('Mason', 'NNP'), (',', ','), ('mainly', 'RB'), ('during', 'IN'), ('1968', 'CD'), ('.', '.')]\n",
            "[('He', 'PRP'), ('was', 'VBD'), ('the', 'DT'), ('deuteragonist', 'NN'), ('of', 'IN'), ('Call', 'NNP'), ('of', 'IN'), ('Duty', 'NN'), (':', ':'), ('Black', 'NNP'), ('Ops', 'NNP'), ('and', 'CC'), ('a', 'DT'), ('supporting', 'VBG'), ('character', 'NN'), ('in', 'IN'), ('the', 'DT'), ('1980s', 'CD'), ('missions', 'NNS'), ('of', 'IN'), ('Call', 'NNP'), ('of', 'IN'), ('Duty', 'NN'), (':', ':'), ('Black', 'NNP'), ('Ops', 'NNP'), ('II', 'NNP'), ('.', '.')]\n",
            "sentences\n",
            "[('Special', 'JJ'), ('Agent', 'NNP'), ('Jason', 'NNP'), ('Hudson', 'NNP'), ('was', 'VBD'), ('a', 'DT'), ('C.I.A', 'NNP'), ('.', '.')]\n",
            "[('agent', 'NN'), ('responsible', 'JJ'), ('for', 'IN'), ('handling', 'VBG'), ('Alex', 'NNP'), ('Mason', 'NNP'), (',', ','), ('mainly', 'RB'), ('during', 'IN'), ('1968', 'CD'), ('.', '.')]\n",
            "[('He', 'PRP'), ('was', 'VBD'), ('the', 'DT'), ('deuteragonist', 'NN'), ('of', 'IN'), ('Call', 'NNP'), ('of', 'IN'), ('Duty', 'NN'), (':', ':'), ('Black', 'NNP'), ('Ops', 'NNP'), ('and', 'CC'), ('a', 'DT'), ('supporting', 'VBG'), ('character', 'NN'), ('in', 'IN'), ('the', 'DT'), ('1980s', 'CD'), ('missions', 'NNS'), ('of', 'IN'), ('Call', 'NNP'), ('of', 'IN'), ('Duty', 'NN'), (':', ':'), ('Black', 'NNP'), ('Ops', 'NNP'), ('II', 'NNP'), ('.', '.')]\n",
            "sentences\n",
            "[('Special', 'JJ'), ('Agent', 'NNP'), ('Jason', 'NNP'), ('Hudson', 'NNP'), ('was', 'VBD'), ('a', 'DT'), ('C.I.A', 'NNP'), ('.', '.')]\n",
            "[('agent', 'NN'), ('responsible', 'JJ'), ('for', 'IN'), ('handling', 'VBG'), ('Alex', 'NNP'), ('Mason', 'NNP'), (',', ','), ('mainly', 'RB'), ('during', 'IN'), ('1968', 'CD'), ('.', '.')]\n",
            "[('He', 'PRP'), ('was', 'VBD'), ('the', 'DT'), ('deuteragonist', 'NN'), ('of', 'IN'), ('Call', 'NNP'), ('of', 'IN'), ('Duty', 'NN'), (':', ':'), ('Black', 'NNP'), ('Ops', 'NNP'), ('and', 'CC'), ('a', 'DT'), ('supporting', 'VBG'), ('character', 'NN'), ('in', 'IN'), ('the', 'DT'), ('1980s', 'CD'), ('missions', 'NNS'), ('of', 'IN'), ('Call', 'NNP'), ('of', 'IN'), ('Duty', 'NN'), (':', ':'), ('Black', 'NNP'), ('Ops', 'NNP'), ('II', 'NNP'), ('.', '.')]\n",
            "sentences\n",
            "[('Special', 'JJ'), ('Agent', 'NNP'), ('Jason', 'NNP'), ('Hudson', 'NNP'), ('was', 'VBD'), ('a', 'DT'), ('C.I.A', 'NNP'), ('.', '.')]\n",
            "[('agent', 'NN'), ('responsible', 'JJ'), ('for', 'IN'), ('handling', 'VBG'), ('Alex', 'NNP'), ('Mason', 'NNP'), (',', ','), ('mainly', 'RB'), ('during', 'IN'), ('1968', 'CD'), ('.', '.')]\n",
            "[('He', 'PRP'), ('was', 'VBD'), ('the', 'DT'), ('deuteragonist', 'NN'), ('of', 'IN'), ('Call', 'NNP'), ('of', 'IN'), ('Duty', 'NN'), (':', ':'), ('Black', 'NNP'), ('Ops', 'NNP'), ('and', 'CC'), ('a', 'DT'), ('supporting', 'VBG'), ('character', 'NN'), ('in', 'IN'), ('the', 'DT'), ('1980s', 'CD'), ('missions', 'NNS'), ('of', 'IN'), ('Call', 'NNP'), ('of', 'IN'), ('Duty', 'NN'), (':', ':'), ('Black', 'NNP'), ('Ops', 'NNP'), ('II', 'NNP'), ('.', '.')]\n",
            "sentences\n",
            "[('Special', 'JJ'), ('Agent', 'NNP'), ('Jason', 'NNP'), ('Hudson', 'NNP'), ('was', 'VBD'), ('a', 'DT'), ('C.I.A', 'NNP'), ('.', '.')]\n",
            "[('agent', 'NN'), ('responsible', 'JJ'), ('for', 'IN'), ('handling', 'VBG'), ('Alex', 'NNP'), ('Mason', 'NNP'), (',', ','), ('mainly', 'RB'), ('during', 'IN'), ('1968', 'CD'), ('.', '.')]\n",
            "[('He', 'PRP'), ('was', 'VBD'), ('the', 'DT'), ('deuteragonist', 'NN'), ('of', 'IN'), ('Call', 'NNP'), ('of', 'IN'), ('Duty', 'NN'), (':', ':'), ('Black', 'NNP'), ('Ops', 'NNP'), ('and', 'CC'), ('a', 'DT'), ('supporting', 'VBG'), ('character', 'NN'), ('in', 'IN'), ('the', 'DT'), ('1980s', 'CD'), ('missions', 'NNS'), ('of', 'IN'), ('Call', 'NNP'), ('of', 'IN'), ('Duty', 'NN'), (':', ':'), ('Black', 'NNP'), ('Ops', 'NNP'), ('II', 'NNP'), ('.', '.')]\n",
            "sentences\n",
            "[('Special', 'JJ'), ('Agent', 'NNP'), ('Jason', 'NNP'), ('Hudson', 'NNP'), ('was', 'VBD'), ('a', 'DT'), ('C.I.A', 'NNP'), ('.', '.')]\n",
            "[('agent', 'NN'), ('responsible', 'JJ'), ('for', 'IN'), ('handling', 'VBG'), ('Alex', 'NNP'), ('Mason', 'NNP'), (',', ','), ('mainly', 'RB'), ('during', 'IN'), ('1968', 'CD'), ('.', '.')]\n",
            "[('He', 'PRP'), ('was', 'VBD'), ('the', 'DT'), ('deuteragonist', 'NN'), ('of', 'IN'), ('Call', 'NNP'), ('of', 'IN'), ('Duty', 'NN'), (':', ':'), ('Black', 'NNP'), ('Ops', 'NNP'), ('and', 'CC'), ('a', 'DT'), ('supporting', 'VBG'), ('character', 'NN'), ('in', 'IN'), ('the', 'DT'), ('1980s', 'CD'), ('missions', 'NNS'), ('of', 'IN'), ('Call', 'NNP'), ('of', 'IN'), ('Duty', 'NN'), (':', ':'), ('Black', 'NNP'), ('Ops', 'NNP'), ('II', 'NNP'), ('.', '.')]\n",
            "sentences\n",
            "[('Special', 'JJ'), ('Agent', 'NNP'), ('Jason', 'NNP'), ('Hudson', 'NNP'), ('was', 'VBD'), ('a', 'DT'), ('C.I.A', 'NNP'), ('.', '.')]\n",
            "[('agent', 'NN'), ('responsible', 'JJ'), ('for', 'IN'), ('handling', 'VBG'), ('Alex', 'NNP'), ('Mason', 'NNP'), (',', ','), ('mainly', 'RB'), ('during', 'IN'), ('1968', 'CD'), ('.', '.')]\n",
            "[('He', 'PRP'), ('was', 'VBD'), ('the', 'DT'), ('deuteragonist', 'NN'), ('of', 'IN'), ('Call', 'NNP'), ('of', 'IN'), ('Duty', 'NN'), (':', ':'), ('Black', 'NNP'), ('Ops', 'NNP'), ('and', 'CC'), ('a', 'DT'), ('supporting', 'VBG'), ('character', 'NN'), ('in', 'IN'), ('the', 'DT'), ('1980s', 'CD'), ('missions', 'NNS'), ('of', 'IN'), ('Call', 'NNP'), ('of', 'IN'), ('Duty', 'NN'), (':', ':'), ('Black', 'NNP'), ('Ops', 'NNP'), ('II', 'NNP'), ('.', '.')]\n",
            "sentences\n",
            "[('Special', 'JJ'), ('Agent', 'NNP'), ('Jason', 'NNP'), ('Hudson', 'NNP'), ('was', 'VBD'), ('a', 'DT'), ('C.I.A', 'NNP'), ('.', '.')]\n",
            "[('agent', 'NN'), ('responsible', 'JJ'), ('for', 'IN'), ('handling', 'VBG'), ('Alex', 'NNP'), ('Mason', 'NNP'), (',', ','), ('mainly', 'RB'), ('during', 'IN'), ('1968', 'CD'), ('.', '.')]\n",
            "[('He', 'PRP'), ('was', 'VBD'), ('the', 'DT'), ('deuteragonist', 'NN'), ('of', 'IN'), ('Call', 'NNP'), ('of', 'IN'), ('Duty', 'NN'), (':', ':'), ('Black', 'NNP'), ('Ops', 'NNP'), ('and', 'CC'), ('a', 'DT'), ('supporting', 'VBG'), ('character', 'NN'), ('in', 'IN'), ('the', 'DT'), ('1980s', 'CD'), ('missions', 'NNS'), ('of', 'IN'), ('Call', 'NNP'), ('of', 'IN'), ('Duty', 'NN'), (':', ':'), ('Black', 'NNP'), ('Ops', 'NNP'), ('II', 'NNP'), ('.', '.')]\n",
            "sentences\n",
            "[('Special', 'JJ'), ('Agent', 'NNP'), ('Jason', 'NNP'), ('Hudson', 'NNP'), ('was', 'VBD'), ('a', 'DT'), ('C.I.A', 'NNP'), ('.', '.')]\n",
            "[('agent', 'NN'), ('responsible', 'JJ'), ('for', 'IN'), ('handling', 'VBG'), ('Alex', 'NNP'), ('Mason', 'NNP'), (',', ','), ('mainly', 'RB'), ('during', 'IN'), ('1968', 'CD'), ('.', '.')]\n",
            "[('He', 'PRP'), ('was', 'VBD'), ('the', 'DT'), ('deuteragonist', 'NN'), ('of', 'IN'), ('Call', 'NNP'), ('of', 'IN'), ('Duty', 'NN'), (':', ':'), ('Black', 'NNP'), ('Ops', 'NNP'), ('and', 'CC'), ('a', 'DT'), ('supporting', 'VBG'), ('character', 'NN'), ('in', 'IN'), ('the', 'DT'), ('1980s', 'CD'), ('missions', 'NNS'), ('of', 'IN'), ('Call', 'NNP'), ('of', 'IN'), ('Duty', 'NN'), (':', ':'), ('Black', 'NNP'), ('Ops', 'NNP'), ('II', 'NNP'), ('.', '.')]\n",
            "sentences\n",
            "[('Special', 'JJ'), ('Agent', 'NNP'), ('Jason', 'NNP'), ('Hudson', 'NNP'), ('was', 'VBD'), ('a', 'DT'), ('C.I.A', 'NNP'), ('.', '.')]\n",
            "[('agent', 'NN'), ('responsible', 'JJ'), ('for', 'IN'), ('handling', 'VBG'), ('Alex', 'NNP'), ('Mason', 'NNP'), (',', ','), ('mainly', 'RB'), ('during', 'IN'), ('1968', 'CD'), ('.', '.')]\n",
            "[('He', 'PRP'), ('was', 'VBD'), ('the', 'DT'), ('deuteragonist', 'NN'), ('of', 'IN'), ('Call', 'NNP'), ('of', 'IN'), ('Duty', 'NN'), (':', ':'), ('Black', 'NNP'), ('Ops', 'NNP'), ('and', 'CC'), ('a', 'DT'), ('supporting', 'VBG'), ('character', 'NN'), ('in', 'IN'), ('the', 'DT'), ('1980s', 'CD'), ('missions', 'NNS'), ('of', 'IN'), ('Call', 'NNP'), ('of', 'IN'), ('Duty', 'NN'), (':', ':'), ('Black', 'NNP'), ('Ops', 'NNP'), ('II', 'NNP'), ('.', '.')]\n",
            "sentences\n",
            "[('Special', 'JJ'), ('Agent', 'NNP'), ('Jason', 'NNP'), ('Hudson', 'NNP'), ('was', 'VBD'), ('a', 'DT'), ('C.I.A', 'NNP'), ('.', '.')]\n",
            "[('agent', 'NN'), ('responsible', 'JJ'), ('for', 'IN'), ('handling', 'VBG'), ('Alex', 'NNP'), ('Mason', 'NNP'), (',', ','), ('mainly', 'RB'), ('during', 'IN'), ('1968', 'CD'), ('.', '.')]\n",
            "[('He', 'PRP'), ('was', 'VBD'), ('the', 'DT'), ('deuteragonist', 'NN'), ('of', 'IN'), ('Call', 'NNP'), ('of', 'IN'), ('Duty', 'NN'), (':', ':'), ('Black', 'NNP'), ('Ops', 'NNP'), ('and', 'CC'), ('a', 'DT'), ('supporting', 'VBG'), ('character', 'NN'), ('in', 'IN'), ('the', 'DT'), ('1980s', 'CD'), ('missions', 'NNS'), ('of', 'IN'), ('Call', 'NNP'), ('of', 'IN'), ('Duty', 'NN'), (':', ':'), ('Black', 'NNP'), ('Ops', 'NNP'), ('II', 'NNP'), ('.', '.')]\n",
            "sentences\n",
            "[('Special', 'JJ'), ('Agent', 'NNP'), ('Jason', 'NNP'), ('Hudson', 'NNP'), ('was', 'VBD'), ('a', 'DT'), ('C.I.A', 'NNP'), ('.', '.')]\n",
            "[('agent', 'NN'), ('responsible', 'JJ'), ('for', 'IN'), ('handling', 'VBG'), ('Alex', 'NNP'), ('Mason', 'NNP'), (',', ','), ('mainly', 'RB'), ('during', 'IN'), ('1968', 'CD'), ('.', '.')]\n",
            "[('He', 'PRP'), ('was', 'VBD'), ('the', 'DT'), ('deuteragonist', 'NN'), ('of', 'IN'), ('Call', 'NNP'), ('of', 'IN'), ('Duty', 'NN'), (':', ':'), ('Black', 'NNP'), ('Ops', 'NNP'), ('and', 'CC'), ('a', 'DT'), ('supporting', 'VBG'), ('character', 'NN'), ('in', 'IN'), ('the', 'DT'), ('1980s', 'CD'), ('missions', 'NNS'), ('of', 'IN'), ('Call', 'NNP'), ('of', 'IN'), ('Duty', 'NN'), (':', ':'), ('Black', 'NNP'), ('Ops', 'NNP'), ('II', 'NNP'), ('.', '.')]\n",
            "sentences\n",
            "[('Special', 'JJ'), ('Agent', 'NNP'), ('Jason', 'NNP'), ('Hudson', 'NNP'), ('was', 'VBD'), ('a', 'DT'), ('C.I.A', 'NNP'), ('.', '.')]\n",
            "[('agent', 'NN'), ('responsible', 'JJ'), ('for', 'IN'), ('handling', 'VBG'), ('Alex', 'NNP'), ('Mason', 'NNP'), (',', ','), ('mainly', 'RB'), ('during', 'IN'), ('1968', 'CD'), ('.', '.')]\n",
            "[('He', 'PRP'), ('was', 'VBD'), ('the', 'DT'), ('deuteragonist', 'NN'), ('of', 'IN'), ('Call', 'NNP'), ('of', 'IN'), ('Duty', 'NN'), (':', ':'), ('Black', 'NNP'), ('Ops', 'NNP'), ('and', 'CC'), ('a', 'DT'), ('supporting', 'VBG'), ('character', 'NN'), ('in', 'IN'), ('the', 'DT'), ('1980s', 'CD'), ('missions', 'NNS'), ('of', 'IN'), ('Call', 'NNP'), ('of', 'IN'), ('Duty', 'NN'), (':', ':'), ('Black', 'NNP'), ('Ops', 'NNP'), ('II', 'NNP'), ('.', '.')]\n",
            "sentences\n",
            "[('Special', 'JJ'), ('Agent', 'NNP'), ('Jason', 'NNP'), ('Hudson', 'NNP'), ('was', 'VBD'), ('a', 'DT'), ('C.I.A', 'NNP'), ('.', '.')]\n",
            "[('agent', 'NN'), ('responsible', 'JJ'), ('for', 'IN'), ('handling', 'VBG'), ('Alex', 'NNP'), ('Mason', 'NNP'), (',', ','), ('mainly', 'RB'), ('during', 'IN'), ('1968', 'CD'), ('.', '.')]\n",
            "[('He', 'PRP'), ('was', 'VBD'), ('the', 'DT'), ('deuteragonist', 'NN'), ('of', 'IN'), ('Call', 'NNP'), ('of', 'IN'), ('Duty', 'NN'), (':', ':'), ('Black', 'NNP'), ('Ops', 'NNP'), ('and', 'CC'), ('a', 'DT'), ('supporting', 'VBG'), ('character', 'NN'), ('in', 'IN'), ('the', 'DT'), ('1980s', 'CD'), ('missions', 'NNS'), ('of', 'IN'), ('Call', 'NNP'), ('of', 'IN'), ('Duty', 'NN'), (':', ':'), ('Black', 'NNP'), ('Ops', 'NNP'), ('II', 'NNP'), ('.', '.')]\n",
            "sentences\n",
            "[('Special', 'JJ'), ('Agent', 'NNP'), ('Jason', 'NNP'), ('Hudson', 'NNP'), ('was', 'VBD'), ('a', 'DT'), ('C.I.A', 'NNP'), ('.', '.')]\n",
            "[('agent', 'NN'), ('responsible', 'JJ'), ('for', 'IN'), ('handling', 'VBG'), ('Alex', 'NNP'), ('Mason', 'NNP'), (',', ','), ('mainly', 'RB'), ('during', 'IN'), ('1968', 'CD'), ('.', '.')]\n",
            "[('He', 'PRP'), ('was', 'VBD'), ('the', 'DT'), ('deuteragonist', 'NN'), ('of', 'IN'), ('Call', 'NNP'), ('of', 'IN'), ('Duty', 'NN'), (':', ':'), ('Black', 'NNP'), ('Ops', 'NNP'), ('and', 'CC'), ('a', 'DT'), ('supporting', 'VBG'), ('character', 'NN'), ('in', 'IN'), ('the', 'DT'), ('1980s', 'CD'), ('missions', 'NNS'), ('of', 'IN'), ('Call', 'NNP'), ('of', 'IN'), ('Duty', 'NN'), (':', ':'), ('Black', 'NNP'), ('Ops', 'NNP'), ('II', 'NNP'), ('.', '.')]\n",
            "sentences\n",
            "[('Special', 'JJ'), ('Agent', 'NNP'), ('Jason', 'NNP'), ('Hudson', 'NNP'), ('was', 'VBD'), ('a', 'DT'), ('C.I.A', 'NNP'), ('.', '.')]\n",
            "[('agent', 'NN'), ('responsible', 'JJ'), ('for', 'IN'), ('handling', 'VBG'), ('Alex', 'NNP'), ('Mason', 'NNP'), (',', ','), ('mainly', 'RB'), ('during', 'IN'), ('1968', 'CD'), ('.', '.')]\n",
            "[('He', 'PRP'), ('was', 'VBD'), ('the', 'DT'), ('deuteragonist', 'NN'), ('of', 'IN'), ('Call', 'NNP'), ('of', 'IN'), ('Duty', 'NN'), (':', ':'), ('Black', 'NNP'), ('Ops', 'NNP'), ('and', 'CC'), ('a', 'DT'), ('supporting', 'VBG'), ('character', 'NN'), ('in', 'IN'), ('the', 'DT'), ('1980s', 'CD'), ('missions', 'NNS'), ('of', 'IN'), ('Call', 'NNP'), ('of', 'IN'), ('Duty', 'NN'), (':', ':'), ('Black', 'NNP'), ('Ops', 'NNP'), ('II', 'NNP'), ('.', '.')]\n",
            "sentences\n",
            "[('Special', 'JJ'), ('Agent', 'NNP'), ('Jason', 'NNP'), ('Hudson', 'NNP'), ('was', 'VBD'), ('a', 'DT'), ('C.I.A', 'NNP'), ('.', '.')]\n",
            "[('agent', 'NN'), ('responsible', 'JJ'), ('for', 'IN'), ('handling', 'VBG'), ('Alex', 'NNP'), ('Mason', 'NNP'), (',', ','), ('mainly', 'RB'), ('during', 'IN'), ('1968', 'CD'), ('.', '.')]\n",
            "[('He', 'PRP'), ('was', 'VBD'), ('the', 'DT'), ('deuteragonist', 'NN'), ('of', 'IN'), ('Call', 'NNP'), ('of', 'IN'), ('Duty', 'NN'), (':', ':'), ('Black', 'NNP'), ('Ops', 'NNP'), ('and', 'CC'), ('a', 'DT'), ('supporting', 'VBG'), ('character', 'NN'), ('in', 'IN'), ('the', 'DT'), ('1980s', 'CD'), ('missions', 'NNS'), ('of', 'IN'), ('Call', 'NNP'), ('of', 'IN'), ('Duty', 'NN'), (':', ':'), ('Black', 'NNP'), ('Ops', 'NNP'), ('II', 'NNP'), ('.', '.')]\n",
            "sentences\n",
            "[('Special', 'JJ'), ('Agent', 'NNP'), ('Jason', 'NNP'), ('Hudson', 'NNP'), ('was', 'VBD'), ('a', 'DT'), ('C.I.A', 'NNP'), ('.', '.')]\n",
            "[('agent', 'NN'), ('responsible', 'JJ'), ('for', 'IN'), ('handling', 'VBG'), ('Alex', 'NNP'), ('Mason', 'NNP'), (',', ','), ('mainly', 'RB'), ('during', 'IN'), ('1968', 'CD'), ('.', '.')]\n",
            "[('He', 'PRP'), ('was', 'VBD'), ('the', 'DT'), ('deuteragonist', 'NN'), ('of', 'IN'), ('Call', 'NNP'), ('of', 'IN'), ('Duty', 'NN'), (':', ':'), ('Black', 'NNP'), ('Ops', 'NNP'), ('and', 'CC'), ('a', 'DT'), ('supporting', 'VBG'), ('character', 'NN'), ('in', 'IN'), ('the', 'DT'), ('1980s', 'CD'), ('missions', 'NNS'), ('of', 'IN'), ('Call', 'NNP'), ('of', 'IN'), ('Duty', 'NN'), (':', ':'), ('Black', 'NNP'), ('Ops', 'NNP'), ('II', 'NNP'), ('.', '.')]\n",
            "sentences\n",
            "[('Special', 'JJ'), ('Agent', 'NNP'), ('Jason', 'NNP'), ('Hudson', 'NNP'), ('was', 'VBD'), ('a', 'DT'), ('C.I.A', 'NNP'), ('.', '.')]\n",
            "[('agent', 'NN'), ('responsible', 'JJ'), ('for', 'IN'), ('handling', 'VBG'), ('Alex', 'NNP'), ('Mason', 'NNP'), (',', ','), ('mainly', 'RB'), ('during', 'IN'), ('1968', 'CD'), ('.', '.')]\n",
            "[('He', 'PRP'), ('was', 'VBD'), ('the', 'DT'), ('deuteragonist', 'NN'), ('of', 'IN'), ('Call', 'NNP'), ('of', 'IN'), ('Duty', 'NN'), (':', ':'), ('Black', 'NNP'), ('Ops', 'NNP'), ('and', 'CC'), ('a', 'DT'), ('supporting', 'VBG'), ('character', 'NN'), ('in', 'IN'), ('the', 'DT'), ('1980s', 'CD'), ('missions', 'NNS'), ('of', 'IN'), ('Call', 'NNP'), ('of', 'IN'), ('Duty', 'NN'), (':', ':'), ('Black', 'NNP'), ('Ops', 'NNP'), ('II', 'NNP'), ('.', '.')]\n",
            "sentences\n",
            "[('Special', 'JJ'), ('Agent', 'NNP'), ('Jason', 'NNP'), ('Hudson', 'NNP'), ('was', 'VBD'), ('a', 'DT'), ('C.I.A', 'NNP'), ('.', '.')]\n",
            "[('agent', 'NN'), ('responsible', 'JJ'), ('for', 'IN'), ('handling', 'VBG'), ('Alex', 'NNP'), ('Mason', 'NNP'), (',', ','), ('mainly', 'RB'), ('during', 'IN'), ('1968', 'CD'), ('.', '.')]\n",
            "[('He', 'PRP'), ('was', 'VBD'), ('the', 'DT'), ('deuteragonist', 'NN'), ('of', 'IN'), ('Call', 'NNP'), ('of', 'IN'), ('Duty', 'NN'), (':', ':'), ('Black', 'NNP'), ('Ops', 'NNP'), ('and', 'CC'), ('a', 'DT'), ('supporting', 'VBG'), ('character', 'NN'), ('in', 'IN'), ('the', 'DT'), ('1980s', 'CD'), ('missions', 'NNS'), ('of', 'IN'), ('Call', 'NNP'), ('of', 'IN'), ('Duty', 'NN'), (':', ':'), ('Black', 'NNP'), ('Ops', 'NNP'), ('II', 'NNP'), ('.', '.')]\n",
            "sentences\n",
            "[('Special', 'JJ'), ('Agent', 'NNP'), ('Jason', 'NNP'), ('Hudson', 'NNP'), ('was', 'VBD'), ('a', 'DT'), ('C.I.A', 'NNP'), ('.', '.')]\n",
            "[('agent', 'NN'), ('responsible', 'JJ'), ('for', 'IN'), ('handling', 'VBG'), ('Alex', 'NNP'), ('Mason', 'NNP'), (',', ','), ('mainly', 'RB'), ('during', 'IN'), ('1968', 'CD'), ('.', '.')]\n",
            "[('He', 'PRP'), ('was', 'VBD'), ('the', 'DT'), ('deuteragonist', 'NN'), ('of', 'IN'), ('Call', 'NNP'), ('of', 'IN'), ('Duty', 'NN'), (':', ':'), ('Black', 'NNP'), ('Ops', 'NNP'), ('and', 'CC'), ('a', 'DT'), ('supporting', 'VBG'), ('character', 'NN'), ('in', 'IN'), ('the', 'DT'), ('1980s', 'CD'), ('missions', 'NNS'), ('of', 'IN'), ('Call', 'NNP'), ('of', 'IN'), ('Duty', 'NN'), (':', ':'), ('Black', 'NNP'), ('Ops', 'NNP'), ('II', 'NNP'), ('.', '.')]\n",
            "sentences\n",
            "[('Special', 'JJ'), ('Agent', 'NNP'), ('Jason', 'NNP'), ('Hudson', 'NNP'), ('was', 'VBD'), ('a', 'DT'), ('C.I.A', 'NNP'), ('.', '.')]\n",
            "[('agent', 'NN'), ('responsible', 'JJ'), ('for', 'IN'), ('handling', 'VBG'), ('Alex', 'NNP'), ('Mason', 'NNP'), (',', ','), ('mainly', 'RB'), ('during', 'IN'), ('1968', 'CD'), ('.', '.')]\n",
            "[('He', 'PRP'), ('was', 'VBD'), ('the', 'DT'), ('deuteragonist', 'NN'), ('of', 'IN'), ('Call', 'NNP'), ('of', 'IN'), ('Duty', 'NN'), (':', ':'), ('Black', 'NNP'), ('Ops', 'NNP'), ('and', 'CC'), ('a', 'DT'), ('supporting', 'VBG'), ('character', 'NN'), ('in', 'IN'), ('the', 'DT'), ('1980s', 'CD'), ('missions', 'NNS'), ('of', 'IN'), ('Call', 'NNP'), ('of', 'IN'), ('Duty', 'NN'), (':', ':'), ('Black', 'NNP'), ('Ops', 'NNP'), ('II', 'NNP'), ('.', '.')]\n",
            "sentences\n",
            "[('Special', 'JJ'), ('Agent', 'NNP'), ('Jason', 'NNP'), ('Hudson', 'NNP'), ('was', 'VBD'), ('a', 'DT'), ('C.I.A', 'NNP'), ('.', '.')]\n",
            "[('agent', 'NN'), ('responsible', 'JJ'), ('for', 'IN'), ('handling', 'VBG'), ('Alex', 'NNP'), ('Mason', 'NNP'), (',', ','), ('mainly', 'RB'), ('during', 'IN'), ('1968', 'CD'), ('.', '.')]\n",
            "[('He', 'PRP'), ('was', 'VBD'), ('the', 'DT'), ('deuteragonist', 'NN'), ('of', 'IN'), ('Call', 'NNP'), ('of', 'IN'), ('Duty', 'NN'), (':', ':'), ('Black', 'NNP'), ('Ops', 'NNP'), ('and', 'CC'), ('a', 'DT'), ('supporting', 'VBG'), ('character', 'NN'), ('in', 'IN'), ('the', 'DT'), ('1980s', 'CD'), ('missions', 'NNS'), ('of', 'IN'), ('Call', 'NNP'), ('of', 'IN'), ('Duty', 'NN'), (':', ':'), ('Black', 'NNP'), ('Ops', 'NNP'), ('II', 'NNP'), ('.', '.')]\n",
            "sentences\n",
            "[('Special', 'JJ'), ('Agent', 'NNP'), ('Jason', 'NNP'), ('Hudson', 'NNP'), ('was', 'VBD'), ('a', 'DT'), ('C.I.A', 'NNP'), ('.', '.')]\n",
            "[('agent', 'NN'), ('responsible', 'JJ'), ('for', 'IN'), ('handling', 'VBG'), ('Alex', 'NNP'), ('Mason', 'NNP'), (',', ','), ('mainly', 'RB'), ('during', 'IN'), ('1968', 'CD'), ('.', '.')]\n",
            "[('He', 'PRP'), ('was', 'VBD'), ('the', 'DT'), ('deuteragonist', 'NN'), ('of', 'IN'), ('Call', 'NNP'), ('of', 'IN'), ('Duty', 'NN'), (':', ':'), ('Black', 'NNP'), ('Ops', 'NNP'), ('and', 'CC'), ('a', 'DT'), ('supporting', 'VBG'), ('character', 'NN'), ('in', 'IN'), ('the', 'DT'), ('1980s', 'CD'), ('missions', 'NNS'), ('of', 'IN'), ('Call', 'NNP'), ('of', 'IN'), ('Duty', 'NN'), (':', ':'), ('Black', 'NNP'), ('Ops', 'NNP'), ('II', 'NNP'), ('.', '.')]\n",
            "sentences\n",
            "[('Special', 'JJ'), ('Agent', 'NNP'), ('Jason', 'NNP'), ('Hudson', 'NNP'), ('was', 'VBD'), ('a', 'DT'), ('C.I.A', 'NNP'), ('.', '.')]\n",
            "[('agent', 'NN'), ('responsible', 'JJ'), ('for', 'IN'), ('handling', 'VBG'), ('Alex', 'NNP'), ('Mason', 'NNP'), (',', ','), ('mainly', 'RB'), ('during', 'IN'), ('1968', 'CD'), ('.', '.')]\n",
            "[('He', 'PRP'), ('was', 'VBD'), ('the', 'DT'), ('deuteragonist', 'NN'), ('of', 'IN'), ('Call', 'NNP'), ('of', 'IN'), ('Duty', 'NN'), (':', ':'), ('Black', 'NNP'), ('Ops', 'NNP'), ('and', 'CC'), ('a', 'DT'), ('supporting', 'VBG'), ('character', 'NN'), ('in', 'IN'), ('the', 'DT'), ('1980s', 'CD'), ('missions', 'NNS'), ('of', 'IN'), ('Call', 'NNP'), ('of', 'IN'), ('Duty', 'NN'), (':', ':'), ('Black', 'NNP'), ('Ops', 'NNP'), ('II', 'NNP'), ('.', '.')]\n",
            "sentences\n",
            "[('Special', 'JJ'), ('Agent', 'NNP'), ('Jason', 'NNP'), ('Hudson', 'NNP'), ('was', 'VBD'), ('a', 'DT'), ('C.I.A', 'NNP'), ('.', '.')]\n",
            "[('agent', 'NN'), ('responsible', 'JJ'), ('for', 'IN'), ('handling', 'VBG'), ('Alex', 'NNP'), ('Mason', 'NNP'), (',', ','), ('mainly', 'RB'), ('during', 'IN'), ('1968', 'CD'), ('.', '.')]\n",
            "[('He', 'PRP'), ('was', 'VBD'), ('the', 'DT'), ('deuteragonist', 'NN'), ('of', 'IN'), ('Call', 'NNP'), ('of', 'IN'), ('Duty', 'NN'), (':', ':'), ('Black', 'NNP'), ('Ops', 'NNP'), ('and', 'CC'), ('a', 'DT'), ('supporting', 'VBG'), ('character', 'NN'), ('in', 'IN'), ('the', 'DT'), ('1980s', 'CD'), ('missions', 'NNS'), ('of', 'IN'), ('Call', 'NNP'), ('of', 'IN'), ('Duty', 'NN'), (':', ':'), ('Black', 'NNP'), ('Ops', 'NNP'), ('II', 'NNP'), ('.', '.')]\n",
            "sentences\n",
            "[('Special', 'JJ'), ('Agent', 'NNP'), ('Jason', 'NNP'), ('Hudson', 'NNP'), ('was', 'VBD'), ('a', 'DT'), ('C.I.A', 'NNP'), ('.', '.')]\n",
            "[('agent', 'NN'), ('responsible', 'JJ'), ('for', 'IN'), ('handling', 'VBG'), ('Alex', 'NNP'), ('Mason', 'NNP'), (',', ','), ('mainly', 'RB'), ('during', 'IN'), ('1968', 'CD'), ('.', '.')]\n",
            "[('He', 'PRP'), ('was', 'VBD'), ('the', 'DT'), ('deuteragonist', 'NN'), ('of', 'IN'), ('Call', 'NNP'), ('of', 'IN'), ('Duty', 'NN'), (':', ':'), ('Black', 'NNP'), ('Ops', 'NNP'), ('and', 'CC'), ('a', 'DT'), ('supporting', 'VBG'), ('character', 'NN'), ('in', 'IN'), ('the', 'DT'), ('1980s', 'CD'), ('missions', 'NNS'), ('of', 'IN'), ('Call', 'NNP'), ('of', 'IN'), ('Duty', 'NN'), (':', ':'), ('Black', 'NNP'), ('Ops', 'NNP'), ('II', 'NNP'), ('.', '.')]\n",
            "sentences\n",
            "[('Special', 'JJ'), ('Agent', 'NNP'), ('Jason', 'NNP'), ('Hudson', 'NNP'), ('was', 'VBD'), ('a', 'DT'), ('C.I.A', 'NNP'), ('.', '.')]\n",
            "[('agent', 'NN'), ('responsible', 'JJ'), ('for', 'IN'), ('handling', 'VBG'), ('Alex', 'NNP'), ('Mason', 'NNP'), (',', ','), ('mainly', 'RB'), ('during', 'IN'), ('1968', 'CD'), ('.', '.')]\n",
            "[('He', 'PRP'), ('was', 'VBD'), ('the', 'DT'), ('deuteragonist', 'NN'), ('of', 'IN'), ('Call', 'NNP'), ('of', 'IN'), ('Duty', 'NN'), (':', ':'), ('Black', 'NNP'), ('Ops', 'NNP'), ('and', 'CC'), ('a', 'DT'), ('supporting', 'VBG'), ('character', 'NN'), ('in', 'IN'), ('the', 'DT'), ('1980s', 'CD'), ('missions', 'NNS'), ('of', 'IN'), ('Call', 'NNP'), ('of', 'IN'), ('Duty', 'NN'), (':', ':'), ('Black', 'NNP'), ('Ops', 'NNP'), ('II', 'NNP'), ('.', '.')]\n",
            "sentences\n",
            "[('Special', 'JJ'), ('Agent', 'NNP'), ('Jason', 'NNP'), ('Hudson', 'NNP'), ('was', 'VBD'), ('a', 'DT'), ('C.I.A', 'NNP'), ('.', '.')]\n",
            "[('agent', 'NN'), ('responsible', 'JJ'), ('for', 'IN'), ('handling', 'VBG'), ('Alex', 'NNP'), ('Mason', 'NNP'), (',', ','), ('mainly', 'RB'), ('during', 'IN'), ('1968', 'CD'), ('.', '.')]\n",
            "[('He', 'PRP'), ('was', 'VBD'), ('the', 'DT'), ('deuteragonist', 'NN'), ('of', 'IN'), ('Call', 'NNP'), ('of', 'IN'), ('Duty', 'NN'), (':', ':'), ('Black', 'NNP'), ('Ops', 'NNP'), ('and', 'CC'), ('a', 'DT'), ('supporting', 'VBG'), ('character', 'NN'), ('in', 'IN'), ('the', 'DT'), ('1980s', 'CD'), ('missions', 'NNS'), ('of', 'IN'), ('Call', 'NNP'), ('of', 'IN'), ('Duty', 'NN'), (':', ':'), ('Black', 'NNP'), ('Ops', 'NNP'), ('II', 'NNP'), ('.', '.')]\n",
            "sentences\n",
            "[('Special', 'JJ'), ('Agent', 'NNP'), ('Jason', 'NNP'), ('Hudson', 'NNP'), ('was', 'VBD'), ('a', 'DT'), ('C.I.A', 'NNP'), ('.', '.')]\n",
            "[('agent', 'NN'), ('responsible', 'JJ'), ('for', 'IN'), ('handling', 'VBG'), ('Alex', 'NNP'), ('Mason', 'NNP'), (',', ','), ('mainly', 'RB'), ('during', 'IN'), ('1968', 'CD'), ('.', '.')]\n",
            "[('He', 'PRP'), ('was', 'VBD'), ('the', 'DT'), ('deuteragonist', 'NN'), ('of', 'IN'), ('Call', 'NNP'), ('of', 'IN'), ('Duty', 'NN'), (':', ':'), ('Black', 'NNP'), ('Ops', 'NNP'), ('and', 'CC'), ('a', 'DT'), ('supporting', 'VBG'), ('character', 'NN'), ('in', 'IN'), ('the', 'DT'), ('1980s', 'CD'), ('missions', 'NNS'), ('of', 'IN'), ('Call', 'NNP'), ('of', 'IN'), ('Duty', 'NN'), (':', ':'), ('Black', 'NNP'), ('Ops', 'NNP'), ('II', 'NNP'), ('.', '.')]\n",
            "sentences\n",
            "[('Special', 'JJ'), ('Agent', 'NNP'), ('Jason', 'NNP'), ('Hudson', 'NNP'), ('was', 'VBD'), ('a', 'DT'), ('C.I.A', 'NNP'), ('.', '.')]\n",
            "[('agent', 'NN'), ('responsible', 'JJ'), ('for', 'IN'), ('handling', 'VBG'), ('Alex', 'NNP'), ('Mason', 'NNP'), (',', ','), ('mainly', 'RB'), ('during', 'IN'), ('1968', 'CD'), ('.', '.')]\n",
            "[('He', 'PRP'), ('was', 'VBD'), ('the', 'DT'), ('deuteragonist', 'NN'), ('of', 'IN'), ('Call', 'NNP'), ('of', 'IN'), ('Duty', 'NN'), (':', ':'), ('Black', 'NNP'), ('Ops', 'NNP'), ('and', 'CC'), ('a', 'DT'), ('supporting', 'VBG'), ('character', 'NN'), ('in', 'IN'), ('the', 'DT'), ('1980s', 'CD'), ('missions', 'NNS'), ('of', 'IN'), ('Call', 'NNP'), ('of', 'IN'), ('Duty', 'NN'), (':', ':'), ('Black', 'NNP'), ('Ops', 'NNP'), ('II', 'NNP'), ('.', '.')]\n",
            "sentences\n",
            "[('Special', 'JJ'), ('Agent', 'NNP'), ('Jason', 'NNP'), ('Hudson', 'NNP'), ('was', 'VBD'), ('a', 'DT'), ('C.I.A', 'NNP'), ('.', '.')]\n",
            "[('agent', 'NN'), ('responsible', 'JJ'), ('for', 'IN'), ('handling', 'VBG'), ('Alex', 'NNP'), ('Mason', 'NNP'), (',', ','), ('mainly', 'RB'), ('during', 'IN'), ('1968', 'CD'), ('.', '.')]\n",
            "[('He', 'PRP'), ('was', 'VBD'), ('the', 'DT'), ('deuteragonist', 'NN'), ('of', 'IN'), ('Call', 'NNP'), ('of', 'IN'), ('Duty', 'NN'), (':', ':'), ('Black', 'NNP'), ('Ops', 'NNP'), ('and', 'CC'), ('a', 'DT'), ('supporting', 'VBG'), ('character', 'NN'), ('in', 'IN'), ('the', 'DT'), ('1980s', 'CD'), ('missions', 'NNS'), ('of', 'IN'), ('Call', 'NNP'), ('of', 'IN'), ('Duty', 'NN'), (':', ':'), ('Black', 'NNP'), ('Ops', 'NNP'), ('II', 'NNP'), ('.', '.')]\n",
            "sentences\n",
            "[('Special', 'JJ'), ('Agent', 'NNP'), ('Jason', 'NNP'), ('Hudson', 'NNP'), ('was', 'VBD'), ('a', 'DT'), ('C.I.A', 'NNP'), ('.', '.')]\n",
            "[('agent', 'NN'), ('responsible', 'JJ'), ('for', 'IN'), ('handling', 'VBG'), ('Alex', 'NNP'), ('Mason', 'NNP'), (',', ','), ('mainly', 'RB'), ('during', 'IN'), ('1968', 'CD'), ('.', '.')]\n",
            "[('He', 'PRP'), ('was', 'VBD'), ('the', 'DT'), ('deuteragonist', 'NN'), ('of', 'IN'), ('Call', 'NNP'), ('of', 'IN'), ('Duty', 'NN'), (':', ':'), ('Black', 'NNP'), ('Ops', 'NNP'), ('and', 'CC'), ('a', 'DT'), ('supporting', 'VBG'), ('character', 'NN'), ('in', 'IN'), ('the', 'DT'), ('1980s', 'CD'), ('missions', 'NNS'), ('of', 'IN'), ('Call', 'NNP'), ('of', 'IN'), ('Duty', 'NN'), (':', ':'), ('Black', 'NNP'), ('Ops', 'NNP'), ('II', 'NNP'), ('.', '.')]\n",
            "sentences\n",
            "[('Special', 'JJ'), ('Agent', 'NNP'), ('Jason', 'NNP'), ('Hudson', 'NNP'), ('was', 'VBD'), ('a', 'DT'), ('C.I.A', 'NNP'), ('.', '.')]\n",
            "[('agent', 'NN'), ('responsible', 'JJ'), ('for', 'IN'), ('handling', 'VBG'), ('Alex', 'NNP'), ('Mason', 'NNP'), (',', ','), ('mainly', 'RB'), ('during', 'IN'), ('1968', 'CD'), ('.', '.')]\n",
            "[('He', 'PRP'), ('was', 'VBD'), ('the', 'DT'), ('deuteragonist', 'NN'), ('of', 'IN'), ('Call', 'NNP'), ('of', 'IN'), ('Duty', 'NN'), (':', ':'), ('Black', 'NNP'), ('Ops', 'NNP'), ('and', 'CC'), ('a', 'DT'), ('supporting', 'VBG'), ('character', 'NN'), ('in', 'IN'), ('the', 'DT'), ('1980s', 'CD'), ('missions', 'NNS'), ('of', 'IN'), ('Call', 'NNP'), ('of', 'IN'), ('Duty', 'NN'), (':', ':'), ('Black', 'NNP'), ('Ops', 'NNP'), ('II', 'NNP'), ('.', '.')]\n",
            "sentences\n",
            "[('Special', 'JJ'), ('Agent', 'NNP'), ('Jason', 'NNP'), ('Hudson', 'NNP'), ('was', 'VBD'), ('a', 'DT'), ('C.I.A', 'NNP'), ('.', '.')]\n",
            "[('agent', 'NN'), ('responsible', 'JJ'), ('for', 'IN'), ('handling', 'VBG'), ('Alex', 'NNP'), ('Mason', 'NNP'), (',', ','), ('mainly', 'RB'), ('during', 'IN'), ('1968', 'CD'), ('.', '.')]\n",
            "[('He', 'PRP'), ('was', 'VBD'), ('the', 'DT'), ('deuteragonist', 'NN'), ('of', 'IN'), ('Call', 'NNP'), ('of', 'IN'), ('Duty', 'NN'), (':', ':'), ('Black', 'NNP'), ('Ops', 'NNP'), ('and', 'CC'), ('a', 'DT'), ('supporting', 'VBG'), ('character', 'NN'), ('in', 'IN'), ('the', 'DT'), ('1980s', 'CD'), ('missions', 'NNS'), ('of', 'IN'), ('Call', 'NNP'), ('of', 'IN'), ('Duty', 'NN'), (':', ':'), ('Black', 'NNP'), ('Ops', 'NNP'), ('II', 'NNP'), ('.', '.')]\n",
            "sentences\n",
            "[('Special', 'JJ'), ('Agent', 'NNP'), ('Jason', 'NNP'), ('Hudson', 'NNP'), ('was', 'VBD'), ('a', 'DT'), ('C.I.A', 'NNP'), ('.', '.')]\n",
            "[('agent', 'NN'), ('responsible', 'JJ'), ('for', 'IN'), ('handling', 'VBG'), ('Alex', 'NNP'), ('Mason', 'NNP'), (',', ','), ('mainly', 'RB'), ('during', 'IN'), ('1968', 'CD'), ('.', '.')]\n",
            "[('He', 'PRP'), ('was', 'VBD'), ('the', 'DT'), ('deuteragonist', 'NN'), ('of', 'IN'), ('Call', 'NNP'), ('of', 'IN'), ('Duty', 'NN'), (':', ':'), ('Black', 'NNP'), ('Ops', 'NNP'), ('and', 'CC'), ('a', 'DT'), ('supporting', 'VBG'), ('character', 'NN'), ('in', 'IN'), ('the', 'DT'), ('1980s', 'CD'), ('missions', 'NNS'), ('of', 'IN'), ('Call', 'NNP'), ('of', 'IN'), ('Duty', 'NN'), (':', ':'), ('Black', 'NNP'), ('Ops', 'NNP'), ('II', 'NNP'), ('.', '.')]\n",
            "sentences\n",
            "[('Special', 'JJ'), ('Agent', 'NNP'), ('Jason', 'NNP'), ('Hudson', 'NNP'), ('was', 'VBD'), ('a', 'DT'), ('C.I.A', 'NNP'), ('.', '.')]\n",
            "[('agent', 'NN'), ('responsible', 'JJ'), ('for', 'IN'), ('handling', 'VBG'), ('Alex', 'NNP'), ('Mason', 'NNP'), (',', ','), ('mainly', 'RB'), ('during', 'IN'), ('1968', 'CD'), ('.', '.')]\n",
            "[('He', 'PRP'), ('was', 'VBD'), ('the', 'DT'), ('deuteragonist', 'NN'), ('of', 'IN'), ('Call', 'NNP'), ('of', 'IN'), ('Duty', 'NN'), (':', ':'), ('Black', 'NNP'), ('Ops', 'NNP'), ('and', 'CC'), ('a', 'DT'), ('supporting', 'VBG'), ('character', 'NN'), ('in', 'IN'), ('the', 'DT'), ('1980s', 'CD'), ('missions', 'NNS'), ('of', 'IN'), ('Call', 'NNP'), ('of', 'IN'), ('Duty', 'NN'), (':', ':'), ('Black', 'NNP'), ('Ops', 'NNP'), ('II', 'NNP'), ('.', '.')]\n",
            "sentences\n",
            "[('Special', 'JJ'), ('Agent', 'NNP'), ('Jason', 'NNP'), ('Hudson', 'NNP'), ('was', 'VBD'), ('a', 'DT'), ('C.I.A', 'NNP'), ('.', '.')]\n",
            "[('agent', 'NN'), ('responsible', 'JJ'), ('for', 'IN'), ('handling', 'VBG'), ('Alex', 'NNP'), ('Mason', 'NNP'), (',', ','), ('mainly', 'RB'), ('during', 'IN'), ('1968', 'CD'), ('.', '.')]\n",
            "[('He', 'PRP'), ('was', 'VBD'), ('the', 'DT'), ('deuteragonist', 'NN'), ('of', 'IN'), ('Call', 'NNP'), ('of', 'IN'), ('Duty', 'NN'), (':', ':'), ('Black', 'NNP'), ('Ops', 'NNP'), ('and', 'CC'), ('a', 'DT'), ('supporting', 'VBG'), ('character', 'NN'), ('in', 'IN'), ('the', 'DT'), ('1980s', 'CD'), ('missions', 'NNS'), ('of', 'IN'), ('Call', 'NNP'), ('of', 'IN'), ('Duty', 'NN'), (':', ':'), ('Black', 'NNP'), ('Ops', 'NNP'), ('II', 'NNP'), ('.', '.')]\n",
            "sentences\n",
            "[('Special', 'JJ'), ('Agent', 'NNP'), ('Jason', 'NNP'), ('Hudson', 'NNP'), ('was', 'VBD'), ('a', 'DT'), ('C.I.A', 'NNP'), ('.', '.')]\n",
            "[('agent', 'NN'), ('responsible', 'JJ'), ('for', 'IN'), ('handling', 'VBG'), ('Alex', 'NNP'), ('Mason', 'NNP'), (',', ','), ('mainly', 'RB'), ('during', 'IN'), ('1968', 'CD'), ('.', '.')]\n",
            "[('He', 'PRP'), ('was', 'VBD'), ('the', 'DT'), ('deuteragonist', 'NN'), ('of', 'IN'), ('Call', 'NNP'), ('of', 'IN'), ('Duty', 'NN'), (':', ':'), ('Black', 'NNP'), ('Ops', 'NNP'), ('and', 'CC'), ('a', 'DT'), ('supporting', 'VBG'), ('character', 'NN'), ('in', 'IN'), ('the', 'DT'), ('1980s', 'CD'), ('missions', 'NNS'), ('of', 'IN'), ('Call', 'NNP'), ('of', 'IN'), ('Duty', 'NN'), (':', ':'), ('Black', 'NNP'), ('Ops', 'NNP'), ('II', 'NNP'), ('.', '.')]\n",
            "sentences\n",
            "[('Special', 'JJ'), ('Agent', 'NNP'), ('Jason', 'NNP'), ('Hudson', 'NNP'), ('was', 'VBD'), ('a', 'DT'), ('C.I.A', 'NNP'), ('.', '.')]\n",
            "[('agent', 'NN'), ('responsible', 'JJ'), ('for', 'IN'), ('handling', 'VBG'), ('Alex', 'NNP'), ('Mason', 'NNP'), (',', ','), ('mainly', 'RB'), ('during', 'IN'), ('1968', 'CD'), ('.', '.')]\n",
            "[('He', 'PRP'), ('was', 'VBD'), ('the', 'DT'), ('deuteragonist', 'NN'), ('of', 'IN'), ('Call', 'NNP'), ('of', 'IN'), ('Duty', 'NN'), (':', ':'), ('Black', 'NNP'), ('Ops', 'NNP'), ('and', 'CC'), ('a', 'DT'), ('supporting', 'VBG'), ('character', 'NN'), ('in', 'IN'), ('the', 'DT'), ('1980s', 'CD'), ('missions', 'NNS'), ('of', 'IN'), ('Call', 'NNP'), ('of', 'IN'), ('Duty', 'NN'), (':', ':'), ('Black', 'NNP'), ('Ops', 'NNP'), ('II', 'NNP'), ('.', '.')]\n",
            "sentences\n",
            "[('Special', 'JJ'), ('Agent', 'NNP'), ('Jason', 'NNP'), ('Hudson', 'NNP'), ('was', 'VBD'), ('a', 'DT'), ('C.I.A', 'NNP'), ('.', '.')]\n",
            "[('agent', 'NN'), ('responsible', 'JJ'), ('for', 'IN'), ('handling', 'VBG'), ('Alex', 'NNP'), ('Mason', 'NNP'), (',', ','), ('mainly', 'RB'), ('during', 'IN'), ('1968', 'CD'), ('.', '.')]\n",
            "[('He', 'PRP'), ('was', 'VBD'), ('the', 'DT'), ('deuteragonist', 'NN'), ('of', 'IN'), ('Call', 'NNP'), ('of', 'IN'), ('Duty', 'NN'), (':', ':'), ('Black', 'NNP'), ('Ops', 'NNP'), ('and', 'CC'), ('a', 'DT'), ('supporting', 'VBG'), ('character', 'NN'), ('in', 'IN'), ('the', 'DT'), ('1980s', 'CD'), ('missions', 'NNS'), ('of', 'IN'), ('Call', 'NNP'), ('of', 'IN'), ('Duty', 'NN'), (':', ':'), ('Black', 'NNP'), ('Ops', 'NNP'), ('II', 'NNP'), ('.', '.')]\n",
            "sentences\n",
            "[('Special', 'JJ'), ('Agent', 'NNP'), ('Jason', 'NNP'), ('Hudson', 'NNP'), ('was', 'VBD'), ('a', 'DT'), ('C.I.A', 'NNP'), ('.', '.')]\n",
            "[('agent', 'NN'), ('responsible', 'JJ'), ('for', 'IN'), ('handling', 'VBG'), ('Alex', 'NNP'), ('Mason', 'NNP'), (',', ','), ('mainly', 'RB'), ('during', 'IN'), ('1968', 'CD'), ('.', '.')]\n",
            "[('He', 'PRP'), ('was', 'VBD'), ('the', 'DT'), ('deuteragonist', 'NN'), ('of', 'IN'), ('Call', 'NNP'), ('of', 'IN'), ('Duty', 'NN'), (':', ':'), ('Black', 'NNP'), ('Ops', 'NNP'), ('and', 'CC'), ('a', 'DT'), ('supporting', 'VBG'), ('character', 'NN'), ('in', 'IN'), ('the', 'DT'), ('1980s', 'CD'), ('missions', 'NNS'), ('of', 'IN'), ('Call', 'NNP'), ('of', 'IN'), ('Duty', 'NN'), (':', ':'), ('Black', 'NNP'), ('Ops', 'NNP'), ('II', 'NNP'), ('.', '.')]\n",
            "sentences\n",
            "[('Special', 'JJ'), ('Agent', 'NNP'), ('Jason', 'NNP'), ('Hudson', 'NNP'), ('was', 'VBD'), ('a', 'DT'), ('C.I.A', 'NNP'), ('.', '.')]\n",
            "[('agent', 'NN'), ('responsible', 'JJ'), ('for', 'IN'), ('handling', 'VBG'), ('Alex', 'NNP'), ('Mason', 'NNP'), (',', ','), ('mainly', 'RB'), ('during', 'IN'), ('1968', 'CD'), ('.', '.')]\n",
            "[('He', 'PRP'), ('was', 'VBD'), ('the', 'DT'), ('deuteragonist', 'NN'), ('of', 'IN'), ('Call', 'NNP'), ('of', 'IN'), ('Duty', 'NN'), (':', ':'), ('Black', 'NNP'), ('Ops', 'NNP'), ('and', 'CC'), ('a', 'DT'), ('supporting', 'VBG'), ('character', 'NN'), ('in', 'IN'), ('the', 'DT'), ('1980s', 'CD'), ('missions', 'NNS'), ('of', 'IN'), ('Call', 'NNP'), ('of', 'IN'), ('Duty', 'NN'), (':', ':'), ('Black', 'NNP'), ('Ops', 'NNP'), ('II', 'NNP'), ('.', '.')]\n",
            "sentences\n",
            "[('Special', 'JJ'), ('Agent', 'NNP'), ('Jason', 'NNP'), ('Hudson', 'NNP'), ('was', 'VBD'), ('a', 'DT'), ('C.I.A', 'NNP'), ('.', '.')]\n",
            "[('agent', 'NN'), ('responsible', 'JJ'), ('for', 'IN'), ('handling', 'VBG'), ('Alex', 'NNP'), ('Mason', 'NNP'), (',', ','), ('mainly', 'RB'), ('during', 'IN'), ('1968', 'CD'), ('.', '.')]\n",
            "[('He', 'PRP'), ('was', 'VBD'), ('the', 'DT'), ('deuteragonist', 'NN'), ('of', 'IN'), ('Call', 'NNP'), ('of', 'IN'), ('Duty', 'NN'), (':', ':'), ('Black', 'NNP'), ('Ops', 'NNP'), ('and', 'CC'), ('a', 'DT'), ('supporting', 'VBG'), ('character', 'NN'), ('in', 'IN'), ('the', 'DT'), ('1980s', 'CD'), ('missions', 'NNS'), ('of', 'IN'), ('Call', 'NNP'), ('of', 'IN'), ('Duty', 'NN'), (':', ':'), ('Black', 'NNP'), ('Ops', 'NNP'), ('II', 'NNP'), ('.', '.')]\n",
            "sentences\n",
            "[('Special', 'JJ'), ('Agent', 'NNP'), ('Jason', 'NNP'), ('Hudson', 'NNP'), ('was', 'VBD'), ('a', 'DT'), ('C.I.A', 'NNP'), ('.', '.')]\n",
            "[('agent', 'NN'), ('responsible', 'JJ'), ('for', 'IN'), ('handling', 'VBG'), ('Alex', 'NNP'), ('Mason', 'NNP'), (',', ','), ('mainly', 'RB'), ('during', 'IN'), ('1968', 'CD'), ('.', '.')]\n",
            "[('He', 'PRP'), ('was', 'VBD'), ('the', 'DT'), ('deuteragonist', 'NN'), ('of', 'IN'), ('Call', 'NNP'), ('of', 'IN'), ('Duty', 'NN'), (':', ':'), ('Black', 'NNP'), ('Ops', 'NNP'), ('and', 'CC'), ('a', 'DT'), ('supporting', 'VBG'), ('character', 'NN'), ('in', 'IN'), ('the', 'DT'), ('1980s', 'CD'), ('missions', 'NNS'), ('of', 'IN'), ('Call', 'NNP'), ('of', 'IN'), ('Duty', 'NN'), (':', ':'), ('Black', 'NNP'), ('Ops', 'NNP'), ('II', 'NNP'), ('.', '.')]\n",
            "sentences\n",
            "[('Special', 'JJ'), ('Agent', 'NNP'), ('Jason', 'NNP'), ('Hudson', 'NNP'), ('was', 'VBD'), ('a', 'DT'), ('C.I.A', 'NNP'), ('.', '.')]\n",
            "[('agent', 'NN'), ('responsible', 'JJ'), ('for', 'IN'), ('handling', 'VBG'), ('Alex', 'NNP'), ('Mason', 'NNP'), (',', ','), ('mainly', 'RB'), ('during', 'IN'), ('1968', 'CD'), ('.', '.')]\n",
            "[('He', 'PRP'), ('was', 'VBD'), ('the', 'DT'), ('deuteragonist', 'NN'), ('of', 'IN'), ('Call', 'NNP'), ('of', 'IN'), ('Duty', 'NN'), (':', ':'), ('Black', 'NNP'), ('Ops', 'NNP'), ('and', 'CC'), ('a', 'DT'), ('supporting', 'VBG'), ('character', 'NN'), ('in', 'IN'), ('the', 'DT'), ('1980s', 'CD'), ('missions', 'NNS'), ('of', 'IN'), ('Call', 'NNP'), ('of', 'IN'), ('Duty', 'NN'), (':', ':'), ('Black', 'NNP'), ('Ops', 'NNP'), ('II', 'NNP'), ('.', '.')]\n",
            "sentences\n",
            "[('Special', 'JJ'), ('Agent', 'NNP'), ('Jason', 'NNP'), ('Hudson', 'NNP'), ('was', 'VBD'), ('a', 'DT'), ('C.I.A', 'NNP'), ('.', '.')]\n",
            "[('agent', 'NN'), ('responsible', 'JJ'), ('for', 'IN'), ('handling', 'VBG'), ('Alex', 'NNP'), ('Mason', 'NNP'), (',', ','), ('mainly', 'RB'), ('during', 'IN'), ('1968', 'CD'), ('.', '.')]\n",
            "[('He', 'PRP'), ('was', 'VBD'), ('the', 'DT'), ('deuteragonist', 'NN'), ('of', 'IN'), ('Call', 'NNP'), ('of', 'IN'), ('Duty', 'NN'), (':', ':'), ('Black', 'NNP'), ('Ops', 'NNP'), ('and', 'CC'), ('a', 'DT'), ('supporting', 'VBG'), ('character', 'NN'), ('in', 'IN'), ('the', 'DT'), ('1980s', 'CD'), ('missions', 'NNS'), ('of', 'IN'), ('Call', 'NNP'), ('of', 'IN'), ('Duty', 'NN'), (':', ':'), ('Black', 'NNP'), ('Ops', 'NNP'), ('II', 'NNP'), ('.', '.')]\n",
            "sentences\n",
            "[('Special', 'JJ'), ('Agent', 'NNP'), ('Jason', 'NNP'), ('Hudson', 'NNP'), ('was', 'VBD'), ('a', 'DT'), ('C.I.A', 'NNP'), ('.', '.')]\n",
            "[('agent', 'NN'), ('responsible', 'JJ'), ('for', 'IN'), ('handling', 'VBG'), ('Alex', 'NNP'), ('Mason', 'NNP'), (',', ','), ('mainly', 'RB'), ('during', 'IN'), ('1968', 'CD'), ('.', '.')]\n",
            "[('He', 'PRP'), ('was', 'VBD'), ('the', 'DT'), ('deuteragonist', 'NN'), ('of', 'IN'), ('Call', 'NNP'), ('of', 'IN'), ('Duty', 'NN'), (':', ':'), ('Black', 'NNP'), ('Ops', 'NNP'), ('and', 'CC'), ('a', 'DT'), ('supporting', 'VBG'), ('character', 'NN'), ('in', 'IN'), ('the', 'DT'), ('1980s', 'CD'), ('missions', 'NNS'), ('of', 'IN'), ('Call', 'NNP'), ('of', 'IN'), ('Duty', 'NN'), (':', ':'), ('Black', 'NNP'), ('Ops', 'NNP'), ('II', 'NNP'), ('.', '.')]\n",
            "sentences\n",
            "[('Special', 'JJ'), ('Agent', 'NNP'), ('Jason', 'NNP'), ('Hudson', 'NNP'), ('was', 'VBD'), ('a', 'DT'), ('C.I.A', 'NNP'), ('.', '.')]\n",
            "[('agent', 'NN'), ('responsible', 'JJ'), ('for', 'IN'), ('handling', 'VBG'), ('Alex', 'NNP'), ('Mason', 'NNP'), (',', ','), ('mainly', 'RB'), ('during', 'IN'), ('1968', 'CD'), ('.', '.')]\n",
            "[('He', 'PRP'), ('was', 'VBD'), ('the', 'DT'), ('deuteragonist', 'NN'), ('of', 'IN'), ('Call', 'NNP'), ('of', 'IN'), ('Duty', 'NN'), (':', ':'), ('Black', 'NNP'), ('Ops', 'NNP'), ('and', 'CC'), ('a', 'DT'), ('supporting', 'VBG'), ('character', 'NN'), ('in', 'IN'), ('the', 'DT'), ('1980s', 'CD'), ('missions', 'NNS'), ('of', 'IN'), ('Call', 'NNP'), ('of', 'IN'), ('Duty', 'NN'), (':', ':'), ('Black', 'NNP'), ('Ops', 'NNP'), ('II', 'NNP'), ('.', '.')]\n",
            "sentences\n",
            "[('Special', 'JJ'), ('Agent', 'NNP'), ('Jason', 'NNP'), ('Hudson', 'NNP'), ('was', 'VBD'), ('a', 'DT'), ('C.I.A', 'NNP'), ('.', '.')]\n",
            "[('agent', 'NN'), ('responsible', 'JJ'), ('for', 'IN'), ('handling', 'VBG'), ('Alex', 'NNP'), ('Mason', 'NNP'), (',', ','), ('mainly', 'RB'), ('during', 'IN'), ('1968', 'CD'), ('.', '.')]\n",
            "[('He', 'PRP'), ('was', 'VBD'), ('the', 'DT'), ('deuteragonist', 'NN'), ('of', 'IN'), ('Call', 'NNP'), ('of', 'IN'), ('Duty', 'NN'), (':', ':'), ('Black', 'NNP'), ('Ops', 'NNP'), ('and', 'CC'), ('a', 'DT'), ('supporting', 'VBG'), ('character', 'NN'), ('in', 'IN'), ('the', 'DT'), ('1980s', 'CD'), ('missions', 'NNS'), ('of', 'IN'), ('Call', 'NNP'), ('of', 'IN'), ('Duty', 'NN'), (':', ':'), ('Black', 'NNP'), ('Ops', 'NNP'), ('II', 'NNP'), ('.', '.')]\n",
            "sentences\n",
            "[('Special', 'JJ'), ('Agent', 'NNP'), ('Jason', 'NNP'), ('Hudson', 'NNP'), ('was', 'VBD'), ('a', 'DT'), ('C.I.A', 'NNP'), ('.', '.')]\n",
            "[('agent', 'NN'), ('responsible', 'JJ'), ('for', 'IN'), ('handling', 'VBG'), ('Alex', 'NNP'), ('Mason', 'NNP'), (',', ','), ('mainly', 'RB'), ('during', 'IN'), ('1968', 'CD'), ('.', '.')]\n",
            "[('He', 'PRP'), ('was', 'VBD'), ('the', 'DT'), ('deuteragonist', 'NN'), ('of', 'IN'), ('Call', 'NNP'), ('of', 'IN'), ('Duty', 'NN'), (':', ':'), ('Black', 'NNP'), ('Ops', 'NNP'), ('and', 'CC'), ('a', 'DT'), ('supporting', 'VBG'), ('character', 'NN'), ('in', 'IN'), ('the', 'DT'), ('1980s', 'CD'), ('missions', 'NNS'), ('of', 'IN'), ('Call', 'NNP'), ('of', 'IN'), ('Duty', 'NN'), (':', ':'), ('Black', 'NNP'), ('Ops', 'NNP'), ('II', 'NNP'), ('.', '.')]\n",
            "sentences\n",
            "[('Special', 'JJ'), ('Agent', 'NNP'), ('Jason', 'NNP'), ('Hudson', 'NNP'), ('was', 'VBD'), ('a', 'DT'), ('C.I.A', 'NNP'), ('.', '.')]\n",
            "[('agent', 'NN'), ('responsible', 'JJ'), ('for', 'IN'), ('handling', 'VBG'), ('Alex', 'NNP'), ('Mason', 'NNP'), (',', ','), ('mainly', 'RB'), ('during', 'IN'), ('1968', 'CD'), ('.', '.')]\n",
            "[('He', 'PRP'), ('was', 'VBD'), ('the', 'DT'), ('deuteragonist', 'NN'), ('of', 'IN'), ('Call', 'NNP'), ('of', 'IN'), ('Duty', 'NN'), (':', ':'), ('Black', 'NNP'), ('Ops', 'NNP'), ('and', 'CC'), ('a', 'DT'), ('supporting', 'VBG'), ('character', 'NN'), ('in', 'IN'), ('the', 'DT'), ('1980s', 'CD'), ('missions', 'NNS'), ('of', 'IN'), ('Call', 'NNP'), ('of', 'IN'), ('Duty', 'NN'), (':', ':'), ('Black', 'NNP'), ('Ops', 'NNP'), ('II', 'NNP'), ('.', '.')]\n",
            "sentences\n",
            "[('Special', 'JJ'), ('Agent', 'NNP'), ('Jason', 'NNP'), ('Hudson', 'NNP'), ('was', 'VBD'), ('a', 'DT'), ('C.I.A', 'NNP'), ('.', '.')]\n",
            "[('agent', 'NN'), ('responsible', 'JJ'), ('for', 'IN'), ('handling', 'VBG'), ('Alex', 'NNP'), ('Mason', 'NNP'), (',', ','), ('mainly', 'RB'), ('during', 'IN'), ('1968', 'CD'), ('.', '.')]\n",
            "[('He', 'PRP'), ('was', 'VBD'), ('the', 'DT'), ('deuteragonist', 'NN'), ('of', 'IN'), ('Call', 'NNP'), ('of', 'IN'), ('Duty', 'NN'), (':', ':'), ('Black', 'NNP'), ('Ops', 'NNP'), ('and', 'CC'), ('a', 'DT'), ('supporting', 'VBG'), ('character', 'NN'), ('in', 'IN'), ('the', 'DT'), ('1980s', 'CD'), ('missions', 'NNS'), ('of', 'IN'), ('Call', 'NNP'), ('of', 'IN'), ('Duty', 'NN'), (':', ':'), ('Black', 'NNP'), ('Ops', 'NNP'), ('II', 'NNP'), ('.', '.')]\n",
            "sentences\n",
            "[('Special', 'JJ'), ('Agent', 'NNP'), ('Jason', 'NNP'), ('Hudson', 'NNP'), ('was', 'VBD'), ('a', 'DT'), ('C.I.A', 'NNP'), ('.', '.')]\n",
            "[('agent', 'NN'), ('responsible', 'JJ'), ('for', 'IN'), ('handling', 'VBG'), ('Alex', 'NNP'), ('Mason', 'NNP'), (',', ','), ('mainly', 'RB'), ('during', 'IN'), ('1968', 'CD'), ('.', '.')]\n",
            "[('He', 'PRP'), ('was', 'VBD'), ('the', 'DT'), ('deuteragonist', 'NN'), ('of', 'IN'), ('Call', 'NNP'), ('of', 'IN'), ('Duty', 'NN'), (':', ':'), ('Black', 'NNP'), ('Ops', 'NNP'), ('and', 'CC'), ('a', 'DT'), ('supporting', 'VBG'), ('character', 'NN'), ('in', 'IN'), ('the', 'DT'), ('1980s', 'CD'), ('missions', 'NNS'), ('of', 'IN'), ('Call', 'NNP'), ('of', 'IN'), ('Duty', 'NN'), (':', ':'), ('Black', 'NNP'), ('Ops', 'NNP'), ('II', 'NNP'), ('.', '.')]\n",
            "sentences\n",
            "[('Special', 'JJ'), ('Agent', 'NNP'), ('Jason', 'NNP'), ('Hudson', 'NNP'), ('was', 'VBD'), ('a', 'DT'), ('C.I.A', 'NNP'), ('.', '.')]\n",
            "[('agent', 'NN'), ('responsible', 'JJ'), ('for', 'IN'), ('handling', 'VBG'), ('Alex', 'NNP'), ('Mason', 'NNP'), (',', ','), ('mainly', 'RB'), ('during', 'IN'), ('1968', 'CD'), ('.', '.')]\n",
            "[('He', 'PRP'), ('was', 'VBD'), ('the', 'DT'), ('deuteragonist', 'NN'), ('of', 'IN'), ('Call', 'NNP'), ('of', 'IN'), ('Duty', 'NN'), (':', ':'), ('Black', 'NNP'), ('Ops', 'NNP'), ('and', 'CC'), ('a', 'DT'), ('supporting', 'VBG'), ('character', 'NN'), ('in', 'IN'), ('the', 'DT'), ('1980s', 'CD'), ('missions', 'NNS'), ('of', 'IN'), ('Call', 'NNP'), ('of', 'IN'), ('Duty', 'NN'), (':', ':'), ('Black', 'NNP'), ('Ops', 'NNP'), ('II', 'NNP'), ('.', '.')]\n",
            "sentences\n",
            "[('Special', 'JJ'), ('Agent', 'NNP'), ('Jason', 'NNP'), ('Hudson', 'NNP'), ('was', 'VBD'), ('a', 'DT'), ('C.I.A', 'NNP'), ('.', '.')]\n",
            "[('agent', 'NN'), ('responsible', 'JJ'), ('for', 'IN'), ('handling', 'VBG'), ('Alex', 'NNP'), ('Mason', 'NNP'), (',', ','), ('mainly', 'RB'), ('during', 'IN'), ('1968', 'CD'), ('.', '.')]\n",
            "[('He', 'PRP'), ('was', 'VBD'), ('the', 'DT'), ('deuteragonist', 'NN'), ('of', 'IN'), ('Call', 'NNP'), ('of', 'IN'), ('Duty', 'NN'), (':', ':'), ('Black', 'NNP'), ('Ops', 'NNP'), ('and', 'CC'), ('a', 'DT'), ('supporting', 'VBG'), ('character', 'NN'), ('in', 'IN'), ('the', 'DT'), ('1980s', 'CD'), ('missions', 'NNS'), ('of', 'IN'), ('Call', 'NNP'), ('of', 'IN'), ('Duty', 'NN'), (':', ':'), ('Black', 'NNP'), ('Ops', 'NNP'), ('II', 'NNP'), ('.', '.')]\n",
            "sentences\n",
            "[('Special', 'JJ'), ('Agent', 'NNP'), ('Jason', 'NNP'), ('Hudson', 'NNP'), ('was', 'VBD'), ('a', 'DT'), ('C.I.A', 'NNP'), ('.', '.')]\n",
            "[('agent', 'NN'), ('responsible', 'JJ'), ('for', 'IN'), ('handling', 'VBG'), ('Alex', 'NNP'), ('Mason', 'NNP'), (',', ','), ('mainly', 'RB'), ('during', 'IN'), ('1968', 'CD'), ('.', '.')]\n",
            "[('He', 'PRP'), ('was', 'VBD'), ('the', 'DT'), ('deuteragonist', 'NN'), ('of', 'IN'), ('Call', 'NNP'), ('of', 'IN'), ('Duty', 'NN'), (':', ':'), ('Black', 'NNP'), ('Ops', 'NNP'), ('and', 'CC'), ('a', 'DT'), ('supporting', 'VBG'), ('character', 'NN'), ('in', 'IN'), ('the', 'DT'), ('1980s', 'CD'), ('missions', 'NNS'), ('of', 'IN'), ('Call', 'NNP'), ('of', 'IN'), ('Duty', 'NN'), (':', ':'), ('Black', 'NNP'), ('Ops', 'NNP'), ('II', 'NNP'), ('.', '.')]\n",
            "sentences\n",
            "[('Special', 'JJ'), ('Agent', 'NNP'), ('Jason', 'NNP'), ('Hudson', 'NNP'), ('was', 'VBD'), ('a', 'DT'), ('C.I.A', 'NNP'), ('.', '.')]\n",
            "[('agent', 'NN'), ('responsible', 'JJ'), ('for', 'IN'), ('handling', 'VBG'), ('Alex', 'NNP'), ('Mason', 'NNP'), (',', ','), ('mainly', 'RB'), ('during', 'IN'), ('1968', 'CD'), ('.', '.')]\n",
            "[('He', 'PRP'), ('was', 'VBD'), ('the', 'DT'), ('deuteragonist', 'NN'), ('of', 'IN'), ('Call', 'NNP'), ('of', 'IN'), ('Duty', 'NN'), (':', ':'), ('Black', 'NNP'), ('Ops', 'NNP'), ('and', 'CC'), ('a', 'DT'), ('supporting', 'VBG'), ('character', 'NN'), ('in', 'IN'), ('the', 'DT'), ('1980s', 'CD'), ('missions', 'NNS'), ('of', 'IN'), ('Call', 'NNP'), ('of', 'IN'), ('Duty', 'NN'), (':', ':'), ('Black', 'NNP'), ('Ops', 'NNP'), ('II', 'NNP'), ('.', '.')]\n",
            "sentences\n",
            "[('Special', 'JJ'), ('Agent', 'NNP'), ('Jason', 'NNP'), ('Hudson', 'NNP'), ('was', 'VBD'), ('a', 'DT'), ('C.I.A', 'NNP'), ('.', '.')]\n",
            "[('agent', 'NN'), ('responsible', 'JJ'), ('for', 'IN'), ('handling', 'VBG'), ('Alex', 'NNP'), ('Mason', 'NNP'), (',', ','), ('mainly', 'RB'), ('during', 'IN'), ('1968', 'CD'), ('.', '.')]\n",
            "[('He', 'PRP'), ('was', 'VBD'), ('the', 'DT'), ('deuteragonist', 'NN'), ('of', 'IN'), ('Call', 'NNP'), ('of', 'IN'), ('Duty', 'NN'), (':', ':'), ('Black', 'NNP'), ('Ops', 'NNP'), ('and', 'CC'), ('a', 'DT'), ('supporting', 'VBG'), ('character', 'NN'), ('in', 'IN'), ('the', 'DT'), ('1980s', 'CD'), ('missions', 'NNS'), ('of', 'IN'), ('Call', 'NNP'), ('of', 'IN'), ('Duty', 'NN'), (':', ':'), ('Black', 'NNP'), ('Ops', 'NNP'), ('II', 'NNP'), ('.', '.')]\n",
            "sentences\n",
            "[('Special', 'JJ'), ('Agent', 'NNP'), ('Jason', 'NNP'), ('Hudson', 'NNP'), ('was', 'VBD'), ('a', 'DT'), ('C.I.A', 'NNP'), ('.', '.')]\n",
            "[('agent', 'NN'), ('responsible', 'JJ'), ('for', 'IN'), ('handling', 'VBG'), ('Alex', 'NNP'), ('Mason', 'NNP'), (',', ','), ('mainly', 'RB'), ('during', 'IN'), ('1968', 'CD'), ('.', '.')]\n",
            "[('He', 'PRP'), ('was', 'VBD'), ('the', 'DT'), ('deuteragonist', 'NN'), ('of', 'IN'), ('Call', 'NNP'), ('of', 'IN'), ('Duty', 'NN'), (':', ':'), ('Black', 'NNP'), ('Ops', 'NNP'), ('and', 'CC'), ('a', 'DT'), ('supporting', 'VBG'), ('character', 'NN'), ('in', 'IN'), ('the', 'DT'), ('1980s', 'CD'), ('missions', 'NNS'), ('of', 'IN'), ('Call', 'NNP'), ('of', 'IN'), ('Duty', 'NN'), (':', ':'), ('Black', 'NNP'), ('Ops', 'NNP'), ('II', 'NNP'), ('.', '.')]\n",
            "sentences\n",
            "[('Special', 'JJ'), ('Agent', 'NNP'), ('Jason', 'NNP'), ('Hudson', 'NNP'), ('was', 'VBD'), ('a', 'DT'), ('C.I.A', 'NNP'), ('.', '.')]\n",
            "[('agent', 'NN'), ('responsible', 'JJ'), ('for', 'IN'), ('handling', 'VBG'), ('Alex', 'NNP'), ('Mason', 'NNP'), (',', ','), ('mainly', 'RB'), ('during', 'IN'), ('1968', 'CD'), ('.', '.')]\n",
            "[('He', 'PRP'), ('was', 'VBD'), ('the', 'DT'), ('deuteragonist', 'NN'), ('of', 'IN'), ('Call', 'NNP'), ('of', 'IN'), ('Duty', 'NN'), (':', ':'), ('Black', 'NNP'), ('Ops', 'NNP'), ('and', 'CC'), ('a', 'DT'), ('supporting', 'VBG'), ('character', 'NN'), ('in', 'IN'), ('the', 'DT'), ('1980s', 'CD'), ('missions', 'NNS'), ('of', 'IN'), ('Call', 'NNP'), ('of', 'IN'), ('Duty', 'NN'), (':', ':'), ('Black', 'NNP'), ('Ops', 'NNP'), ('II', 'NNP'), ('.', '.')]\n",
            "sentences\n",
            "[('Special', 'JJ'), ('Agent', 'NNP'), ('Jason', 'NNP'), ('Hudson', 'NNP'), ('was', 'VBD'), ('a', 'DT'), ('C.I.A', 'NNP'), ('.', '.')]\n",
            "[('agent', 'NN'), ('responsible', 'JJ'), ('for', 'IN'), ('handling', 'VBG'), ('Alex', 'NNP'), ('Mason', 'NNP'), (',', ','), ('mainly', 'RB'), ('during', 'IN'), ('1968', 'CD'), ('.', '.')]\n",
            "[('He', 'PRP'), ('was', 'VBD'), ('the', 'DT'), ('deuteragonist', 'NN'), ('of', 'IN'), ('Call', 'NNP'), ('of', 'IN'), ('Duty', 'NN'), (':', ':'), ('Black', 'NNP'), ('Ops', 'NNP'), ('and', 'CC'), ('a', 'DT'), ('supporting', 'VBG'), ('character', 'NN'), ('in', 'IN'), ('the', 'DT'), ('1980s', 'CD'), ('missions', 'NNS'), ('of', 'IN'), ('Call', 'NNP'), ('of', 'IN'), ('Duty', 'NN'), (':', ':'), ('Black', 'NNP'), ('Ops', 'NNP'), ('II', 'NNP'), ('.', '.')]\n",
            "sentences\n",
            "[('Special', 'JJ'), ('Agent', 'NNP'), ('Jason', 'NNP'), ('Hudson', 'NNP'), ('was', 'VBD'), ('a', 'DT'), ('C.I.A', 'NNP'), ('.', '.')]\n",
            "[('agent', 'NN'), ('responsible', 'JJ'), ('for', 'IN'), ('handling', 'VBG'), ('Alex', 'NNP'), ('Mason', 'NNP'), (',', ','), ('mainly', 'RB'), ('during', 'IN'), ('1968', 'CD'), ('.', '.')]\n",
            "[('He', 'PRP'), ('was', 'VBD'), ('the', 'DT'), ('deuteragonist', 'NN'), ('of', 'IN'), ('Call', 'NNP'), ('of', 'IN'), ('Duty', 'NN'), (':', ':'), ('Black', 'NNP'), ('Ops', 'NNP'), ('and', 'CC'), ('a', 'DT'), ('supporting', 'VBG'), ('character', 'NN'), ('in', 'IN'), ('the', 'DT'), ('1980s', 'CD'), ('missions', 'NNS'), ('of', 'IN'), ('Call', 'NNP'), ('of', 'IN'), ('Duty', 'NN'), (':', ':'), ('Black', 'NNP'), ('Ops', 'NNP'), ('II', 'NNP'), ('.', '.')]\n",
            "sentences\n",
            "[('Special', 'JJ'), ('Agent', 'NNP'), ('Jason', 'NNP'), ('Hudson', 'NNP'), ('was', 'VBD'), ('a', 'DT'), ('C.I.A', 'NNP'), ('.', '.')]\n",
            "[('agent', 'NN'), ('responsible', 'JJ'), ('for', 'IN'), ('handling', 'VBG'), ('Alex', 'NNP'), ('Mason', 'NNP'), (',', ','), ('mainly', 'RB'), ('during', 'IN'), ('1968', 'CD'), ('.', '.')]\n",
            "[('He', 'PRP'), ('was', 'VBD'), ('the', 'DT'), ('deuteragonist', 'NN'), ('of', 'IN'), ('Call', 'NNP'), ('of', 'IN'), ('Duty', 'NN'), (':', ':'), ('Black', 'NNP'), ('Ops', 'NNP'), ('and', 'CC'), ('a', 'DT'), ('supporting', 'VBG'), ('character', 'NN'), ('in', 'IN'), ('the', 'DT'), ('1980s', 'CD'), ('missions', 'NNS'), ('of', 'IN'), ('Call', 'NNP'), ('of', 'IN'), ('Duty', 'NN'), (':', ':'), ('Black', 'NNP'), ('Ops', 'NNP'), ('II', 'NNP'), ('.', '.')]\n",
            "sentences\n",
            "[('Special', 'JJ'), ('Agent', 'NNP'), ('Jason', 'NNP'), ('Hudson', 'NNP'), ('was', 'VBD'), ('a', 'DT'), ('C.I.A', 'NNP'), ('.', '.')]\n",
            "[('agent', 'NN'), ('responsible', 'JJ'), ('for', 'IN'), ('handling', 'VBG'), ('Alex', 'NNP'), ('Mason', 'NNP'), (',', ','), ('mainly', 'RB'), ('during', 'IN'), ('1968', 'CD'), ('.', '.')]\n",
            "[('He', 'PRP'), ('was', 'VBD'), ('the', 'DT'), ('deuteragonist', 'NN'), ('of', 'IN'), ('Call', 'NNP'), ('of', 'IN'), ('Duty', 'NN'), (':', ':'), ('Black', 'NNP'), ('Ops', 'NNP'), ('and', 'CC'), ('a', 'DT'), ('supporting', 'VBG'), ('character', 'NN'), ('in', 'IN'), ('the', 'DT'), ('1980s', 'CD'), ('missions', 'NNS'), ('of', 'IN'), ('Call', 'NNP'), ('of', 'IN'), ('Duty', 'NN'), (':', ':'), ('Black', 'NNP'), ('Ops', 'NNP'), ('II', 'NNP'), ('.', '.')]\n",
            "sentences\n",
            "[('Special', 'JJ'), ('Agent', 'NNP'), ('Jason', 'NNP'), ('Hudson', 'NNP'), ('was', 'VBD'), ('a', 'DT'), ('C.I.A', 'NNP'), ('.', '.')]\n",
            "[('agent', 'NN'), ('responsible', 'JJ'), ('for', 'IN'), ('handling', 'VBG'), ('Alex', 'NNP'), ('Mason', 'NNP'), (',', ','), ('mainly', 'RB'), ('during', 'IN'), ('1968', 'CD'), ('.', '.')]\n",
            "[('He', 'PRP'), ('was', 'VBD'), ('the', 'DT'), ('deuteragonist', 'NN'), ('of', 'IN'), ('Call', 'NNP'), ('of', 'IN'), ('Duty', 'NN'), (':', ':'), ('Black', 'NNP'), ('Ops', 'NNP'), ('and', 'CC'), ('a', 'DT'), ('supporting', 'VBG'), ('character', 'NN'), ('in', 'IN'), ('the', 'DT'), ('1980s', 'CD'), ('missions', 'NNS'), ('of', 'IN'), ('Call', 'NNP'), ('of', 'IN'), ('Duty', 'NN'), (':', ':'), ('Black', 'NNP'), ('Ops', 'NNP'), ('II', 'NNP'), ('.', '.')]\n",
            "sentences\n",
            "[('Special', 'JJ'), ('Agent', 'NNP'), ('Jason', 'NNP'), ('Hudson', 'NNP'), ('was', 'VBD'), ('a', 'DT'), ('C.I.A', 'NNP'), ('.', '.')]\n",
            "[('agent', 'NN'), ('responsible', 'JJ'), ('for', 'IN'), ('handling', 'VBG'), ('Alex', 'NNP'), ('Mason', 'NNP'), (',', ','), ('mainly', 'RB'), ('during', 'IN'), ('1968', 'CD'), ('.', '.')]\n",
            "[('He', 'PRP'), ('was', 'VBD'), ('the', 'DT'), ('deuteragonist', 'NN'), ('of', 'IN'), ('Call', 'NNP'), ('of', 'IN'), ('Duty', 'NN'), (':', ':'), ('Black', 'NNP'), ('Ops', 'NNP'), ('and', 'CC'), ('a', 'DT'), ('supporting', 'VBG'), ('character', 'NN'), ('in', 'IN'), ('the', 'DT'), ('1980s', 'CD'), ('missions', 'NNS'), ('of', 'IN'), ('Call', 'NNP'), ('of', 'IN'), ('Duty', 'NN'), (':', ':'), ('Black', 'NNP'), ('Ops', 'NNP'), ('II', 'NNP'), ('.', '.')]\n",
            "sentences\n",
            "[('Special', 'JJ'), ('Agent', 'NNP'), ('Jason', 'NNP'), ('Hudson', 'NNP'), ('was', 'VBD'), ('a', 'DT'), ('C.I.A', 'NNP'), ('.', '.')]\n",
            "[('agent', 'NN'), ('responsible', 'JJ'), ('for', 'IN'), ('handling', 'VBG'), ('Alex', 'NNP'), ('Mason', 'NNP'), (',', ','), ('mainly', 'RB'), ('during', 'IN'), ('1968', 'CD'), ('.', '.')]\n",
            "[('He', 'PRP'), ('was', 'VBD'), ('the', 'DT'), ('deuteragonist', 'NN'), ('of', 'IN'), ('Call', 'NNP'), ('of', 'IN'), ('Duty', 'NN'), (':', ':'), ('Black', 'NNP'), ('Ops', 'NNP'), ('and', 'CC'), ('a', 'DT'), ('supporting', 'VBG'), ('character', 'NN'), ('in', 'IN'), ('the', 'DT'), ('1980s', 'CD'), ('missions', 'NNS'), ('of', 'IN'), ('Call', 'NNP'), ('of', 'IN'), ('Duty', 'NN'), (':', ':'), ('Black', 'NNP'), ('Ops', 'NNP'), ('II', 'NNP'), ('.', '.')]\n",
            "sentences\n",
            "[('Special', 'JJ'), ('Agent', 'NNP'), ('Jason', 'NNP'), ('Hudson', 'NNP'), ('was', 'VBD'), ('a', 'DT'), ('C.I.A', 'NNP'), ('.', '.')]\n",
            "[('agent', 'NN'), ('responsible', 'JJ'), ('for', 'IN'), ('handling', 'VBG'), ('Alex', 'NNP'), ('Mason', 'NNP'), (',', ','), ('mainly', 'RB'), ('during', 'IN'), ('1968', 'CD'), ('.', '.')]\n",
            "[('He', 'PRP'), ('was', 'VBD'), ('the', 'DT'), ('deuteragonist', 'NN'), ('of', 'IN'), ('Call', 'NNP'), ('of', 'IN'), ('Duty', 'NN'), (':', ':'), ('Black', 'NNP'), ('Ops', 'NNP'), ('and', 'CC'), ('a', 'DT'), ('supporting', 'VBG'), ('character', 'NN'), ('in', 'IN'), ('the', 'DT'), ('1980s', 'CD'), ('missions', 'NNS'), ('of', 'IN'), ('Call', 'NNP'), ('of', 'IN'), ('Duty', 'NN'), (':', ':'), ('Black', 'NNP'), ('Ops', 'NNP'), ('II', 'NNP'), ('.', '.')]\n",
            "sentences\n",
            "[('Special', 'JJ'), ('Agent', 'NNP'), ('Jason', 'NNP'), ('Hudson', 'NNP'), ('was', 'VBD'), ('a', 'DT'), ('C.I.A', 'NNP'), ('.', '.')]\n",
            "[('agent', 'NN'), ('responsible', 'JJ'), ('for', 'IN'), ('handling', 'VBG'), ('Alex', 'NNP'), ('Mason', 'NNP'), (',', ','), ('mainly', 'RB'), ('during', 'IN'), ('1968', 'CD'), ('.', '.')]\n",
            "[('He', 'PRP'), ('was', 'VBD'), ('the', 'DT'), ('deuteragonist', 'NN'), ('of', 'IN'), ('Call', 'NNP'), ('of', 'IN'), ('Duty', 'NN'), (':', ':'), ('Black', 'NNP'), ('Ops', 'NNP'), ('and', 'CC'), ('a', 'DT'), ('supporting', 'VBG'), ('character', 'NN'), ('in', 'IN'), ('the', 'DT'), ('1980s', 'CD'), ('missions', 'NNS'), ('of', 'IN'), ('Call', 'NNP'), ('of', 'IN'), ('Duty', 'NN'), (':', ':'), ('Black', 'NNP'), ('Ops', 'NNP'), ('II', 'NNP'), ('.', '.')]\n",
            "sentences\n",
            "[('Special', 'JJ'), ('Agent', 'NNP'), ('Jason', 'NNP'), ('Hudson', 'NNP'), ('was', 'VBD'), ('a', 'DT'), ('C.I.A', 'NNP'), ('.', '.')]\n",
            "[('agent', 'NN'), ('responsible', 'JJ'), ('for', 'IN'), ('handling', 'VBG'), ('Alex', 'NNP'), ('Mason', 'NNP'), (',', ','), ('mainly', 'RB'), ('during', 'IN'), ('1968', 'CD'), ('.', '.')]\n",
            "[('He', 'PRP'), ('was', 'VBD'), ('the', 'DT'), ('deuteragonist', 'NN'), ('of', 'IN'), ('Call', 'NNP'), ('of', 'IN'), ('Duty', 'NN'), (':', ':'), ('Black', 'NNP'), ('Ops', 'NNP'), ('and', 'CC'), ('a', 'DT'), ('supporting', 'VBG'), ('character', 'NN'), ('in', 'IN'), ('the', 'DT'), ('1980s', 'CD'), ('missions', 'NNS'), ('of', 'IN'), ('Call', 'NNP'), ('of', 'IN'), ('Duty', 'NN'), (':', ':'), ('Black', 'NNP'), ('Ops', 'NNP'), ('II', 'NNP'), ('.', '.')]\n",
            "sentences\n",
            "[('Special', 'JJ'), ('Agent', 'NNP'), ('Jason', 'NNP'), ('Hudson', 'NNP'), ('was', 'VBD'), ('a', 'DT'), ('C.I.A', 'NNP'), ('.', '.')]\n",
            "[('agent', 'NN'), ('responsible', 'JJ'), ('for', 'IN'), ('handling', 'VBG'), ('Alex', 'NNP'), ('Mason', 'NNP'), (',', ','), ('mainly', 'RB'), ('during', 'IN'), ('1968', 'CD'), ('.', '.')]\n",
            "[('He', 'PRP'), ('was', 'VBD'), ('the', 'DT'), ('deuteragonist', 'NN'), ('of', 'IN'), ('Call', 'NNP'), ('of', 'IN'), ('Duty', 'NN'), (':', ':'), ('Black', 'NNP'), ('Ops', 'NNP'), ('and', 'CC'), ('a', 'DT'), ('supporting', 'VBG'), ('character', 'NN'), ('in', 'IN'), ('the', 'DT'), ('1980s', 'CD'), ('missions', 'NNS'), ('of', 'IN'), ('Call', 'NNP'), ('of', 'IN'), ('Duty', 'NN'), (':', ':'), ('Black', 'NNP'), ('Ops', 'NNP'), ('II', 'NNP'), ('.', '.')]\n",
            "sentences\n",
            "[('Special', 'JJ'), ('Agent', 'NNP'), ('Jason', 'NNP'), ('Hudson', 'NNP'), ('was', 'VBD'), ('a', 'DT'), ('C.I.A', 'NNP'), ('.', '.')]\n",
            "[('agent', 'NN'), ('responsible', 'JJ'), ('for', 'IN'), ('handling', 'VBG'), ('Alex', 'NNP'), ('Mason', 'NNP'), (',', ','), ('mainly', 'RB'), ('during', 'IN'), ('1968', 'CD'), ('.', '.')]\n",
            "[('He', 'PRP'), ('was', 'VBD'), ('the', 'DT'), ('deuteragonist', 'NN'), ('of', 'IN'), ('Call', 'NNP'), ('of', 'IN'), ('Duty', 'NN'), (':', ':'), ('Black', 'NNP'), ('Ops', 'NNP'), ('and', 'CC'), ('a', 'DT'), ('supporting', 'VBG'), ('character', 'NN'), ('in', 'IN'), ('the', 'DT'), ('1980s', 'CD'), ('missions', 'NNS'), ('of', 'IN'), ('Call', 'NNP'), ('of', 'IN'), ('Duty', 'NN'), (':', ':'), ('Black', 'NNP'), ('Ops', 'NNP'), ('II', 'NNP'), ('.', '.')]\n",
            "sentences\n",
            "[('Special', 'JJ'), ('Agent', 'NNP'), ('Jason', 'NNP'), ('Hudson', 'NNP'), ('was', 'VBD'), ('a', 'DT'), ('C.I.A', 'NNP'), ('.', '.')]\n",
            "[('agent', 'NN'), ('responsible', 'JJ'), ('for', 'IN'), ('handling', 'VBG'), ('Alex', 'NNP'), ('Mason', 'NNP'), (',', ','), ('mainly', 'RB'), ('during', 'IN'), ('1968', 'CD'), ('.', '.')]\n",
            "[('He', 'PRP'), ('was', 'VBD'), ('the', 'DT'), ('deuteragonist', 'NN'), ('of', 'IN'), ('Call', 'NNP'), ('of', 'IN'), ('Duty', 'NN'), (':', ':'), ('Black', 'NNP'), ('Ops', 'NNP'), ('and', 'CC'), ('a', 'DT'), ('supporting', 'VBG'), ('character', 'NN'), ('in', 'IN'), ('the', 'DT'), ('1980s', 'CD'), ('missions', 'NNS'), ('of', 'IN'), ('Call', 'NNP'), ('of', 'IN'), ('Duty', 'NN'), (':', ':'), ('Black', 'NNP'), ('Ops', 'NNP'), ('II', 'NNP'), ('.', '.')]\n",
            "sentences\n",
            "[('Special', 'JJ'), ('Agent', 'NNP'), ('Jason', 'NNP'), ('Hudson', 'NNP'), ('was', 'VBD'), ('a', 'DT'), ('C.I.A', 'NNP'), ('.', '.')]\n",
            "[('agent', 'NN'), ('responsible', 'JJ'), ('for', 'IN'), ('handling', 'VBG'), ('Alex', 'NNP'), ('Mason', 'NNP'), (',', ','), ('mainly', 'RB'), ('during', 'IN'), ('1968', 'CD'), ('.', '.')]\n",
            "[('He', 'PRP'), ('was', 'VBD'), ('the', 'DT'), ('deuteragonist', 'NN'), ('of', 'IN'), ('Call', 'NNP'), ('of', 'IN'), ('Duty', 'NN'), (':', ':'), ('Black', 'NNP'), ('Ops', 'NNP'), ('and', 'CC'), ('a', 'DT'), ('supporting', 'VBG'), ('character', 'NN'), ('in', 'IN'), ('the', 'DT'), ('1980s', 'CD'), ('missions', 'NNS'), ('of', 'IN'), ('Call', 'NNP'), ('of', 'IN'), ('Duty', 'NN'), (':', ':'), ('Black', 'NNP'), ('Ops', 'NNP'), ('II', 'NNP'), ('.', '.')]\n",
            "sentences\n",
            "[('Special', 'JJ'), ('Agent', 'NNP'), ('Jason', 'NNP'), ('Hudson', 'NNP'), ('was', 'VBD'), ('a', 'DT'), ('C.I.A', 'NNP'), ('.', '.')]\n",
            "[('agent', 'NN'), ('responsible', 'JJ'), ('for', 'IN'), ('handling', 'VBG'), ('Alex', 'NNP'), ('Mason', 'NNP'), (',', ','), ('mainly', 'RB'), ('during', 'IN'), ('1968', 'CD'), ('.', '.')]\n",
            "[('He', 'PRP'), ('was', 'VBD'), ('the', 'DT'), ('deuteragonist', 'NN'), ('of', 'IN'), ('Call', 'NNP'), ('of', 'IN'), ('Duty', 'NN'), (':', ':'), ('Black', 'NNP'), ('Ops', 'NNP'), ('and', 'CC'), ('a', 'DT'), ('supporting', 'VBG'), ('character', 'NN'), ('in', 'IN'), ('the', 'DT'), ('1980s', 'CD'), ('missions', 'NNS'), ('of', 'IN'), ('Call', 'NNP'), ('of', 'IN'), ('Duty', 'NN'), (':', ':'), ('Black', 'NNP'), ('Ops', 'NNP'), ('II', 'NNP'), ('.', '.')]\n",
            "sentences\n",
            "[('Special', 'JJ'), ('Agent', 'NNP'), ('Jason', 'NNP'), ('Hudson', 'NNP'), ('was', 'VBD'), ('a', 'DT'), ('C.I.A', 'NNP'), ('.', '.')]\n",
            "[('agent', 'NN'), ('responsible', 'JJ'), ('for', 'IN'), ('handling', 'VBG'), ('Alex', 'NNP'), ('Mason', 'NNP'), (',', ','), ('mainly', 'RB'), ('during', 'IN'), ('1968', 'CD'), ('.', '.')]\n",
            "[('He', 'PRP'), ('was', 'VBD'), ('the', 'DT'), ('deuteragonist', 'NN'), ('of', 'IN'), ('Call', 'NNP'), ('of', 'IN'), ('Duty', 'NN'), (':', ':'), ('Black', 'NNP'), ('Ops', 'NNP'), ('and', 'CC'), ('a', 'DT'), ('supporting', 'VBG'), ('character', 'NN'), ('in', 'IN'), ('the', 'DT'), ('1980s', 'CD'), ('missions', 'NNS'), ('of', 'IN'), ('Call', 'NNP'), ('of', 'IN'), ('Duty', 'NN'), (':', ':'), ('Black', 'NNP'), ('Ops', 'NNP'), ('II', 'NNP'), ('.', '.')]\n",
            "sentences\n",
            "[('Special', 'JJ'), ('Agent', 'NNP'), ('Jason', 'NNP'), ('Hudson', 'NNP'), ('was', 'VBD'), ('a', 'DT'), ('C.I.A', 'NNP'), ('.', '.')]\n",
            "[('agent', 'NN'), ('responsible', 'JJ'), ('for', 'IN'), ('handling', 'VBG'), ('Alex', 'NNP'), ('Mason', 'NNP'), (',', ','), ('mainly', 'RB'), ('during', 'IN'), ('1968', 'CD'), ('.', '.')]\n",
            "[('He', 'PRP'), ('was', 'VBD'), ('the', 'DT'), ('deuteragonist', 'NN'), ('of', 'IN'), ('Call', 'NNP'), ('of', 'IN'), ('Duty', 'NN'), (':', ':'), ('Black', 'NNP'), ('Ops', 'NNP'), ('and', 'CC'), ('a', 'DT'), ('supporting', 'VBG'), ('character', 'NN'), ('in', 'IN'), ('the', 'DT'), ('1980s', 'CD'), ('missions', 'NNS'), ('of', 'IN'), ('Call', 'NNP'), ('of', 'IN'), ('Duty', 'NN'), (':', ':'), ('Black', 'NNP'), ('Ops', 'NNP'), ('II', 'NNP'), ('.', '.')]\n",
            "sentences\n",
            "[('Special', 'JJ'), ('Agent', 'NNP'), ('Jason', 'NNP'), ('Hudson', 'NNP'), ('was', 'VBD'), ('a', 'DT'), ('C.I.A', 'NNP'), ('.', '.')]\n",
            "[('agent', 'NN'), ('responsible', 'JJ'), ('for', 'IN'), ('handling', 'VBG'), ('Alex', 'NNP'), ('Mason', 'NNP'), (',', ','), ('mainly', 'RB'), ('during', 'IN'), ('1968', 'CD'), ('.', '.')]\n",
            "[('He', 'PRP'), ('was', 'VBD'), ('the', 'DT'), ('deuteragonist', 'NN'), ('of', 'IN'), ('Call', 'NNP'), ('of', 'IN'), ('Duty', 'NN'), (':', ':'), ('Black', 'NNP'), ('Ops', 'NNP'), ('and', 'CC'), ('a', 'DT'), ('supporting', 'VBG'), ('character', 'NN'), ('in', 'IN'), ('the', 'DT'), ('1980s', 'CD'), ('missions', 'NNS'), ('of', 'IN'), ('Call', 'NNP'), ('of', 'IN'), ('Duty', 'NN'), (':', ':'), ('Black', 'NNP'), ('Ops', 'NNP'), ('II', 'NNP'), ('.', '.')]\n",
            "sentences\n",
            "[('Special', 'JJ'), ('Agent', 'NNP'), ('Jason', 'NNP'), ('Hudson', 'NNP'), ('was', 'VBD'), ('a', 'DT'), ('C.I.A', 'NNP'), ('.', '.')]\n",
            "[('agent', 'NN'), ('responsible', 'JJ'), ('for', 'IN'), ('handling', 'VBG'), ('Alex', 'NNP'), ('Mason', 'NNP'), (',', ','), ('mainly', 'RB'), ('during', 'IN'), ('1968', 'CD'), ('.', '.')]\n",
            "[('He', 'PRP'), ('was', 'VBD'), ('the', 'DT'), ('deuteragonist', 'NN'), ('of', 'IN'), ('Call', 'NNP'), ('of', 'IN'), ('Duty', 'NN'), (':', ':'), ('Black', 'NNP'), ('Ops', 'NNP'), ('and', 'CC'), ('a', 'DT'), ('supporting', 'VBG'), ('character', 'NN'), ('in', 'IN'), ('the', 'DT'), ('1980s', 'CD'), ('missions', 'NNS'), ('of', 'IN'), ('Call', 'NNP'), ('of', 'IN'), ('Duty', 'NN'), (':', ':'), ('Black', 'NNP'), ('Ops', 'NNP'), ('II', 'NNP'), ('.', '.')]\n",
            "sentences\n",
            "[('Special', 'JJ'), ('Agent', 'NNP'), ('Jason', 'NNP'), ('Hudson', 'NNP'), ('was', 'VBD'), ('a', 'DT'), ('C.I.A', 'NNP'), ('.', '.')]\n",
            "[('agent', 'NN'), ('responsible', 'JJ'), ('for', 'IN'), ('handling', 'VBG'), ('Alex', 'NNP'), ('Mason', 'NNP'), (',', ','), ('mainly', 'RB'), ('during', 'IN'), ('1968', 'CD'), ('.', '.')]\n",
            "[('He', 'PRP'), ('was', 'VBD'), ('the', 'DT'), ('deuteragonist', 'NN'), ('of', 'IN'), ('Call', 'NNP'), ('of', 'IN'), ('Duty', 'NN'), (':', ':'), ('Black', 'NNP'), ('Ops', 'NNP'), ('and', 'CC'), ('a', 'DT'), ('supporting', 'VBG'), ('character', 'NN'), ('in', 'IN'), ('the', 'DT'), ('1980s', 'CD'), ('missions', 'NNS'), ('of', 'IN'), ('Call', 'NNP'), ('of', 'IN'), ('Duty', 'NN'), (':', ':'), ('Black', 'NNP'), ('Ops', 'NNP'), ('II', 'NNP'), ('.', '.')]\n",
            "sentences\n",
            "[('Special', 'JJ'), ('Agent', 'NNP'), ('Jason', 'NNP'), ('Hudson', 'NNP'), ('was', 'VBD'), ('a', 'DT'), ('C.I.A', 'NNP'), ('.', '.')]\n",
            "[('agent', 'NN'), ('responsible', 'JJ'), ('for', 'IN'), ('handling', 'VBG'), ('Alex', 'NNP'), ('Mason', 'NNP'), (',', ','), ('mainly', 'RB'), ('during', 'IN'), ('1968', 'CD'), ('.', '.')]\n",
            "[('He', 'PRP'), ('was', 'VBD'), ('the', 'DT'), ('deuteragonist', 'NN'), ('of', 'IN'), ('Call', 'NNP'), ('of', 'IN'), ('Duty', 'NN'), (':', ':'), ('Black', 'NNP'), ('Ops', 'NNP'), ('and', 'CC'), ('a', 'DT'), ('supporting', 'VBG'), ('character', 'NN'), ('in', 'IN'), ('the', 'DT'), ('1980s', 'CD'), ('missions', 'NNS'), ('of', 'IN'), ('Call', 'NNP'), ('of', 'IN'), ('Duty', 'NN'), (':', ':'), ('Black', 'NNP'), ('Ops', 'NNP'), ('II', 'NNP'), ('.', '.')]\n",
            "sentences\n",
            "[('Special', 'JJ'), ('Agent', 'NNP'), ('Jason', 'NNP'), ('Hudson', 'NNP'), ('was', 'VBD'), ('a', 'DT'), ('C.I.A', 'NNP'), ('.', '.')]\n",
            "[('agent', 'NN'), ('responsible', 'JJ'), ('for', 'IN'), ('handling', 'VBG'), ('Alex', 'NNP'), ('Mason', 'NNP'), (',', ','), ('mainly', 'RB'), ('during', 'IN'), ('1968', 'CD'), ('.', '.')]\n",
            "[('He', 'PRP'), ('was', 'VBD'), ('the', 'DT'), ('deuteragonist', 'NN'), ('of', 'IN'), ('Call', 'NNP'), ('of', 'IN'), ('Duty', 'NN'), (':', ':'), ('Black', 'NNP'), ('Ops', 'NNP'), ('and', 'CC'), ('a', 'DT'), ('supporting', 'VBG'), ('character', 'NN'), ('in', 'IN'), ('the', 'DT'), ('1980s', 'CD'), ('missions', 'NNS'), ('of', 'IN'), ('Call', 'NNP'), ('of', 'IN'), ('Duty', 'NN'), (':', ':'), ('Black', 'NNP'), ('Ops', 'NNP'), ('II', 'NNP'), ('.', '.')]\n",
            "sentences\n",
            "[('Special', 'JJ'), ('Agent', 'NNP'), ('Jason', 'NNP'), ('Hudson', 'NNP'), ('was', 'VBD'), ('a', 'DT'), ('C.I.A', 'NNP'), ('.', '.')]\n",
            "[('agent', 'NN'), ('responsible', 'JJ'), ('for', 'IN'), ('handling', 'VBG'), ('Alex', 'NNP'), ('Mason', 'NNP'), (',', ','), ('mainly', 'RB'), ('during', 'IN'), ('1968', 'CD'), ('.', '.')]\n",
            "[('He', 'PRP'), ('was', 'VBD'), ('the', 'DT'), ('deuteragonist', 'NN'), ('of', 'IN'), ('Call', 'NNP'), ('of', 'IN'), ('Duty', 'NN'), (':', ':'), ('Black', 'NNP'), ('Ops', 'NNP'), ('and', 'CC'), ('a', 'DT'), ('supporting', 'VBG'), ('character', 'NN'), ('in', 'IN'), ('the', 'DT'), ('1980s', 'CD'), ('missions', 'NNS'), ('of', 'IN'), ('Call', 'NNP'), ('of', 'IN'), ('Duty', 'NN'), (':', ':'), ('Black', 'NNP'), ('Ops', 'NNP'), ('II', 'NNP'), ('.', '.')]\n",
            "sentences\n",
            "[('Special', 'JJ'), ('Agent', 'NNP'), ('Jason', 'NNP'), ('Hudson', 'NNP'), ('was', 'VBD'), ('a', 'DT'), ('C.I.A', 'NNP'), ('.', '.')]\n",
            "[('agent', 'NN'), ('responsible', 'JJ'), ('for', 'IN'), ('handling', 'VBG'), ('Alex', 'NNP'), ('Mason', 'NNP'), (',', ','), ('mainly', 'RB'), ('during', 'IN'), ('1968', 'CD'), ('.', '.')]\n",
            "[('He', 'PRP'), ('was', 'VBD'), ('the', 'DT'), ('deuteragonist', 'NN'), ('of', 'IN'), ('Call', 'NNP'), ('of', 'IN'), ('Duty', 'NN'), (':', ':'), ('Black', 'NNP'), ('Ops', 'NNP'), ('and', 'CC'), ('a', 'DT'), ('supporting', 'VBG'), ('character', 'NN'), ('in', 'IN'), ('the', 'DT'), ('1980s', 'CD'), ('missions', 'NNS'), ('of', 'IN'), ('Call', 'NNP'), ('of', 'IN'), ('Duty', 'NN'), (':', ':'), ('Black', 'NNP'), ('Ops', 'NNP'), ('II', 'NNP'), ('.', '.')]\n",
            "sentences\n",
            "[('Special', 'JJ'), ('Agent', 'NNP'), ('Jason', 'NNP'), ('Hudson', 'NNP'), ('was', 'VBD'), ('a', 'DT'), ('C.I.A', 'NNP'), ('.', '.')]\n",
            "[('agent', 'NN'), ('responsible', 'JJ'), ('for', 'IN'), ('handling', 'VBG'), ('Alex', 'NNP'), ('Mason', 'NNP'), (',', ','), ('mainly', 'RB'), ('during', 'IN'), ('1968', 'CD'), ('.', '.')]\n",
            "[('He', 'PRP'), ('was', 'VBD'), ('the', 'DT'), ('deuteragonist', 'NN'), ('of', 'IN'), ('Call', 'NNP'), ('of', 'IN'), ('Duty', 'NN'), (':', ':'), ('Black', 'NNP'), ('Ops', 'NNP'), ('and', 'CC'), ('a', 'DT'), ('supporting', 'VBG'), ('character', 'NN'), ('in', 'IN'), ('the', 'DT'), ('1980s', 'CD'), ('missions', 'NNS'), ('of', 'IN'), ('Call', 'NNP'), ('of', 'IN'), ('Duty', 'NN'), (':', ':'), ('Black', 'NNP'), ('Ops', 'NNP'), ('II', 'NNP'), ('.', '.')]\n",
            "sentences\n",
            "[('Special', 'JJ'), ('Agent', 'NNP'), ('Jason', 'NNP'), ('Hudson', 'NNP'), ('was', 'VBD'), ('a', 'DT'), ('C.I.A', 'NNP'), ('.', '.')]\n",
            "[('agent', 'NN'), ('responsible', 'JJ'), ('for', 'IN'), ('handling', 'VBG'), ('Alex', 'NNP'), ('Mason', 'NNP'), (',', ','), ('mainly', 'RB'), ('during', 'IN'), ('1968', 'CD'), ('.', '.')]\n",
            "[('He', 'PRP'), ('was', 'VBD'), ('the', 'DT'), ('deuteragonist', 'NN'), ('of', 'IN'), ('Call', 'NNP'), ('of', 'IN'), ('Duty', 'NN'), (':', ':'), ('Black', 'NNP'), ('Ops', 'NNP'), ('and', 'CC'), ('a', 'DT'), ('supporting', 'VBG'), ('character', 'NN'), ('in', 'IN'), ('the', 'DT'), ('1980s', 'CD'), ('missions', 'NNS'), ('of', 'IN'), ('Call', 'NNP'), ('of', 'IN'), ('Duty', 'NN'), (':', ':'), ('Black', 'NNP'), ('Ops', 'NNP'), ('II', 'NNP'), ('.', '.')]\n",
            "sentences\n",
            "[('Special', 'JJ'), ('Agent', 'NNP'), ('Jason', 'NNP'), ('Hudson', 'NNP'), ('was', 'VBD'), ('a', 'DT'), ('C.I.A', 'NNP'), ('.', '.')]\n",
            "[('agent', 'NN'), ('responsible', 'JJ'), ('for', 'IN'), ('handling', 'VBG'), ('Alex', 'NNP'), ('Mason', 'NNP'), (',', ','), ('mainly', 'RB'), ('during', 'IN'), ('1968', 'CD'), ('.', '.')]\n",
            "[('He', 'PRP'), ('was', 'VBD'), ('the', 'DT'), ('deuteragonist', 'NN'), ('of', 'IN'), ('Call', 'NNP'), ('of', 'IN'), ('Duty', 'NN'), (':', ':'), ('Black', 'NNP'), ('Ops', 'NNP'), ('and', 'CC'), ('a', 'DT'), ('supporting', 'VBG'), ('character', 'NN'), ('in', 'IN'), ('the', 'DT'), ('1980s', 'CD'), ('missions', 'NNS'), ('of', 'IN'), ('Call', 'NNP'), ('of', 'IN'), ('Duty', 'NN'), (':', ':'), ('Black', 'NNP'), ('Ops', 'NNP'), ('II', 'NNP'), ('.', '.')]\n",
            "sentences\n",
            "[('Special', 'JJ'), ('Agent', 'NNP'), ('Jason', 'NNP'), ('Hudson', 'NNP'), ('was', 'VBD'), ('a', 'DT'), ('C.I.A', 'NNP'), ('.', '.')]\n",
            "[('agent', 'NN'), ('responsible', 'JJ'), ('for', 'IN'), ('handling', 'VBG'), ('Alex', 'NNP'), ('Mason', 'NNP'), (',', ','), ('mainly', 'RB'), ('during', 'IN'), ('1968', 'CD'), ('.', '.')]\n",
            "[('He', 'PRP'), ('was', 'VBD'), ('the', 'DT'), ('deuteragonist', 'NN'), ('of', 'IN'), ('Call', 'NNP'), ('of', 'IN'), ('Duty', 'NN'), (':', ':'), ('Black', 'NNP'), ('Ops', 'NNP'), ('and', 'CC'), ('a', 'DT'), ('supporting', 'VBG'), ('character', 'NN'), ('in', 'IN'), ('the', 'DT'), ('1980s', 'CD'), ('missions', 'NNS'), ('of', 'IN'), ('Call', 'NNP'), ('of', 'IN'), ('Duty', 'NN'), (':', ':'), ('Black', 'NNP'), ('Ops', 'NNP'), ('II', 'NNP'), ('.', '.')]\n",
            "sentences\n",
            "[('Special', 'JJ'), ('Agent', 'NNP'), ('Jason', 'NNP'), ('Hudson', 'NNP'), ('was', 'VBD'), ('a', 'DT'), ('C.I.A', 'NNP'), ('.', '.')]\n",
            "[('agent', 'NN'), ('responsible', 'JJ'), ('for', 'IN'), ('handling', 'VBG'), ('Alex', 'NNP'), ('Mason', 'NNP'), (',', ','), ('mainly', 'RB'), ('during', 'IN'), ('1968', 'CD'), ('.', '.')]\n",
            "[('He', 'PRP'), ('was', 'VBD'), ('the', 'DT'), ('deuteragonist', 'NN'), ('of', 'IN'), ('Call', 'NNP'), ('of', 'IN'), ('Duty', 'NN'), (':', ':'), ('Black', 'NNP'), ('Ops', 'NNP'), ('and', 'CC'), ('a', 'DT'), ('supporting', 'VBG'), ('character', 'NN'), ('in', 'IN'), ('the', 'DT'), ('1980s', 'CD'), ('missions', 'NNS'), ('of', 'IN'), ('Call', 'NNP'), ('of', 'IN'), ('Duty', 'NN'), (':', ':'), ('Black', 'NNP'), ('Ops', 'NNP'), ('II', 'NNP'), ('.', '.')]\n",
            "sentences\n",
            "[('Special', 'JJ'), ('Agent', 'NNP'), ('Jason', 'NNP'), ('Hudson', 'NNP'), ('was', 'VBD'), ('a', 'DT'), ('C.I.A', 'NNP'), ('.', '.')]\n",
            "[('agent', 'NN'), ('responsible', 'JJ'), ('for', 'IN'), ('handling', 'VBG'), ('Alex', 'NNP'), ('Mason', 'NNP'), (',', ','), ('mainly', 'RB'), ('during', 'IN'), ('1968', 'CD'), ('.', '.')]\n",
            "[('He', 'PRP'), ('was', 'VBD'), ('the', 'DT'), ('deuteragonist', 'NN'), ('of', 'IN'), ('Call', 'NNP'), ('of', 'IN'), ('Duty', 'NN'), (':', ':'), ('Black', 'NNP'), ('Ops', 'NNP'), ('and', 'CC'), ('a', 'DT'), ('supporting', 'VBG'), ('character', 'NN'), ('in', 'IN'), ('the', 'DT'), ('1980s', 'CD'), ('missions', 'NNS'), ('of', 'IN'), ('Call', 'NNP'), ('of', 'IN'), ('Duty', 'NN'), (':', ':'), ('Black', 'NNP'), ('Ops', 'NNP'), ('II', 'NNP'), ('.', '.')]\n",
            "sentences\n",
            "[('Special', 'JJ'), ('Agent', 'NNP'), ('Jason', 'NNP'), ('Hudson', 'NNP'), ('was', 'VBD'), ('a', 'DT'), ('C.I.A', 'NNP'), ('.', '.')]\n",
            "[('agent', 'NN'), ('responsible', 'JJ'), ('for', 'IN'), ('handling', 'VBG'), ('Alex', 'NNP'), ('Mason', 'NNP'), (',', ','), ('mainly', 'RB'), ('during', 'IN'), ('1968', 'CD'), ('.', '.')]\n",
            "[('He', 'PRP'), ('was', 'VBD'), ('the', 'DT'), ('deuteragonist', 'NN'), ('of', 'IN'), ('Call', 'NNP'), ('of', 'IN'), ('Duty', 'NN'), (':', ':'), ('Black', 'NNP'), ('Ops', 'NNP'), ('and', 'CC'), ('a', 'DT'), ('supporting', 'VBG'), ('character', 'NN'), ('in', 'IN'), ('the', 'DT'), ('1980s', 'CD'), ('missions', 'NNS'), ('of', 'IN'), ('Call', 'NNP'), ('of', 'IN'), ('Duty', 'NN'), (':', ':'), ('Black', 'NNP'), ('Ops', 'NNP'), ('II', 'NNP'), ('.', '.')]\n",
            "sentences\n",
            "[('Special', 'JJ'), ('Agent', 'NNP'), ('Jason', 'NNP'), ('Hudson', 'NNP'), ('was', 'VBD'), ('a', 'DT'), ('C.I.A', 'NNP'), ('.', '.')]\n",
            "[('agent', 'NN'), ('responsible', 'JJ'), ('for', 'IN'), ('handling', 'VBG'), ('Alex', 'NNP'), ('Mason', 'NNP'), (',', ','), ('mainly', 'RB'), ('during', 'IN'), ('1968', 'CD'), ('.', '.')]\n",
            "[('He', 'PRP'), ('was', 'VBD'), ('the', 'DT'), ('deuteragonist', 'NN'), ('of', 'IN'), ('Call', 'NNP'), ('of', 'IN'), ('Duty', 'NN'), (':', ':'), ('Black', 'NNP'), ('Ops', 'NNP'), ('and', 'CC'), ('a', 'DT'), ('supporting', 'VBG'), ('character', 'NN'), ('in', 'IN'), ('the', 'DT'), ('1980s', 'CD'), ('missions', 'NNS'), ('of', 'IN'), ('Call', 'NNP'), ('of', 'IN'), ('Duty', 'NN'), (':', ':'), ('Black', 'NNP'), ('Ops', 'NNP'), ('II', 'NNP'), ('.', '.')]\n",
            "sentences\n",
            "[('Special', 'JJ'), ('Agent', 'NNP'), ('Jason', 'NNP'), ('Hudson', 'NNP'), ('was', 'VBD'), ('a', 'DT'), ('C.I.A', 'NNP'), ('.', '.')]\n",
            "[('agent', 'NN'), ('responsible', 'JJ'), ('for', 'IN'), ('handling', 'VBG'), ('Alex', 'NNP'), ('Mason', 'NNP'), (',', ','), ('mainly', 'RB'), ('during', 'IN'), ('1968', 'CD'), ('.', '.')]\n",
            "[('He', 'PRP'), ('was', 'VBD'), ('the', 'DT'), ('deuteragonist', 'NN'), ('of', 'IN'), ('Call', 'NNP'), ('of', 'IN'), ('Duty', 'NN'), (':', ':'), ('Black', 'NNP'), ('Ops', 'NNP'), ('and', 'CC'), ('a', 'DT'), ('supporting', 'VBG'), ('character', 'NN'), ('in', 'IN'), ('the', 'DT'), ('1980s', 'CD'), ('missions', 'NNS'), ('of', 'IN'), ('Call', 'NNP'), ('of', 'IN'), ('Duty', 'NN'), (':', ':'), ('Black', 'NNP'), ('Ops', 'NNP'), ('II', 'NNP'), ('.', '.')]\n",
            "sentences\n",
            "[('Special', 'JJ'), ('Agent', 'NNP'), ('Jason', 'NNP'), ('Hudson', 'NNP'), ('was', 'VBD'), ('a', 'DT'), ('C.I.A', 'NNP'), ('.', '.')]\n",
            "[('agent', 'NN'), ('responsible', 'JJ'), ('for', 'IN'), ('handling', 'VBG'), ('Alex', 'NNP'), ('Mason', 'NNP'), (',', ','), ('mainly', 'RB'), ('during', 'IN'), ('1968', 'CD'), ('.', '.')]\n",
            "[('He', 'PRP'), ('was', 'VBD'), ('the', 'DT'), ('deuteragonist', 'NN'), ('of', 'IN'), ('Call', 'NNP'), ('of', 'IN'), ('Duty', 'NN'), (':', ':'), ('Black', 'NNP'), ('Ops', 'NNP'), ('and', 'CC'), ('a', 'DT'), ('supporting', 'VBG'), ('character', 'NN'), ('in', 'IN'), ('the', 'DT'), ('1980s', 'CD'), ('missions', 'NNS'), ('of', 'IN'), ('Call', 'NNP'), ('of', 'IN'), ('Duty', 'NN'), (':', ':'), ('Black', 'NNP'), ('Ops', 'NNP'), ('II', 'NNP'), ('.', '.')]\n",
            "sentences\n",
            "[('Special', 'JJ'), ('Agent', 'NNP'), ('Jason', 'NNP'), ('Hudson', 'NNP'), ('was', 'VBD'), ('a', 'DT'), ('C.I.A', 'NNP'), ('.', '.')]\n",
            "[('agent', 'NN'), ('responsible', 'JJ'), ('for', 'IN'), ('handling', 'VBG'), ('Alex', 'NNP'), ('Mason', 'NNP'), (',', ','), ('mainly', 'RB'), ('during', 'IN'), ('1968', 'CD'), ('.', '.')]\n",
            "[('He', 'PRP'), ('was', 'VBD'), ('the', 'DT'), ('deuteragonist', 'NN'), ('of', 'IN'), ('Call', 'NNP'), ('of', 'IN'), ('Duty', 'NN'), (':', ':'), ('Black', 'NNP'), ('Ops', 'NNP'), ('and', 'CC'), ('a', 'DT'), ('supporting', 'VBG'), ('character', 'NN'), ('in', 'IN'), ('the', 'DT'), ('1980s', 'CD'), ('missions', 'NNS'), ('of', 'IN'), ('Call', 'NNP'), ('of', 'IN'), ('Duty', 'NN'), (':', ':'), ('Black', 'NNP'), ('Ops', 'NNP'), ('II', 'NNP'), ('.', '.')]\n",
            "sentences\n",
            "[('Special', 'JJ'), ('Agent', 'NNP'), ('Jason', 'NNP'), ('Hudson', 'NNP'), ('was', 'VBD'), ('a', 'DT'), ('C.I.A', 'NNP'), ('.', '.')]\n",
            "[('agent', 'NN'), ('responsible', 'JJ'), ('for', 'IN'), ('handling', 'VBG'), ('Alex', 'NNP'), ('Mason', 'NNP'), (',', ','), ('mainly', 'RB'), ('during', 'IN'), ('1968', 'CD'), ('.', '.')]\n",
            "[('He', 'PRP'), ('was', 'VBD'), ('the', 'DT'), ('deuteragonist', 'NN'), ('of', 'IN'), ('Call', 'NNP'), ('of', 'IN'), ('Duty', 'NN'), (':', ':'), ('Black', 'NNP'), ('Ops', 'NNP'), ('and', 'CC'), ('a', 'DT'), ('supporting', 'VBG'), ('character', 'NN'), ('in', 'IN'), ('the', 'DT'), ('1980s', 'CD'), ('missions', 'NNS'), ('of', 'IN'), ('Call', 'NNP'), ('of', 'IN'), ('Duty', 'NN'), (':', ':'), ('Black', 'NNP'), ('Ops', 'NNP'), ('II', 'NNP'), ('.', '.')]\n",
            "sentences\n",
            "[('Special', 'JJ'), ('Agent', 'NNP'), ('Jason', 'NNP'), ('Hudson', 'NNP'), ('was', 'VBD'), ('a', 'DT'), ('C.I.A', 'NNP'), ('.', '.')]\n",
            "[('agent', 'NN'), ('responsible', 'JJ'), ('for', 'IN'), ('handling', 'VBG'), ('Alex', 'NNP'), ('Mason', 'NNP'), (',', ','), ('mainly', 'RB'), ('during', 'IN'), ('1968', 'CD'), ('.', '.')]\n",
            "[('He', 'PRP'), ('was', 'VBD'), ('the', 'DT'), ('deuteragonist', 'NN'), ('of', 'IN'), ('Call', 'NNP'), ('of', 'IN'), ('Duty', 'NN'), (':', ':'), ('Black', 'NNP'), ('Ops', 'NNP'), ('and', 'CC'), ('a', 'DT'), ('supporting', 'VBG'), ('character', 'NN'), ('in', 'IN'), ('the', 'DT'), ('1980s', 'CD'), ('missions', 'NNS'), ('of', 'IN'), ('Call', 'NNP'), ('of', 'IN'), ('Duty', 'NN'), (':', ':'), ('Black', 'NNP'), ('Ops', 'NNP'), ('II', 'NNP'), ('.', '.')]\n",
            "sentences\n",
            "[('Special', 'JJ'), ('Agent', 'NNP'), ('Jason', 'NNP'), ('Hudson', 'NNP'), ('was', 'VBD'), ('a', 'DT'), ('C.I.A', 'NNP'), ('.', '.')]\n",
            "[('agent', 'NN'), ('responsible', 'JJ'), ('for', 'IN'), ('handling', 'VBG'), ('Alex', 'NNP'), ('Mason', 'NNP'), (',', ','), ('mainly', 'RB'), ('during', 'IN'), ('1968', 'CD'), ('.', '.')]\n",
            "[('He', 'PRP'), ('was', 'VBD'), ('the', 'DT'), ('deuteragonist', 'NN'), ('of', 'IN'), ('Call', 'NNP'), ('of', 'IN'), ('Duty', 'NN'), (':', ':'), ('Black', 'NNP'), ('Ops', 'NNP'), ('and', 'CC'), ('a', 'DT'), ('supporting', 'VBG'), ('character', 'NN'), ('in', 'IN'), ('the', 'DT'), ('1980s', 'CD'), ('missions', 'NNS'), ('of', 'IN'), ('Call', 'NNP'), ('of', 'IN'), ('Duty', 'NN'), (':', ':'), ('Black', 'NNP'), ('Ops', 'NNP'), ('II', 'NNP'), ('.', '.')]\n",
            "sentences\n",
            "[('Special', 'JJ'), ('Agent', 'NNP'), ('Jason', 'NNP'), ('Hudson', 'NNP'), ('was', 'VBD'), ('a', 'DT'), ('C.I.A', 'NNP'), ('.', '.')]\n",
            "[('agent', 'NN'), ('responsible', 'JJ'), ('for', 'IN'), ('handling', 'VBG'), ('Alex', 'NNP'), ('Mason', 'NNP'), (',', ','), ('mainly', 'RB'), ('during', 'IN'), ('1968', 'CD'), ('.', '.')]\n",
            "[('He', 'PRP'), ('was', 'VBD'), ('the', 'DT'), ('deuteragonist', 'NN'), ('of', 'IN'), ('Call', 'NNP'), ('of', 'IN'), ('Duty', 'NN'), (':', ':'), ('Black', 'NNP'), ('Ops', 'NNP'), ('and', 'CC'), ('a', 'DT'), ('supporting', 'VBG'), ('character', 'NN'), ('in', 'IN'), ('the', 'DT'), ('1980s', 'CD'), ('missions', 'NNS'), ('of', 'IN'), ('Call', 'NNP'), ('of', 'IN'), ('Duty', 'NN'), (':', ':'), ('Black', 'NNP'), ('Ops', 'NNP'), ('II', 'NNP'), ('.', '.')]\n",
            "sentences\n",
            "[('Special', 'JJ'), ('Agent', 'NNP'), ('Jason', 'NNP'), ('Hudson', 'NNP'), ('was', 'VBD'), ('a', 'DT'), ('C.I.A', 'NNP'), ('.', '.')]\n",
            "[('agent', 'NN'), ('responsible', 'JJ'), ('for', 'IN'), ('handling', 'VBG'), ('Alex', 'NNP'), ('Mason', 'NNP'), (',', ','), ('mainly', 'RB'), ('during', 'IN'), ('1968', 'CD'), ('.', '.')]\n",
            "[('He', 'PRP'), ('was', 'VBD'), ('the', 'DT'), ('deuteragonist', 'NN'), ('of', 'IN'), ('Call', 'NNP'), ('of', 'IN'), ('Duty', 'NN'), (':', ':'), ('Black', 'NNP'), ('Ops', 'NNP'), ('and', 'CC'), ('a', 'DT'), ('supporting', 'VBG'), ('character', 'NN'), ('in', 'IN'), ('the', 'DT'), ('1980s', 'CD'), ('missions', 'NNS'), ('of', 'IN'), ('Call', 'NNP'), ('of', 'IN'), ('Duty', 'NN'), (':', ':'), ('Black', 'NNP'), ('Ops', 'NNP'), ('II', 'NNP'), ('.', '.')]\n",
            "sentences\n",
            "[('Special', 'JJ'), ('Agent', 'NNP'), ('Jason', 'NNP'), ('Hudson', 'NNP'), ('was', 'VBD'), ('a', 'DT'), ('C.I.A', 'NNP'), ('.', '.')]\n",
            "[('agent', 'NN'), ('responsible', 'JJ'), ('for', 'IN'), ('handling', 'VBG'), ('Alex', 'NNP'), ('Mason', 'NNP'), (',', ','), ('mainly', 'RB'), ('during', 'IN'), ('1968', 'CD'), ('.', '.')]\n",
            "[('He', 'PRP'), ('was', 'VBD'), ('the', 'DT'), ('deuteragonist', 'NN'), ('of', 'IN'), ('Call', 'NNP'), ('of', 'IN'), ('Duty', 'NN'), (':', ':'), ('Black', 'NNP'), ('Ops', 'NNP'), ('and', 'CC'), ('a', 'DT'), ('supporting', 'VBG'), ('character', 'NN'), ('in', 'IN'), ('the', 'DT'), ('1980s', 'CD'), ('missions', 'NNS'), ('of', 'IN'), ('Call', 'NNP'), ('of', 'IN'), ('Duty', 'NN'), (':', ':'), ('Black', 'NNP'), ('Ops', 'NNP'), ('II', 'NNP'), ('.', '.')]\n",
            "sentences\n",
            "[('Special', 'JJ'), ('Agent', 'NNP'), ('Jason', 'NNP'), ('Hudson', 'NNP'), ('was', 'VBD'), ('a', 'DT'), ('C.I.A', 'NNP'), ('.', '.')]\n",
            "[('agent', 'NN'), ('responsible', 'JJ'), ('for', 'IN'), ('handling', 'VBG'), ('Alex', 'NNP'), ('Mason', 'NNP'), (',', ','), ('mainly', 'RB'), ('during', 'IN'), ('1968', 'CD'), ('.', '.')]\n",
            "[('He', 'PRP'), ('was', 'VBD'), ('the', 'DT'), ('deuteragonist', 'NN'), ('of', 'IN'), ('Call', 'NNP'), ('of', 'IN'), ('Duty', 'NN'), (':', ':'), ('Black', 'NNP'), ('Ops', 'NNP'), ('and', 'CC'), ('a', 'DT'), ('supporting', 'VBG'), ('character', 'NN'), ('in', 'IN'), ('the', 'DT'), ('1980s', 'CD'), ('missions', 'NNS'), ('of', 'IN'), ('Call', 'NNP'), ('of', 'IN'), ('Duty', 'NN'), (':', ':'), ('Black', 'NNP'), ('Ops', 'NNP'), ('II', 'NNP'), ('.', '.')]\n",
            "sentences\n",
            "[('Special', 'JJ'), ('Agent', 'NNP'), ('Jason', 'NNP'), ('Hudson', 'NNP'), ('was', 'VBD'), ('a', 'DT'), ('C.I.A', 'NNP'), ('.', '.')]\n",
            "[('agent', 'NN'), ('responsible', 'JJ'), ('for', 'IN'), ('handling', 'VBG'), ('Alex', 'NNP'), ('Mason', 'NNP'), (',', ','), ('mainly', 'RB'), ('during', 'IN'), ('1968', 'CD'), ('.', '.')]\n",
            "[('He', 'PRP'), ('was', 'VBD'), ('the', 'DT'), ('deuteragonist', 'NN'), ('of', 'IN'), ('Call', 'NNP'), ('of', 'IN'), ('Duty', 'NN'), (':', ':'), ('Black', 'NNP'), ('Ops', 'NNP'), ('and', 'CC'), ('a', 'DT'), ('supporting', 'VBG'), ('character', 'NN'), ('in', 'IN'), ('the', 'DT'), ('1980s', 'CD'), ('missions', 'NNS'), ('of', 'IN'), ('Call', 'NNP'), ('of', 'IN'), ('Duty', 'NN'), (':', ':'), ('Black', 'NNP'), ('Ops', 'NNP'), ('II', 'NNP'), ('.', '.')]\n",
            "sentences\n",
            "[('Special', 'JJ'), ('Agent', 'NNP'), ('Jason', 'NNP'), ('Hudson', 'NNP'), ('was', 'VBD'), ('a', 'DT'), ('C.I.A', 'NNP'), ('.', '.')]\n",
            "[('agent', 'NN'), ('responsible', 'JJ'), ('for', 'IN'), ('handling', 'VBG'), ('Alex', 'NNP'), ('Mason', 'NNP'), (',', ','), ('mainly', 'RB'), ('during', 'IN'), ('1968', 'CD'), ('.', '.')]\n",
            "[('He', 'PRP'), ('was', 'VBD'), ('the', 'DT'), ('deuteragonist', 'NN'), ('of', 'IN'), ('Call', 'NNP'), ('of', 'IN'), ('Duty', 'NN'), (':', ':'), ('Black', 'NNP'), ('Ops', 'NNP'), ('and', 'CC'), ('a', 'DT'), ('supporting', 'VBG'), ('character', 'NN'), ('in', 'IN'), ('the', 'DT'), ('1980s', 'CD'), ('missions', 'NNS'), ('of', 'IN'), ('Call', 'NNP'), ('of', 'IN'), ('Duty', 'NN'), (':', ':'), ('Black', 'NNP'), ('Ops', 'NNP'), ('II', 'NNP'), ('.', '.')]\n",
            "sentences\n",
            "[('Special', 'JJ'), ('Agent', 'NNP'), ('Jason', 'NNP'), ('Hudson', 'NNP'), ('was', 'VBD'), ('a', 'DT'), ('C.I.A', 'NNP'), ('.', '.')]\n",
            "[('agent', 'NN'), ('responsible', 'JJ'), ('for', 'IN'), ('handling', 'VBG'), ('Alex', 'NNP'), ('Mason', 'NNP'), (',', ','), ('mainly', 'RB'), ('during', 'IN'), ('1968', 'CD'), ('.', '.')]\n",
            "[('He', 'PRP'), ('was', 'VBD'), ('the', 'DT'), ('deuteragonist', 'NN'), ('of', 'IN'), ('Call', 'NNP'), ('of', 'IN'), ('Duty', 'NN'), (':', ':'), ('Black', 'NNP'), ('Ops', 'NNP'), ('and', 'CC'), ('a', 'DT'), ('supporting', 'VBG'), ('character', 'NN'), ('in', 'IN'), ('the', 'DT'), ('1980s', 'CD'), ('missions', 'NNS'), ('of', 'IN'), ('Call', 'NNP'), ('of', 'IN'), ('Duty', 'NN'), (':', ':'), ('Black', 'NNP'), ('Ops', 'NNP'), ('II', 'NNP'), ('.', '.')]\n",
            "sentences\n",
            "[('Special', 'JJ'), ('Agent', 'NNP'), ('Jason', 'NNP'), ('Hudson', 'NNP'), ('was', 'VBD'), ('a', 'DT'), ('C.I.A', 'NNP'), ('.', '.')]\n",
            "[('agent', 'NN'), ('responsible', 'JJ'), ('for', 'IN'), ('handling', 'VBG'), ('Alex', 'NNP'), ('Mason', 'NNP'), (',', ','), ('mainly', 'RB'), ('during', 'IN'), ('1968', 'CD'), ('.', '.')]\n",
            "[('He', 'PRP'), ('was', 'VBD'), ('the', 'DT'), ('deuteragonist', 'NN'), ('of', 'IN'), ('Call', 'NNP'), ('of', 'IN'), ('Duty', 'NN'), (':', ':'), ('Black', 'NNP'), ('Ops', 'NNP'), ('and', 'CC'), ('a', 'DT'), ('supporting', 'VBG'), ('character', 'NN'), ('in', 'IN'), ('the', 'DT'), ('1980s', 'CD'), ('missions', 'NNS'), ('of', 'IN'), ('Call', 'NNP'), ('of', 'IN'), ('Duty', 'NN'), (':', ':'), ('Black', 'NNP'), ('Ops', 'NNP'), ('II', 'NNP'), ('.', '.')]\n",
            "sentences\n",
            "[('Special', 'JJ'), ('Agent', 'NNP'), ('Jason', 'NNP'), ('Hudson', 'NNP'), ('was', 'VBD'), ('a', 'DT'), ('C.I.A', 'NNP'), ('.', '.')]\n",
            "[('agent', 'NN'), ('responsible', 'JJ'), ('for', 'IN'), ('handling', 'VBG'), ('Alex', 'NNP'), ('Mason', 'NNP'), (',', ','), ('mainly', 'RB'), ('during', 'IN'), ('1968', 'CD'), ('.', '.')]\n",
            "[('He', 'PRP'), ('was', 'VBD'), ('the', 'DT'), ('deuteragonist', 'NN'), ('of', 'IN'), ('Call', 'NNP'), ('of', 'IN'), ('Duty', 'NN'), (':', ':'), ('Black', 'NNP'), ('Ops', 'NNP'), ('and', 'CC'), ('a', 'DT'), ('supporting', 'VBG'), ('character', 'NN'), ('in', 'IN'), ('the', 'DT'), ('1980s', 'CD'), ('missions', 'NNS'), ('of', 'IN'), ('Call', 'NNP'), ('of', 'IN'), ('Duty', 'NN'), (':', ':'), ('Black', 'NNP'), ('Ops', 'NNP'), ('II', 'NNP'), ('.', '.')]\n",
            "sentences\n",
            "[('Special', 'JJ'), ('Agent', 'NNP'), ('Jason', 'NNP'), ('Hudson', 'NNP'), ('was', 'VBD'), ('a', 'DT'), ('C.I.A', 'NNP'), ('.', '.')]\n",
            "[('agent', 'NN'), ('responsible', 'JJ'), ('for', 'IN'), ('handling', 'VBG'), ('Alex', 'NNP'), ('Mason', 'NNP'), (',', ','), ('mainly', 'RB'), ('during', 'IN'), ('1968', 'CD'), ('.', '.')]\n",
            "[('He', 'PRP'), ('was', 'VBD'), ('the', 'DT'), ('deuteragonist', 'NN'), ('of', 'IN'), ('Call', 'NNP'), ('of', 'IN'), ('Duty', 'NN'), (':', ':'), ('Black', 'NNP'), ('Ops', 'NNP'), ('and', 'CC'), ('a', 'DT'), ('supporting', 'VBG'), ('character', 'NN'), ('in', 'IN'), ('the', 'DT'), ('1980s', 'CD'), ('missions', 'NNS'), ('of', 'IN'), ('Call', 'NNP'), ('of', 'IN'), ('Duty', 'NN'), (':', ':'), ('Black', 'NNP'), ('Ops', 'NNP'), ('II', 'NNP'), ('.', '.')]\n",
            "sentences\n",
            "[('Special', 'JJ'), ('Agent', 'NNP'), ('Jason', 'NNP'), ('Hudson', 'NNP'), ('was', 'VBD'), ('a', 'DT'), ('C.I.A', 'NNP'), ('.', '.')]\n",
            "[('agent', 'NN'), ('responsible', 'JJ'), ('for', 'IN'), ('handling', 'VBG'), ('Alex', 'NNP'), ('Mason', 'NNP'), (',', ','), ('mainly', 'RB'), ('during', 'IN'), ('1968', 'CD'), ('.', '.')]\n",
            "[('He', 'PRP'), ('was', 'VBD'), ('the', 'DT'), ('deuteragonist', 'NN'), ('of', 'IN'), ('Call', 'NNP'), ('of', 'IN'), ('Duty', 'NN'), (':', ':'), ('Black', 'NNP'), ('Ops', 'NNP'), ('and', 'CC'), ('a', 'DT'), ('supporting', 'VBG'), ('character', 'NN'), ('in', 'IN'), ('the', 'DT'), ('1980s', 'CD'), ('missions', 'NNS'), ('of', 'IN'), ('Call', 'NNP'), ('of', 'IN'), ('Duty', 'NN'), (':', ':'), ('Black', 'NNP'), ('Ops', 'NNP'), ('II', 'NNP'), ('.', '.')]\n",
            "sentences\n",
            "[('Special', 'JJ'), ('Agent', 'NNP'), ('Jason', 'NNP'), ('Hudson', 'NNP'), ('was', 'VBD'), ('a', 'DT'), ('C.I.A', 'NNP'), ('.', '.')]\n",
            "[('agent', 'NN'), ('responsible', 'JJ'), ('for', 'IN'), ('handling', 'VBG'), ('Alex', 'NNP'), ('Mason', 'NNP'), (',', ','), ('mainly', 'RB'), ('during', 'IN'), ('1968', 'CD'), ('.', '.')]\n",
            "[('He', 'PRP'), ('was', 'VBD'), ('the', 'DT'), ('deuteragonist', 'NN'), ('of', 'IN'), ('Call', 'NNP'), ('of', 'IN'), ('Duty', 'NN'), (':', ':'), ('Black', 'NNP'), ('Ops', 'NNP'), ('and', 'CC'), ('a', 'DT'), ('supporting', 'VBG'), ('character', 'NN'), ('in', 'IN'), ('the', 'DT'), ('1980s', 'CD'), ('missions', 'NNS'), ('of', 'IN'), ('Call', 'NNP'), ('of', 'IN'), ('Duty', 'NN'), (':', ':'), ('Black', 'NNP'), ('Ops', 'NNP'), ('II', 'NNP'), ('.', '.')]\n",
            "sentences\n",
            "[('Special', 'JJ'), ('Agent', 'NNP'), ('Jason', 'NNP'), ('Hudson', 'NNP'), ('was', 'VBD'), ('a', 'DT'), ('C.I.A', 'NNP'), ('.', '.')]\n",
            "[('agent', 'NN'), ('responsible', 'JJ'), ('for', 'IN'), ('handling', 'VBG'), ('Alex', 'NNP'), ('Mason', 'NNP'), (',', ','), ('mainly', 'RB'), ('during', 'IN'), ('1968', 'CD'), ('.', '.')]\n",
            "[('He', 'PRP'), ('was', 'VBD'), ('the', 'DT'), ('deuteragonist', 'NN'), ('of', 'IN'), ('Call', 'NNP'), ('of', 'IN'), ('Duty', 'NN'), (':', ':'), ('Black', 'NNP'), ('Ops', 'NNP'), ('and', 'CC'), ('a', 'DT'), ('supporting', 'VBG'), ('character', 'NN'), ('in', 'IN'), ('the', 'DT'), ('1980s', 'CD'), ('missions', 'NNS'), ('of', 'IN'), ('Call', 'NNP'), ('of', 'IN'), ('Duty', 'NN'), (':', ':'), ('Black', 'NNP'), ('Ops', 'NNP'), ('II', 'NNP'), ('.', '.')]\n",
            "sentences\n",
            "[('Special', 'JJ'), ('Agent', 'NNP'), ('Jason', 'NNP'), ('Hudson', 'NNP'), ('was', 'VBD'), ('a', 'DT'), ('C.I.A', 'NNP'), ('.', '.')]\n",
            "[('agent', 'NN'), ('responsible', 'JJ'), ('for', 'IN'), ('handling', 'VBG'), ('Alex', 'NNP'), ('Mason', 'NNP'), (',', ','), ('mainly', 'RB'), ('during', 'IN'), ('1968', 'CD'), ('.', '.')]\n",
            "[('He', 'PRP'), ('was', 'VBD'), ('the', 'DT'), ('deuteragonist', 'NN'), ('of', 'IN'), ('Call', 'NNP'), ('of', 'IN'), ('Duty', 'NN'), (':', ':'), ('Black', 'NNP'), ('Ops', 'NNP'), ('and', 'CC'), ('a', 'DT'), ('supporting', 'VBG'), ('character', 'NN'), ('in', 'IN'), ('the', 'DT'), ('1980s', 'CD'), ('missions', 'NNS'), ('of', 'IN'), ('Call', 'NNP'), ('of', 'IN'), ('Duty', 'NN'), (':', ':'), ('Black', 'NNP'), ('Ops', 'NNP'), ('II', 'NNP'), ('.', '.')]\n",
            "sentences\n",
            "[('Special', 'JJ'), ('Agent', 'NNP'), ('Jason', 'NNP'), ('Hudson', 'NNP'), ('was', 'VBD'), ('a', 'DT'), ('C.I.A', 'NNP'), ('.', '.')]\n",
            "[('agent', 'NN'), ('responsible', 'JJ'), ('for', 'IN'), ('handling', 'VBG'), ('Alex', 'NNP'), ('Mason', 'NNP'), (',', ','), ('mainly', 'RB'), ('during', 'IN'), ('1968', 'CD'), ('.', '.')]\n",
            "[('He', 'PRP'), ('was', 'VBD'), ('the', 'DT'), ('deuteragonist', 'NN'), ('of', 'IN'), ('Call', 'NNP'), ('of', 'IN'), ('Duty', 'NN'), (':', ':'), ('Black', 'NNP'), ('Ops', 'NNP'), ('and', 'CC'), ('a', 'DT'), ('supporting', 'VBG'), ('character', 'NN'), ('in', 'IN'), ('the', 'DT'), ('1980s', 'CD'), ('missions', 'NNS'), ('of', 'IN'), ('Call', 'NNP'), ('of', 'IN'), ('Duty', 'NN'), (':', ':'), ('Black', 'NNP'), ('Ops', 'NNP'), ('II', 'NNP'), ('.', '.')]\n",
            "sentences\n",
            "[('Special', 'JJ'), ('Agent', 'NNP'), ('Jason', 'NNP'), ('Hudson', 'NNP'), ('was', 'VBD'), ('a', 'DT'), ('C.I.A', 'NNP'), ('.', '.')]\n",
            "[('agent', 'NN'), ('responsible', 'JJ'), ('for', 'IN'), ('handling', 'VBG'), ('Alex', 'NNP'), ('Mason', 'NNP'), (',', ','), ('mainly', 'RB'), ('during', 'IN'), ('1968', 'CD'), ('.', '.')]\n",
            "[('He', 'PRP'), ('was', 'VBD'), ('the', 'DT'), ('deuteragonist', 'NN'), ('of', 'IN'), ('Call', 'NNP'), ('of', 'IN'), ('Duty', 'NN'), (':', ':'), ('Black', 'NNP'), ('Ops', 'NNP'), ('and', 'CC'), ('a', 'DT'), ('supporting', 'VBG'), ('character', 'NN'), ('in', 'IN'), ('the', 'DT'), ('1980s', 'CD'), ('missions', 'NNS'), ('of', 'IN'), ('Call', 'NNP'), ('of', 'IN'), ('Duty', 'NN'), (':', ':'), ('Black', 'NNP'), ('Ops', 'NNP'), ('II', 'NNP'), ('.', '.')]\n",
            "sentences\n",
            "[('Special', 'JJ'), ('Agent', 'NNP'), ('Jason', 'NNP'), ('Hudson', 'NNP'), ('was', 'VBD'), ('a', 'DT'), ('C.I.A', 'NNP'), ('.', '.')]\n",
            "[('agent', 'NN'), ('responsible', 'JJ'), ('for', 'IN'), ('handling', 'VBG'), ('Alex', 'NNP'), ('Mason', 'NNP'), (',', ','), ('mainly', 'RB'), ('during', 'IN'), ('1968', 'CD'), ('.', '.')]\n",
            "[('He', 'PRP'), ('was', 'VBD'), ('the', 'DT'), ('deuteragonist', 'NN'), ('of', 'IN'), ('Call', 'NNP'), ('of', 'IN'), ('Duty', 'NN'), (':', ':'), ('Black', 'NNP'), ('Ops', 'NNP'), ('and', 'CC'), ('a', 'DT'), ('supporting', 'VBG'), ('character', 'NN'), ('in', 'IN'), ('the', 'DT'), ('1980s', 'CD'), ('missions', 'NNS'), ('of', 'IN'), ('Call', 'NNP'), ('of', 'IN'), ('Duty', 'NN'), (':', ':'), ('Black', 'NNP'), ('Ops', 'NNP'), ('II', 'NNP'), ('.', '.')]\n",
            "sentences\n",
            "[('Special', 'JJ'), ('Agent', 'NNP'), ('Jason', 'NNP'), ('Hudson', 'NNP'), ('was', 'VBD'), ('a', 'DT'), ('C.I.A', 'NNP'), ('.', '.')]\n",
            "[('agent', 'NN'), ('responsible', 'JJ'), ('for', 'IN'), ('handling', 'VBG'), ('Alex', 'NNP'), ('Mason', 'NNP'), (',', ','), ('mainly', 'RB'), ('during', 'IN'), ('1968', 'CD'), ('.', '.')]\n",
            "[('He', 'PRP'), ('was', 'VBD'), ('the', 'DT'), ('deuteragonist', 'NN'), ('of', 'IN'), ('Call', 'NNP'), ('of', 'IN'), ('Duty', 'NN'), (':', ':'), ('Black', 'NNP'), ('Ops', 'NNP'), ('and', 'CC'), ('a', 'DT'), ('supporting', 'VBG'), ('character', 'NN'), ('in', 'IN'), ('the', 'DT'), ('1980s', 'CD'), ('missions', 'NNS'), ('of', 'IN'), ('Call', 'NNP'), ('of', 'IN'), ('Duty', 'NN'), (':', ':'), ('Black', 'NNP'), ('Ops', 'NNP'), ('II', 'NNP'), ('.', '.')]\n",
            "sentences\n",
            "[('Special', 'JJ'), ('Agent', 'NNP'), ('Jason', 'NNP'), ('Hudson', 'NNP'), ('was', 'VBD'), ('a', 'DT'), ('C.I.A', 'NNP'), ('.', '.')]\n",
            "[('agent', 'NN'), ('responsible', 'JJ'), ('for', 'IN'), ('handling', 'VBG'), ('Alex', 'NNP'), ('Mason', 'NNP'), (',', ','), ('mainly', 'RB'), ('during', 'IN'), ('1968', 'CD'), ('.', '.')]\n",
            "[('He', 'PRP'), ('was', 'VBD'), ('the', 'DT'), ('deuteragonist', 'NN'), ('of', 'IN'), ('Call', 'NNP'), ('of', 'IN'), ('Duty', 'NN'), (':', ':'), ('Black', 'NNP'), ('Ops', 'NNP'), ('and', 'CC'), ('a', 'DT'), ('supporting', 'VBG'), ('character', 'NN'), ('in', 'IN'), ('the', 'DT'), ('1980s', 'CD'), ('missions', 'NNS'), ('of', 'IN'), ('Call', 'NNP'), ('of', 'IN'), ('Duty', 'NN'), (':', ':'), ('Black', 'NNP'), ('Ops', 'NNP'), ('II', 'NNP'), ('.', '.')]\n",
            "sentences\n",
            "[('Special', 'JJ'), ('Agent', 'NNP'), ('Jason', 'NNP'), ('Hudson', 'NNP'), ('was', 'VBD'), ('a', 'DT'), ('C.I.A', 'NNP'), ('.', '.')]\n",
            "[('agent', 'NN'), ('responsible', 'JJ'), ('for', 'IN'), ('handling', 'VBG'), ('Alex', 'NNP'), ('Mason', 'NNP'), (',', ','), ('mainly', 'RB'), ('during', 'IN'), ('1968', 'CD'), ('.', '.')]\n",
            "[('He', 'PRP'), ('was', 'VBD'), ('the', 'DT'), ('deuteragonist', 'NN'), ('of', 'IN'), ('Call', 'NNP'), ('of', 'IN'), ('Duty', 'NN'), (':', ':'), ('Black', 'NNP'), ('Ops', 'NNP'), ('and', 'CC'), ('a', 'DT'), ('supporting', 'VBG'), ('character', 'NN'), ('in', 'IN'), ('the', 'DT'), ('1980s', 'CD'), ('missions', 'NNS'), ('of', 'IN'), ('Call', 'NNP'), ('of', 'IN'), ('Duty', 'NN'), (':', ':'), ('Black', 'NNP'), ('Ops', 'NNP'), ('II', 'NNP'), ('.', '.')]\n",
            "sentences\n",
            "[('Special', 'JJ'), ('Agent', 'NNP'), ('Jason', 'NNP'), ('Hudson', 'NNP'), ('was', 'VBD'), ('a', 'DT'), ('C.I.A', 'NNP'), ('.', '.')]\n",
            "[('agent', 'NN'), ('responsible', 'JJ'), ('for', 'IN'), ('handling', 'VBG'), ('Alex', 'NNP'), ('Mason', 'NNP'), (',', ','), ('mainly', 'RB'), ('during', 'IN'), ('1968', 'CD'), ('.', '.')]\n",
            "[('He', 'PRP'), ('was', 'VBD'), ('the', 'DT'), ('deuteragonist', 'NN'), ('of', 'IN'), ('Call', 'NNP'), ('of', 'IN'), ('Duty', 'NN'), (':', ':'), ('Black', 'NNP'), ('Ops', 'NNP'), ('and', 'CC'), ('a', 'DT'), ('supporting', 'VBG'), ('character', 'NN'), ('in', 'IN'), ('the', 'DT'), ('1980s', 'CD'), ('missions', 'NNS'), ('of', 'IN'), ('Call', 'NNP'), ('of', 'IN'), ('Duty', 'NN'), (':', ':'), ('Black', 'NNP'), ('Ops', 'NNP'), ('II', 'NNP'), ('.', '.')]\n",
            "sentences\n",
            "[('Special', 'JJ'), ('Agent', 'NNP'), ('Jason', 'NNP'), ('Hudson', 'NNP'), ('was', 'VBD'), ('a', 'DT'), ('C.I.A', 'NNP'), ('.', '.')]\n",
            "[('agent', 'NN'), ('responsible', 'JJ'), ('for', 'IN'), ('handling', 'VBG'), ('Alex', 'NNP'), ('Mason', 'NNP'), (',', ','), ('mainly', 'RB'), ('during', 'IN'), ('1968', 'CD'), ('.', '.')]\n",
            "[('He', 'PRP'), ('was', 'VBD'), ('the', 'DT'), ('deuteragonist', 'NN'), ('of', 'IN'), ('Call', 'NNP'), ('of', 'IN'), ('Duty', 'NN'), (':', ':'), ('Black', 'NNP'), ('Ops', 'NNP'), ('and', 'CC'), ('a', 'DT'), ('supporting', 'VBG'), ('character', 'NN'), ('in', 'IN'), ('the', 'DT'), ('1980s', 'CD'), ('missions', 'NNS'), ('of', 'IN'), ('Call', 'NNP'), ('of', 'IN'), ('Duty', 'NN'), (':', ':'), ('Black', 'NNP'), ('Ops', 'NNP'), ('II', 'NNP'), ('.', '.')]\n",
            "sentences\n",
            "[('Special', 'JJ'), ('Agent', 'NNP'), ('Jason', 'NNP'), ('Hudson', 'NNP'), ('was', 'VBD'), ('a', 'DT'), ('C.I.A', 'NNP'), ('.', '.')]\n",
            "[('agent', 'NN'), ('responsible', 'JJ'), ('for', 'IN'), ('handling', 'VBG'), ('Alex', 'NNP'), ('Mason', 'NNP'), (',', ','), ('mainly', 'RB'), ('during', 'IN'), ('1968', 'CD'), ('.', '.')]\n",
            "[('He', 'PRP'), ('was', 'VBD'), ('the', 'DT'), ('deuteragonist', 'NN'), ('of', 'IN'), ('Call', 'NNP'), ('of', 'IN'), ('Duty', 'NN'), (':', ':'), ('Black', 'NNP'), ('Ops', 'NNP'), ('and', 'CC'), ('a', 'DT'), ('supporting', 'VBG'), ('character', 'NN'), ('in', 'IN'), ('the', 'DT'), ('1980s', 'CD'), ('missions', 'NNS'), ('of', 'IN'), ('Call', 'NNP'), ('of', 'IN'), ('Duty', 'NN'), (':', ':'), ('Black', 'NNP'), ('Ops', 'NNP'), ('II', 'NNP'), ('.', '.')]\n",
            "sentences\n",
            "[('Special', 'JJ'), ('Agent', 'NNP'), ('Jason', 'NNP'), ('Hudson', 'NNP'), ('was', 'VBD'), ('a', 'DT'), ('C.I.A', 'NNP'), ('.', '.')]\n",
            "[('agent', 'NN'), ('responsible', 'JJ'), ('for', 'IN'), ('handling', 'VBG'), ('Alex', 'NNP'), ('Mason', 'NNP'), (',', ','), ('mainly', 'RB'), ('during', 'IN'), ('1968', 'CD'), ('.', '.')]\n",
            "[('He', 'PRP'), ('was', 'VBD'), ('the', 'DT'), ('deuteragonist', 'NN'), ('of', 'IN'), ('Call', 'NNP'), ('of', 'IN'), ('Duty', 'NN'), (':', ':'), ('Black', 'NNP'), ('Ops', 'NNP'), ('and', 'CC'), ('a', 'DT'), ('supporting', 'VBG'), ('character', 'NN'), ('in', 'IN'), ('the', 'DT'), ('1980s', 'CD'), ('missions', 'NNS'), ('of', 'IN'), ('Call', 'NNP'), ('of', 'IN'), ('Duty', 'NN'), (':', ':'), ('Black', 'NNP'), ('Ops', 'NNP'), ('II', 'NNP'), ('.', '.')]\n",
            "sentences\n",
            "[('Special', 'JJ'), ('Agent', 'NNP'), ('Jason', 'NNP'), ('Hudson', 'NNP'), ('was', 'VBD'), ('a', 'DT'), ('C.I.A', 'NNP'), ('.', '.')]\n",
            "[('agent', 'NN'), ('responsible', 'JJ'), ('for', 'IN'), ('handling', 'VBG'), ('Alex', 'NNP'), ('Mason', 'NNP'), (',', ','), ('mainly', 'RB'), ('during', 'IN'), ('1968', 'CD'), ('.', '.')]\n",
            "[('He', 'PRP'), ('was', 'VBD'), ('the', 'DT'), ('deuteragonist', 'NN'), ('of', 'IN'), ('Call', 'NNP'), ('of', 'IN'), ('Duty', 'NN'), (':', ':'), ('Black', 'NNP'), ('Ops', 'NNP'), ('and', 'CC'), ('a', 'DT'), ('supporting', 'VBG'), ('character', 'NN'), ('in', 'IN'), ('the', 'DT'), ('1980s', 'CD'), ('missions', 'NNS'), ('of', 'IN'), ('Call', 'NNP'), ('of', 'IN'), ('Duty', 'NN'), (':', ':'), ('Black', 'NNP'), ('Ops', 'NNP'), ('II', 'NNP'), ('.', '.')]\n",
            "sentences\n",
            "[('Special', 'JJ'), ('Agent', 'NNP'), ('Jason', 'NNP'), ('Hudson', 'NNP'), ('was', 'VBD'), ('a', 'DT'), ('C.I.A', 'NNP'), ('.', '.')]\n",
            "[('agent', 'NN'), ('responsible', 'JJ'), ('for', 'IN'), ('handling', 'VBG'), ('Alex', 'NNP'), ('Mason', 'NNP'), (',', ','), ('mainly', 'RB'), ('during', 'IN'), ('1968', 'CD'), ('.', '.')]\n",
            "[('He', 'PRP'), ('was', 'VBD'), ('the', 'DT'), ('deuteragonist', 'NN'), ('of', 'IN'), ('Call', 'NNP'), ('of', 'IN'), ('Duty', 'NN'), (':', ':'), ('Black', 'NNP'), ('Ops', 'NNP'), ('and', 'CC'), ('a', 'DT'), ('supporting', 'VBG'), ('character', 'NN'), ('in', 'IN'), ('the', 'DT'), ('1980s', 'CD'), ('missions', 'NNS'), ('of', 'IN'), ('Call', 'NNP'), ('of', 'IN'), ('Duty', 'NN'), (':', ':'), ('Black', 'NNP'), ('Ops', 'NNP'), ('II', 'NNP'), ('.', '.')]\n",
            "sentences\n",
            "[('Special', 'JJ'), ('Agent', 'NNP'), ('Jason', 'NNP'), ('Hudson', 'NNP'), ('was', 'VBD'), ('a', 'DT'), ('C.I.A', 'NNP'), ('.', '.')]\n",
            "[('agent', 'NN'), ('responsible', 'JJ'), ('for', 'IN'), ('handling', 'VBG'), ('Alex', 'NNP'), ('Mason', 'NNP'), (',', ','), ('mainly', 'RB'), ('during', 'IN'), ('1968', 'CD'), ('.', '.')]\n",
            "[('He', 'PRP'), ('was', 'VBD'), ('the', 'DT'), ('deuteragonist', 'NN'), ('of', 'IN'), ('Call', 'NNP'), ('of', 'IN'), ('Duty', 'NN'), (':', ':'), ('Black', 'NNP'), ('Ops', 'NNP'), ('and', 'CC'), ('a', 'DT'), ('supporting', 'VBG'), ('character', 'NN'), ('in', 'IN'), ('the', 'DT'), ('1980s', 'CD'), ('missions', 'NNS'), ('of', 'IN'), ('Call', 'NNP'), ('of', 'IN'), ('Duty', 'NN'), (':', ':'), ('Black', 'NNP'), ('Ops', 'NNP'), ('II', 'NNP'), ('.', '.')]\n",
            "sentences\n",
            "[('Special', 'JJ'), ('Agent', 'NNP'), ('Jason', 'NNP'), ('Hudson', 'NNP'), ('was', 'VBD'), ('a', 'DT'), ('C.I.A', 'NNP'), ('.', '.')]\n",
            "[('agent', 'NN'), ('responsible', 'JJ'), ('for', 'IN'), ('handling', 'VBG'), ('Alex', 'NNP'), ('Mason', 'NNP'), (',', ','), ('mainly', 'RB'), ('during', 'IN'), ('1968', 'CD'), ('.', '.')]\n",
            "[('He', 'PRP'), ('was', 'VBD'), ('the', 'DT'), ('deuteragonist', 'NN'), ('of', 'IN'), ('Call', 'NNP'), ('of', 'IN'), ('Duty', 'NN'), (':', ':'), ('Black', 'NNP'), ('Ops', 'NNP'), ('and', 'CC'), ('a', 'DT'), ('supporting', 'VBG'), ('character', 'NN'), ('in', 'IN'), ('the', 'DT'), ('1980s', 'CD'), ('missions', 'NNS'), ('of', 'IN'), ('Call', 'NNP'), ('of', 'IN'), ('Duty', 'NN'), (':', ':'), ('Black', 'NNP'), ('Ops', 'NNP'), ('II', 'NNP'), ('.', '.')]\n",
            "sentences\n",
            "[('Special', 'JJ'), ('Agent', 'NNP'), ('Jason', 'NNP'), ('Hudson', 'NNP'), ('was', 'VBD'), ('a', 'DT'), ('C.I.A', 'NNP'), ('.', '.')]\n",
            "[('agent', 'NN'), ('responsible', 'JJ'), ('for', 'IN'), ('handling', 'VBG'), ('Alex', 'NNP'), ('Mason', 'NNP'), (',', ','), ('mainly', 'RB'), ('during', 'IN'), ('1968', 'CD'), ('.', '.')]\n",
            "[('He', 'PRP'), ('was', 'VBD'), ('the', 'DT'), ('deuteragonist', 'NN'), ('of', 'IN'), ('Call', 'NNP'), ('of', 'IN'), ('Duty', 'NN'), (':', ':'), ('Black', 'NNP'), ('Ops', 'NNP'), ('and', 'CC'), ('a', 'DT'), ('supporting', 'VBG'), ('character', 'NN'), ('in', 'IN'), ('the', 'DT'), ('1980s', 'CD'), ('missions', 'NNS'), ('of', 'IN'), ('Call', 'NNP'), ('of', 'IN'), ('Duty', 'NN'), (':', ':'), ('Black', 'NNP'), ('Ops', 'NNP'), ('II', 'NNP'), ('.', '.')]\n",
            "sentences\n",
            "[('Special', 'JJ'), ('Agent', 'NNP'), ('Jason', 'NNP'), ('Hudson', 'NNP'), ('was', 'VBD'), ('a', 'DT'), ('C.I.A', 'NNP'), ('.', '.')]\n",
            "[('agent', 'NN'), ('responsible', 'JJ'), ('for', 'IN'), ('handling', 'VBG'), ('Alex', 'NNP'), ('Mason', 'NNP'), (',', ','), ('mainly', 'RB'), ('during', 'IN'), ('1968', 'CD'), ('.', '.')]\n",
            "[('He', 'PRP'), ('was', 'VBD'), ('the', 'DT'), ('deuteragonist', 'NN'), ('of', 'IN'), ('Call', 'NNP'), ('of', 'IN'), ('Duty', 'NN'), (':', ':'), ('Black', 'NNP'), ('Ops', 'NNP'), ('and', 'CC'), ('a', 'DT'), ('supporting', 'VBG'), ('character', 'NN'), ('in', 'IN'), ('the', 'DT'), ('1980s', 'CD'), ('missions', 'NNS'), ('of', 'IN'), ('Call', 'NNP'), ('of', 'IN'), ('Duty', 'NN'), (':', ':'), ('Black', 'NNP'), ('Ops', 'NNP'), ('II', 'NNP'), ('.', '.')]\n",
            "sentences\n",
            "[('Special', 'JJ'), ('Agent', 'NNP'), ('Jason', 'NNP'), ('Hudson', 'NNP'), ('was', 'VBD'), ('a', 'DT'), ('C.I.A', 'NNP'), ('.', '.')]\n",
            "[('agent', 'NN'), ('responsible', 'JJ'), ('for', 'IN'), ('handling', 'VBG'), ('Alex', 'NNP'), ('Mason', 'NNP'), (',', ','), ('mainly', 'RB'), ('during', 'IN'), ('1968', 'CD'), ('.', '.')]\n",
            "[('He', 'PRP'), ('was', 'VBD'), ('the', 'DT'), ('deuteragonist', 'NN'), ('of', 'IN'), ('Call', 'NNP'), ('of', 'IN'), ('Duty', 'NN'), (':', ':'), ('Black', 'NNP'), ('Ops', 'NNP'), ('and', 'CC'), ('a', 'DT'), ('supporting', 'VBG'), ('character', 'NN'), ('in', 'IN'), ('the', 'DT'), ('1980s', 'CD'), ('missions', 'NNS'), ('of', 'IN'), ('Call', 'NNP'), ('of', 'IN'), ('Duty', 'NN'), (':', ':'), ('Black', 'NNP'), ('Ops', 'NNP'), ('II', 'NNP'), ('.', '.')]\n",
            "sentences\n",
            "[('Special', 'JJ'), ('Agent', 'NNP'), ('Jason', 'NNP'), ('Hudson', 'NNP'), ('was', 'VBD'), ('a', 'DT'), ('C.I.A', 'NNP'), ('.', '.')]\n",
            "[('agent', 'NN'), ('responsible', 'JJ'), ('for', 'IN'), ('handling', 'VBG'), ('Alex', 'NNP'), ('Mason', 'NNP'), (',', ','), ('mainly', 'RB'), ('during', 'IN'), ('1968', 'CD'), ('.', '.')]\n",
            "[('He', 'PRP'), ('was', 'VBD'), ('the', 'DT'), ('deuteragonist', 'NN'), ('of', 'IN'), ('Call', 'NNP'), ('of', 'IN'), ('Duty', 'NN'), (':', ':'), ('Black', 'NNP'), ('Ops', 'NNP'), ('and', 'CC'), ('a', 'DT'), ('supporting', 'VBG'), ('character', 'NN'), ('in', 'IN'), ('the', 'DT'), ('1980s', 'CD'), ('missions', 'NNS'), ('of', 'IN'), ('Call', 'NNP'), ('of', 'IN'), ('Duty', 'NN'), (':', ':'), ('Black', 'NNP'), ('Ops', 'NNP'), ('II', 'NNP'), ('.', '.')]\n",
            "sentences\n",
            "[('Special', 'JJ'), ('Agent', 'NNP'), ('Jason', 'NNP'), ('Hudson', 'NNP'), ('was', 'VBD'), ('a', 'DT'), ('C.I.A', 'NNP'), ('.', '.')]\n",
            "[('agent', 'NN'), ('responsible', 'JJ'), ('for', 'IN'), ('handling', 'VBG'), ('Alex', 'NNP'), ('Mason', 'NNP'), (',', ','), ('mainly', 'RB'), ('during', 'IN'), ('1968', 'CD'), ('.', '.')]\n",
            "[('He', 'PRP'), ('was', 'VBD'), ('the', 'DT'), ('deuteragonist', 'NN'), ('of', 'IN'), ('Call', 'NNP'), ('of', 'IN'), ('Duty', 'NN'), (':', ':'), ('Black', 'NNP'), ('Ops', 'NNP'), ('and', 'CC'), ('a', 'DT'), ('supporting', 'VBG'), ('character', 'NN'), ('in', 'IN'), ('the', 'DT'), ('1980s', 'CD'), ('missions', 'NNS'), ('of', 'IN'), ('Call', 'NNP'), ('of', 'IN'), ('Duty', 'NN'), (':', ':'), ('Black', 'NNP'), ('Ops', 'NNP'), ('II', 'NNP'), ('.', '.')]\n",
            "sentences\n",
            "[('Special', 'JJ'), ('Agent', 'NNP'), ('Jason', 'NNP'), ('Hudson', 'NNP'), ('was', 'VBD'), ('a', 'DT'), ('C.I.A', 'NNP'), ('.', '.')]\n",
            "[('agent', 'NN'), ('responsible', 'JJ'), ('for', 'IN'), ('handling', 'VBG'), ('Alex', 'NNP'), ('Mason', 'NNP'), (',', ','), ('mainly', 'RB'), ('during', 'IN'), ('1968', 'CD'), ('.', '.')]\n",
            "[('He', 'PRP'), ('was', 'VBD'), ('the', 'DT'), ('deuteragonist', 'NN'), ('of', 'IN'), ('Call', 'NNP'), ('of', 'IN'), ('Duty', 'NN'), (':', ':'), ('Black', 'NNP'), ('Ops', 'NNP'), ('and', 'CC'), ('a', 'DT'), ('supporting', 'VBG'), ('character', 'NN'), ('in', 'IN'), ('the', 'DT'), ('1980s', 'CD'), ('missions', 'NNS'), ('of', 'IN'), ('Call', 'NNP'), ('of', 'IN'), ('Duty', 'NN'), (':', ':'), ('Black', 'NNP'), ('Ops', 'NNP'), ('II', 'NNP'), ('.', '.')]\n",
            "sentences\n",
            "[('Special', 'JJ'), ('Agent', 'NNP'), ('Jason', 'NNP'), ('Hudson', 'NNP'), ('was', 'VBD'), ('a', 'DT'), ('C.I.A', 'NNP'), ('.', '.')]\n",
            "[('agent', 'NN'), ('responsible', 'JJ'), ('for', 'IN'), ('handling', 'VBG'), ('Alex', 'NNP'), ('Mason', 'NNP'), (',', ','), ('mainly', 'RB'), ('during', 'IN'), ('1968', 'CD'), ('.', '.')]\n",
            "[('He', 'PRP'), ('was', 'VBD'), ('the', 'DT'), ('deuteragonist', 'NN'), ('of', 'IN'), ('Call', 'NNP'), ('of', 'IN'), ('Duty', 'NN'), (':', ':'), ('Black', 'NNP'), ('Ops', 'NNP'), ('and', 'CC'), ('a', 'DT'), ('supporting', 'VBG'), ('character', 'NN'), ('in', 'IN'), ('the', 'DT'), ('1980s', 'CD'), ('missions', 'NNS'), ('of', 'IN'), ('Call', 'NNP'), ('of', 'IN'), ('Duty', 'NN'), (':', ':'), ('Black', 'NNP'), ('Ops', 'NNP'), ('II', 'NNP'), ('.', '.')]\n",
            "sentences\n",
            "[('Special', 'JJ'), ('Agent', 'NNP'), ('Jason', 'NNP'), ('Hudson', 'NNP'), ('was', 'VBD'), ('a', 'DT'), ('C.I.A', 'NNP'), ('.', '.')]\n",
            "[('agent', 'NN'), ('responsible', 'JJ'), ('for', 'IN'), ('handling', 'VBG'), ('Alex', 'NNP'), ('Mason', 'NNP'), (',', ','), ('mainly', 'RB'), ('during', 'IN'), ('1968', 'CD'), ('.', '.')]\n",
            "[('He', 'PRP'), ('was', 'VBD'), ('the', 'DT'), ('deuteragonist', 'NN'), ('of', 'IN'), ('Call', 'NNP'), ('of', 'IN'), ('Duty', 'NN'), (':', ':'), ('Black', 'NNP'), ('Ops', 'NNP'), ('and', 'CC'), ('a', 'DT'), ('supporting', 'VBG'), ('character', 'NN'), ('in', 'IN'), ('the', 'DT'), ('1980s', 'CD'), ('missions', 'NNS'), ('of', 'IN'), ('Call', 'NNP'), ('of', 'IN'), ('Duty', 'NN'), (':', ':'), ('Black', 'NNP'), ('Ops', 'NNP'), ('II', 'NNP'), ('.', '.')]\n",
            "sentences\n",
            "[('Special', 'JJ'), ('Agent', 'NNP'), ('Jason', 'NNP'), ('Hudson', 'NNP'), ('was', 'VBD'), ('a', 'DT'), ('C.I.A', 'NNP'), ('.', '.')]\n",
            "[('agent', 'NN'), ('responsible', 'JJ'), ('for', 'IN'), ('handling', 'VBG'), ('Alex', 'NNP'), ('Mason', 'NNP'), (',', ','), ('mainly', 'RB'), ('during', 'IN'), ('1968', 'CD'), ('.', '.')]\n",
            "[('He', 'PRP'), ('was', 'VBD'), ('the', 'DT'), ('deuteragonist', 'NN'), ('of', 'IN'), ('Call', 'NNP'), ('of', 'IN'), ('Duty', 'NN'), (':', ':'), ('Black', 'NNP'), ('Ops', 'NNP'), ('and', 'CC'), ('a', 'DT'), ('supporting', 'VBG'), ('character', 'NN'), ('in', 'IN'), ('the', 'DT'), ('1980s', 'CD'), ('missions', 'NNS'), ('of', 'IN'), ('Call', 'NNP'), ('of', 'IN'), ('Duty', 'NN'), (':', ':'), ('Black', 'NNP'), ('Ops', 'NNP'), ('II', 'NNP'), ('.', '.')]\n",
            "sentences\n",
            "[('Special', 'JJ'), ('Agent', 'NNP'), ('Jason', 'NNP'), ('Hudson', 'NNP'), ('was', 'VBD'), ('a', 'DT'), ('C.I.A', 'NNP'), ('.', '.')]\n",
            "[('agent', 'NN'), ('responsible', 'JJ'), ('for', 'IN'), ('handling', 'VBG'), ('Alex', 'NNP'), ('Mason', 'NNP'), (',', ','), ('mainly', 'RB'), ('during', 'IN'), ('1968', 'CD'), ('.', '.')]\n",
            "[('He', 'PRP'), ('was', 'VBD'), ('the', 'DT'), ('deuteragonist', 'NN'), ('of', 'IN'), ('Call', 'NNP'), ('of', 'IN'), ('Duty', 'NN'), (':', ':'), ('Black', 'NNP'), ('Ops', 'NNP'), ('and', 'CC'), ('a', 'DT'), ('supporting', 'VBG'), ('character', 'NN'), ('in', 'IN'), ('the', 'DT'), ('1980s', 'CD'), ('missions', 'NNS'), ('of', 'IN'), ('Call', 'NNP'), ('of', 'IN'), ('Duty', 'NN'), (':', ':'), ('Black', 'NNP'), ('Ops', 'NNP'), ('II', 'NNP'), ('.', '.')]\n",
            "sentences\n",
            "[('Special', 'JJ'), ('Agent', 'NNP'), ('Jason', 'NNP'), ('Hudson', 'NNP'), ('was', 'VBD'), ('a', 'DT'), ('C.I.A', 'NNP'), ('.', '.')]\n",
            "[('agent', 'NN'), ('responsible', 'JJ'), ('for', 'IN'), ('handling', 'VBG'), ('Alex', 'NNP'), ('Mason', 'NNP'), (',', ','), ('mainly', 'RB'), ('during', 'IN'), ('1968', 'CD'), ('.', '.')]\n",
            "[('He', 'PRP'), ('was', 'VBD'), ('the', 'DT'), ('deuteragonist', 'NN'), ('of', 'IN'), ('Call', 'NNP'), ('of', 'IN'), ('Duty', 'NN'), (':', ':'), ('Black', 'NNP'), ('Ops', 'NNP'), ('and', 'CC'), ('a', 'DT'), ('supporting', 'VBG'), ('character', 'NN'), ('in', 'IN'), ('the', 'DT'), ('1980s', 'CD'), ('missions', 'NNS'), ('of', 'IN'), ('Call', 'NNP'), ('of', 'IN'), ('Duty', 'NN'), (':', ':'), ('Black', 'NNP'), ('Ops', 'NNP'), ('II', 'NNP'), ('.', '.')]\n",
            "sentences\n",
            "[('Special', 'JJ'), ('Agent', 'NNP'), ('Jason', 'NNP'), ('Hudson', 'NNP'), ('was', 'VBD'), ('a', 'DT'), ('C.I.A', 'NNP'), ('.', '.')]\n",
            "[('agent', 'NN'), ('responsible', 'JJ'), ('for', 'IN'), ('handling', 'VBG'), ('Alex', 'NNP'), ('Mason', 'NNP'), (',', ','), ('mainly', 'RB'), ('during', 'IN'), ('1968', 'CD'), ('.', '.')]\n",
            "[('He', 'PRP'), ('was', 'VBD'), ('the', 'DT'), ('deuteragonist', 'NN'), ('of', 'IN'), ('Call', 'NNP'), ('of', 'IN'), ('Duty', 'NN'), (':', ':'), ('Black', 'NNP'), ('Ops', 'NNP'), ('and', 'CC'), ('a', 'DT'), ('supporting', 'VBG'), ('character', 'NN'), ('in', 'IN'), ('the', 'DT'), ('1980s', 'CD'), ('missions', 'NNS'), ('of', 'IN'), ('Call', 'NNP'), ('of', 'IN'), ('Duty', 'NN'), (':', ':'), ('Black', 'NNP'), ('Ops', 'NNP'), ('II', 'NNP'), ('.', '.')]\n",
            "sentences\n",
            "[('Special', 'JJ'), ('Agent', 'NNP'), ('Jason', 'NNP'), ('Hudson', 'NNP'), ('was', 'VBD'), ('a', 'DT'), ('C.I.A', 'NNP'), ('.', '.')]\n",
            "[('agent', 'NN'), ('responsible', 'JJ'), ('for', 'IN'), ('handling', 'VBG'), ('Alex', 'NNP'), ('Mason', 'NNP'), (',', ','), ('mainly', 'RB'), ('during', 'IN'), ('1968', 'CD'), ('.', '.')]\n",
            "[('He', 'PRP'), ('was', 'VBD'), ('the', 'DT'), ('deuteragonist', 'NN'), ('of', 'IN'), ('Call', 'NNP'), ('of', 'IN'), ('Duty', 'NN'), (':', ':'), ('Black', 'NNP'), ('Ops', 'NNP'), ('and', 'CC'), ('a', 'DT'), ('supporting', 'VBG'), ('character', 'NN'), ('in', 'IN'), ('the', 'DT'), ('1980s', 'CD'), ('missions', 'NNS'), ('of', 'IN'), ('Call', 'NNP'), ('of', 'IN'), ('Duty', 'NN'), (':', ':'), ('Black', 'NNP'), ('Ops', 'NNP'), ('II', 'NNP'), ('.', '.')]\n",
            "sentences\n",
            "[('Special', 'JJ'), ('Agent', 'NNP'), ('Jason', 'NNP'), ('Hudson', 'NNP'), ('was', 'VBD'), ('a', 'DT'), ('C.I.A', 'NNP'), ('.', '.')]\n",
            "[('agent', 'NN'), ('responsible', 'JJ'), ('for', 'IN'), ('handling', 'VBG'), ('Alex', 'NNP'), ('Mason', 'NNP'), (',', ','), ('mainly', 'RB'), ('during', 'IN'), ('1968', 'CD'), ('.', '.')]\n",
            "[('He', 'PRP'), ('was', 'VBD'), ('the', 'DT'), ('deuteragonist', 'NN'), ('of', 'IN'), ('Call', 'NNP'), ('of', 'IN'), ('Duty', 'NN'), (':', ':'), ('Black', 'NNP'), ('Ops', 'NNP'), ('and', 'CC'), ('a', 'DT'), ('supporting', 'VBG'), ('character', 'NN'), ('in', 'IN'), ('the', 'DT'), ('1980s', 'CD'), ('missions', 'NNS'), ('of', 'IN'), ('Call', 'NNP'), ('of', 'IN'), ('Duty', 'NN'), (':', ':'), ('Black', 'NNP'), ('Ops', 'NNP'), ('II', 'NNP'), ('.', '.')]\n",
            "sentences\n",
            "[('Special', 'JJ'), ('Agent', 'NNP'), ('Jason', 'NNP'), ('Hudson', 'NNP'), ('was', 'VBD'), ('a', 'DT'), ('C.I.A', 'NNP'), ('.', '.')]\n",
            "[('agent', 'NN'), ('responsible', 'JJ'), ('for', 'IN'), ('handling', 'VBG'), ('Alex', 'NNP'), ('Mason', 'NNP'), (',', ','), ('mainly', 'RB'), ('during', 'IN'), ('1968', 'CD'), ('.', '.')]\n",
            "[('He', 'PRP'), ('was', 'VBD'), ('the', 'DT'), ('deuteragonist', 'NN'), ('of', 'IN'), ('Call', 'NNP'), ('of', 'IN'), ('Duty', 'NN'), (':', ':'), ('Black', 'NNP'), ('Ops', 'NNP'), ('and', 'CC'), ('a', 'DT'), ('supporting', 'VBG'), ('character', 'NN'), ('in', 'IN'), ('the', 'DT'), ('1980s', 'CD'), ('missions', 'NNS'), ('of', 'IN'), ('Call', 'NNP'), ('of', 'IN'), ('Duty', 'NN'), (':', ':'), ('Black', 'NNP'), ('Ops', 'NNP'), ('II', 'NNP'), ('.', '.')]\n",
            "sentences\n",
            "[('Special', 'JJ'), ('Agent', 'NNP'), ('Jason', 'NNP'), ('Hudson', 'NNP'), ('was', 'VBD'), ('a', 'DT'), ('C.I.A', 'NNP'), ('.', '.')]\n",
            "[('agent', 'NN'), ('responsible', 'JJ'), ('for', 'IN'), ('handling', 'VBG'), ('Alex', 'NNP'), ('Mason', 'NNP'), (',', ','), ('mainly', 'RB'), ('during', 'IN'), ('1968', 'CD'), ('.', '.')]\n",
            "[('He', 'PRP'), ('was', 'VBD'), ('the', 'DT'), ('deuteragonist', 'NN'), ('of', 'IN'), ('Call', 'NNP'), ('of', 'IN'), ('Duty', 'NN'), (':', ':'), ('Black', 'NNP'), ('Ops', 'NNP'), ('and', 'CC'), ('a', 'DT'), ('supporting', 'VBG'), ('character', 'NN'), ('in', 'IN'), ('the', 'DT'), ('1980s', 'CD'), ('missions', 'NNS'), ('of', 'IN'), ('Call', 'NNP'), ('of', 'IN'), ('Duty', 'NN'), (':', ':'), ('Black', 'NNP'), ('Ops', 'NNP'), ('II', 'NNP'), ('.', '.')]\n",
            "sentences\n",
            "[('Special', 'JJ'), ('Agent', 'NNP'), ('Jason', 'NNP'), ('Hudson', 'NNP'), ('was', 'VBD'), ('a', 'DT'), ('C.I.A', 'NNP'), ('.', '.')]\n",
            "[('agent', 'NN'), ('responsible', 'JJ'), ('for', 'IN'), ('handling', 'VBG'), ('Alex', 'NNP'), ('Mason', 'NNP'), (',', ','), ('mainly', 'RB'), ('during', 'IN'), ('1968', 'CD'), ('.', '.')]\n",
            "[('He', 'PRP'), ('was', 'VBD'), ('the', 'DT'), ('deuteragonist', 'NN'), ('of', 'IN'), ('Call', 'NNP'), ('of', 'IN'), ('Duty', 'NN'), (':', ':'), ('Black', 'NNP'), ('Ops', 'NNP'), ('and', 'CC'), ('a', 'DT'), ('supporting', 'VBG'), ('character', 'NN'), ('in', 'IN'), ('the', 'DT'), ('1980s', 'CD'), ('missions', 'NNS'), ('of', 'IN'), ('Call', 'NNP'), ('of', 'IN'), ('Duty', 'NN'), (':', ':'), ('Black', 'NNP'), ('Ops', 'NNP'), ('II', 'NNP'), ('.', '.')]\n",
            "sentences\n",
            "[('Special', 'JJ'), ('Agent', 'NNP'), ('Jason', 'NNP'), ('Hudson', 'NNP'), ('was', 'VBD'), ('a', 'DT'), ('C.I.A', 'NNP'), ('.', '.')]\n",
            "[('agent', 'NN'), ('responsible', 'JJ'), ('for', 'IN'), ('handling', 'VBG'), ('Alex', 'NNP'), ('Mason', 'NNP'), (',', ','), ('mainly', 'RB'), ('during', 'IN'), ('1968', 'CD'), ('.', '.')]\n",
            "[('He', 'PRP'), ('was', 'VBD'), ('the', 'DT'), ('deuteragonist', 'NN'), ('of', 'IN'), ('Call', 'NNP'), ('of', 'IN'), ('Duty', 'NN'), (':', ':'), ('Black', 'NNP'), ('Ops', 'NNP'), ('and', 'CC'), ('a', 'DT'), ('supporting', 'VBG'), ('character', 'NN'), ('in', 'IN'), ('the', 'DT'), ('1980s', 'CD'), ('missions', 'NNS'), ('of', 'IN'), ('Call', 'NNP'), ('of', 'IN'), ('Duty', 'NN'), (':', ':'), ('Black', 'NNP'), ('Ops', 'NNP'), ('II', 'NNP'), ('.', '.')]\n",
            "sentences\n",
            "[('Special', 'JJ'), ('Agent', 'NNP'), ('Jason', 'NNP'), ('Hudson', 'NNP'), ('was', 'VBD'), ('a', 'DT'), ('C.I.A', 'NNP'), ('.', '.')]\n",
            "[('agent', 'NN'), ('responsible', 'JJ'), ('for', 'IN'), ('handling', 'VBG'), ('Alex', 'NNP'), ('Mason', 'NNP'), (',', ','), ('mainly', 'RB'), ('during', 'IN'), ('1968', 'CD'), ('.', '.')]\n",
            "[('He', 'PRP'), ('was', 'VBD'), ('the', 'DT'), ('deuteragonist', 'NN'), ('of', 'IN'), ('Call', 'NNP'), ('of', 'IN'), ('Duty', 'NN'), (':', ':'), ('Black', 'NNP'), ('Ops', 'NNP'), ('and', 'CC'), ('a', 'DT'), ('supporting', 'VBG'), ('character', 'NN'), ('in', 'IN'), ('the', 'DT'), ('1980s', 'CD'), ('missions', 'NNS'), ('of', 'IN'), ('Call', 'NNP'), ('of', 'IN'), ('Duty', 'NN'), (':', ':'), ('Black', 'NNP'), ('Ops', 'NNP'), ('II', 'NNP'), ('.', '.')]\n",
            "sentences\n",
            "[('Special', 'JJ'), ('Agent', 'NNP'), ('Jason', 'NNP'), ('Hudson', 'NNP'), ('was', 'VBD'), ('a', 'DT'), ('C.I.A', 'NNP'), ('.', '.')]\n",
            "[('agent', 'NN'), ('responsible', 'JJ'), ('for', 'IN'), ('handling', 'VBG'), ('Alex', 'NNP'), ('Mason', 'NNP'), (',', ','), ('mainly', 'RB'), ('during', 'IN'), ('1968', 'CD'), ('.', '.')]\n",
            "[('He', 'PRP'), ('was', 'VBD'), ('the', 'DT'), ('deuteragonist', 'NN'), ('of', 'IN'), ('Call', 'NNP'), ('of', 'IN'), ('Duty', 'NN'), (':', ':'), ('Black', 'NNP'), ('Ops', 'NNP'), ('and', 'CC'), ('a', 'DT'), ('supporting', 'VBG'), ('character', 'NN'), ('in', 'IN'), ('the', 'DT'), ('1980s', 'CD'), ('missions', 'NNS'), ('of', 'IN'), ('Call', 'NNP'), ('of', 'IN'), ('Duty', 'NN'), (':', ':'), ('Black', 'NNP'), ('Ops', 'NNP'), ('II', 'NNP'), ('.', '.')]\n",
            "sentences\n",
            "[('Special', 'JJ'), ('Agent', 'NNP'), ('Jason', 'NNP'), ('Hudson', 'NNP'), ('was', 'VBD'), ('a', 'DT'), ('C.I.A', 'NNP'), ('.', '.')]\n",
            "[('agent', 'NN'), ('responsible', 'JJ'), ('for', 'IN'), ('handling', 'VBG'), ('Alex', 'NNP'), ('Mason', 'NNP'), (',', ','), ('mainly', 'RB'), ('during', 'IN'), ('1968', 'CD'), ('.', '.')]\n",
            "[('He', 'PRP'), ('was', 'VBD'), ('the', 'DT'), ('deuteragonist', 'NN'), ('of', 'IN'), ('Call', 'NNP'), ('of', 'IN'), ('Duty', 'NN'), (':', ':'), ('Black', 'NNP'), ('Ops', 'NNP'), ('and', 'CC'), ('a', 'DT'), ('supporting', 'VBG'), ('character', 'NN'), ('in', 'IN'), ('the', 'DT'), ('1980s', 'CD'), ('missions', 'NNS'), ('of', 'IN'), ('Call', 'NNP'), ('of', 'IN'), ('Duty', 'NN'), (':', ':'), ('Black', 'NNP'), ('Ops', 'NNP'), ('II', 'NNP'), ('.', '.')]\n",
            "sentences\n",
            "[('Special', 'JJ'), ('Agent', 'NNP'), ('Jason', 'NNP'), ('Hudson', 'NNP'), ('was', 'VBD'), ('a', 'DT'), ('C.I.A', 'NNP'), ('.', '.')]\n",
            "[('agent', 'NN'), ('responsible', 'JJ'), ('for', 'IN'), ('handling', 'VBG'), ('Alex', 'NNP'), ('Mason', 'NNP'), (',', ','), ('mainly', 'RB'), ('during', 'IN'), ('1968', 'CD'), ('.', '.')]\n",
            "[('He', 'PRP'), ('was', 'VBD'), ('the', 'DT'), ('deuteragonist', 'NN'), ('of', 'IN'), ('Call', 'NNP'), ('of', 'IN'), ('Duty', 'NN'), (':', ':'), ('Black', 'NNP'), ('Ops', 'NNP'), ('and', 'CC'), ('a', 'DT'), ('supporting', 'VBG'), ('character', 'NN'), ('in', 'IN'), ('the', 'DT'), ('1980s', 'CD'), ('missions', 'NNS'), ('of', 'IN'), ('Call', 'NNP'), ('of', 'IN'), ('Duty', 'NN'), (':', ':'), ('Black', 'NNP'), ('Ops', 'NNP'), ('II', 'NNP'), ('.', '.')]\n",
            "sentences\n",
            "[('Special', 'JJ'), ('Agent', 'NNP'), ('Jason', 'NNP'), ('Hudson', 'NNP'), ('was', 'VBD'), ('a', 'DT'), ('C.I.A', 'NNP'), ('.', '.')]\n",
            "[('agent', 'NN'), ('responsible', 'JJ'), ('for', 'IN'), ('handling', 'VBG'), ('Alex', 'NNP'), ('Mason', 'NNP'), (',', ','), ('mainly', 'RB'), ('during', 'IN'), ('1968', 'CD'), ('.', '.')]\n",
            "[('He', 'PRP'), ('was', 'VBD'), ('the', 'DT'), ('deuteragonist', 'NN'), ('of', 'IN'), ('Call', 'NNP'), ('of', 'IN'), ('Duty', 'NN'), (':', ':'), ('Black', 'NNP'), ('Ops', 'NNP'), ('and', 'CC'), ('a', 'DT'), ('supporting', 'VBG'), ('character', 'NN'), ('in', 'IN'), ('the', 'DT'), ('1980s', 'CD'), ('missions', 'NNS'), ('of', 'IN'), ('Call', 'NNP'), ('of', 'IN'), ('Duty', 'NN'), (':', ':'), ('Black', 'NNP'), ('Ops', 'NNP'), ('II', 'NNP'), ('.', '.')]\n",
            "sentences\n",
            "[('Special', 'JJ'), ('Agent', 'NNP'), ('Jason', 'NNP'), ('Hudson', 'NNP'), ('was', 'VBD'), ('a', 'DT'), ('C.I.A', 'NNP'), ('.', '.')]\n",
            "[('agent', 'NN'), ('responsible', 'JJ'), ('for', 'IN'), ('handling', 'VBG'), ('Alex', 'NNP'), ('Mason', 'NNP'), (',', ','), ('mainly', 'RB'), ('during', 'IN'), ('1968', 'CD'), ('.', '.')]\n",
            "[('He', 'PRP'), ('was', 'VBD'), ('the', 'DT'), ('deuteragonist', 'NN'), ('of', 'IN'), ('Call', 'NNP'), ('of', 'IN'), ('Duty', 'NN'), (':', ':'), ('Black', 'NNP'), ('Ops', 'NNP'), ('and', 'CC'), ('a', 'DT'), ('supporting', 'VBG'), ('character', 'NN'), ('in', 'IN'), ('the', 'DT'), ('1980s', 'CD'), ('missions', 'NNS'), ('of', 'IN'), ('Call', 'NNP'), ('of', 'IN'), ('Duty', 'NN'), (':', ':'), ('Black', 'NNP'), ('Ops', 'NNP'), ('II', 'NNP'), ('.', '.')]\n",
            "sentences\n",
            "[('Special', 'JJ'), ('Agent', 'NNP'), ('Jason', 'NNP'), ('Hudson', 'NNP'), ('was', 'VBD'), ('a', 'DT'), ('C.I.A', 'NNP'), ('.', '.')]\n",
            "[('agent', 'NN'), ('responsible', 'JJ'), ('for', 'IN'), ('handling', 'VBG'), ('Alex', 'NNP'), ('Mason', 'NNP'), (',', ','), ('mainly', 'RB'), ('during', 'IN'), ('1968', 'CD'), ('.', '.')]\n",
            "[('He', 'PRP'), ('was', 'VBD'), ('the', 'DT'), ('deuteragonist', 'NN'), ('of', 'IN'), ('Call', 'NNP'), ('of', 'IN'), ('Duty', 'NN'), (':', ':'), ('Black', 'NNP'), ('Ops', 'NNP'), ('and', 'CC'), ('a', 'DT'), ('supporting', 'VBG'), ('character', 'NN'), ('in', 'IN'), ('the', 'DT'), ('1980s', 'CD'), ('missions', 'NNS'), ('of', 'IN'), ('Call', 'NNP'), ('of', 'IN'), ('Duty', 'NN'), (':', ':'), ('Black', 'NNP'), ('Ops', 'NNP'), ('II', 'NNP'), ('.', '.')]\n",
            "sentences\n",
            "[('Special', 'JJ'), ('Agent', 'NNP'), ('Jason', 'NNP'), ('Hudson', 'NNP'), ('was', 'VBD'), ('a', 'DT'), ('C.I.A', 'NNP'), ('.', '.')]\n",
            "[('agent', 'NN'), ('responsible', 'JJ'), ('for', 'IN'), ('handling', 'VBG'), ('Alex', 'NNP'), ('Mason', 'NNP'), (',', ','), ('mainly', 'RB'), ('during', 'IN'), ('1968', 'CD'), ('.', '.')]\n",
            "[('He', 'PRP'), ('was', 'VBD'), ('the', 'DT'), ('deuteragonist', 'NN'), ('of', 'IN'), ('Call', 'NNP'), ('of', 'IN'), ('Duty', 'NN'), (':', ':'), ('Black', 'NNP'), ('Ops', 'NNP'), ('and', 'CC'), ('a', 'DT'), ('supporting', 'VBG'), ('character', 'NN'), ('in', 'IN'), ('the', 'DT'), ('1980s', 'CD'), ('missions', 'NNS'), ('of', 'IN'), ('Call', 'NNP'), ('of', 'IN'), ('Duty', 'NN'), (':', ':'), ('Black', 'NNP'), ('Ops', 'NNP'), ('II', 'NNP'), ('.', '.')]\n",
            "sentences\n",
            "[('Special', 'JJ'), ('Agent', 'NNP'), ('Jason', 'NNP'), ('Hudson', 'NNP'), ('was', 'VBD'), ('a', 'DT'), ('C.I.A', 'NNP'), ('.', '.')]\n",
            "[('agent', 'NN'), ('responsible', 'JJ'), ('for', 'IN'), ('handling', 'VBG'), ('Alex', 'NNP'), ('Mason', 'NNP'), (',', ','), ('mainly', 'RB'), ('during', 'IN'), ('1968', 'CD'), ('.', '.')]\n",
            "[('He', 'PRP'), ('was', 'VBD'), ('the', 'DT'), ('deuteragonist', 'NN'), ('of', 'IN'), ('Call', 'NNP'), ('of', 'IN'), ('Duty', 'NN'), (':', ':'), ('Black', 'NNP'), ('Ops', 'NNP'), ('and', 'CC'), ('a', 'DT'), ('supporting', 'VBG'), ('character', 'NN'), ('in', 'IN'), ('the', 'DT'), ('1980s', 'CD'), ('missions', 'NNS'), ('of', 'IN'), ('Call', 'NNP'), ('of', 'IN'), ('Duty', 'NN'), (':', ':'), ('Black', 'NNP'), ('Ops', 'NNP'), ('II', 'NNP'), ('.', '.')]\n",
            "sentences\n",
            "[('Special', 'JJ'), ('Agent', 'NNP'), ('Jason', 'NNP'), ('Hudson', 'NNP'), ('was', 'VBD'), ('a', 'DT'), ('C.I.A', 'NNP'), ('.', '.')]\n",
            "[('agent', 'NN'), ('responsible', 'JJ'), ('for', 'IN'), ('handling', 'VBG'), ('Alex', 'NNP'), ('Mason', 'NNP'), (',', ','), ('mainly', 'RB'), ('during', 'IN'), ('1968', 'CD'), ('.', '.')]\n",
            "[('He', 'PRP'), ('was', 'VBD'), ('the', 'DT'), ('deuteragonist', 'NN'), ('of', 'IN'), ('Call', 'NNP'), ('of', 'IN'), ('Duty', 'NN'), (':', ':'), ('Black', 'NNP'), ('Ops', 'NNP'), ('and', 'CC'), ('a', 'DT'), ('supporting', 'VBG'), ('character', 'NN'), ('in', 'IN'), ('the', 'DT'), ('1980s', 'CD'), ('missions', 'NNS'), ('of', 'IN'), ('Call', 'NNP'), ('of', 'IN'), ('Duty', 'NN'), (':', ':'), ('Black', 'NNP'), ('Ops', 'NNP'), ('II', 'NNP'), ('.', '.')]\n",
            "sentences\n",
            "[('Special', 'JJ'), ('Agent', 'NNP'), ('Jason', 'NNP'), ('Hudson', 'NNP'), ('was', 'VBD'), ('a', 'DT'), ('C.I.A', 'NNP'), ('.', '.')]\n",
            "[('agent', 'NN'), ('responsible', 'JJ'), ('for', 'IN'), ('handling', 'VBG'), ('Alex', 'NNP'), ('Mason', 'NNP'), (',', ','), ('mainly', 'RB'), ('during', 'IN'), ('1968', 'CD'), ('.', '.')]\n",
            "[('He', 'PRP'), ('was', 'VBD'), ('the', 'DT'), ('deuteragonist', 'NN'), ('of', 'IN'), ('Call', 'NNP'), ('of', 'IN'), ('Duty', 'NN'), (':', ':'), ('Black', 'NNP'), ('Ops', 'NNP'), ('and', 'CC'), ('a', 'DT'), ('supporting', 'VBG'), ('character', 'NN'), ('in', 'IN'), ('the', 'DT'), ('1980s', 'CD'), ('missions', 'NNS'), ('of', 'IN'), ('Call', 'NNP'), ('of', 'IN'), ('Duty', 'NN'), (':', ':'), ('Black', 'NNP'), ('Ops', 'NNP'), ('II', 'NNP'), ('.', '.')]\n",
            "sentences\n",
            "[('Special', 'JJ'), ('Agent', 'NNP'), ('Jason', 'NNP'), ('Hudson', 'NNP'), ('was', 'VBD'), ('a', 'DT'), ('C.I.A', 'NNP'), ('.', '.')]\n",
            "[('agent', 'NN'), ('responsible', 'JJ'), ('for', 'IN'), ('handling', 'VBG'), ('Alex', 'NNP'), ('Mason', 'NNP'), (',', ','), ('mainly', 'RB'), ('during', 'IN'), ('1968', 'CD'), ('.', '.')]\n",
            "[('He', 'PRP'), ('was', 'VBD'), ('the', 'DT'), ('deuteragonist', 'NN'), ('of', 'IN'), ('Call', 'NNP'), ('of', 'IN'), ('Duty', 'NN'), (':', ':'), ('Black', 'NNP'), ('Ops', 'NNP'), ('and', 'CC'), ('a', 'DT'), ('supporting', 'VBG'), ('character', 'NN'), ('in', 'IN'), ('the', 'DT'), ('1980s', 'CD'), ('missions', 'NNS'), ('of', 'IN'), ('Call', 'NNP'), ('of', 'IN'), ('Duty', 'NN'), (':', ':'), ('Black', 'NNP'), ('Ops', 'NNP'), ('II', 'NNP'), ('.', '.')]\n",
            "sentences\n",
            "[('Special', 'JJ'), ('Agent', 'NNP'), ('Jason', 'NNP'), ('Hudson', 'NNP'), ('was', 'VBD'), ('a', 'DT'), ('C.I.A', 'NNP'), ('.', '.')]\n",
            "[('agent', 'NN'), ('responsible', 'JJ'), ('for', 'IN'), ('handling', 'VBG'), ('Alex', 'NNP'), ('Mason', 'NNP'), (',', ','), ('mainly', 'RB'), ('during', 'IN'), ('1968', 'CD'), ('.', '.')]\n",
            "[('He', 'PRP'), ('was', 'VBD'), ('the', 'DT'), ('deuteragonist', 'NN'), ('of', 'IN'), ('Call', 'NNP'), ('of', 'IN'), ('Duty', 'NN'), (':', ':'), ('Black', 'NNP'), ('Ops', 'NNP'), ('and', 'CC'), ('a', 'DT'), ('supporting', 'VBG'), ('character', 'NN'), ('in', 'IN'), ('the', 'DT'), ('1980s', 'CD'), ('missions', 'NNS'), ('of', 'IN'), ('Call', 'NNP'), ('of', 'IN'), ('Duty', 'NN'), (':', ':'), ('Black', 'NNP'), ('Ops', 'NNP'), ('II', 'NNP'), ('.', '.')]\n",
            "sentences\n",
            "[('Special', 'JJ'), ('Agent', 'NNP'), ('Jason', 'NNP'), ('Hudson', 'NNP'), ('was', 'VBD'), ('a', 'DT'), ('C.I.A', 'NNP'), ('.', '.')]\n",
            "[('agent', 'NN'), ('responsible', 'JJ'), ('for', 'IN'), ('handling', 'VBG'), ('Alex', 'NNP'), ('Mason', 'NNP'), (',', ','), ('mainly', 'RB'), ('during', 'IN'), ('1968', 'CD'), ('.', '.')]\n",
            "[('He', 'PRP'), ('was', 'VBD'), ('the', 'DT'), ('deuteragonist', 'NN'), ('of', 'IN'), ('Call', 'NNP'), ('of', 'IN'), ('Duty', 'NN'), (':', ':'), ('Black', 'NNP'), ('Ops', 'NNP'), ('and', 'CC'), ('a', 'DT'), ('supporting', 'VBG'), ('character', 'NN'), ('in', 'IN'), ('the', 'DT'), ('1980s', 'CD'), ('missions', 'NNS'), ('of', 'IN'), ('Call', 'NNP'), ('of', 'IN'), ('Duty', 'NN'), (':', ':'), ('Black', 'NNP'), ('Ops', 'NNP'), ('II', 'NNP'), ('.', '.')]\n",
            "sentences\n",
            "[('Special', 'JJ'), ('Agent', 'NNP'), ('Jason', 'NNP'), ('Hudson', 'NNP'), ('was', 'VBD'), ('a', 'DT'), ('C.I.A', 'NNP'), ('.', '.')]\n",
            "[('agent', 'NN'), ('responsible', 'JJ'), ('for', 'IN'), ('handling', 'VBG'), ('Alex', 'NNP'), ('Mason', 'NNP'), (',', ','), ('mainly', 'RB'), ('during', 'IN'), ('1968', 'CD'), ('.', '.')]\n",
            "[('He', 'PRP'), ('was', 'VBD'), ('the', 'DT'), ('deuteragonist', 'NN'), ('of', 'IN'), ('Call', 'NNP'), ('of', 'IN'), ('Duty', 'NN'), (':', ':'), ('Black', 'NNP'), ('Ops', 'NNP'), ('and', 'CC'), ('a', 'DT'), ('supporting', 'VBG'), ('character', 'NN'), ('in', 'IN'), ('the', 'DT'), ('1980s', 'CD'), ('missions', 'NNS'), ('of', 'IN'), ('Call', 'NNP'), ('of', 'IN'), ('Duty', 'NN'), (':', ':'), ('Black', 'NNP'), ('Ops', 'NNP'), ('II', 'NNP'), ('.', '.')]\n",
            "sentences\n",
            "[('Special', 'JJ'), ('Agent', 'NNP'), ('Jason', 'NNP'), ('Hudson', 'NNP'), ('was', 'VBD'), ('a', 'DT'), ('C.I.A', 'NNP'), ('.', '.')]\n",
            "[('agent', 'NN'), ('responsible', 'JJ'), ('for', 'IN'), ('handling', 'VBG'), ('Alex', 'NNP'), ('Mason', 'NNP'), (',', ','), ('mainly', 'RB'), ('during', 'IN'), ('1968', 'CD'), ('.', '.')]\n",
            "[('He', 'PRP'), ('was', 'VBD'), ('the', 'DT'), ('deuteragonist', 'NN'), ('of', 'IN'), ('Call', 'NNP'), ('of', 'IN'), ('Duty', 'NN'), (':', ':'), ('Black', 'NNP'), ('Ops', 'NNP'), ('and', 'CC'), ('a', 'DT'), ('supporting', 'VBG'), ('character', 'NN'), ('in', 'IN'), ('the', 'DT'), ('1980s', 'CD'), ('missions', 'NNS'), ('of', 'IN'), ('Call', 'NNP'), ('of', 'IN'), ('Duty', 'NN'), (':', ':'), ('Black', 'NNP'), ('Ops', 'NNP'), ('II', 'NNP'), ('.', '.')]\n",
            "sentences\n",
            "[('Special', 'JJ'), ('Agent', 'NNP'), ('Jason', 'NNP'), ('Hudson', 'NNP'), ('was', 'VBD'), ('a', 'DT'), ('C.I.A', 'NNP'), ('.', '.')]\n",
            "[('agent', 'NN'), ('responsible', 'JJ'), ('for', 'IN'), ('handling', 'VBG'), ('Alex', 'NNP'), ('Mason', 'NNP'), (',', ','), ('mainly', 'RB'), ('during', 'IN'), ('1968', 'CD'), ('.', '.')]\n",
            "[('He', 'PRP'), ('was', 'VBD'), ('the', 'DT'), ('deuteragonist', 'NN'), ('of', 'IN'), ('Call', 'NNP'), ('of', 'IN'), ('Duty', 'NN'), (':', ':'), ('Black', 'NNP'), ('Ops', 'NNP'), ('and', 'CC'), ('a', 'DT'), ('supporting', 'VBG'), ('character', 'NN'), ('in', 'IN'), ('the', 'DT'), ('1980s', 'CD'), ('missions', 'NNS'), ('of', 'IN'), ('Call', 'NNP'), ('of', 'IN'), ('Duty', 'NN'), (':', ':'), ('Black', 'NNP'), ('Ops', 'NNP'), ('II', 'NNP'), ('.', '.')]\n",
            "sentences\n",
            "[('Special', 'JJ'), ('Agent', 'NNP'), ('Jason', 'NNP'), ('Hudson', 'NNP'), ('was', 'VBD'), ('a', 'DT'), ('C.I.A', 'NNP'), ('.', '.')]\n",
            "[('agent', 'NN'), ('responsible', 'JJ'), ('for', 'IN'), ('handling', 'VBG'), ('Alex', 'NNP'), ('Mason', 'NNP'), (',', ','), ('mainly', 'RB'), ('during', 'IN'), ('1968', 'CD'), ('.', '.')]\n",
            "[('He', 'PRP'), ('was', 'VBD'), ('the', 'DT'), ('deuteragonist', 'NN'), ('of', 'IN'), ('Call', 'NNP'), ('of', 'IN'), ('Duty', 'NN'), (':', ':'), ('Black', 'NNP'), ('Ops', 'NNP'), ('and', 'CC'), ('a', 'DT'), ('supporting', 'VBG'), ('character', 'NN'), ('in', 'IN'), ('the', 'DT'), ('1980s', 'CD'), ('missions', 'NNS'), ('of', 'IN'), ('Call', 'NNP'), ('of', 'IN'), ('Duty', 'NN'), (':', ':'), ('Black', 'NNP'), ('Ops', 'NNP'), ('II', 'NNP'), ('.', '.')]\n",
            "sentences\n",
            "[('Special', 'JJ'), ('Agent', 'NNP'), ('Jason', 'NNP'), ('Hudson', 'NNP'), ('was', 'VBD'), ('a', 'DT'), ('C.I.A', 'NNP'), ('.', '.')]\n",
            "[('agent', 'NN'), ('responsible', 'JJ'), ('for', 'IN'), ('handling', 'VBG'), ('Alex', 'NNP'), ('Mason', 'NNP'), (',', ','), ('mainly', 'RB'), ('during', 'IN'), ('1968', 'CD'), ('.', '.')]\n",
            "[('He', 'PRP'), ('was', 'VBD'), ('the', 'DT'), ('deuteragonist', 'NN'), ('of', 'IN'), ('Call', 'NNP'), ('of', 'IN'), ('Duty', 'NN'), (':', ':'), ('Black', 'NNP'), ('Ops', 'NNP'), ('and', 'CC'), ('a', 'DT'), ('supporting', 'VBG'), ('character', 'NN'), ('in', 'IN'), ('the', 'DT'), ('1980s', 'CD'), ('missions', 'NNS'), ('of', 'IN'), ('Call', 'NNP'), ('of', 'IN'), ('Duty', 'NN'), (':', ':'), ('Black', 'NNP'), ('Ops', 'NNP'), ('II', 'NNP'), ('.', '.')]\n",
            "sentences\n",
            "[('Special', 'JJ'), ('Agent', 'NNP'), ('Jason', 'NNP'), ('Hudson', 'NNP'), ('was', 'VBD'), ('a', 'DT'), ('C.I.A', 'NNP'), ('.', '.')]\n",
            "[('agent', 'NN'), ('responsible', 'JJ'), ('for', 'IN'), ('handling', 'VBG'), ('Alex', 'NNP'), ('Mason', 'NNP'), (',', ','), ('mainly', 'RB'), ('during', 'IN'), ('1968', 'CD'), ('.', '.')]\n",
            "[('He', 'PRP'), ('was', 'VBD'), ('the', 'DT'), ('deuteragonist', 'NN'), ('of', 'IN'), ('Call', 'NNP'), ('of', 'IN'), ('Duty', 'NN'), (':', ':'), ('Black', 'NNP'), ('Ops', 'NNP'), ('and', 'CC'), ('a', 'DT'), ('supporting', 'VBG'), ('character', 'NN'), ('in', 'IN'), ('the', 'DT'), ('1980s', 'CD'), ('missions', 'NNS'), ('of', 'IN'), ('Call', 'NNP'), ('of', 'IN'), ('Duty', 'NN'), (':', ':'), ('Black', 'NNP'), ('Ops', 'NNP'), ('II', 'NNP'), ('.', '.')]\n",
            "sentences\n",
            "[('Special', 'JJ'), ('Agent', 'NNP'), ('Jason', 'NNP'), ('Hudson', 'NNP'), ('was', 'VBD'), ('a', 'DT'), ('C.I.A', 'NNP'), ('.', '.')]\n",
            "[('agent', 'NN'), ('responsible', 'JJ'), ('for', 'IN'), ('handling', 'VBG'), ('Alex', 'NNP'), ('Mason', 'NNP'), (',', ','), ('mainly', 'RB'), ('during', 'IN'), ('1968', 'CD'), ('.', '.')]\n",
            "[('He', 'PRP'), ('was', 'VBD'), ('the', 'DT'), ('deuteragonist', 'NN'), ('of', 'IN'), ('Call', 'NNP'), ('of', 'IN'), ('Duty', 'NN'), (':', ':'), ('Black', 'NNP'), ('Ops', 'NNP'), ('and', 'CC'), ('a', 'DT'), ('supporting', 'VBG'), ('character', 'NN'), ('in', 'IN'), ('the', 'DT'), ('1980s', 'CD'), ('missions', 'NNS'), ('of', 'IN'), ('Call', 'NNP'), ('of', 'IN'), ('Duty', 'NN'), (':', ':'), ('Black', 'NNP'), ('Ops', 'NNP'), ('II', 'NNP'), ('.', '.')]\n",
            "sentences\n",
            "[('Special', 'JJ'), ('Agent', 'NNP'), ('Jason', 'NNP'), ('Hudson', 'NNP'), ('was', 'VBD'), ('a', 'DT'), ('C.I.A', 'NNP'), ('.', '.')]\n",
            "[('agent', 'NN'), ('responsible', 'JJ'), ('for', 'IN'), ('handling', 'VBG'), ('Alex', 'NNP'), ('Mason', 'NNP'), (',', ','), ('mainly', 'RB'), ('during', 'IN'), ('1968', 'CD'), ('.', '.')]\n",
            "[('He', 'PRP'), ('was', 'VBD'), ('the', 'DT'), ('deuteragonist', 'NN'), ('of', 'IN'), ('Call', 'NNP'), ('of', 'IN'), ('Duty', 'NN'), (':', ':'), ('Black', 'NNP'), ('Ops', 'NNP'), ('and', 'CC'), ('a', 'DT'), ('supporting', 'VBG'), ('character', 'NN'), ('in', 'IN'), ('the', 'DT'), ('1980s', 'CD'), ('missions', 'NNS'), ('of', 'IN'), ('Call', 'NNP'), ('of', 'IN'), ('Duty', 'NN'), (':', ':'), ('Black', 'NNP'), ('Ops', 'NNP'), ('II', 'NNP'), ('.', '.')]\n",
            "sentences\n",
            "[('Special', 'JJ'), ('Agent', 'NNP'), ('Jason', 'NNP'), ('Hudson', 'NNP'), ('was', 'VBD'), ('a', 'DT'), ('C.I.A', 'NNP'), ('.', '.')]\n",
            "[('agent', 'NN'), ('responsible', 'JJ'), ('for', 'IN'), ('handling', 'VBG'), ('Alex', 'NNP'), ('Mason', 'NNP'), (',', ','), ('mainly', 'RB'), ('during', 'IN'), ('1968', 'CD'), ('.', '.')]\n",
            "[('He', 'PRP'), ('was', 'VBD'), ('the', 'DT'), ('deuteragonist', 'NN'), ('of', 'IN'), ('Call', 'NNP'), ('of', 'IN'), ('Duty', 'NN'), (':', ':'), ('Black', 'NNP'), ('Ops', 'NNP'), ('and', 'CC'), ('a', 'DT'), ('supporting', 'VBG'), ('character', 'NN'), ('in', 'IN'), ('the', 'DT'), ('1980s', 'CD'), ('missions', 'NNS'), ('of', 'IN'), ('Call', 'NNP'), ('of', 'IN'), ('Duty', 'NN'), (':', ':'), ('Black', 'NNP'), ('Ops', 'NNP'), ('II', 'NNP'), ('.', '.')]\n",
            "sentences\n",
            "[('Special', 'JJ'), ('Agent', 'NNP'), ('Jason', 'NNP'), ('Hudson', 'NNP'), ('was', 'VBD'), ('a', 'DT'), ('C.I.A', 'NNP'), ('.', '.')]\n",
            "[('agent', 'NN'), ('responsible', 'JJ'), ('for', 'IN'), ('handling', 'VBG'), ('Alex', 'NNP'), ('Mason', 'NNP'), (',', ','), ('mainly', 'RB'), ('during', 'IN'), ('1968', 'CD'), ('.', '.')]\n",
            "[('He', 'PRP'), ('was', 'VBD'), ('the', 'DT'), ('deuteragonist', 'NN'), ('of', 'IN'), ('Call', 'NNP'), ('of', 'IN'), ('Duty', 'NN'), (':', ':'), ('Black', 'NNP'), ('Ops', 'NNP'), ('and', 'CC'), ('a', 'DT'), ('supporting', 'VBG'), ('character', 'NN'), ('in', 'IN'), ('the', 'DT'), ('1980s', 'CD'), ('missions', 'NNS'), ('of', 'IN'), ('Call', 'NNP'), ('of', 'IN'), ('Duty', 'NN'), (':', ':'), ('Black', 'NNP'), ('Ops', 'NNP'), ('II', 'NNP'), ('.', '.')]\n",
            "sentences\n",
            "[('Special', 'JJ'), ('Agent', 'NNP'), ('Jason', 'NNP'), ('Hudson', 'NNP'), ('was', 'VBD'), ('a', 'DT'), ('C.I.A', 'NNP'), ('.', '.')]\n",
            "[('agent', 'NN'), ('responsible', 'JJ'), ('for', 'IN'), ('handling', 'VBG'), ('Alex', 'NNP'), ('Mason', 'NNP'), (',', ','), ('mainly', 'RB'), ('during', 'IN'), ('1968', 'CD'), ('.', '.')]\n",
            "[('He', 'PRP'), ('was', 'VBD'), ('the', 'DT'), ('deuteragonist', 'NN'), ('of', 'IN'), ('Call', 'NNP'), ('of', 'IN'), ('Duty', 'NN'), (':', ':'), ('Black', 'NNP'), ('Ops', 'NNP'), ('and', 'CC'), ('a', 'DT'), ('supporting', 'VBG'), ('character', 'NN'), ('in', 'IN'), ('the', 'DT'), ('1980s', 'CD'), ('missions', 'NNS'), ('of', 'IN'), ('Call', 'NNP'), ('of', 'IN'), ('Duty', 'NN'), (':', ':'), ('Black', 'NNP'), ('Ops', 'NNP'), ('II', 'NNP'), ('.', '.')]\n",
            "sentences\n",
            "[('Special', 'JJ'), ('Agent', 'NNP'), ('Jason', 'NNP'), ('Hudson', 'NNP'), ('was', 'VBD'), ('a', 'DT'), ('C.I.A', 'NNP'), ('.', '.')]\n",
            "[('agent', 'NN'), ('responsible', 'JJ'), ('for', 'IN'), ('handling', 'VBG'), ('Alex', 'NNP'), ('Mason', 'NNP'), (',', ','), ('mainly', 'RB'), ('during', 'IN'), ('1968', 'CD'), ('.', '.')]\n",
            "[('He', 'PRP'), ('was', 'VBD'), ('the', 'DT'), ('deuteragonist', 'NN'), ('of', 'IN'), ('Call', 'NNP'), ('of', 'IN'), ('Duty', 'NN'), (':', ':'), ('Black', 'NNP'), ('Ops', 'NNP'), ('and', 'CC'), ('a', 'DT'), ('supporting', 'VBG'), ('character', 'NN'), ('in', 'IN'), ('the', 'DT'), ('1980s', 'CD'), ('missions', 'NNS'), ('of', 'IN'), ('Call', 'NNP'), ('of', 'IN'), ('Duty', 'NN'), (':', ':'), ('Black', 'NNP'), ('Ops', 'NNP'), ('II', 'NNP'), ('.', '.')]\n",
            "sentences\n",
            "[('Special', 'JJ'), ('Agent', 'NNP'), ('Jason', 'NNP'), ('Hudson', 'NNP'), ('was', 'VBD'), ('a', 'DT'), ('C.I.A', 'NNP'), ('.', '.')]\n",
            "[('agent', 'NN'), ('responsible', 'JJ'), ('for', 'IN'), ('handling', 'VBG'), ('Alex', 'NNP'), ('Mason', 'NNP'), (',', ','), ('mainly', 'RB'), ('during', 'IN'), ('1968', 'CD'), ('.', '.')]\n",
            "[('He', 'PRP'), ('was', 'VBD'), ('the', 'DT'), ('deuteragonist', 'NN'), ('of', 'IN'), ('Call', 'NNP'), ('of', 'IN'), ('Duty', 'NN'), (':', ':'), ('Black', 'NNP'), ('Ops', 'NNP'), ('and', 'CC'), ('a', 'DT'), ('supporting', 'VBG'), ('character', 'NN'), ('in', 'IN'), ('the', 'DT'), ('1980s', 'CD'), ('missions', 'NNS'), ('of', 'IN'), ('Call', 'NNP'), ('of', 'IN'), ('Duty', 'NN'), (':', ':'), ('Black', 'NNP'), ('Ops', 'NNP'), ('II', 'NNP'), ('.', '.')]\n",
            "sentences\n",
            "[('Special', 'JJ'), ('Agent', 'NNP'), ('Jason', 'NNP'), ('Hudson', 'NNP'), ('was', 'VBD'), ('a', 'DT'), ('C.I.A', 'NNP'), ('.', '.')]\n",
            "[('agent', 'NN'), ('responsible', 'JJ'), ('for', 'IN'), ('handling', 'VBG'), ('Alex', 'NNP'), ('Mason', 'NNP'), (',', ','), ('mainly', 'RB'), ('during', 'IN'), ('1968', 'CD'), ('.', '.')]\n",
            "[('He', 'PRP'), ('was', 'VBD'), ('the', 'DT'), ('deuteragonist', 'NN'), ('of', 'IN'), ('Call', 'NNP'), ('of', 'IN'), ('Duty', 'NN'), (':', ':'), ('Black', 'NNP'), ('Ops', 'NNP'), ('and', 'CC'), ('a', 'DT'), ('supporting', 'VBG'), ('character', 'NN'), ('in', 'IN'), ('the', 'DT'), ('1980s', 'CD'), ('missions', 'NNS'), ('of', 'IN'), ('Call', 'NNP'), ('of', 'IN'), ('Duty', 'NN'), (':', ':'), ('Black', 'NNP'), ('Ops', 'NNP'), ('II', 'NNP'), ('.', '.')]\n",
            "sentences\n",
            "[('Special', 'JJ'), ('Agent', 'NNP'), ('Jason', 'NNP'), ('Hudson', 'NNP'), ('was', 'VBD'), ('a', 'DT'), ('C.I.A', 'NNP'), ('.', '.')]\n",
            "[('agent', 'NN'), ('responsible', 'JJ'), ('for', 'IN'), ('handling', 'VBG'), ('Alex', 'NNP'), ('Mason', 'NNP'), (',', ','), ('mainly', 'RB'), ('during', 'IN'), ('1968', 'CD'), ('.', '.')]\n",
            "[('He', 'PRP'), ('was', 'VBD'), ('the', 'DT'), ('deuteragonist', 'NN'), ('of', 'IN'), ('Call', 'NNP'), ('of', 'IN'), ('Duty', 'NN'), (':', ':'), ('Black', 'NNP'), ('Ops', 'NNP'), ('and', 'CC'), ('a', 'DT'), ('supporting', 'VBG'), ('character', 'NN'), ('in', 'IN'), ('the', 'DT'), ('1980s', 'CD'), ('missions', 'NNS'), ('of', 'IN'), ('Call', 'NNP'), ('of', 'IN'), ('Duty', 'NN'), (':', ':'), ('Black', 'NNP'), ('Ops', 'NNP'), ('II', 'NNP'), ('.', '.')]\n",
            "sentences\n",
            "[('Special', 'JJ'), ('Agent', 'NNP'), ('Jason', 'NNP'), ('Hudson', 'NNP'), ('was', 'VBD'), ('a', 'DT'), ('C.I.A', 'NNP'), ('.', '.')]\n",
            "[('agent', 'NN'), ('responsible', 'JJ'), ('for', 'IN'), ('handling', 'VBG'), ('Alex', 'NNP'), ('Mason', 'NNP'), (',', ','), ('mainly', 'RB'), ('during', 'IN'), ('1968', 'CD'), ('.', '.')]\n",
            "[('He', 'PRP'), ('was', 'VBD'), ('the', 'DT'), ('deuteragonist', 'NN'), ('of', 'IN'), ('Call', 'NNP'), ('of', 'IN'), ('Duty', 'NN'), (':', ':'), ('Black', 'NNP'), ('Ops', 'NNP'), ('and', 'CC'), ('a', 'DT'), ('supporting', 'VBG'), ('character', 'NN'), ('in', 'IN'), ('the', 'DT'), ('1980s', 'CD'), ('missions', 'NNS'), ('of', 'IN'), ('Call', 'NNP'), ('of', 'IN'), ('Duty', 'NN'), (':', ':'), ('Black', 'NNP'), ('Ops', 'NNP'), ('II', 'NNP'), ('.', '.')]\n",
            "sentences\n",
            "[('Special', 'JJ'), ('Agent', 'NNP'), ('Jason', 'NNP'), ('Hudson', 'NNP'), ('was', 'VBD'), ('a', 'DT'), ('C.I.A', 'NNP'), ('.', '.')]\n",
            "[('agent', 'NN'), ('responsible', 'JJ'), ('for', 'IN'), ('handling', 'VBG'), ('Alex', 'NNP'), ('Mason', 'NNP'), (',', ','), ('mainly', 'RB'), ('during', 'IN'), ('1968', 'CD'), ('.', '.')]\n",
            "[('He', 'PRP'), ('was', 'VBD'), ('the', 'DT'), ('deuteragonist', 'NN'), ('of', 'IN'), ('Call', 'NNP'), ('of', 'IN'), ('Duty', 'NN'), (':', ':'), ('Black', 'NNP'), ('Ops', 'NNP'), ('and', 'CC'), ('a', 'DT'), ('supporting', 'VBG'), ('character', 'NN'), ('in', 'IN'), ('the', 'DT'), ('1980s', 'CD'), ('missions', 'NNS'), ('of', 'IN'), ('Call', 'NNP'), ('of', 'IN'), ('Duty', 'NN'), (':', ':'), ('Black', 'NNP'), ('Ops', 'NNP'), ('II', 'NNP'), ('.', '.')]\n",
            "sentences\n",
            "[('Special', 'JJ'), ('Agent', 'NNP'), ('Jason', 'NNP'), ('Hudson', 'NNP'), ('was', 'VBD'), ('a', 'DT'), ('C.I.A', 'NNP'), ('.', '.')]\n",
            "[('agent', 'NN'), ('responsible', 'JJ'), ('for', 'IN'), ('handling', 'VBG'), ('Alex', 'NNP'), ('Mason', 'NNP'), (',', ','), ('mainly', 'RB'), ('during', 'IN'), ('1968', 'CD'), ('.', '.')]\n",
            "[('He', 'PRP'), ('was', 'VBD'), ('the', 'DT'), ('deuteragonist', 'NN'), ('of', 'IN'), ('Call', 'NNP'), ('of', 'IN'), ('Duty', 'NN'), (':', ':'), ('Black', 'NNP'), ('Ops', 'NNP'), ('and', 'CC'), ('a', 'DT'), ('supporting', 'VBG'), ('character', 'NN'), ('in', 'IN'), ('the', 'DT'), ('1980s', 'CD'), ('missions', 'NNS'), ('of', 'IN'), ('Call', 'NNP'), ('of', 'IN'), ('Duty', 'NN'), (':', ':'), ('Black', 'NNP'), ('Ops', 'NNP'), ('II', 'NNP'), ('.', '.')]\n",
            "sentences\n",
            "[('Special', 'JJ'), ('Agent', 'NNP'), ('Jason', 'NNP'), ('Hudson', 'NNP'), ('was', 'VBD'), ('a', 'DT'), ('C.I.A', 'NNP'), ('.', '.')]\n",
            "[('agent', 'NN'), ('responsible', 'JJ'), ('for', 'IN'), ('handling', 'VBG'), ('Alex', 'NNP'), ('Mason', 'NNP'), (',', ','), ('mainly', 'RB'), ('during', 'IN'), ('1968', 'CD'), ('.', '.')]\n",
            "[('He', 'PRP'), ('was', 'VBD'), ('the', 'DT'), ('deuteragonist', 'NN'), ('of', 'IN'), ('Call', 'NNP'), ('of', 'IN'), ('Duty', 'NN'), (':', ':'), ('Black', 'NNP'), ('Ops', 'NNP'), ('and', 'CC'), ('a', 'DT'), ('supporting', 'VBG'), ('character', 'NN'), ('in', 'IN'), ('the', 'DT'), ('1980s', 'CD'), ('missions', 'NNS'), ('of', 'IN'), ('Call', 'NNP'), ('of', 'IN'), ('Duty', 'NN'), (':', ':'), ('Black', 'NNP'), ('Ops', 'NNP'), ('II', 'NNP'), ('.', '.')]\n",
            "sentences\n",
            "[('Special', 'JJ'), ('Agent', 'NNP'), ('Jason', 'NNP'), ('Hudson', 'NNP'), ('was', 'VBD'), ('a', 'DT'), ('C.I.A', 'NNP'), ('.', '.')]\n",
            "[('agent', 'NN'), ('responsible', 'JJ'), ('for', 'IN'), ('handling', 'VBG'), ('Alex', 'NNP'), ('Mason', 'NNP'), (',', ','), ('mainly', 'RB'), ('during', 'IN'), ('1968', 'CD'), ('.', '.')]\n",
            "[('He', 'PRP'), ('was', 'VBD'), ('the', 'DT'), ('deuteragonist', 'NN'), ('of', 'IN'), ('Call', 'NNP'), ('of', 'IN'), ('Duty', 'NN'), (':', ':'), ('Black', 'NNP'), ('Ops', 'NNP'), ('and', 'CC'), ('a', 'DT'), ('supporting', 'VBG'), ('character', 'NN'), ('in', 'IN'), ('the', 'DT'), ('1980s', 'CD'), ('missions', 'NNS'), ('of', 'IN'), ('Call', 'NNP'), ('of', 'IN'), ('Duty', 'NN'), (':', ':'), ('Black', 'NNP'), ('Ops', 'NNP'), ('II', 'NNP'), ('.', '.')]\n",
            "sentences\n",
            "[('Special', 'JJ'), ('Agent', 'NNP'), ('Jason', 'NNP'), ('Hudson', 'NNP'), ('was', 'VBD'), ('a', 'DT'), ('C.I.A', 'NNP'), ('.', '.')]\n",
            "[('agent', 'NN'), ('responsible', 'JJ'), ('for', 'IN'), ('handling', 'VBG'), ('Alex', 'NNP'), ('Mason', 'NNP'), (',', ','), ('mainly', 'RB'), ('during', 'IN'), ('1968', 'CD'), ('.', '.')]\n",
            "[('He', 'PRP'), ('was', 'VBD'), ('the', 'DT'), ('deuteragonist', 'NN'), ('of', 'IN'), ('Call', 'NNP'), ('of', 'IN'), ('Duty', 'NN'), (':', ':'), ('Black', 'NNP'), ('Ops', 'NNP'), ('and', 'CC'), ('a', 'DT'), ('supporting', 'VBG'), ('character', 'NN'), ('in', 'IN'), ('the', 'DT'), ('1980s', 'CD'), ('missions', 'NNS'), ('of', 'IN'), ('Call', 'NNP'), ('of', 'IN'), ('Duty', 'NN'), (':', ':'), ('Black', 'NNP'), ('Ops', 'NNP'), ('II', 'NNP'), ('.', '.')]\n",
            "sentences\n",
            "[('Special', 'JJ'), ('Agent', 'NNP'), ('Jason', 'NNP'), ('Hudson', 'NNP'), ('was', 'VBD'), ('a', 'DT'), ('C.I.A', 'NNP'), ('.', '.')]\n",
            "[('agent', 'NN'), ('responsible', 'JJ'), ('for', 'IN'), ('handling', 'VBG'), ('Alex', 'NNP'), ('Mason', 'NNP'), (',', ','), ('mainly', 'RB'), ('during', 'IN'), ('1968', 'CD'), ('.', '.')]\n",
            "[('He', 'PRP'), ('was', 'VBD'), ('the', 'DT'), ('deuteragonist', 'NN'), ('of', 'IN'), ('Call', 'NNP'), ('of', 'IN'), ('Duty', 'NN'), (':', ':'), ('Black', 'NNP'), ('Ops', 'NNP'), ('and', 'CC'), ('a', 'DT'), ('supporting', 'VBG'), ('character', 'NN'), ('in', 'IN'), ('the', 'DT'), ('1980s', 'CD'), ('missions', 'NNS'), ('of', 'IN'), ('Call', 'NNP'), ('of', 'IN'), ('Duty', 'NN'), (':', ':'), ('Black', 'NNP'), ('Ops', 'NNP'), ('II', 'NNP'), ('.', '.')]\n",
            "sentences\n",
            "[('Special', 'JJ'), ('Agent', 'NNP'), ('Jason', 'NNP'), ('Hudson', 'NNP'), ('was', 'VBD'), ('a', 'DT'), ('C.I.A', 'NNP'), ('.', '.')]\n",
            "[('agent', 'NN'), ('responsible', 'JJ'), ('for', 'IN'), ('handling', 'VBG'), ('Alex', 'NNP'), ('Mason', 'NNP'), (',', ','), ('mainly', 'RB'), ('during', 'IN'), ('1968', 'CD'), ('.', '.')]\n",
            "[('He', 'PRP'), ('was', 'VBD'), ('the', 'DT'), ('deuteragonist', 'NN'), ('of', 'IN'), ('Call', 'NNP'), ('of', 'IN'), ('Duty', 'NN'), (':', ':'), ('Black', 'NNP'), ('Ops', 'NNP'), ('and', 'CC'), ('a', 'DT'), ('supporting', 'VBG'), ('character', 'NN'), ('in', 'IN'), ('the', 'DT'), ('1980s', 'CD'), ('missions', 'NNS'), ('of', 'IN'), ('Call', 'NNP'), ('of', 'IN'), ('Duty', 'NN'), (':', ':'), ('Black', 'NNP'), ('Ops', 'NNP'), ('II', 'NNP'), ('.', '.')]\n"
          ],
          "name": "stdout"
        }
      ]
    },
    {
      "cell_type": "markdown",
      "metadata": {
        "id": "u6edXKJVGHCt"
      },
      "source": [
        "#2 TweetTokenizer"
      ]
    },
    {
      "cell_type": "code",
      "metadata": {
        "id": "Rs-lVbCDGafV",
        "outputId": "e638c330-002a-4764-ce91-f0abeba8d04e",
        "colab": {
          "base_uri": "https://localhost:8080/",
          "height": 210
        }
      },
      "source": [
        "import nltk \n",
        "from nltk.tokenize import TweetTokenizer\n",
        "text=\" The New Call of Duty  update is so huge :( #NeedMoreSpace\"\n",
        "twtkn= TweetTokenizer()\n",
        "twtkn.tokenize(text)"
      ],
      "execution_count": null,
      "outputs": [
        {
          "output_type": "execute_result",
          "data": {
            "text/plain": [
              "['The',\n",
              " 'New',\n",
              " 'Call',\n",
              " 'of',\n",
              " 'Duty',\n",
              " 'update',\n",
              " 'is',\n",
              " 'so',\n",
              " 'huge',\n",
              " ':(',\n",
              " '#NeedMoreSpace']"
            ]
          },
          "metadata": {
            "tags": []
          },
          "execution_count": 7
        }
      ]
    },
    {
      "cell_type": "markdown",
      "metadata": {
        "id": "CEFhS_I5HZK_"
      },
      "source": [
        "#3 Scraping Data From Web"
      ]
    },
    {
      "cell_type": "code",
      "metadata": {
        "id": "efg1D5vQHd03",
        "outputId": "9f075cf6-e1cc-4ccf-8aeb-efb12f347d76",
        "colab": {
          "base_uri": "https://localhost:8080/",
          "height": 34
        }
      },
      "source": [
        "from urllib import request\n",
        "url=\"https://www.prodirectsoccer.com/\"\n",
        "response=request.urlopen(url)\n",
        "raw= response.read().decode('utf8')\n",
        "type(raw)"
      ],
      "execution_count": null,
      "outputs": [
        {
          "output_type": "execute_result",
          "data": {
            "text/plain": [
              "str"
            ]
          },
          "metadata": {
            "tags": []
          },
          "execution_count": 8
        }
      ]
    },
    {
      "cell_type": "code",
      "metadata": {
        "id": "dWbbhBv1Jx-u",
        "outputId": "00d07655-f3a1-43d5-d562-cbe3f25f9653",
        "colab": {
          "base_uri": "https://localhost:8080/",
          "height": 34
        }
      },
      "source": [
        "from urllib import request\n",
        "url=\"https://www.prodirectsoccer.com/\"\n",
        "response=request.urlopen(url)\n",
        "raw= response.read().decode('utf8')\n",
        "type(raw)\n",
        "from nltk.tokenize import word_tokenize\n",
        "tokens= word_tokenize(raw)\n",
        "type(tokens)\n"
      ],
      "execution_count": null,
      "outputs": [
        {
          "output_type": "execute_result",
          "data": {
            "text/plain": [
              "list"
            ]
          },
          "metadata": {
            "tags": []
          },
          "execution_count": 10
        }
      ]
    },
    {
      "cell_type": "markdown",
      "metadata": {
        "id": "1HTx75_ONflu"
      },
      "source": [
        "# Simple Text Classification \n",
        "\n",
        "\n",
        "---\n",
        "\n"
      ]
    },
    {
      "cell_type": "code",
      "metadata": {
        "id": "3kxI3vxnNknu"
      },
      "source": [
        "def gender_features(word):\n",
        "  return{'last letter':word[-1]}"
      ],
      "execution_count": null,
      "outputs": []
    },
    {
      "cell_type": "code",
      "metadata": {
        "id": "UvCRuOJZOJS4",
        "outputId": "22e701b9-88de-49ac-86fb-17f70b606689",
        "colab": {
          "base_uri": "https://localhost:8080/",
          "height": 70
        }
      },
      "source": [
        " import nltk\n",
        "nltk.download('names')"
      ],
      "execution_count": null,
      "outputs": [
        {
          "output_type": "stream",
          "text": [
            "[nltk_data] Downloading package names to /root/nltk_data...\n",
            "[nltk_data]   Unzipping corpora/names.zip.\n"
          ],
          "name": "stdout"
        },
        {
          "output_type": "execute_result",
          "data": {
            "text/plain": [
              "True"
            ]
          },
          "metadata": {
            "tags": []
          },
          "execution_count": 5
        }
      ]
    },
    {
      "cell_type": "code",
      "metadata": {
        "id": "nUemyJyFOW_D",
        "outputId": "b9aecb63-bc7f-4c65-845c-e29649acb0f1",
        "colab": {
          "base_uri": "https://localhost:8080/",
          "height": 34
        }
      },
      "source": [
        "gender_features('Trump')"
      ],
      "execution_count": null,
      "outputs": [
        {
          "output_type": "execute_result",
          "data": {
            "text/plain": [
              "{'last letter': 'p'}"
            ]
          },
          "metadata": {
            "tags": []
          },
          "execution_count": 8
        }
      ]
    },
    {
      "cell_type": "code",
      "metadata": {
        "id": "zKJSt4LfOozN"
      },
      "source": [
        "import nltk\n",
        "classifier= nltk.NaiveBayesClassifier.train(train_set)\n",
        "classifier.classify(gender_features(\"Laksh\"))"
      ],
      "execution_count": null,
      "outputs": []
    },
    {
      "cell_type": "code",
      "metadata": {
        "id": "QspTBH7SPhag"
      },
      "source": [
        "import random\n",
        "random.shuffle(labeled_names)"
      ],
      "execution_count": null,
      "outputs": []
    },
    {
      "cell_type": "code",
      "metadata": {
        "id": "Nv0u7KvzPvZl"
      },
      "source": [
        "featuresets = [(gender_features(n), gender) for (n,gender) in labeled_names]\n",
        "train_set, test_set = featuresets[5000:], featuresets[:2000]"
      ],
      "execution_count": null,
      "outputs": []
    },
    {
      "cell_type": "code",
      "metadata": {
        "id": "_SDl7EVFQtQB"
      },
      "source": [
        "import nltk\n",
        "classifier= nltk.NaiveBayesClassifier.train(train_set)"
      ],
      "execution_count": null,
      "outputs": []
    },
    {
      "cell_type": "code",
      "metadata": {
        "id": "-pw7-A3RSbG-",
        "outputId": "3e72bb74-84cb-4b8d-be0e-15dfc9760d0b",
        "colab": {
          "base_uri": "https://localhost:8080/",
          "height": 34
        }
      },
      "source": [
        "print(nltk.classify.accuracy(classifier,test_set))"
      ],
      "execution_count": null,
      "outputs": [
        {
          "output_type": "stream",
          "text": [
            "0.7525\n"
          ],
          "name": "stdout"
        }
      ]
    },
    {
      "cell_type": "code",
      "metadata": {
        "id": "PpvSx_gXVJ2p",
        "outputId": "5df3eddc-f6fd-4dd5-c675-094874d9b3d0",
        "colab": {
          "base_uri": "https://localhost:8080/",
          "height": 70
        }
      },
      "source": [
        "from sklearn.feature_extraction.text import CountVectorizer\n",
        "\n",
        "# list of text documents\n",
        "text = [\"John is a good boy. John watches basketball\"]\n",
        "\n",
        "vectorizer = CountVectorizer()\n",
        "# tokenize and build vocab\n",
        "vectorizer.fit(text)\n",
        "\n",
        "print(vectorizer.vocabulary_)\n",
        "\n",
        "# encode document\n",
        "vector = vectorizer.transform(text)\n",
        "# summarize encoded vector\n",
        "print(vector.shape)\n",
        "print(vector.toarray())"
      ],
      "execution_count": 2,
      "outputs": [
        {
          "output_type": "stream",
          "text": [
            "{'john': 4, 'is': 3, 'good': 2, 'boy': 1, 'watches': 5, 'basketball': 0}\n",
            "(1, 6)\n",
            "[[1 1 1 1 2 1]]\n"
          ],
          "name": "stdout"
        }
      ]
    },
    {
      "cell_type": "code",
      "metadata": {
        "id": "2OCrcaCHVtvf",
        "outputId": "ac4d3621-6ebb-4db8-ace6-8a95e0c1c665",
        "colab": {
          "base_uri": "https://localhost:8080/",
          "height": 600
        }
      },
      "source": [
        "pip install -U spacy"
      ],
      "execution_count": null,
      "outputs": [
        {
          "output_type": "stream",
          "text": [
            "Collecting spacy\n",
            "\u001b[?25l  Downloading https://files.pythonhosted.org/packages/10/b5/c7a92c7ce5d4b353b70b4b5b4385687206c8b230ddfe08746ab0fd310a3a/spacy-2.3.2-cp36-cp36m-manylinux1_x86_64.whl (9.9MB)\n",
            "\u001b[K     |████████████████████████████████| 10.0MB 1.8MB/s \n",
            "\u001b[?25hRequirement already satisfied, skipping upgrade: catalogue<1.1.0,>=0.0.7 in /usr/local/lib/python3.6/dist-packages (from spacy) (1.0.0)\n",
            "Requirement already satisfied, skipping upgrade: numpy>=1.15.0 in /usr/local/lib/python3.6/dist-packages (from spacy) (1.18.5)\n",
            "Requirement already satisfied, skipping upgrade: requests<3.0.0,>=2.13.0 in /usr/local/lib/python3.6/dist-packages (from spacy) (2.23.0)\n",
            "Requirement already satisfied, skipping upgrade: plac<1.2.0,>=0.9.6 in /usr/local/lib/python3.6/dist-packages (from spacy) (1.1.3)\n",
            "Requirement already satisfied, skipping upgrade: preshed<3.1.0,>=3.0.2 in /usr/local/lib/python3.6/dist-packages (from spacy) (3.0.2)\n",
            "Collecting thinc==7.4.1\n",
            "\u001b[?25l  Downloading https://files.pythonhosted.org/packages/10/ae/ef3ae5e93639c0ef8e3eb32e3c18341e511b3c515fcfc603f4b808087651/thinc-7.4.1-cp36-cp36m-manylinux1_x86_64.whl (2.1MB)\n",
            "\u001b[K     |████████████████████████████████| 2.1MB 38.0MB/s \n",
            "\u001b[?25hRequirement already satisfied, skipping upgrade: srsly<1.1.0,>=1.0.2 in /usr/local/lib/python3.6/dist-packages (from spacy) (1.0.2)\n",
            "Requirement already satisfied, skipping upgrade: blis<0.5.0,>=0.4.0 in /usr/local/lib/python3.6/dist-packages (from spacy) (0.4.1)\n",
            "Requirement already satisfied, skipping upgrade: murmurhash<1.1.0,>=0.28.0 in /usr/local/lib/python3.6/dist-packages (from spacy) (1.0.2)\n",
            "Requirement already satisfied, skipping upgrade: tqdm<5.0.0,>=4.38.0 in /usr/local/lib/python3.6/dist-packages (from spacy) (4.41.1)\n",
            "Requirement already satisfied, skipping upgrade: setuptools in /usr/local/lib/python3.6/dist-packages (from spacy) (50.3.0)\n",
            "Requirement already satisfied, skipping upgrade: cymem<2.1.0,>=2.0.2 in /usr/local/lib/python3.6/dist-packages (from spacy) (2.0.3)\n",
            "Requirement already satisfied, skipping upgrade: wasabi<1.1.0,>=0.4.0 in /usr/local/lib/python3.6/dist-packages (from spacy) (0.8.0)\n",
            "Requirement already satisfied, skipping upgrade: importlib-metadata>=0.20; python_version < \"3.8\" in /usr/local/lib/python3.6/dist-packages (from catalogue<1.1.0,>=0.0.7->spacy) (2.0.0)\n",
            "Requirement already satisfied, skipping upgrade: urllib3!=1.25.0,!=1.25.1,<1.26,>=1.21.1 in /usr/local/lib/python3.6/dist-packages (from requests<3.0.0,>=2.13.0->spacy) (1.24.3)\n",
            "Requirement already satisfied, skipping upgrade: certifi>=2017.4.17 in /usr/local/lib/python3.6/dist-packages (from requests<3.0.0,>=2.13.0->spacy) (2020.6.20)\n",
            "Requirement already satisfied, skipping upgrade: chardet<4,>=3.0.2 in /usr/local/lib/python3.6/dist-packages (from requests<3.0.0,>=2.13.0->spacy) (3.0.4)\n",
            "Requirement already satisfied, skipping upgrade: idna<3,>=2.5 in /usr/local/lib/python3.6/dist-packages (from requests<3.0.0,>=2.13.0->spacy) (2.10)\n",
            "Requirement already satisfied, skipping upgrade: zipp>=0.5 in /usr/local/lib/python3.6/dist-packages (from importlib-metadata>=0.20; python_version < \"3.8\"->catalogue<1.1.0,>=0.0.7->spacy) (3.2.0)\n",
            "Installing collected packages: thinc, spacy\n",
            "  Found existing installation: thinc 7.4.0\n",
            "    Uninstalling thinc-7.4.0:\n",
            "      Successfully uninstalled thinc-7.4.0\n",
            "  Found existing installation: spacy 2.2.4\n",
            "    Uninstalling spacy-2.2.4:\n",
            "      Successfully uninstalled spacy-2.2.4\n",
            "Successfully installed spacy-2.3.2 thinc-7.4.1\n"
          ],
          "name": "stdout"
        }
      ]
    },
    {
      "cell_type": "code",
      "metadata": {
        "id": "5ap-zIQqdvAo",
        "outputId": "b996756d-f540-4241-8a4e-85361fbd60ee",
        "colab": {
          "base_uri": "https://localhost:8080/",
          "height": 72
        }
      },
      "source": [
        "import spacy\n",
        "m= spacy.load('en_core_web_sm')\n"
      ],
      "execution_count": null,
      "outputs": [
        {
          "output_type": "stream",
          "text": [
            "/usr/local/lib/python3.6/dist-packages/spacy/util.py:275: UserWarning: [W031] Model 'en_core_web_sm' (2.2.5) requires spaCy v2.2 and is incompatible with the current spaCy version (2.3.2). This may lead to unexpected results or runtime errors. To resolve this, download a newer compatible model or retrain your custom model with the current spaCy version. For more details and available updates, run: python -m spacy validate\n",
            "  warnings.warn(warn_msg)\n"
          ],
          "name": "stderr"
        }
      ]
    },
    {
      "cell_type": "markdown",
      "metadata": {
        "id": "k8lpJp1deLYr"
      },
      "source": [
        "NER[Named Entity Recognition]"
      ]
    },
    {
      "cell_type": "code",
      "metadata": {
        "id": "2GRN6kqOhMdj",
        "outputId": "a537d20d-1353-42d1-cb27-d019a31f1592",
        "colab": {
          "base_uri": "https://localhost:8080/",
          "height": 87
        }
      },
      "source": [
        "example1=\"Google, a company founded by Larry Page and Sergey Brin+ has one of the world's most advancced search engines.\"\n",
        "doc= m(example1)\n",
        "for ent in doc.ents:\n",
        "  print(ent.text,ent.label_)"
      ],
      "execution_count": null,
      "outputs": [
        {
          "output_type": "stream",
          "text": [
            "Google ORG\n",
            "Larry Page PERSON\n",
            "Sergey NORP\n",
            "one CARDINAL\n"
          ],
          "name": "stdout"
        }
      ]
    },
    {
      "cell_type": "code",
      "metadata": {
        "id": "_VfVYJ0Wh86O",
        "outputId": "8a63d0aa-e9f1-4bb6-9a00-9021e16333f2",
        "colab": {
          "base_uri": "https://localhost:8080/",
          "height": 87
        }
      },
      "source": [
        "example2=\"B.Tech is the first step to achieve a Masters Degrees in Engineering+ Back in Black is the most famous song by AC/DC+Dangerous is considered the most sold album of Michael Jackson\"\n",
        "doc= m(example2)\n",
        "for ent in doc.ents:\n",
        "  print(ent.text,ent.label_)"
      ],
      "execution_count": null,
      "outputs": [
        {
          "output_type": "stream",
          "text": [
            "first ORDINAL\n",
            "Black GPE\n",
            "AC/DC+Dangerous ORG\n",
            "Michael Jackson PERSON\n"
          ],
          "name": "stdout"
        }
      ]
    },
    {
      "cell_type": "code",
      "metadata": {
        "id": "mP7FvPtEkM8t",
        "outputId": "01e47fda-ed9d-4da7-bb56-e9def5a77093",
        "colab": {
          "base_uri": "https://localhost:8080/",
          "height": 87
        }
      },
      "source": [
        "example3=\"Tom Hanks is the Martian +PlayStation 2 is the most sold console by Sony+Xbox series X is the upcoming gaming console of Microsoft+ Dangerous is the most famous album released by Michael Jackson+ 3rd law of physics\"\n",
        "doc= m(example3)\n",
        "for ent in doc.ents:\n",
        "  print(ent.text,ent.label_)"
      ],
      "execution_count": null,
      "outputs": [
        {
          "output_type": "stream",
          "text": [
            "Tom Hanks PERSON\n",
            "Sony+Xbox GPE\n",
            "Michael Jackson+ PERSON\n",
            "3rd ORDINAL\n"
          ],
          "name": "stdout"
        }
      ]
    },
    {
      "cell_type": "code",
      "metadata": {
        "id": "-P_VihxvouUq",
        "outputId": "0b04407a-b28d-47b0-c0c0-02cbda3b0739",
        "colab": {
          "base_uri": "https://localhost:8080/",
          "height": 438
        }
      },
      "source": [
        "import matplotlib\n",
        "matplotlib.use('Agg')\n",
        "import nltk\n",
        "sentence = [(\"the\", \"DT\"), (\"little\", \"JJ\"), (\"yellow\", \"JJ\"),(\"dog\", \"NN\"), (\"barked\", \"VBD\"), (\"at\", \"IN\"),  (\"the\", \"DT\"), (\"cat\", \"NN\")]\n",
        "grammar= \"NP: {<DT>?<JJ>*<NN>}\"\n",
        "#production from CFG for NP and VP\n",
        "c=nltk.RegexpParser(grammar)\n",
        "result=c.parse(sentence)\n",
        "print(result)\n",
        "result.draw()"
      ],
      "execution_count": 11,
      "outputs": [
        {
          "output_type": "stream",
          "text": [
            "(S\n",
            "  (NP the/DT little/JJ yellow/JJ dog/NN)\n",
            "  barked/VBD\n",
            "  at/IN\n",
            "  (NP the/DT cat/NN))\n"
          ],
          "name": "stdout"
        },
        {
          "output_type": "error",
          "ename": "TclError",
          "evalue": "ignored",
          "traceback": [
            "\u001b[0;31m---------------------------------------------------------------------------\u001b[0m",
            "\u001b[0;31mTclError\u001b[0m                                  Traceback (most recent call last)",
            "\u001b[0;32m<ipython-input-11-d07b16b2d98f>\u001b[0m in \u001b[0;36m<module>\u001b[0;34m()\u001b[0m\n\u001b[1;32m      8\u001b[0m \u001b[0mresult\u001b[0m\u001b[0;34m=\u001b[0m\u001b[0mc\u001b[0m\u001b[0;34m.\u001b[0m\u001b[0mparse\u001b[0m\u001b[0;34m(\u001b[0m\u001b[0msentence\u001b[0m\u001b[0;34m)\u001b[0m\u001b[0;34m\u001b[0m\u001b[0;34m\u001b[0m\u001b[0m\n\u001b[1;32m      9\u001b[0m \u001b[0mprint\u001b[0m\u001b[0;34m(\u001b[0m\u001b[0mresult\u001b[0m\u001b[0;34m)\u001b[0m\u001b[0;34m\u001b[0m\u001b[0;34m\u001b[0m\u001b[0m\n\u001b[0;32m---> 10\u001b[0;31m \u001b[0mresult\u001b[0m\u001b[0;34m.\u001b[0m\u001b[0mdraw\u001b[0m\u001b[0;34m(\u001b[0m\u001b[0;34m)\u001b[0m\u001b[0;34m\u001b[0m\u001b[0;34m\u001b[0m\u001b[0m\n\u001b[0m",
            "\u001b[0;32m/usr/local/lib/python3.6/dist-packages/nltk/tree.py\u001b[0m in \u001b[0;36mdraw\u001b[0;34m(self)\u001b[0m\n\u001b[1;32m    688\u001b[0m         \"\"\"\n\u001b[1;32m    689\u001b[0m         \u001b[0;32mfrom\u001b[0m \u001b[0mnltk\u001b[0m\u001b[0;34m.\u001b[0m\u001b[0mdraw\u001b[0m\u001b[0;34m.\u001b[0m\u001b[0mtree\u001b[0m \u001b[0;32mimport\u001b[0m \u001b[0mdraw_trees\u001b[0m\u001b[0;34m\u001b[0m\u001b[0;34m\u001b[0m\u001b[0m\n\u001b[0;32m--> 690\u001b[0;31m         \u001b[0mdraw_trees\u001b[0m\u001b[0;34m(\u001b[0m\u001b[0mself\u001b[0m\u001b[0;34m)\u001b[0m\u001b[0;34m\u001b[0m\u001b[0;34m\u001b[0m\u001b[0m\n\u001b[0m\u001b[1;32m    691\u001b[0m \u001b[0;34m\u001b[0m\u001b[0m\n\u001b[1;32m    692\u001b[0m     \u001b[0;32mdef\u001b[0m \u001b[0mpretty_print\u001b[0m\u001b[0;34m(\u001b[0m\u001b[0mself\u001b[0m\u001b[0;34m,\u001b[0m \u001b[0msentence\u001b[0m\u001b[0;34m=\u001b[0m\u001b[0;32mNone\u001b[0m\u001b[0;34m,\u001b[0m \u001b[0mhighlight\u001b[0m\u001b[0;34m=\u001b[0m\u001b[0;34m(\u001b[0m\u001b[0;34m)\u001b[0m\u001b[0;34m,\u001b[0m \u001b[0mstream\u001b[0m\u001b[0;34m=\u001b[0m\u001b[0;32mNone\u001b[0m\u001b[0;34m,\u001b[0m \u001b[0;34m**\u001b[0m\u001b[0mkwargs\u001b[0m\u001b[0;34m)\u001b[0m\u001b[0;34m:\u001b[0m\u001b[0;34m\u001b[0m\u001b[0;34m\u001b[0m\u001b[0m\n",
            "\u001b[0;32m/usr/local/lib/python3.6/dist-packages/nltk/draw/tree.py\u001b[0m in \u001b[0;36mdraw_trees\u001b[0;34m(*trees)\u001b[0m\n\u001b[1;32m    861\u001b[0m     \u001b[0;34m:\u001b[0m\u001b[0mrtype\u001b[0m\u001b[0;34m:\u001b[0m \u001b[0;32mNone\u001b[0m\u001b[0;34m\u001b[0m\u001b[0;34m\u001b[0m\u001b[0m\n\u001b[1;32m    862\u001b[0m     \"\"\"\n\u001b[0;32m--> 863\u001b[0;31m     \u001b[0mTreeView\u001b[0m\u001b[0;34m(\u001b[0m\u001b[0;34m*\u001b[0m\u001b[0mtrees\u001b[0m\u001b[0;34m)\u001b[0m\u001b[0;34m.\u001b[0m\u001b[0mmainloop\u001b[0m\u001b[0;34m(\u001b[0m\u001b[0;34m)\u001b[0m\u001b[0;34m\u001b[0m\u001b[0;34m\u001b[0m\u001b[0m\n\u001b[0m\u001b[1;32m    864\u001b[0m     \u001b[0;32mreturn\u001b[0m\u001b[0;34m\u001b[0m\u001b[0;34m\u001b[0m\u001b[0m\n\u001b[1;32m    865\u001b[0m \u001b[0;34m\u001b[0m\u001b[0m\n",
            "\u001b[0;32m/usr/local/lib/python3.6/dist-packages/nltk/draw/tree.py\u001b[0m in \u001b[0;36m__init__\u001b[0;34m(self, *trees)\u001b[0m\n\u001b[1;32m    754\u001b[0m         \u001b[0mself\u001b[0m\u001b[0;34m.\u001b[0m\u001b[0m_trees\u001b[0m \u001b[0;34m=\u001b[0m \u001b[0mtrees\u001b[0m\u001b[0;34m\u001b[0m\u001b[0;34m\u001b[0m\u001b[0m\n\u001b[1;32m    755\u001b[0m \u001b[0;34m\u001b[0m\u001b[0m\n\u001b[0;32m--> 756\u001b[0;31m         \u001b[0mself\u001b[0m\u001b[0;34m.\u001b[0m\u001b[0m_top\u001b[0m \u001b[0;34m=\u001b[0m \u001b[0mTk\u001b[0m\u001b[0;34m(\u001b[0m\u001b[0;34m)\u001b[0m\u001b[0;34m\u001b[0m\u001b[0;34m\u001b[0m\u001b[0m\n\u001b[0m\u001b[1;32m    757\u001b[0m         \u001b[0mself\u001b[0m\u001b[0;34m.\u001b[0m\u001b[0m_top\u001b[0m\u001b[0;34m.\u001b[0m\u001b[0mtitle\u001b[0m\u001b[0;34m(\u001b[0m\u001b[0;34m'NLTK'\u001b[0m\u001b[0;34m)\u001b[0m\u001b[0;34m\u001b[0m\u001b[0;34m\u001b[0m\u001b[0m\n\u001b[1;32m    758\u001b[0m         \u001b[0mself\u001b[0m\u001b[0;34m.\u001b[0m\u001b[0m_top\u001b[0m\u001b[0;34m.\u001b[0m\u001b[0mbind\u001b[0m\u001b[0;34m(\u001b[0m\u001b[0;34m'<Control-x>'\u001b[0m\u001b[0;34m,\u001b[0m \u001b[0mself\u001b[0m\u001b[0;34m.\u001b[0m\u001b[0mdestroy\u001b[0m\u001b[0;34m)\u001b[0m\u001b[0;34m\u001b[0m\u001b[0;34m\u001b[0m\u001b[0m\n",
            "\u001b[0;32m/usr/lib/python3.6/tkinter/__init__.py\u001b[0m in \u001b[0;36m__init__\u001b[0;34m(self, screenName, baseName, className, useTk, sync, use)\u001b[0m\n\u001b[1;32m   2021\u001b[0m                 \u001b[0mbaseName\u001b[0m \u001b[0;34m=\u001b[0m \u001b[0mbaseName\u001b[0m \u001b[0;34m+\u001b[0m \u001b[0mext\u001b[0m\u001b[0;34m\u001b[0m\u001b[0;34m\u001b[0m\u001b[0m\n\u001b[1;32m   2022\u001b[0m         \u001b[0minteractive\u001b[0m \u001b[0;34m=\u001b[0m \u001b[0;36m0\u001b[0m\u001b[0;34m\u001b[0m\u001b[0;34m\u001b[0m\u001b[0m\n\u001b[0;32m-> 2023\u001b[0;31m         \u001b[0mself\u001b[0m\u001b[0;34m.\u001b[0m\u001b[0mtk\u001b[0m \u001b[0;34m=\u001b[0m \u001b[0m_tkinter\u001b[0m\u001b[0;34m.\u001b[0m\u001b[0mcreate\u001b[0m\u001b[0;34m(\u001b[0m\u001b[0mscreenName\u001b[0m\u001b[0;34m,\u001b[0m \u001b[0mbaseName\u001b[0m\u001b[0;34m,\u001b[0m \u001b[0mclassName\u001b[0m\u001b[0;34m,\u001b[0m \u001b[0minteractive\u001b[0m\u001b[0;34m,\u001b[0m \u001b[0mwantobjects\u001b[0m\u001b[0;34m,\u001b[0m \u001b[0museTk\u001b[0m\u001b[0;34m,\u001b[0m \u001b[0msync\u001b[0m\u001b[0;34m,\u001b[0m \u001b[0muse\u001b[0m\u001b[0;34m)\u001b[0m\u001b[0;34m\u001b[0m\u001b[0;34m\u001b[0m\u001b[0m\n\u001b[0m\u001b[1;32m   2024\u001b[0m         \u001b[0;32mif\u001b[0m \u001b[0museTk\u001b[0m\u001b[0;34m:\u001b[0m\u001b[0;34m\u001b[0m\u001b[0;34m\u001b[0m\u001b[0m\n\u001b[1;32m   2025\u001b[0m             \u001b[0mself\u001b[0m\u001b[0;34m.\u001b[0m\u001b[0m_loadtk\u001b[0m\u001b[0;34m(\u001b[0m\u001b[0;34m)\u001b[0m\u001b[0;34m\u001b[0m\u001b[0;34m\u001b[0m\u001b[0m\n",
            "\u001b[0;31mTclError\u001b[0m: no display name and no $DISPLAY environment variable"
          ]
        }
      ]
    },
    {
      "cell_type": "code",
      "metadata": {
        "id": "DZtUvLCzbJ0h",
        "outputId": "d9dc6609-4f2c-4181-9691-e4e589f6cbb3",
        "colab": {
          "base_uri": "https://localhost:8080/",
          "height": 175
        }
      },
      "source": [
        "doc = nlp(\"the drawdown process is governed by astm standard d823\")\n",
        "\n",
        "for tok in doc:\n",
        "  print(tok.text, \"...\", tok.dep_)\n",
        "\n",
        "  "
      ],
      "execution_count": 6,
      "outputs": [
        {
          "output_type": "stream",
          "text": [
            "the ... det\n",
            "drawdown ... amod\n",
            "process ... nsubjpass\n",
            "is ... auxpass\n",
            "governed ... ROOT\n",
            "by ... agent\n",
            "astm ... compound\n",
            "standard ... amod\n",
            "d823 ... pobj\n"
          ],
          "name": "stdout"
        }
      ]
    },
    {
      "cell_type": "markdown",
      "metadata": {
        "id": "0ZBjSEdHdPMe"
      },
      "source": [
        "POS Tagger"
      ]
    },
    {
      "cell_type": "code",
      "metadata": {
        "id": "nuBBLMgTdGwg",
        "outputId": "67a6eec2-251b-4131-e98d-4bc3a7d81123",
        "colab": {
          "base_uri": "https://localhost:8080/",
          "height": 281
        }
      },
      "source": [
        "import nltk\n",
        "nltk.download('averaged_perceptron_tagger')\n",
        "from nltk import pos_tag\n",
        "from nltk import RegexpParser\n",
        "text =\"learn php from guru99 and make study easy\".split()\n",
        "print(\"After Split:\",text)\n",
        "tokens_tag = pos_tag(text)\n",
        "print(\"After Token:\",tokens_tag)\n",
        "patterns= \"\"\"mychunk:{<NN.?>*<VBD.?>*<JJ.?>*<CC>?}\"\"\"\n",
        "chunker = RegexpParser(patterns)\n",
        "print(\"After Regex:\",chunker)\n",
        "output = chunker.parse(tokens_tag)\n",
        "print(\"After Chunking\",output)"
      ],
      "execution_count": 13,
      "outputs": [
        {
          "output_type": "stream",
          "text": [
            "[nltk_data] Downloading package averaged_perceptron_tagger to\n",
            "[nltk_data]     /root/nltk_data...\n",
            "[nltk_data]   Unzipping taggers/averaged_perceptron_tagger.zip.\n",
            "After Split: ['learn', 'php', 'from', 'guru99', 'and', 'make', 'study', 'easy']\n",
            "After Token: [('learn', 'JJ'), ('php', 'NN'), ('from', 'IN'), ('guru99', 'NN'), ('and', 'CC'), ('make', 'VB'), ('study', 'NN'), ('easy', 'JJ')]\n",
            "After Regex: chunk.RegexpParser with 1 stages:\n",
            "RegexpChunkParser with 1 rules:\n",
            "       <ChunkRule: '<NN.?>*<VBD.?>*<JJ.?>*<CC>?'>\n",
            "After Chunking (S\n",
            "  (mychunk learn/JJ)\n",
            "  (mychunk php/NN)\n",
            "  from/IN\n",
            "  (mychunk guru99/NN and/CC)\n",
            "  make/VB\n",
            "  (mychunk study/NN easy/JJ))\n"
          ],
          "name": "stdout"
        }
      ]
    },
    {
      "cell_type": "markdown",
      "metadata": {
        "id": "SDposM-odSJx"
      },
      "source": [
        "Chunking"
      ]
    },
    {
      "cell_type": "code",
      "metadata": {
        "id": "3xUhD723dNcI",
        "outputId": "93dcb75b-f34e-426e-afa6-d26fcd30d39b",
        "colab": {
          "base_uri": "https://localhost:8080/",
          "height": 438
        }
      },
      "source": [
        "import nltk\n",
        "nltk.download('punkt')\n",
        "import nltk\n",
        "text = \"learn php from guru99\"\n",
        "tokens = nltk.word_tokenize(text)\n",
        "print(tokens)\n",
        "tag = nltk.pos_tag(tokens)\n",
        "print(tag)\n",
        "grammar = \"NP: {<DT>?<JJ>*<NN>}\"\n",
        "cp  =nltk.RegexpParser(grammar)\n",
        "result = cp.parse(tag)\n",
        "print(result)\n",
        "result.draw()    # It will draw the pattern graphically which can be seen in Noun Phrase chunking "
      ],
      "execution_count": 15,
      "outputs": [
        {
          "output_type": "stream",
          "text": [
            "[nltk_data] Downloading package punkt to /root/nltk_data...\n",
            "[nltk_data]   Unzipping tokenizers/punkt.zip.\n",
            "['learn', 'php', 'from', 'guru99']\n",
            "[('learn', 'JJ'), ('php', 'NN'), ('from', 'IN'), ('guru99', 'NN')]\n",
            "(S (NP learn/JJ php/NN) from/IN (NP guru99/NN))\n"
          ],
          "name": "stdout"
        },
        {
          "output_type": "error",
          "ename": "TclError",
          "evalue": "ignored",
          "traceback": [
            "\u001b[0;31m---------------------------------------------------------------------------\u001b[0m",
            "\u001b[0;31mTclError\u001b[0m                                  Traceback (most recent call last)",
            "\u001b[0;32m<ipython-input-15-35b0ba379eca>\u001b[0m in \u001b[0;36m<module>\u001b[0;34m()\u001b[0m\n\u001b[1;32m     11\u001b[0m \u001b[0mresult\u001b[0m \u001b[0;34m=\u001b[0m \u001b[0mcp\u001b[0m\u001b[0;34m.\u001b[0m\u001b[0mparse\u001b[0m\u001b[0;34m(\u001b[0m\u001b[0mtag\u001b[0m\u001b[0;34m)\u001b[0m\u001b[0;34m\u001b[0m\u001b[0;34m\u001b[0m\u001b[0m\n\u001b[1;32m     12\u001b[0m \u001b[0mprint\u001b[0m\u001b[0;34m(\u001b[0m\u001b[0mresult\u001b[0m\u001b[0;34m)\u001b[0m\u001b[0;34m\u001b[0m\u001b[0;34m\u001b[0m\u001b[0m\n\u001b[0;32m---> 13\u001b[0;31m \u001b[0mresult\u001b[0m\u001b[0;34m.\u001b[0m\u001b[0mdraw\u001b[0m\u001b[0;34m(\u001b[0m\u001b[0;34m)\u001b[0m    \u001b[0;31m# It will draw the pattern graphically which can be seen in Noun Phrase chunking\u001b[0m\u001b[0;34m\u001b[0m\u001b[0;34m\u001b[0m\u001b[0m\n\u001b[0m",
            "\u001b[0;32m/usr/local/lib/python3.6/dist-packages/nltk/tree.py\u001b[0m in \u001b[0;36mdraw\u001b[0;34m(self)\u001b[0m\n\u001b[1;32m    688\u001b[0m         \"\"\"\n\u001b[1;32m    689\u001b[0m         \u001b[0;32mfrom\u001b[0m \u001b[0mnltk\u001b[0m\u001b[0;34m.\u001b[0m\u001b[0mdraw\u001b[0m\u001b[0;34m.\u001b[0m\u001b[0mtree\u001b[0m \u001b[0;32mimport\u001b[0m \u001b[0mdraw_trees\u001b[0m\u001b[0;34m\u001b[0m\u001b[0;34m\u001b[0m\u001b[0m\n\u001b[0;32m--> 690\u001b[0;31m         \u001b[0mdraw_trees\u001b[0m\u001b[0;34m(\u001b[0m\u001b[0mself\u001b[0m\u001b[0;34m)\u001b[0m\u001b[0;34m\u001b[0m\u001b[0;34m\u001b[0m\u001b[0m\n\u001b[0m\u001b[1;32m    691\u001b[0m \u001b[0;34m\u001b[0m\u001b[0m\n\u001b[1;32m    692\u001b[0m     \u001b[0;32mdef\u001b[0m \u001b[0mpretty_print\u001b[0m\u001b[0;34m(\u001b[0m\u001b[0mself\u001b[0m\u001b[0;34m,\u001b[0m \u001b[0msentence\u001b[0m\u001b[0;34m=\u001b[0m\u001b[0;32mNone\u001b[0m\u001b[0;34m,\u001b[0m \u001b[0mhighlight\u001b[0m\u001b[0;34m=\u001b[0m\u001b[0;34m(\u001b[0m\u001b[0;34m)\u001b[0m\u001b[0;34m,\u001b[0m \u001b[0mstream\u001b[0m\u001b[0;34m=\u001b[0m\u001b[0;32mNone\u001b[0m\u001b[0;34m,\u001b[0m \u001b[0;34m**\u001b[0m\u001b[0mkwargs\u001b[0m\u001b[0;34m)\u001b[0m\u001b[0;34m:\u001b[0m\u001b[0;34m\u001b[0m\u001b[0;34m\u001b[0m\u001b[0m\n",
            "\u001b[0;32m/usr/local/lib/python3.6/dist-packages/nltk/draw/tree.py\u001b[0m in \u001b[0;36mdraw_trees\u001b[0;34m(*trees)\u001b[0m\n\u001b[1;32m    861\u001b[0m     \u001b[0;34m:\u001b[0m\u001b[0mrtype\u001b[0m\u001b[0;34m:\u001b[0m \u001b[0;32mNone\u001b[0m\u001b[0;34m\u001b[0m\u001b[0;34m\u001b[0m\u001b[0m\n\u001b[1;32m    862\u001b[0m     \"\"\"\n\u001b[0;32m--> 863\u001b[0;31m     \u001b[0mTreeView\u001b[0m\u001b[0;34m(\u001b[0m\u001b[0;34m*\u001b[0m\u001b[0mtrees\u001b[0m\u001b[0;34m)\u001b[0m\u001b[0;34m.\u001b[0m\u001b[0mmainloop\u001b[0m\u001b[0;34m(\u001b[0m\u001b[0;34m)\u001b[0m\u001b[0;34m\u001b[0m\u001b[0;34m\u001b[0m\u001b[0m\n\u001b[0m\u001b[1;32m    864\u001b[0m     \u001b[0;32mreturn\u001b[0m\u001b[0;34m\u001b[0m\u001b[0;34m\u001b[0m\u001b[0m\n\u001b[1;32m    865\u001b[0m \u001b[0;34m\u001b[0m\u001b[0m\n",
            "\u001b[0;32m/usr/local/lib/python3.6/dist-packages/nltk/draw/tree.py\u001b[0m in \u001b[0;36m__init__\u001b[0;34m(self, *trees)\u001b[0m\n\u001b[1;32m    754\u001b[0m         \u001b[0mself\u001b[0m\u001b[0;34m.\u001b[0m\u001b[0m_trees\u001b[0m \u001b[0;34m=\u001b[0m \u001b[0mtrees\u001b[0m\u001b[0;34m\u001b[0m\u001b[0;34m\u001b[0m\u001b[0m\n\u001b[1;32m    755\u001b[0m \u001b[0;34m\u001b[0m\u001b[0m\n\u001b[0;32m--> 756\u001b[0;31m         \u001b[0mself\u001b[0m\u001b[0;34m.\u001b[0m\u001b[0m_top\u001b[0m \u001b[0;34m=\u001b[0m \u001b[0mTk\u001b[0m\u001b[0;34m(\u001b[0m\u001b[0;34m)\u001b[0m\u001b[0;34m\u001b[0m\u001b[0;34m\u001b[0m\u001b[0m\n\u001b[0m\u001b[1;32m    757\u001b[0m         \u001b[0mself\u001b[0m\u001b[0;34m.\u001b[0m\u001b[0m_top\u001b[0m\u001b[0;34m.\u001b[0m\u001b[0mtitle\u001b[0m\u001b[0;34m(\u001b[0m\u001b[0;34m'NLTK'\u001b[0m\u001b[0;34m)\u001b[0m\u001b[0;34m\u001b[0m\u001b[0;34m\u001b[0m\u001b[0m\n\u001b[1;32m    758\u001b[0m         \u001b[0mself\u001b[0m\u001b[0;34m.\u001b[0m\u001b[0m_top\u001b[0m\u001b[0;34m.\u001b[0m\u001b[0mbind\u001b[0m\u001b[0;34m(\u001b[0m\u001b[0;34m'<Control-x>'\u001b[0m\u001b[0;34m,\u001b[0m \u001b[0mself\u001b[0m\u001b[0;34m.\u001b[0m\u001b[0mdestroy\u001b[0m\u001b[0;34m)\u001b[0m\u001b[0;34m\u001b[0m\u001b[0;34m\u001b[0m\u001b[0m\n",
            "\u001b[0;32m/usr/lib/python3.6/tkinter/__init__.py\u001b[0m in \u001b[0;36m__init__\u001b[0;34m(self, screenName, baseName, className, useTk, sync, use)\u001b[0m\n\u001b[1;32m   2021\u001b[0m                 \u001b[0mbaseName\u001b[0m \u001b[0;34m=\u001b[0m \u001b[0mbaseName\u001b[0m \u001b[0;34m+\u001b[0m \u001b[0mext\u001b[0m\u001b[0;34m\u001b[0m\u001b[0;34m\u001b[0m\u001b[0m\n\u001b[1;32m   2022\u001b[0m         \u001b[0minteractive\u001b[0m \u001b[0;34m=\u001b[0m \u001b[0;36m0\u001b[0m\u001b[0;34m\u001b[0m\u001b[0;34m\u001b[0m\u001b[0m\n\u001b[0;32m-> 2023\u001b[0;31m         \u001b[0mself\u001b[0m\u001b[0;34m.\u001b[0m\u001b[0mtk\u001b[0m \u001b[0;34m=\u001b[0m \u001b[0m_tkinter\u001b[0m\u001b[0;34m.\u001b[0m\u001b[0mcreate\u001b[0m\u001b[0;34m(\u001b[0m\u001b[0mscreenName\u001b[0m\u001b[0;34m,\u001b[0m \u001b[0mbaseName\u001b[0m\u001b[0;34m,\u001b[0m \u001b[0mclassName\u001b[0m\u001b[0;34m,\u001b[0m \u001b[0minteractive\u001b[0m\u001b[0;34m,\u001b[0m \u001b[0mwantobjects\u001b[0m\u001b[0;34m,\u001b[0m \u001b[0museTk\u001b[0m\u001b[0;34m,\u001b[0m \u001b[0msync\u001b[0m\u001b[0;34m,\u001b[0m \u001b[0muse\u001b[0m\u001b[0;34m)\u001b[0m\u001b[0;34m\u001b[0m\u001b[0;34m\u001b[0m\u001b[0m\n\u001b[0m\u001b[1;32m   2024\u001b[0m         \u001b[0;32mif\u001b[0m \u001b[0museTk\u001b[0m\u001b[0;34m:\u001b[0m\u001b[0;34m\u001b[0m\u001b[0;34m\u001b[0m\u001b[0m\n\u001b[1;32m   2025\u001b[0m             \u001b[0mself\u001b[0m\u001b[0;34m.\u001b[0m\u001b[0m_loadtk\u001b[0m\u001b[0;34m(\u001b[0m\u001b[0;34m)\u001b[0m\u001b[0;34m\u001b[0m\u001b[0;34m\u001b[0m\u001b[0m\n",
            "\u001b[0;31mTclError\u001b[0m: no display name and no $DISPLAY environment variable"
          ]
        }
      ]
    }
  ]
}